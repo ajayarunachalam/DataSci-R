{
 "cells": [
  {
   "cell_type": "raw",
   "metadata": {
    "collapsed": true
   },
   "source": [
    "Establish a connection\n",
    "The first step to import data from a SQL database is creating a connection to it. As Filip explained, you need different packages depending on the database you want to connect to. All of these packages do this in a uniform way, as specified in the DBI package.\n",
    "\n",
    "dbConnect() creates a connection between your R session and a SQL database. The first argument has to be a DBIdriver object, that specifies how connections are made and how data is mapped between R and the database. Specifically for MySQL databases, you can build such a driver with RMySQL::MySQL().\n",
    "\n",
    "If the MySQL database is a remote database hosted on a server, you'll also have to specify the following arguments in dbConnect(): dbname, host, port, user and password. Most of these details have already been provided."
   ]
  },
  {
   "cell_type": "code",
   "execution_count": 1,
   "metadata": {},
   "outputs": [
    {
     "name": "stderr",
     "output_type": "stream",
     "text": [
      "Warning message:\n",
      "“unable to access index for repository https://cran.r-project.org/src/contrib:\n",
      "  internet routines cannot be loaded”Warning message:\n",
      "“package ‘RMySQL’ is not available (for R version 3.4.1)”"
     ]
    }
   ],
   "source": [
    "install.packages(\"RMySQL\")"
   ]
  },
  {
   "cell_type": "code",
   "execution_count": 2,
   "metadata": {},
   "outputs": [
    {
     "ename": "ERROR",
     "evalue": "Error in loadNamespace(name): there is no package called ‘RMySQL’\n",
     "output_type": "error",
     "traceback": [
      "Error in loadNamespace(name): there is no package called ‘RMySQL’\nTraceback:\n",
      "1. dbConnect(RMySQL::MySQL(), dbname = \"tweater\", host = \"courses.csrrinzqubik.us-east-1.rds.amazonaws.com\", \n .     port = 3306, user = \"student\", password = \"datacamp\")",
      "2. RMySQL::MySQL",
      "3. getExportedValue(pkg, name)",
      "4. asNamespace(ns)",
      "5. getNamespace(ns)",
      "6. tryCatch(loadNamespace(name), error = function(e) stop(e))",
      "7. tryCatchList(expr, classes, parentenv, handlers)",
      "8. tryCatchOne(expr, names, parentenv, handlers[[1L]])",
      "9. value[[3L]](cond)"
     ]
    }
   ],
   "source": [
    "# Load the DBI package\n",
    "library(DBI)\n",
    "\n",
    "# Edit dbConnect() call\n",
    "con <- dbConnect(RMySQL::MySQL(), \n",
    "                 dbname = \"tweater\", \n",
    "                 host = \"courses.csrrinzqubik.us-east-1.rds.amazonaws.com\", \n",
    "                 port = 3306,\n",
    "                 user = \"student\",\n",
    "                 password = \"datacamp\")"
   ]
  },
  {
   "cell_type": "markdown",
   "metadata": {},
   "source": [
    "List the database tables\n",
    "After you've successfully connected to a remote MySQL database, the next step is to see what tables the database contains. You can do this with the dbListTables() function. As you might remember from the video, this function requires the connection object as an input, and outputs a character vector with the table names."
   ]
  },
  {
   "cell_type": "code",
   "execution_count": 3,
   "metadata": {},
   "outputs": [
    {
     "ename": "ERROR",
     "evalue": "Error in dbListTables(con): object 'con' not found\n",
     "output_type": "error",
     "traceback": [
      "Error in dbListTables(con): object 'con' not found\nTraceback:\n",
      "1. dbListTables(con)"
     ]
    }
   ],
   "source": [
    "# Build a vector of table names: tables\n",
    "tables <- dbListTables(con)\n",
    "\n",
    "# Display structure of tables\n",
    "str(tables)\n"
   ]
  },
  {
   "cell_type": "markdown",
   "metadata": {},
   "source": [
    "mport users\n",
    "As you might have guessed by now, the database contains data on a more tasty version of Twitter, namely Tweater. Users can post tweats with short recipes for delicious snacks. People can comment on these tweats. There are three tables: users, tweats, and comments that have relations among them. Which ones, you ask? You'll discover in a moment!\n",
    "\n",
    "Let's start by importing the data on the users into your R session. You do this with the dbReadTable() function. Simply pass it the connection object (con), followed by the name of the table you want to import. The resulting object is a standard R data frame."
   ]
  },
  {
   "cell_type": "code",
   "execution_count": 4,
   "metadata": {},
   "outputs": [
    {
     "ename": "ERROR",
     "evalue": "Error in dbReadTable(con, \"users\"): object 'con' not found\n",
     "output_type": "error",
     "traceback": [
      "Error in dbReadTable(con, \"users\"): object 'con' not found\nTraceback:\n",
      "1. dbReadTable(con, \"users\")"
     ]
    }
   ],
   "source": [
    "# Import the users table from tweater: users\n",
    "users <- dbReadTable(con, \"users\")\n",
    "\n",
    "# Print users\n",
    "users"
   ]
  },
  {
   "cell_type": "markdown",
   "metadata": {},
   "source": [
    "Import all tables\n",
    "Next to the users, we're also interested in the tweats and comments tables. However, separate dbReadTable() calls for each and every one of the tables in your database would mean a lot of code duplication. Remember about the lapply() function? You can use it again here! A connection is already coded for you, as well as a vector table_names, containing the names of all the tables in the database."
   ]
  },
  {
   "cell_type": "code",
   "execution_count": 5,
   "metadata": {},
   "outputs": [
    {
     "ename": "ERROR",
     "evalue": "Error in dbListTables(con): object 'con' not found\n",
     "output_type": "error",
     "traceback": [
      "Error in dbListTables(con): object 'con' not found\nTraceback:\n",
      "1. dbListTables(con)"
     ]
    }
   ],
   "source": [
    "# Get table names\n",
    "table_names <- dbListTables(con)\n",
    "\n",
    "# Import all tables\n",
    "tables <- lapply( table_names,dbReadTable, conn = con)\n",
    "\n",
    "# Print out tables\n",
    "tables"
   ]
  },
  {
   "cell_type": "markdown",
   "metadata": {},
   "source": [
    "Query tweater (1)\n",
    "In your life as a data scientist, you'll often be working with huge databases that contain tables with millions of rows. If you want to do some analyses on this data, it's possible that you only need a fraction of this data. In this case, it's a good idea to send SQL queries to your database, and only import the data you actually need into R.\n",
    "\n",
    "dbGetQuery() is what you need. As usual, you first pass the connection object to it. The second argument is an SQL query in the form of a character string. This example selects the age variable from the people dataset where gender equals \"male\":\n",
    "\n",
    "dbGetQuery(con, \"SELECT age FROM people WHERE gender = 'male'\")\n",
    "A connection to the tweater database has already been coded for you."
   ]
  },
  {
   "cell_type": "code",
   "execution_count": 6,
   "metadata": {},
   "outputs": [
    {
     "ename": "ERROR",
     "evalue": "Error in dbGetQuery(con, \"SELECT tweat_id FROM comments WHERE user_id=1\"): object 'con' not found\n",
     "output_type": "error",
     "traceback": [
      "Error in dbGetQuery(con, \"SELECT tweat_id FROM comments WHERE user_id=1\"): object 'con' not found\nTraceback:\n",
      "1. dbGetQuery(con, \"SELECT tweat_id FROM comments WHERE user_id=1\")"
     ]
    }
   ],
   "source": [
    "# Import tweat_id column of comments where user_id is 1: elisabeth\n",
    "elisabeth <- dbGetQuery(con, \"SELECT tweat_id FROM comments WHERE user_id=1\")\n",
    "\n",
    "# Print elisabeth\n",
    "elisabeth"
   ]
  },
  {
   "cell_type": "markdown",
   "metadata": {},
   "source": [
    "Apart from checking equality, you can also check for less than and greater than relationships, with < and >, just like in R.\n",
    "\n",
    "con, a connection to the tweater database, is again available."
   ]
  },
  {
   "cell_type": "code",
   "execution_count": 7,
   "metadata": {},
   "outputs": [
    {
     "ename": "ERROR",
     "evalue": "Error in dbGetQuery(con, \"SELECT post FROM tweats WHERE date>\\\"2015-09-21\\\"\"): object 'con' not found\n",
     "output_type": "error",
     "traceback": [
      "Error in dbGetQuery(con, \"SELECT post FROM tweats WHERE date>\\\"2015-09-21\\\"\"): object 'con' not found\nTraceback:\n",
      "1. dbGetQuery(con, \"SELECT post FROM tweats WHERE date>\\\"2015-09-21\\\"\")"
     ]
    }
   ],
   "source": [
    "\n",
    "# Import post column of tweats where date is higher than '2015-09-21': latest\n",
    "latest <- dbGetQuery(con, \"SELECT post FROM tweats WHERE date>\\\"2015-09-21\\\"\")\n",
    "\n",
    "# Print latest\n",
    "latest"
   ]
  },
  {
   "cell_type": "markdown",
   "metadata": {},
   "source": [
    "Suppose that you have a people table, with a bunch of information. This time, you want to find out the age and country of married males. Provided that there is a married column that's 1 when the person in question is married, the following query would work.\n",
    "\n",
    "SELECT age, country\n",
    "  FROM people\n",
    "    WHERE gender = \"male\" AND married = 1\n",
    "Can you use a similar approach for a more specialized query on the tweater database?"
   ]
  },
  {
   "cell_type": "code",
   "execution_count": 8,
   "metadata": {},
   "outputs": [
    {
     "ename": "ERROR",
     "evalue": "Error in dbGetQuery(con, \"SELECT message FROM comments WHERE tweat_id=77 AND user_id>4\"): object 'con' not found\n",
     "output_type": "error",
     "traceback": [
      "Error in dbGetQuery(con, \"SELECT message FROM comments WHERE tweat_id=77 AND user_id>4\"): object 'con' not found\nTraceback:\n",
      "1. dbGetQuery(con, \"SELECT message FROM comments WHERE tweat_id=77 AND user_id>4\")"
     ]
    }
   ],
   "source": [
    "\n",
    "# Create data frame specific\n",
    "specific <- dbGetQuery(con, \"SELECT message FROM comments WHERE tweat_id=77 AND user_id>4\")\n",
    "\n",
    "# Print specific\n",
    "specific\n"
   ]
  },
  {
   "cell_type": "markdown",
   "metadata": {},
   "source": [
    "There are also dedicated SQL functions that you can use in the WHERE clause of an SQL query. For example, CHAR_LENGTH() returns the number of characters in a string."
   ]
  },
  {
   "cell_type": "code",
   "execution_count": 10,
   "metadata": {},
   "outputs": [
    {
     "ename": "ERROR",
     "evalue": "Error in dbGetQuery(con, \"SELECT id, name FROM users WHERE CHAR_LENGTH(name)<5\"): object 'con' not found\n",
     "output_type": "error",
     "traceback": [
      "Error in dbGetQuery(con, \"SELECT id, name FROM users WHERE CHAR_LENGTH(name)<5\"): object 'con' not found\nTraceback:\n",
      "1. dbGetQuery(con, \"SELECT id, name FROM users WHERE CHAR_LENGTH(name)<5\")"
     ]
    }
   ],
   "source": [
    "# Create data frame short\n",
    "short <- dbGetQuery(con, \"SELECT id, name FROM users WHERE CHAR_LENGTH(name)<5\")\n",
    "\n",
    "# Print short\n",
    "short"
   ]
  },
  {
   "cell_type": "markdown",
   "metadata": {},
   "source": [
    "Send - Fetch - Clear\n",
    "You've used dbGetQuery() multiple times now. This is a virtual function from the DBI package, but is actually implemented by the RMySQL package. Behind the scenes, the following steps are performed:\n",
    "\n",
    "Sending the specified query with dbSendQuery();\n",
    "Fetching the result of executing the query on the database with dbFetch();\n",
    "Clearing the result with dbClearResult().\n",
    "Let's not use dbGetQuery() this time and implement the steps above. This is tedious to write, but it gives you the ability to fetch the query's result in chunks rather than all at once. You can do this by specifying the n argument inside dbFetch()."
   ]
  },
  {
   "cell_type": "code",
   "execution_count": 11,
   "metadata": {},
   "outputs": [
    {
     "ename": "ERROR",
     "evalue": "Error in dbSendQuery(con, \"SELECT * FROM comments WHERE user_id > 4\"): object 'con' not found\n",
     "output_type": "error",
     "traceback": [
      "Error in dbSendQuery(con, \"SELECT * FROM comments WHERE user_id > 4\"): object 'con' not found\nTraceback:\n",
      "1. dbSendQuery(con, \"SELECT * FROM comments WHERE user_id > 4\")"
     ]
    }
   ],
   "source": [
    "# Send query to the database\n",
    "res <- dbSendQuery(con, \"SELECT * FROM comments WHERE user_id > 4\")\n",
    "\n",
    "# Use dbFetch() twice\n",
    "dbFetch(res, n=2)\n",
    "dbFetch(res)\n",
    "\n",
    "\n",
    "# Clear res\n",
    "dbClearResult(res)"
   ]
  },
  {
   "cell_type": "markdown",
   "metadata": {},
   "source": [
    "Be polite and ...\n",
    "Every time you connect to a database using dbConnect(), you're creating a new connection to the database you're referencing. RMySQL automatically specifies a maximum of open connections and closes some of the connections for you, but still: it's always polite to manually disconnect from the database afterwards. You do this with the dbDisconnect() function.\n",
    "\n",
    "The code that connects you to the database is already available, can you finish the script?"
   ]
  },
  {
   "cell_type": "code",
   "execution_count": 12,
   "metadata": {},
   "outputs": [
    {
     "ename": "ERROR",
     "evalue": "Error in dbGetQuery(con, \"SELECT post, date FROM tweats WHERE CHAR_LENGTH(post)>40\"): object 'con' not found\n",
     "output_type": "error",
     "traceback": [
      "Error in dbGetQuery(con, \"SELECT post, date FROM tweats WHERE CHAR_LENGTH(post)>40\"): object 'con' not found\nTraceback:\n",
      "1. dbGetQuery(con, \"SELECT post, date FROM tweats WHERE CHAR_LENGTH(post)>40\")"
     ]
    }
   ],
   "source": [
    "# Create the data frame  long_tweats\n",
    "long_tweats <- dbGetQuery(con, \"SELECT post, date FROM tweats WHERE CHAR_LENGTH(post)>40\")\n",
    "\n",
    "# Print long_tweats\n",
    "print(long_tweats)\n",
    "\n",
    "# Disconnect from the database\n",
    "dbDisconnect(con)"
   ]
  },
  {
   "cell_type": "markdown",
   "metadata": {},
   "source": [
    "Import flat files from the web\n",
    "In the video, you saw that the utils functions to import flat file data, such as read.csv() and read.delim(), are capable of automatically importing from URLs that point to flat files on the web.\n",
    "\n",
    "You must be wondering whether Hadley Wickham's alternative package, readr, is equally potent. Well, figure it out in this exercise! The URLs for both a .csv file as well as a .delim file are already coded for you. It's up to you to actually import the data. If it works, that is..."
   ]
  },
  {
   "cell_type": "code",
   "execution_count": 13,
   "metadata": {},
   "outputs": [
    {
     "name": "stderr",
     "output_type": "stream",
     "text": [
      "Parsed with column specification:\n",
      "cols(\n",
      "  Name = col_character(),\n",
      "  Address = col_character(),\n",
      "  Latitude = col_double(),\n",
      "  Longitude = col_double()\n",
      ")\n",
      "Parsed with column specification:\n",
      "cols(\n",
      "  area = col_integer(),\n",
      "  temp = col_integer(),\n",
      "  size = col_integer(),\n",
      "  storage = col_integer(),\n",
      "  method = col_integer(),\n",
      "  texture = col_double(),\n",
      "  flavor = col_double(),\n",
      "  moistness = col_double()\n",
      ")\n"
     ]
    },
    {
     "data": {
      "text/html": [
       "<table>\n",
       "<thead><tr><th scope=col>Name</th><th scope=col>Address</th><th scope=col>Latitude</th><th scope=col>Longitude</th></tr></thead>\n",
       "<tbody>\n",
       "\t<tr><td>Acacia Ridge Leisure Centre                </td><td>1391 Beaudesert Road, Acacia Ridge         </td><td>-27.58616                                  </td><td>153.0264                                   </td></tr>\n",
       "\t<tr><td>Bellbowrie Pool                            </td><td>Sugarwood Street, Bellbowrie               </td><td>-27.56547                                  </td><td>152.8911                                   </td></tr>\n",
       "\t<tr><td>Carole Park                                </td><td>Cnr Boundary Road and Waterford Road Wacol </td><td>-27.60744                                  </td><td>152.9315                                   </td></tr>\n",
       "\t<tr><td>Centenary Pool (inner City)                </td><td>400 Gregory Terrace, Spring Hill           </td><td>-27.45537                                  </td><td>153.0251                                   </td></tr>\n",
       "\t<tr><td>Chermside Pool                             </td><td>375 Hamilton Road, Chermside               </td><td>-27.38583                                  </td><td>153.0351                                   </td></tr>\n",
       "\t<tr><td>Colmslie Pool (Morningside)                </td><td>400 Lytton Road, Morningside               </td><td>-27.45516                                  </td><td>153.0789                                   </td></tr>\n",
       "\t<tr><td>Spring Hill Baths (inner City)             </td><td>14 Torrington Street, Springhill           </td><td>-27.45960                                  </td><td>153.0215                                   </td></tr>\n",
       "\t<tr><td>Dunlop Park Pool (Corinda)                 </td><td>794 Oxley Road, Corinda                    </td><td>-27.54652                                  </td><td>152.9806                                   </td></tr>\n",
       "\t<tr><td>Fortitude Valley Pool                      </td><td>432 Wickham Street, Fortitude Valley       </td><td>-27.45390                                  </td><td>153.0368                                   </td></tr>\n",
       "\t<tr><td>Hibiscus Sports Complex (upper MtGravatt)  </td><td>90 Klumpp Road, Upper Mount Gravatt        </td><td>-27.55183                                  </td><td>153.0735                                   </td></tr>\n",
       "\t<tr><td>Ithaca Pool ( Paddington)                  </td><td>131 Caxton Street, Paddington              </td><td>-27.46226                                  </td><td>153.0103                                   </td></tr>\n",
       "\t<tr><td>Jindalee Pool                              </td><td>11 Yallambee Road, Jindalee                </td><td>-27.53236                                  </td><td>152.9427                                   </td></tr>\n",
       "\t<tr><td>Manly Pool                                 </td><td>1 Fairlead Crescent, Manly                 </td><td>-27.45228                                  </td><td>153.1874                                   </td></tr>\n",
       "\t<tr><td>Mt Gravatt East Aquatic Centre             </td><td>Cnr wecker Road and Newnham Road, Mansfield</td><td>-27.53214                                  </td><td>153.0943                                   </td></tr>\n",
       "\t<tr><td>Musgrave Park Pool (South Brisbane)        </td><td>100 Edmonstone Street, South Brisbane      </td><td>-27.47978                                  </td><td>153.0168                                   </td></tr>\n",
       "\t<tr><td>Newmarket Pool                             </td><td>71 Alderson Stret, Newmarket               </td><td>-27.42968                                  </td><td>153.0062                                   </td></tr>\n",
       "\t<tr><td>Runcorn Pool                               </td><td>37 Bonemill Road, Runcorn                  </td><td>-27.59156                                  </td><td>153.0764                                   </td></tr>\n",
       "\t<tr><td>Sandgate Pool                              </td><td>231 Flinders Parade, Sandgate              </td><td>-27.31196                                  </td><td>153.0691                                   </td></tr>\n",
       "\t<tr><td>Langlands Parks Pool (Stones Corner)       </td><td>5 Panitya Street, Stones Corner            </td><td>-27.49769                                  </td><td>153.0487                                   </td></tr>\n",
       "\t<tr><td>Yeronga Park Pool                          </td><td>81 School Road, Yeronga                    </td><td>-27.52053                                  </td><td>153.0185                                   </td></tr>\n",
       "</tbody>\n",
       "</table>\n"
      ],
      "text/latex": [
       "\\begin{tabular}{r|llll}\n",
       " Name & Address & Latitude & Longitude\\\\\n",
       "\\hline\n",
       "\t Acacia Ridge Leisure Centre                 & 1391 Beaudesert Road, Acacia Ridge          & -27.58616                                   & 153.0264                                   \\\\\n",
       "\t Bellbowrie Pool                             & Sugarwood Street, Bellbowrie                & -27.56547                                   & 152.8911                                   \\\\\n",
       "\t Carole Park                                 & Cnr Boundary Road and Waterford Road Wacol  & -27.60744                                   & 152.9315                                   \\\\\n",
       "\t Centenary Pool (inner City)                 & 400 Gregory Terrace, Spring Hill            & -27.45537                                   & 153.0251                                   \\\\\n",
       "\t Chermside Pool                              & 375 Hamilton Road, Chermside                & -27.38583                                   & 153.0351                                   \\\\\n",
       "\t Colmslie Pool (Morningside)                 & 400 Lytton Road, Morningside                & -27.45516                                   & 153.0789                                   \\\\\n",
       "\t Spring Hill Baths (inner City)              & 14 Torrington Street, Springhill            & -27.45960                                   & 153.0215                                   \\\\\n",
       "\t Dunlop Park Pool (Corinda)                  & 794 Oxley Road, Corinda                     & -27.54652                                   & 152.9806                                   \\\\\n",
       "\t Fortitude Valley Pool                       & 432 Wickham Street, Fortitude Valley        & -27.45390                                   & 153.0368                                   \\\\\n",
       "\t Hibiscus Sports Complex (upper MtGravatt)   & 90 Klumpp Road, Upper Mount Gravatt         & -27.55183                                   & 153.0735                                   \\\\\n",
       "\t Ithaca Pool ( Paddington)                   & 131 Caxton Street, Paddington               & -27.46226                                   & 153.0103                                   \\\\\n",
       "\t Jindalee Pool                               & 11 Yallambee Road, Jindalee                 & -27.53236                                   & 152.9427                                   \\\\\n",
       "\t Manly Pool                                  & 1 Fairlead Crescent, Manly                  & -27.45228                                   & 153.1874                                   \\\\\n",
       "\t Mt Gravatt East Aquatic Centre              & Cnr wecker Road and Newnham Road, Mansfield & -27.53214                                   & 153.0943                                   \\\\\n",
       "\t Musgrave Park Pool (South Brisbane)         & 100 Edmonstone Street, South Brisbane       & -27.47978                                   & 153.0168                                   \\\\\n",
       "\t Newmarket Pool                              & 71 Alderson Stret, Newmarket                & -27.42968                                   & 153.0062                                   \\\\\n",
       "\t Runcorn Pool                                & 37 Bonemill Road, Runcorn                   & -27.59156                                   & 153.0764                                   \\\\\n",
       "\t Sandgate Pool                               & 231 Flinders Parade, Sandgate               & -27.31196                                   & 153.0691                                   \\\\\n",
       "\t Langlands Parks Pool (Stones Corner)        & 5 Panitya Street, Stones Corner             & -27.49769                                   & 153.0487                                   \\\\\n",
       "\t Yeronga Park Pool                           & 81 School Road, Yeronga                     & -27.52053                                   & 153.0185                                   \\\\\n",
       "\\end{tabular}\n"
      ],
      "text/markdown": [
       "\n",
       "Name | Address | Latitude | Longitude | \n",
       "|---|---|---|---|---|---|---|---|---|---|---|---|---|---|---|---|---|---|---|---|\n",
       "| Acacia Ridge Leisure Centre                 | 1391 Beaudesert Road, Acacia Ridge          | -27.58616                                   | 153.0264                                    | \n",
       "| Bellbowrie Pool                             | Sugarwood Street, Bellbowrie                | -27.56547                                   | 152.8911                                    | \n",
       "| Carole Park                                 | Cnr Boundary Road and Waterford Road Wacol  | -27.60744                                   | 152.9315                                    | \n",
       "| Centenary Pool (inner City)                 | 400 Gregory Terrace, Spring Hill            | -27.45537                                   | 153.0251                                    | \n",
       "| Chermside Pool                              | 375 Hamilton Road, Chermside                | -27.38583                                   | 153.0351                                    | \n",
       "| Colmslie Pool (Morningside)                 | 400 Lytton Road, Morningside                | -27.45516                                   | 153.0789                                    | \n",
       "| Spring Hill Baths (inner City)              | 14 Torrington Street, Springhill            | -27.45960                                   | 153.0215                                    | \n",
       "| Dunlop Park Pool (Corinda)                  | 794 Oxley Road, Corinda                     | -27.54652                                   | 152.9806                                    | \n",
       "| Fortitude Valley Pool                       | 432 Wickham Street, Fortitude Valley        | -27.45390                                   | 153.0368                                    | \n",
       "| Hibiscus Sports Complex (upper MtGravatt)   | 90 Klumpp Road, Upper Mount Gravatt         | -27.55183                                   | 153.0735                                    | \n",
       "| Ithaca Pool ( Paddington)                   | 131 Caxton Street, Paddington               | -27.46226                                   | 153.0103                                    | \n",
       "| Jindalee Pool                               | 11 Yallambee Road, Jindalee                 | -27.53236                                   | 152.9427                                    | \n",
       "| Manly Pool                                  | 1 Fairlead Crescent, Manly                  | -27.45228                                   | 153.1874                                    | \n",
       "| Mt Gravatt East Aquatic Centre              | Cnr wecker Road and Newnham Road, Mansfield | -27.53214                                   | 153.0943                                    | \n",
       "| Musgrave Park Pool (South Brisbane)         | 100 Edmonstone Street, South Brisbane       | -27.47978                                   | 153.0168                                    | \n",
       "| Newmarket Pool                              | 71 Alderson Stret, Newmarket                | -27.42968                                   | 153.0062                                    | \n",
       "| Runcorn Pool                                | 37 Bonemill Road, Runcorn                   | -27.59156                                   | 153.0764                                    | \n",
       "| Sandgate Pool                               | 231 Flinders Parade, Sandgate               | -27.31196                                   | 153.0691                                    | \n",
       "| Langlands Parks Pool (Stones Corner)        | 5 Panitya Street, Stones Corner             | -27.49769                                   | 153.0487                                    | \n",
       "| Yeronga Park Pool                           | 81 School Road, Yeronga                     | -27.52053                                   | 153.0185                                    | \n",
       "\n",
       "\n"
      ],
      "text/plain": [
       "   Name                                     \n",
       "1  Acacia Ridge Leisure Centre              \n",
       "2  Bellbowrie Pool                          \n",
       "3  Carole Park                              \n",
       "4  Centenary Pool (inner City)              \n",
       "5  Chermside Pool                           \n",
       "6  Colmslie Pool (Morningside)              \n",
       "7  Spring Hill Baths (inner City)           \n",
       "8  Dunlop Park Pool (Corinda)               \n",
       "9  Fortitude Valley Pool                    \n",
       "10 Hibiscus Sports Complex (upper MtGravatt)\n",
       "11 Ithaca Pool ( Paddington)                \n",
       "12 Jindalee Pool                            \n",
       "13 Manly Pool                               \n",
       "14 Mt Gravatt East Aquatic Centre           \n",
       "15 Musgrave Park Pool (South Brisbane)      \n",
       "16 Newmarket Pool                           \n",
       "17 Runcorn Pool                             \n",
       "18 Sandgate Pool                            \n",
       "19 Langlands Parks Pool (Stones Corner)     \n",
       "20 Yeronga Park Pool                        \n",
       "   Address                                     Latitude  Longitude\n",
       "1  1391 Beaudesert Road, Acacia Ridge          -27.58616 153.0264 \n",
       "2  Sugarwood Street, Bellbowrie                -27.56547 152.8911 \n",
       "3  Cnr Boundary Road and Waterford Road Wacol  -27.60744 152.9315 \n",
       "4  400 Gregory Terrace, Spring Hill            -27.45537 153.0251 \n",
       "5  375 Hamilton Road, Chermside                -27.38583 153.0351 \n",
       "6  400 Lytton Road, Morningside                -27.45516 153.0789 \n",
       "7  14 Torrington Street, Springhill            -27.45960 153.0215 \n",
       "8  794 Oxley Road, Corinda                     -27.54652 152.9806 \n",
       "9  432 Wickham Street, Fortitude Valley        -27.45390 153.0368 \n",
       "10 90 Klumpp Road, Upper Mount Gravatt         -27.55183 153.0735 \n",
       "11 131 Caxton Street, Paddington               -27.46226 153.0103 \n",
       "12 11 Yallambee Road, Jindalee                 -27.53236 152.9427 \n",
       "13 1 Fairlead Crescent, Manly                  -27.45228 153.1874 \n",
       "14 Cnr wecker Road and Newnham Road, Mansfield -27.53214 153.0943 \n",
       "15 100 Edmonstone Street, South Brisbane       -27.47978 153.0168 \n",
       "16 71 Alderson Stret, Newmarket                -27.42968 153.0062 \n",
       "17 37 Bonemill Road, Runcorn                   -27.59156 153.0764 \n",
       "18 231 Flinders Parade, Sandgate               -27.31196 153.0691 \n",
       "19 5 Panitya Street, Stones Corner             -27.49769 153.0487 \n",
       "20 81 School Road, Yeronga                     -27.52053 153.0185 "
      ]
     },
     "metadata": {},
     "output_type": "display_data"
    },
    {
     "data": {
      "text/html": [
       "<table>\n",
       "<thead><tr><th scope=col>area</th><th scope=col>temp</th><th scope=col>size</th><th scope=col>storage</th><th scope=col>method</th><th scope=col>texture</th><th scope=col>flavor</th><th scope=col>moistness</th></tr></thead>\n",
       "<tbody>\n",
       "\t<tr><td>1  </td><td>1  </td><td>1  </td><td>1  </td><td>1  </td><td>2.9</td><td>3.2</td><td>3.0</td></tr>\n",
       "\t<tr><td>1  </td><td>1  </td><td>1  </td><td>1  </td><td>2  </td><td>2.3</td><td>2.5</td><td>2.6</td></tr>\n",
       "\t<tr><td>1  </td><td>1  </td><td>1  </td><td>1  </td><td>3  </td><td>2.5</td><td>2.8</td><td>2.8</td></tr>\n",
       "\t<tr><td>1  </td><td>1  </td><td>1  </td><td>1  </td><td>4  </td><td>2.1</td><td>2.9</td><td>2.4</td></tr>\n",
       "\t<tr><td>1  </td><td>1  </td><td>1  </td><td>1  </td><td>5  </td><td>1.9</td><td>2.8</td><td>2.2</td></tr>\n",
       "\t<tr><td>1  </td><td>1  </td><td>1  </td><td>2  </td><td>1  </td><td>1.8</td><td>3.0</td><td>1.7</td></tr>\n",
       "\t<tr><td>1  </td><td>1  </td><td>1  </td><td>2  </td><td>2  </td><td>2.6</td><td>3.1</td><td>2.4</td></tr>\n",
       "\t<tr><td>1  </td><td>1  </td><td>1  </td><td>2  </td><td>3  </td><td>3.0</td><td>3.0</td><td>2.9</td></tr>\n",
       "\t<tr><td>1  </td><td>1  </td><td>1  </td><td>2  </td><td>4  </td><td>2.2</td><td>3.2</td><td>2.5</td></tr>\n",
       "\t<tr><td>1  </td><td>1  </td><td>1  </td><td>2  </td><td>5  </td><td>2.0</td><td>2.8</td><td>1.9</td></tr>\n",
       "\t<tr><td>1  </td><td>1  </td><td>1  </td><td>3  </td><td>1  </td><td>1.8</td><td>2.6</td><td>1.5</td></tr>\n",
       "\t<tr><td>1  </td><td>1  </td><td>1  </td><td>3  </td><td>2  </td><td>2.0</td><td>2.8</td><td>1.9</td></tr>\n",
       "\t<tr><td>1  </td><td>1  </td><td>1  </td><td>3  </td><td>3  </td><td>2.6</td><td>2.6</td><td>2.6</td></tr>\n",
       "\t<tr><td>1  </td><td>1  </td><td>1  </td><td>3  </td><td>4  </td><td>2.1</td><td>3.2</td><td>2.1</td></tr>\n",
       "\t<tr><td>1  </td><td>1  </td><td>1  </td><td>3  </td><td>5  </td><td>2.5</td><td>3.0</td><td>2.1</td></tr>\n",
       "\t<tr><td>1  </td><td>1  </td><td>1  </td><td>4  </td><td>1  </td><td>2.6</td><td>3.1</td><td>2.4</td></tr>\n",
       "\t<tr><td>1  </td><td>1  </td><td>1  </td><td>4  </td><td>2  </td><td>2.7</td><td>2.9</td><td>2.4</td></tr>\n",
       "\t<tr><td>1  </td><td>1  </td><td>1  </td><td>4  </td><td>3  </td><td>2.2</td><td>3.1</td><td>2.3</td></tr>\n",
       "\t<tr><td>1  </td><td>1  </td><td>1  </td><td>4  </td><td>4  </td><td>3.1</td><td>3.4</td><td>2.7</td></tr>\n",
       "\t<tr><td>1  </td><td>1  </td><td>1  </td><td>4  </td><td>5  </td><td>3.0</td><td>2.6</td><td>2.7</td></tr>\n",
       "\t<tr><td>1  </td><td>1  </td><td>2  </td><td>1  </td><td>1  </td><td>3.1</td><td>3.0</td><td>2.8</td></tr>\n",
       "\t<tr><td>1  </td><td>1  </td><td>2  </td><td>1  </td><td>2  </td><td>2.7</td><td>2.8</td><td>2.7</td></tr>\n",
       "\t<tr><td>1  </td><td>1  </td><td>2  </td><td>1  </td><td>3  </td><td>2.4</td><td>3.0</td><td>2.9</td></tr>\n",
       "\t<tr><td>1  </td><td>1  </td><td>2  </td><td>1  </td><td>4  </td><td>2.2</td><td>2.9</td><td>2.3</td></tr>\n",
       "\t<tr><td>1  </td><td>1  </td><td>2  </td><td>1  </td><td>5  </td><td>1.9</td><td>2.9</td><td>2.0</td></tr>\n",
       "\t<tr><td>1  </td><td>1  </td><td>2  </td><td>2  </td><td>1  </td><td>1.8</td><td>2.6</td><td>1.8</td></tr>\n",
       "\t<tr><td>1  </td><td>1  </td><td>2  </td><td>2  </td><td>2  </td><td>2.2</td><td>2.9</td><td>2.1</td></tr>\n",
       "\t<tr><td>1  </td><td>1  </td><td>2  </td><td>2  </td><td>3  </td><td>2.8</td><td>3.2</td><td>2.8</td></tr>\n",
       "\t<tr><td>1  </td><td>1  </td><td>2  </td><td>2  </td><td>4  </td><td>2.3</td><td>3.2</td><td>2.4</td></tr>\n",
       "\t<tr><td>1  </td><td>1  </td><td>2  </td><td>2  </td><td>5  </td><td>2.0</td><td>3.0</td><td>2.0</td></tr>\n",
       "\t<tr><td>⋮</td><td>⋮</td><td>⋮</td><td>⋮</td><td>⋮</td><td>⋮</td><td>⋮</td><td>⋮</td></tr>\n",
       "\t<tr><td>2  </td><td>2  </td><td>1  </td><td>3  </td><td>1  </td><td>2.8</td><td>2.8</td><td>2.6</td></tr>\n",
       "\t<tr><td>2  </td><td>2  </td><td>1  </td><td>3  </td><td>2  </td><td>3.5</td><td>2.8</td><td>3.0</td></tr>\n",
       "\t<tr><td>2  </td><td>2  </td><td>1  </td><td>3  </td><td>3  </td><td>2.5</td><td>3.2</td><td>2.3</td></tr>\n",
       "\t<tr><td>2  </td><td>2  </td><td>1  </td><td>3  </td><td>4  </td><td>3.3</td><td>3.0</td><td>2.7</td></tr>\n",
       "\t<tr><td>2  </td><td>2  </td><td>1  </td><td>3  </td><td>5  </td><td>3.5</td><td>2.9</td><td>2.9</td></tr>\n",
       "\t<tr><td>2  </td><td>2  </td><td>1  </td><td>4  </td><td>1  </td><td>3.2</td><td>3.4</td><td>2.5</td></tr>\n",
       "\t<tr><td>2  </td><td>2  </td><td>1  </td><td>4  </td><td>2  </td><td>3.3</td><td>2.8</td><td>2.8</td></tr>\n",
       "\t<tr><td>2  </td><td>2  </td><td>1  </td><td>4  </td><td>3  </td><td>3.0</td><td>3.0</td><td>2.8</td></tr>\n",
       "\t<tr><td>2  </td><td>2  </td><td>1  </td><td>4  </td><td>4  </td><td>3.5</td><td>3.2</td><td>3.1</td></tr>\n",
       "\t<tr><td>2  </td><td>2  </td><td>1  </td><td>4  </td><td>5  </td><td>3.4</td><td>3.0</td><td>2.8</td></tr>\n",
       "\t<tr><td>2  </td><td>2  </td><td>2  </td><td>1  </td><td>1  </td><td>2.7</td><td>2.5</td><td>2.5</td></tr>\n",
       "\t<tr><td>2  </td><td>2  </td><td>2  </td><td>1  </td><td>2  </td><td>2.5</td><td>2.7</td><td>2.3</td></tr>\n",
       "\t<tr><td>2  </td><td>2  </td><td>2  </td><td>1  </td><td>3  </td><td>3.2</td><td>2.7</td><td>3.0</td></tr>\n",
       "\t<tr><td>2  </td><td>2  </td><td>2  </td><td>1  </td><td>4  </td><td>2.4</td><td>2.7</td><td>2.5</td></tr>\n",
       "\t<tr><td>2  </td><td>2  </td><td>2  </td><td>1  </td><td>5  </td><td>2.7</td><td>2.1</td><td>2.3</td></tr>\n",
       "\t<tr><td>2  </td><td>2  </td><td>2  </td><td>2  </td><td>1  </td><td>2.2</td><td>2.7</td><td>2.3</td></tr>\n",
       "\t<tr><td>2  </td><td>2  </td><td>2  </td><td>2  </td><td>2  </td><td>3.1</td><td>2.9</td><td>2.6</td></tr>\n",
       "\t<tr><td>2  </td><td>2  </td><td>2  </td><td>2  </td><td>3  </td><td>2.2</td><td>2.8</td><td>3.1</td></tr>\n",
       "\t<tr><td>2  </td><td>2  </td><td>2  </td><td>2  </td><td>4  </td><td>2.9</td><td>3.0</td><td>2.7</td></tr>\n",
       "\t<tr><td>2  </td><td>2  </td><td>2  </td><td>2  </td><td>5  </td><td>2.8</td><td>2.7</td><td>2.6</td></tr>\n",
       "\t<tr><td>2  </td><td>2  </td><td>2  </td><td>3  </td><td>1  </td><td>2.5</td><td>3.2</td><td>2.3</td></tr>\n",
       "\t<tr><td>2  </td><td>2  </td><td>2  </td><td>3  </td><td>2  </td><td>2.9</td><td>3.3</td><td>2.7</td></tr>\n",
       "\t<tr><td>2  </td><td>2  </td><td>2  </td><td>3  </td><td>3  </td><td>2.5</td><td>3.1</td><td>2.5</td></tr>\n",
       "\t<tr><td>2  </td><td>2  </td><td>2  </td><td>3  </td><td>4  </td><td>3.0</td><td>2.9</td><td>2.5</td></tr>\n",
       "\t<tr><td>2  </td><td>2  </td><td>2  </td><td>3  </td><td>5  </td><td>2.9</td><td>3.1</td><td>3.1</td></tr>\n",
       "\t<tr><td>2  </td><td>2  </td><td>2  </td><td>4  </td><td>1  </td><td>2.7</td><td>3.3</td><td>2.6</td></tr>\n",
       "\t<tr><td>2  </td><td>2  </td><td>2  </td><td>4  </td><td>2  </td><td>2.6</td><td>2.8</td><td>2.3</td></tr>\n",
       "\t<tr><td>2  </td><td>2  </td><td>2  </td><td>4  </td><td>3  </td><td>2.5</td><td>3.1</td><td>2.6</td></tr>\n",
       "\t<tr><td>2  </td><td>2  </td><td>2  </td><td>4  </td><td>4  </td><td>3.4</td><td>3.3</td><td>3.0</td></tr>\n",
       "\t<tr><td>2  </td><td>2  </td><td>2  </td><td>4  </td><td>5  </td><td>2.5</td><td>2.8</td><td>2.3</td></tr>\n",
       "</tbody>\n",
       "</table>\n"
      ],
      "text/latex": [
       "\\begin{tabular}{r|llllllll}\n",
       " area & temp & size & storage & method & texture & flavor & moistness\\\\\n",
       "\\hline\n",
       "\t 1   & 1   & 1   & 1   & 1   & 2.9 & 3.2 & 3.0\\\\\n",
       "\t 1   & 1   & 1   & 1   & 2   & 2.3 & 2.5 & 2.6\\\\\n",
       "\t 1   & 1   & 1   & 1   & 3   & 2.5 & 2.8 & 2.8\\\\\n",
       "\t 1   & 1   & 1   & 1   & 4   & 2.1 & 2.9 & 2.4\\\\\n",
       "\t 1   & 1   & 1   & 1   & 5   & 1.9 & 2.8 & 2.2\\\\\n",
       "\t 1   & 1   & 1   & 2   & 1   & 1.8 & 3.0 & 1.7\\\\\n",
       "\t 1   & 1   & 1   & 2   & 2   & 2.6 & 3.1 & 2.4\\\\\n",
       "\t 1   & 1   & 1   & 2   & 3   & 3.0 & 3.0 & 2.9\\\\\n",
       "\t 1   & 1   & 1   & 2   & 4   & 2.2 & 3.2 & 2.5\\\\\n",
       "\t 1   & 1   & 1   & 2   & 5   & 2.0 & 2.8 & 1.9\\\\\n",
       "\t 1   & 1   & 1   & 3   & 1   & 1.8 & 2.6 & 1.5\\\\\n",
       "\t 1   & 1   & 1   & 3   & 2   & 2.0 & 2.8 & 1.9\\\\\n",
       "\t 1   & 1   & 1   & 3   & 3   & 2.6 & 2.6 & 2.6\\\\\n",
       "\t 1   & 1   & 1   & 3   & 4   & 2.1 & 3.2 & 2.1\\\\\n",
       "\t 1   & 1   & 1   & 3   & 5   & 2.5 & 3.0 & 2.1\\\\\n",
       "\t 1   & 1   & 1   & 4   & 1   & 2.6 & 3.1 & 2.4\\\\\n",
       "\t 1   & 1   & 1   & 4   & 2   & 2.7 & 2.9 & 2.4\\\\\n",
       "\t 1   & 1   & 1   & 4   & 3   & 2.2 & 3.1 & 2.3\\\\\n",
       "\t 1   & 1   & 1   & 4   & 4   & 3.1 & 3.4 & 2.7\\\\\n",
       "\t 1   & 1   & 1   & 4   & 5   & 3.0 & 2.6 & 2.7\\\\\n",
       "\t 1   & 1   & 2   & 1   & 1   & 3.1 & 3.0 & 2.8\\\\\n",
       "\t 1   & 1   & 2   & 1   & 2   & 2.7 & 2.8 & 2.7\\\\\n",
       "\t 1   & 1   & 2   & 1   & 3   & 2.4 & 3.0 & 2.9\\\\\n",
       "\t 1   & 1   & 2   & 1   & 4   & 2.2 & 2.9 & 2.3\\\\\n",
       "\t 1   & 1   & 2   & 1   & 5   & 1.9 & 2.9 & 2.0\\\\\n",
       "\t 1   & 1   & 2   & 2   & 1   & 1.8 & 2.6 & 1.8\\\\\n",
       "\t 1   & 1   & 2   & 2   & 2   & 2.2 & 2.9 & 2.1\\\\\n",
       "\t 1   & 1   & 2   & 2   & 3   & 2.8 & 3.2 & 2.8\\\\\n",
       "\t 1   & 1   & 2   & 2   & 4   & 2.3 & 3.2 & 2.4\\\\\n",
       "\t 1   & 1   & 2   & 2   & 5   & 2.0 & 3.0 & 2.0\\\\\n",
       "\t ⋮ & ⋮ & ⋮ & ⋮ & ⋮ & ⋮ & ⋮ & ⋮\\\\\n",
       "\t 2   & 2   & 1   & 3   & 1   & 2.8 & 2.8 & 2.6\\\\\n",
       "\t 2   & 2   & 1   & 3   & 2   & 3.5 & 2.8 & 3.0\\\\\n",
       "\t 2   & 2   & 1   & 3   & 3   & 2.5 & 3.2 & 2.3\\\\\n",
       "\t 2   & 2   & 1   & 3   & 4   & 3.3 & 3.0 & 2.7\\\\\n",
       "\t 2   & 2   & 1   & 3   & 5   & 3.5 & 2.9 & 2.9\\\\\n",
       "\t 2   & 2   & 1   & 4   & 1   & 3.2 & 3.4 & 2.5\\\\\n",
       "\t 2   & 2   & 1   & 4   & 2   & 3.3 & 2.8 & 2.8\\\\\n",
       "\t 2   & 2   & 1   & 4   & 3   & 3.0 & 3.0 & 2.8\\\\\n",
       "\t 2   & 2   & 1   & 4   & 4   & 3.5 & 3.2 & 3.1\\\\\n",
       "\t 2   & 2   & 1   & 4   & 5   & 3.4 & 3.0 & 2.8\\\\\n",
       "\t 2   & 2   & 2   & 1   & 1   & 2.7 & 2.5 & 2.5\\\\\n",
       "\t 2   & 2   & 2   & 1   & 2   & 2.5 & 2.7 & 2.3\\\\\n",
       "\t 2   & 2   & 2   & 1   & 3   & 3.2 & 2.7 & 3.0\\\\\n",
       "\t 2   & 2   & 2   & 1   & 4   & 2.4 & 2.7 & 2.5\\\\\n",
       "\t 2   & 2   & 2   & 1   & 5   & 2.7 & 2.1 & 2.3\\\\\n",
       "\t 2   & 2   & 2   & 2   & 1   & 2.2 & 2.7 & 2.3\\\\\n",
       "\t 2   & 2   & 2   & 2   & 2   & 3.1 & 2.9 & 2.6\\\\\n",
       "\t 2   & 2   & 2   & 2   & 3   & 2.2 & 2.8 & 3.1\\\\\n",
       "\t 2   & 2   & 2   & 2   & 4   & 2.9 & 3.0 & 2.7\\\\\n",
       "\t 2   & 2   & 2   & 2   & 5   & 2.8 & 2.7 & 2.6\\\\\n",
       "\t 2   & 2   & 2   & 3   & 1   & 2.5 & 3.2 & 2.3\\\\\n",
       "\t 2   & 2   & 2   & 3   & 2   & 2.9 & 3.3 & 2.7\\\\\n",
       "\t 2   & 2   & 2   & 3   & 3   & 2.5 & 3.1 & 2.5\\\\\n",
       "\t 2   & 2   & 2   & 3   & 4   & 3.0 & 2.9 & 2.5\\\\\n",
       "\t 2   & 2   & 2   & 3   & 5   & 2.9 & 3.1 & 3.1\\\\\n",
       "\t 2   & 2   & 2   & 4   & 1   & 2.7 & 3.3 & 2.6\\\\\n",
       "\t 2   & 2   & 2   & 4   & 2   & 2.6 & 2.8 & 2.3\\\\\n",
       "\t 2   & 2   & 2   & 4   & 3   & 2.5 & 3.1 & 2.6\\\\\n",
       "\t 2   & 2   & 2   & 4   & 4   & 3.4 & 3.3 & 3.0\\\\\n",
       "\t 2   & 2   & 2   & 4   & 5   & 2.5 & 2.8 & 2.3\\\\\n",
       "\\end{tabular}\n"
      ],
      "text/markdown": [
       "\n",
       "area | temp | size | storage | method | texture | flavor | moistness | \n",
       "|---|---|---|---|---|---|---|---|---|---|---|---|---|---|---|---|---|---|---|---|---|---|---|---|---|---|---|---|---|---|---|---|---|---|---|---|---|---|---|---|---|---|---|---|---|---|---|---|---|---|---|---|---|---|---|---|---|---|---|---|---|\n",
       "| 1   | 1   | 1   | 1   | 1   | 2.9 | 3.2 | 3.0 | \n",
       "| 1   | 1   | 1   | 1   | 2   | 2.3 | 2.5 | 2.6 | \n",
       "| 1   | 1   | 1   | 1   | 3   | 2.5 | 2.8 | 2.8 | \n",
       "| 1   | 1   | 1   | 1   | 4   | 2.1 | 2.9 | 2.4 | \n",
       "| 1   | 1   | 1   | 1   | 5   | 1.9 | 2.8 | 2.2 | \n",
       "| 1   | 1   | 1   | 2   | 1   | 1.8 | 3.0 | 1.7 | \n",
       "| 1   | 1   | 1   | 2   | 2   | 2.6 | 3.1 | 2.4 | \n",
       "| 1   | 1   | 1   | 2   | 3   | 3.0 | 3.0 | 2.9 | \n",
       "| 1   | 1   | 1   | 2   | 4   | 2.2 | 3.2 | 2.5 | \n",
       "| 1   | 1   | 1   | 2   | 5   | 2.0 | 2.8 | 1.9 | \n",
       "| 1   | 1   | 1   | 3   | 1   | 1.8 | 2.6 | 1.5 | \n",
       "| 1   | 1   | 1   | 3   | 2   | 2.0 | 2.8 | 1.9 | \n",
       "| 1   | 1   | 1   | 3   | 3   | 2.6 | 2.6 | 2.6 | \n",
       "| 1   | 1   | 1   | 3   | 4   | 2.1 | 3.2 | 2.1 | \n",
       "| 1   | 1   | 1   | 3   | 5   | 2.5 | 3.0 | 2.1 | \n",
       "| 1   | 1   | 1   | 4   | 1   | 2.6 | 3.1 | 2.4 | \n",
       "| 1   | 1   | 1   | 4   | 2   | 2.7 | 2.9 | 2.4 | \n",
       "| 1   | 1   | 1   | 4   | 3   | 2.2 | 3.1 | 2.3 | \n",
       "| 1   | 1   | 1   | 4   | 4   | 3.1 | 3.4 | 2.7 | \n",
       "| 1   | 1   | 1   | 4   | 5   | 3.0 | 2.6 | 2.7 | \n",
       "| 1   | 1   | 2   | 1   | 1   | 3.1 | 3.0 | 2.8 | \n",
       "| 1   | 1   | 2   | 1   | 2   | 2.7 | 2.8 | 2.7 | \n",
       "| 1   | 1   | 2   | 1   | 3   | 2.4 | 3.0 | 2.9 | \n",
       "| 1   | 1   | 2   | 1   | 4   | 2.2 | 2.9 | 2.3 | \n",
       "| 1   | 1   | 2   | 1   | 5   | 1.9 | 2.9 | 2.0 | \n",
       "| 1   | 1   | 2   | 2   | 1   | 1.8 | 2.6 | 1.8 | \n",
       "| 1   | 1   | 2   | 2   | 2   | 2.2 | 2.9 | 2.1 | \n",
       "| 1   | 1   | 2   | 2   | 3   | 2.8 | 3.2 | 2.8 | \n",
       "| 1   | 1   | 2   | 2   | 4   | 2.3 | 3.2 | 2.4 | \n",
       "| 1   | 1   | 2   | 2   | 5   | 2.0 | 3.0 | 2.0 | \n",
       "| ⋮ | ⋮ | ⋮ | ⋮ | ⋮ | ⋮ | ⋮ | ⋮ | \n",
       "| 2   | 2   | 1   | 3   | 1   | 2.8 | 2.8 | 2.6 | \n",
       "| 2   | 2   | 1   | 3   | 2   | 3.5 | 2.8 | 3.0 | \n",
       "| 2   | 2   | 1   | 3   | 3   | 2.5 | 3.2 | 2.3 | \n",
       "| 2   | 2   | 1   | 3   | 4   | 3.3 | 3.0 | 2.7 | \n",
       "| 2   | 2   | 1   | 3   | 5   | 3.5 | 2.9 | 2.9 | \n",
       "| 2   | 2   | 1   | 4   | 1   | 3.2 | 3.4 | 2.5 | \n",
       "| 2   | 2   | 1   | 4   | 2   | 3.3 | 2.8 | 2.8 | \n",
       "| 2   | 2   | 1   | 4   | 3   | 3.0 | 3.0 | 2.8 | \n",
       "| 2   | 2   | 1   | 4   | 4   | 3.5 | 3.2 | 3.1 | \n",
       "| 2   | 2   | 1   | 4   | 5   | 3.4 | 3.0 | 2.8 | \n",
       "| 2   | 2   | 2   | 1   | 1   | 2.7 | 2.5 | 2.5 | \n",
       "| 2   | 2   | 2   | 1   | 2   | 2.5 | 2.7 | 2.3 | \n",
       "| 2   | 2   | 2   | 1   | 3   | 3.2 | 2.7 | 3.0 | \n",
       "| 2   | 2   | 2   | 1   | 4   | 2.4 | 2.7 | 2.5 | \n",
       "| 2   | 2   | 2   | 1   | 5   | 2.7 | 2.1 | 2.3 | \n",
       "| 2   | 2   | 2   | 2   | 1   | 2.2 | 2.7 | 2.3 | \n",
       "| 2   | 2   | 2   | 2   | 2   | 3.1 | 2.9 | 2.6 | \n",
       "| 2   | 2   | 2   | 2   | 3   | 2.2 | 2.8 | 3.1 | \n",
       "| 2   | 2   | 2   | 2   | 4   | 2.9 | 3.0 | 2.7 | \n",
       "| 2   | 2   | 2   | 2   | 5   | 2.8 | 2.7 | 2.6 | \n",
       "| 2   | 2   | 2   | 3   | 1   | 2.5 | 3.2 | 2.3 | \n",
       "| 2   | 2   | 2   | 3   | 2   | 2.9 | 3.3 | 2.7 | \n",
       "| 2   | 2   | 2   | 3   | 3   | 2.5 | 3.1 | 2.5 | \n",
       "| 2   | 2   | 2   | 3   | 4   | 3.0 | 2.9 | 2.5 | \n",
       "| 2   | 2   | 2   | 3   | 5   | 2.9 | 3.1 | 3.1 | \n",
       "| 2   | 2   | 2   | 4   | 1   | 2.7 | 3.3 | 2.6 | \n",
       "| 2   | 2   | 2   | 4   | 2   | 2.6 | 2.8 | 2.3 | \n",
       "| 2   | 2   | 2   | 4   | 3   | 2.5 | 3.1 | 2.6 | \n",
       "| 2   | 2   | 2   | 4   | 4   | 3.4 | 3.3 | 3.0 | \n",
       "| 2   | 2   | 2   | 4   | 5   | 2.5 | 2.8 | 2.3 | \n",
       "\n",
       "\n"
      ],
      "text/plain": [
       "    area temp size storage method texture flavor moistness\n",
       "1   1    1    1    1       1      2.9     3.2    3.0      \n",
       "2   1    1    1    1       2      2.3     2.5    2.6      \n",
       "3   1    1    1    1       3      2.5     2.8    2.8      \n",
       "4   1    1    1    1       4      2.1     2.9    2.4      \n",
       "5   1    1    1    1       5      1.9     2.8    2.2      \n",
       "6   1    1    1    2       1      1.8     3.0    1.7      \n",
       "7   1    1    1    2       2      2.6     3.1    2.4      \n",
       "8   1    1    1    2       3      3.0     3.0    2.9      \n",
       "9   1    1    1    2       4      2.2     3.2    2.5      \n",
       "10  1    1    1    2       5      2.0     2.8    1.9      \n",
       "11  1    1    1    3       1      1.8     2.6    1.5      \n",
       "12  1    1    1    3       2      2.0     2.8    1.9      \n",
       "13  1    1    1    3       3      2.6     2.6    2.6      \n",
       "14  1    1    1    3       4      2.1     3.2    2.1      \n",
       "15  1    1    1    3       5      2.5     3.0    2.1      \n",
       "16  1    1    1    4       1      2.6     3.1    2.4      \n",
       "17  1    1    1    4       2      2.7     2.9    2.4      \n",
       "18  1    1    1    4       3      2.2     3.1    2.3      \n",
       "19  1    1    1    4       4      3.1     3.4    2.7      \n",
       "20  1    1    1    4       5      3.0     2.6    2.7      \n",
       "21  1    1    2    1       1      3.1     3.0    2.8      \n",
       "22  1    1    2    1       2      2.7     2.8    2.7      \n",
       "23  1    1    2    1       3      2.4     3.0    2.9      \n",
       "24  1    1    2    1       4      2.2     2.9    2.3      \n",
       "25  1    1    2    1       5      1.9     2.9    2.0      \n",
       "26  1    1    2    2       1      1.8     2.6    1.8      \n",
       "27  1    1    2    2       2      2.2     2.9    2.1      \n",
       "28  1    1    2    2       3      2.8     3.2    2.8      \n",
       "29  1    1    2    2       4      2.3     3.2    2.4      \n",
       "30  1    1    2    2       5      2.0     3.0    2.0      \n",
       "⋮   ⋮    ⋮    ⋮    ⋮       ⋮      ⋮       ⋮      ⋮        \n",
       "131 2    2    1    3       1      2.8     2.8    2.6      \n",
       "132 2    2    1    3       2      3.5     2.8    3.0      \n",
       "133 2    2    1    3       3      2.5     3.2    2.3      \n",
       "134 2    2    1    3       4      3.3     3.0    2.7      \n",
       "135 2    2    1    3       5      3.5     2.9    2.9      \n",
       "136 2    2    1    4       1      3.2     3.4    2.5      \n",
       "137 2    2    1    4       2      3.3     2.8    2.8      \n",
       "138 2    2    1    4       3      3.0     3.0    2.8      \n",
       "139 2    2    1    4       4      3.5     3.2    3.1      \n",
       "140 2    2    1    4       5      3.4     3.0    2.8      \n",
       "141 2    2    2    1       1      2.7     2.5    2.5      \n",
       "142 2    2    2    1       2      2.5     2.7    2.3      \n",
       "143 2    2    2    1       3      3.2     2.7    3.0      \n",
       "144 2    2    2    1       4      2.4     2.7    2.5      \n",
       "145 2    2    2    1       5      2.7     2.1    2.3      \n",
       "146 2    2    2    2       1      2.2     2.7    2.3      \n",
       "147 2    2    2    2       2      3.1     2.9    2.6      \n",
       "148 2    2    2    2       3      2.2     2.8    3.1      \n",
       "149 2    2    2    2       4      2.9     3.0    2.7      \n",
       "150 2    2    2    2       5      2.8     2.7    2.6      \n",
       "151 2    2    2    3       1      2.5     3.2    2.3      \n",
       "152 2    2    2    3       2      2.9     3.3    2.7      \n",
       "153 2    2    2    3       3      2.5     3.1    2.5      \n",
       "154 2    2    2    3       4      3.0     2.9    2.5      \n",
       "155 2    2    2    3       5      2.9     3.1    3.1      \n",
       "156 2    2    2    4       1      2.7     3.3    2.6      \n",
       "157 2    2    2    4       2      2.6     2.8    2.3      \n",
       "158 2    2    2    4       3      2.5     3.1    2.6      \n",
       "159 2    2    2    4       4      3.4     3.3    3.0      \n",
       "160 2    2    2    4       5      2.5     2.8    2.3      "
      ]
     },
     "metadata": {},
     "output_type": "display_data"
    }
   ],
   "source": [
    "# Load the readr package\n",
    "library(readr)\n",
    "\n",
    "# Import the csv file: pools\n",
    "url_csv <- \"http://s3.amazonaws.com/assets.datacamp.com/production/course_1478/datasets/swimming_pools.csv\"\n",
    "pools <- read_csv(url_csv)\n",
    "\n",
    "# Import the txt file: potatoes\n",
    "url_delim <- \"http://s3.amazonaws.com/assets.datacamp.com/production/course_1478/datasets/potatoes.txt\"\n",
    "potatoes <- read_tsv(url_delim)\n",
    "\n",
    "# Print pools and potatoes\n",
    "pools\n",
    "potatoes"
   ]
  },
  {
   "cell_type": "markdown",
   "metadata": {},
   "source": [
    "Secure importing\n",
    "In the previous exercises, you have been working with URLs that all start with http://. There is, however, a safer alternative to HTTP, namely HTTPS, which stands for HypterText Transfer Protocol Secure. Just remember this: HTTPS is relatively safe, HTTP is not.\n",
    "\n",
    "Luckily for us, you can use the standard importing functions with https:// connections since R version 3.2.2."
   ]
  },
  {
   "cell_type": "code",
   "execution_count": 16,
   "metadata": {},
   "outputs": [
    {
     "ename": "ERROR",
     "evalue": "Error in file(file, \"rt\"): internet routines cannot be loaded\n",
     "output_type": "error",
     "traceback": [
      "Error in file(file, \"rt\"): internet routines cannot be loaded\nTraceback:\n",
      "1. read.csv(url_csv, header = TRUE)",
      "2. read.table(file = file, header = header, sep = sep, quote = quote, \n .     dec = dec, fill = fill, comment.char = comment.char, ...)",
      "3. file(file, \"rt\")"
     ]
    }
   ],
   "source": [
    "# https URL to the swimming_pools csv file.\n",
    "url_csv <- \"https://s3.amazonaws.com/assets.datacamp.com/production/course_1478/datasets/swimming_pools.csv\"\n",
    "\n",
    "# Import the file using read.csv(): pools1\n",
    "pools1 <- read.csv(url_csv, header=TRUE)\n",
    "\n",
    "# Load the readr package\n",
    "library(readr)\n",
    "\n",
    "# Import the file using read_csv(): pools2\n",
    "pools2 <- read_csv(url_csv)\n",
    "\n",
    "# Print the structure of pools1 and pools2\n",
    "str(pools1)\n",
    "str(pools2)\n"
   ]
  },
  {
   "cell_type": "markdown",
   "metadata": {},
   "source": [
    "Import Excel files from the web\n",
    "When you learned about gdata, it was already mentioned that gdata can handle .xls files that are on the internet. readxl can't, at least not yet. The URL with which you'll be working is already available in the sample code. You will import it once using gdata and once with the readxl package via a workaround."
   ]
  },
  {
   "cell_type": "code",
   "execution_count": 17,
   "metadata": {},
   "outputs": [
    {
     "ename": "ERROR",
     "evalue": "Error in library(gdata): there is no package called ‘gdata’\n",
     "output_type": "error",
     "traceback": [
      "Error in library(gdata): there is no package called ‘gdata’\nTraceback:\n",
      "1. library(gdata)",
      "2. stop(txt, domain = NA)"
     ]
    }
   ],
   "source": [
    "# Load the readxl and gdata package\n",
    "library(readxl)\n",
    "library(gdata)\n",
    "\n",
    "# Specification of url: url_xls\n",
    "url_xls <- \"http://s3.amazonaws.com/assets.datacamp.com/production/course_1478/datasets/latitude.xls\"\n",
    "\n",
    "# Import the .xls file with gdata: excel_gdata\n",
    "excel_gdata <- read.xls(url_xls)\n",
    "\n",
    "# Download file behind URL, name it local_latitude.xls\n",
    "dest_path <- file.path(\"~\", \"local_latitude.xls\")\n",
    "download.file(url_xls, dest_path)\n",
    "\n",
    "# Import the local .xls file with readxl: excel_readxl\n",
    "excel_readxl <- read_excel(dest_path)"
   ]
  },
  {
   "cell_type": "markdown",
   "metadata": {},
   "source": [
    "Downloading any file, secure or not\n",
    "In the previous exercise you've seen how you can read excel files on the web using the read_excel package by first downloading the file with the download.file() function.\n",
    "\n",
    "There's more: with download.file() you can download any kind of file from the web, using HTTP and HTTPS: images, executable files, but also .RData files. An RData file is very efficient format to store R data.\n",
    "\n",
    "You can load data from an RData file using the load() function, but this function does not accept a URL string as an argument. In this exercise, you'll first download the RData file securely, and then import the local data file."
   ]
  },
  {
   "cell_type": "code",
   "execution_count": 19,
   "metadata": {},
   "outputs": [
    {
     "ename": "ERROR",
     "evalue": "Error in download.file(url_rdata, dest_path): internet routines cannot be loaded\n",
     "output_type": "error",
     "traceback": [
      "Error in download.file(url_rdata, dest_path): internet routines cannot be loaded\nTraceback:\n",
      "1. download.file(url_rdata, dest_path)"
     ]
    }
   ],
   "source": [
    "# https URL to the wine RData file.\n",
    "url_rdata <- \"https://s3.amazonaws.com/assets.datacamp.com/production/course_1478/datasets/wine.RData\"\n",
    "\n",
    "# Download the wine file to your working directory\n",
    "dest_path <- file.path(\"~\", \"wine_local.RData\")\n",
    "download.file(url_rdata, dest_path)\n",
    "\n",
    "# Load the wine data into your workspace using load()\n",
    "load(\"wine_local.RData\")\n",
    "\n",
    "# Print out the summary of the wine data\n",
    "summary(wine)"
   ]
  },
  {
   "cell_type": "markdown",
   "metadata": {},
   "source": [
    "HTTP? httr! (1)\n",
    "Downloading a file from the Internet means sending a GET request and receiving the file you asked for. Internally, all the previously discussed functions use a GET request to download files.\n",
    "\n",
    "httr provides a convenient function, GET() to execute this GET request. The result is a response object, that provides easy access to the status code, content-type and, of course, the actual content.\n",
    "\n",
    "You can extract the content from the request using the content() function. At the time of writing, there are three ways to retrieve this content: as a raw object, as a character vector, or an R object, such as a list. If you don't tell content() how to retrieve the content through the as argument, it'll try its best to figure out which type is most appropriate based on the content-type."
   ]
  },
  {
   "cell_type": "code",
   "execution_count": 20,
   "metadata": {},
   "outputs": [
    {
     "data": {
      "text/plain": [
       "Response [http://www.example.com/]\n",
       "  Date: 2017-12-19 11:04\n",
       "  Status: 200\n",
       "  Content-Type: text/html\n",
       "  Size: 1.27 kB\n",
       "<!doctype html>\n",
       "<html>\n",
       "<head>\n",
       "    <title>Example Domain</title>\n",
       "\n",
       "    <meta charset=\"utf-8\" />\n",
       "    <meta http-equiv=\"Content-type\" content=\"text/html; charset=utf-8\" />\n",
       "    <meta name=\"viewport\" content=\"width=device-width, initial-scale=1\" />\n",
       "    <style type=\"text/css\">\n",
       "    body {\n",
       "..."
      ]
     },
     "metadata": {},
     "output_type": "display_data"
    },
    {
     "data": {
      "text/plain": [
       "[1] 3c 21 64 6f 63 74"
      ]
     },
     "metadata": {},
     "output_type": "display_data"
    }
   ],
   "source": [
    "# Load the httr package\n",
    "library(httr)\n",
    "\n",
    "# Get the url, save response to resp\n",
    "url <- \"http://www.example.com/\"\n",
    "resp <- GET(url)\n",
    "\n",
    "# Print resp\n",
    "resp\n",
    "\n",
    "# Get the raw content of resp: raw_content\n",
    "raw_content <- content(resp, as=\"raw\")\n",
    "\n",
    "# Print the head of raw_content\n",
    "head(raw_content)"
   ]
  },
  {
   "cell_type": "markdown",
   "metadata": {},
   "source": [
    "HTTP? httr! (2)\n",
    "Web content does not limit itself to HTML pages and files stored on remote servers such as DataCamp's Amazon S3 instances. There are many other data formats out there. A very common one is JSON. This format is very often used by so-called Web APIs, interfaces to web servers with which you as a client can communicate to get or store information in more complicated ways.\n",
    "\n",
    "You'll learn about Web APIs and JSON in the video and exercises that follow, but some experimentation never hurts, does it?"
   ]
  },
  {
   "cell_type": "code",
   "execution_count": 21,
   "metadata": {},
   "outputs": [
    {
     "data": {
      "text/plain": [
       "Response [http://www.omdbapi.com/?apikey=ff21610b&t=Annie+Hall&y=&plot=short&r=json]\n",
       "  Date: 2017-12-19 11:05\n",
       "  Status: 200\n",
       "  Content-Type: application/json; charset=utf-8\n",
       "  Size: 942 B\n"
      ]
     },
     "metadata": {},
     "output_type": "display_data"
    },
    {
     "data": {
      "text/html": [
       "'{\"Title\":\"Annie Hall\",\"Year\":\"1977\",\"Rated\":\"PG\",\"Released\":\"20 Apr 1977\",\"Runtime\":\"93 min\",\"Genre\":\"Comedy, Romance\",\"Director\":\"Woody Allen\",\"Writer\":\"Woody Allen, Marshall Brickman\",\"Actors\":\"Woody Allen, Diane Keaton, Tony Roberts, Carol Kane\",\"Plot\":\"Neurotic New York comedian Alvy Singer falls in love with the ditzy Annie Hall.\",\"Language\":\"English, German\",\"Country\":\"USA\",\"Awards\":\"Won 4 Oscars. Another 26 wins &amp; 8 nominations.\",\"Poster\":\"https://images-na.ssl-images-amazon.com/images/M/MV5BZDg1OGQ4YzgtM2Y2NS00NjA3LWFjYTctMDRlMDI3NWE1OTUyXkEyXkFqcGdeQXVyMjUzOTY1NTc@._V1_SX300.jpg\",\"Ratings\":[{\"Source\":\"Internet Movie Database\",\"Value\":\"8.1/10\"},{\"Source\":\"Rotten Tomatoes\",\"Value\":\"97%\"},{\"Source\":\"Metacritic\",\"Value\":\"92/100\"}],\"Metascore\":\"92\",\"imdbRating\":\"8.1\",\"imdbVotes\":\"214,867\",\"imdbID\":\"tt0075686\",\"Type\":\"movie\",\"DVD\":\"28 Apr 1998\",\"BoxOffice\":\"N/A\",\"Production\":\"United Artists\",\"Website\":\"N/A\",\"Response\":\"True\"}'"
      ],
      "text/latex": [
       "'\\{\"Title\":\"Annie Hall\",\"Year\":\"1977\",\"Rated\":\"PG\",\"Released\":\"20 Apr 1977\",\"Runtime\":\"93 min\",\"Genre\":\"Comedy, Romance\",\"Director\":\"Woody Allen\",\"Writer\":\"Woody Allen, Marshall Brickman\",\"Actors\":\"Woody Allen, Diane Keaton, Tony Roberts, Carol Kane\",\"Plot\":\"Neurotic New York comedian Alvy Singer falls in love with the ditzy Annie Hall.\",\"Language\":\"English, German\",\"Country\":\"USA\",\"Awards\":\"Won 4 Oscars. Another 26 wins \\& 8 nominations.\",\"Poster\":\"https://images-na.ssl-images-amazon.com/images/M/MV5BZDg1OGQ4YzgtM2Y2NS00NjA3LWFjYTctMDRlMDI3NWE1OTUyXkEyXkFqcGdeQXVyMjUzOTY1NTc@.\\_V1\\_SX300.jpg\",\"Ratings\":{[}\\{\"Source\":\"Internet Movie Database\",\"Value\":\"8.1/10\"\\},\\{\"Source\":\"Rotten Tomatoes\",\"Value\":\"97\\%\"\\},\\{\"Source\":\"Metacritic\",\"Value\":\"92/100\"\\}{]},\"Metascore\":\"92\",\"imdbRating\":\"8.1\",\"imdbVotes\":\"214,867\",\"imdbID\":\"tt0075686\",\"Type\":\"movie\",\"DVD\":\"28 Apr 1998\",\"BoxOffice\":\"N/A\",\"Production\":\"United Artists\",\"Website\":\"N/A\",\"Response\":\"True\"\\}'"
      ],
      "text/markdown": [
       "'{\"Title\":\"Annie Hall\",\"Year\":\"1977\",\"Rated\":\"PG\",\"Released\":\"20 Apr 1977\",\"Runtime\":\"93 min\",\"Genre\":\"Comedy, Romance\",\"Director\":\"Woody Allen\",\"Writer\":\"Woody Allen, Marshall Brickman\",\"Actors\":\"Woody Allen, Diane Keaton, Tony Roberts, Carol Kane\",\"Plot\":\"Neurotic New York comedian Alvy Singer falls in love with the ditzy Annie Hall.\",\"Language\":\"English, German\",\"Country\":\"USA\",\"Awards\":\"Won 4 Oscars. Another 26 wins &amp; 8 nominations.\",\"Poster\":\"https://images-na.ssl-images-amazon.com/images/M/MV5BZDg1OGQ4YzgtM2Y2NS00NjA3LWFjYTctMDRlMDI3NWE1OTUyXkEyXkFqcGdeQXVyMjUzOTY1NTc@._V1_SX300.jpg\",\"Ratings\":[{\"Source\":\"Internet Movie Database\",\"Value\":\"8.1/10\"},{\"Source\":\"Rotten Tomatoes\",\"Value\":\"97%\"},{\"Source\":\"Metacritic\",\"Value\":\"92/100\"}],\"Metascore\":\"92\",\"imdbRating\":\"8.1\",\"imdbVotes\":\"214,867\",\"imdbID\":\"tt0075686\",\"Type\":\"movie\",\"DVD\":\"28 Apr 1998\",\"BoxOffice\":\"N/A\",\"Production\":\"United Artists\",\"Website\":\"N/A\",\"Response\":\"True\"}'"
      ],
      "text/plain": [
       "[1] \"{\\\"Title\\\":\\\"Annie Hall\\\",\\\"Year\\\":\\\"1977\\\",\\\"Rated\\\":\\\"PG\\\",\\\"Released\\\":\\\"20 Apr 1977\\\",\\\"Runtime\\\":\\\"93 min\\\",\\\"Genre\\\":\\\"Comedy, Romance\\\",\\\"Director\\\":\\\"Woody Allen\\\",\\\"Writer\\\":\\\"Woody Allen, Marshall Brickman\\\",\\\"Actors\\\":\\\"Woody Allen, Diane Keaton, Tony Roberts, Carol Kane\\\",\\\"Plot\\\":\\\"Neurotic New York comedian Alvy Singer falls in love with the ditzy Annie Hall.\\\",\\\"Language\\\":\\\"English, German\\\",\\\"Country\\\":\\\"USA\\\",\\\"Awards\\\":\\\"Won 4 Oscars. Another 26 wins & 8 nominations.\\\",\\\"Poster\\\":\\\"https://images-na.ssl-images-amazon.com/images/M/MV5BZDg1OGQ4YzgtM2Y2NS00NjA3LWFjYTctMDRlMDI3NWE1OTUyXkEyXkFqcGdeQXVyMjUzOTY1NTc@._V1_SX300.jpg\\\",\\\"Ratings\\\":[{\\\"Source\\\":\\\"Internet Movie Database\\\",\\\"Value\\\":\\\"8.1/10\\\"},{\\\"Source\\\":\\\"Rotten Tomatoes\\\",\\\"Value\\\":\\\"97%\\\"},{\\\"Source\\\":\\\"Metacritic\\\",\\\"Value\\\":\\\"92/100\\\"}],\\\"Metascore\\\":\\\"92\\\",\\\"imdbRating\\\":\\\"8.1\\\",\\\"imdbVotes\\\":\\\"214,867\\\",\\\"imdbID\\\":\\\"tt0075686\\\",\\\"Type\\\":\\\"movie\\\",\\\"DVD\\\":\\\"28 Apr 1998\\\",\\\"BoxOffice\\\":\\\"N/A\\\",\\\"Production\\\":\\\"United Artists\\\",\\\"Website\\\":\\\"N/A\\\",\\\"Response\\\":\\\"True\\\"}\""
      ]
     },
     "metadata": {},
     "output_type": "display_data"
    },
    {
     "data": {
      "text/html": [
       "<dl>\n",
       "\t<dt>$Title</dt>\n",
       "\t\t<dd>'Annie Hall'</dd>\n",
       "\t<dt>$Year</dt>\n",
       "\t\t<dd>'1977'</dd>\n",
       "\t<dt>$Rated</dt>\n",
       "\t\t<dd>'PG'</dd>\n",
       "\t<dt>$Released</dt>\n",
       "\t\t<dd>'20 Apr 1977'</dd>\n",
       "\t<dt>$Runtime</dt>\n",
       "\t\t<dd>'93 min'</dd>\n",
       "\t<dt>$Genre</dt>\n",
       "\t\t<dd>'Comedy, Romance'</dd>\n",
       "\t<dt>$Director</dt>\n",
       "\t\t<dd>'Woody Allen'</dd>\n",
       "\t<dt>$Writer</dt>\n",
       "\t\t<dd>'Woody Allen, Marshall Brickman'</dd>\n",
       "\t<dt>$Actors</dt>\n",
       "\t\t<dd>'Woody Allen, Diane Keaton, Tony Roberts, Carol Kane'</dd>\n",
       "\t<dt>$Plot</dt>\n",
       "\t\t<dd>'Neurotic New York comedian Alvy Singer falls in love with the ditzy Annie Hall.'</dd>\n",
       "\t<dt>$Language</dt>\n",
       "\t\t<dd>'English, German'</dd>\n",
       "\t<dt>$Country</dt>\n",
       "\t\t<dd>'USA'</dd>\n",
       "\t<dt>$Awards</dt>\n",
       "\t\t<dd>'Won 4 Oscars. Another 26 wins &amp; 8 nominations.'</dd>\n",
       "\t<dt>$Poster</dt>\n",
       "\t\t<dd>'https://images-na.ssl-images-amazon.com/images/M/MV5BZDg1OGQ4YzgtM2Y2NS00NjA3LWFjYTctMDRlMDI3NWE1OTUyXkEyXkFqcGdeQXVyMjUzOTY1NTc@._V1_SX300.jpg'</dd>\n",
       "\t<dt>$Ratings</dt>\n",
       "\t\t<dd><ol>\n",
       "\t<li><dl>\n",
       "\t<dt>$Source</dt>\n",
       "\t\t<dd>'Internet Movie Database'</dd>\n",
       "\t<dt>$Value</dt>\n",
       "\t\t<dd>'8.1/10'</dd>\n",
       "</dl>\n",
       "</li>\n",
       "\t<li><dl>\n",
       "\t<dt>$Source</dt>\n",
       "\t\t<dd>'Rotten Tomatoes'</dd>\n",
       "\t<dt>$Value</dt>\n",
       "\t\t<dd>'97%'</dd>\n",
       "</dl>\n",
       "</li>\n",
       "\t<li><dl>\n",
       "\t<dt>$Source</dt>\n",
       "\t\t<dd>'Metacritic'</dd>\n",
       "\t<dt>$Value</dt>\n",
       "\t\t<dd>'92/100'</dd>\n",
       "</dl>\n",
       "</li>\n",
       "</ol>\n",
       "</dd>\n",
       "\t<dt>$Metascore</dt>\n",
       "\t\t<dd>'92'</dd>\n",
       "\t<dt>$imdbRating</dt>\n",
       "\t\t<dd>'8.1'</dd>\n",
       "\t<dt>$imdbVotes</dt>\n",
       "\t\t<dd>'214,867'</dd>\n",
       "\t<dt>$imdbID</dt>\n",
       "\t\t<dd>'tt0075686'</dd>\n",
       "\t<dt>$Type</dt>\n",
       "\t\t<dd>'movie'</dd>\n",
       "\t<dt>$DVD</dt>\n",
       "\t\t<dd>'28 Apr 1998'</dd>\n",
       "\t<dt>$BoxOffice</dt>\n",
       "\t\t<dd>'N/A'</dd>\n",
       "\t<dt>$Production</dt>\n",
       "\t\t<dd>'United Artists'</dd>\n",
       "\t<dt>$Website</dt>\n",
       "\t\t<dd>'N/A'</dd>\n",
       "\t<dt>$Response</dt>\n",
       "\t\t<dd>'True'</dd>\n",
       "</dl>\n"
      ],
      "text/latex": [
       "\\begin{description}\n",
       "\\item[\\$Title] 'Annie Hall'\n",
       "\\item[\\$Year] '1977'\n",
       "\\item[\\$Rated] 'PG'\n",
       "\\item[\\$Released] '20 Apr 1977'\n",
       "\\item[\\$Runtime] '93 min'\n",
       "\\item[\\$Genre] 'Comedy, Romance'\n",
       "\\item[\\$Director] 'Woody Allen'\n",
       "\\item[\\$Writer] 'Woody Allen, Marshall Brickman'\n",
       "\\item[\\$Actors] 'Woody Allen, Diane Keaton, Tony Roberts, Carol Kane'\n",
       "\\item[\\$Plot] 'Neurotic New York comedian Alvy Singer falls in love with the ditzy Annie Hall.'\n",
       "\\item[\\$Language] 'English, German'\n",
       "\\item[\\$Country] 'USA'\n",
       "\\item[\\$Awards] 'Won 4 Oscars. Another 26 wins \\& 8 nominations.'\n",
       "\\item[\\$Poster] 'https://images-na.ssl-images-amazon.com/images/M/MV5BZDg1OGQ4YzgtM2Y2NS00NjA3LWFjYTctMDRlMDI3NWE1OTUyXkEyXkFqcGdeQXVyMjUzOTY1NTc@.\\_V1\\_SX300.jpg'\n",
       "\\item[\\$Ratings] \\begin{enumerate}\n",
       "\\item \\begin{description}\n",
       "\\item[\\$Source] 'Internet Movie Database'\n",
       "\\item[\\$Value] '8.1/10'\n",
       "\\end{description}\n",
       "\n",
       "\\item \\begin{description}\n",
       "\\item[\\$Source] 'Rotten Tomatoes'\n",
       "\\item[\\$Value] '97\\%'\n",
       "\\end{description}\n",
       "\n",
       "\\item \\begin{description}\n",
       "\\item[\\$Source] 'Metacritic'\n",
       "\\item[\\$Value] '92/100'\n",
       "\\end{description}\n",
       "\n",
       "\\end{enumerate}\n",
       "\n",
       "\\item[\\$Metascore] '92'\n",
       "\\item[\\$imdbRating] '8.1'\n",
       "\\item[\\$imdbVotes] '214,867'\n",
       "\\item[\\$imdbID] 'tt0075686'\n",
       "\\item[\\$Type] 'movie'\n",
       "\\item[\\$DVD] '28 Apr 1998'\n",
       "\\item[\\$BoxOffice] 'N/A'\n",
       "\\item[\\$Production] 'United Artists'\n",
       "\\item[\\$Website] 'N/A'\n",
       "\\item[\\$Response] 'True'\n",
       "\\end{description}\n"
      ],
      "text/markdown": [
       "$Title\n",
       ":   'Annie Hall'\n",
       "$Year\n",
       ":   '1977'\n",
       "$Rated\n",
       ":   'PG'\n",
       "$Released\n",
       ":   '20 Apr 1977'\n",
       "$Runtime\n",
       ":   '93 min'\n",
       "$Genre\n",
       ":   'Comedy, Romance'\n",
       "$Director\n",
       ":   'Woody Allen'\n",
       "$Writer\n",
       ":   'Woody Allen, Marshall Brickman'\n",
       "$Actors\n",
       ":   'Woody Allen, Diane Keaton, Tony Roberts, Carol Kane'\n",
       "$Plot\n",
       ":   'Neurotic New York comedian Alvy Singer falls in love with the ditzy Annie Hall.'\n",
       "$Language\n",
       ":   'English, German'\n",
       "$Country\n",
       ":   'USA'\n",
       "$Awards\n",
       ":   'Won 4 Oscars. Another 26 wins &amp; 8 nominations.'\n",
       "$Poster\n",
       ":   'https://images-na.ssl-images-amazon.com/images/M/MV5BZDg1OGQ4YzgtM2Y2NS00NjA3LWFjYTctMDRlMDI3NWE1OTUyXkEyXkFqcGdeQXVyMjUzOTY1NTc@._V1_SX300.jpg'\n",
       "$Ratings\n",
       ":   1. $Source\n",
       ":   'Internet Movie Database'\n",
       "$Value\n",
       ":   '8.1/10'\n",
       "\n",
       "\n",
       "\n",
       "2. $Source\n",
       ":   'Rotten Tomatoes'\n",
       "$Value\n",
       ":   '97%'\n",
       "\n",
       "\n",
       "\n",
       "3. $Source\n",
       ":   'Metacritic'\n",
       "$Value\n",
       ":   '92/100'\n",
       "\n",
       "\n",
       "\n",
       "\n",
       "\n",
       "\n",
       "$Metascore\n",
       ":   '92'\n",
       "$imdbRating\n",
       ":   '8.1'\n",
       "$imdbVotes\n",
       ":   '214,867'\n",
       "$imdbID\n",
       ":   'tt0075686'\n",
       "$Type\n",
       ":   'movie'\n",
       "$DVD\n",
       ":   '28 Apr 1998'\n",
       "$BoxOffice\n",
       ":   'N/A'\n",
       "$Production\n",
       ":   'United Artists'\n",
       "$Website\n",
       ":   'N/A'\n",
       "$Response\n",
       ":   'True'\n",
       "\n",
       "\n"
      ],
      "text/plain": [
       "$Title\n",
       "[1] \"Annie Hall\"\n",
       "\n",
       "$Year\n",
       "[1] \"1977\"\n",
       "\n",
       "$Rated\n",
       "[1] \"PG\"\n",
       "\n",
       "$Released\n",
       "[1] \"20 Apr 1977\"\n",
       "\n",
       "$Runtime\n",
       "[1] \"93 min\"\n",
       "\n",
       "$Genre\n",
       "[1] \"Comedy, Romance\"\n",
       "\n",
       "$Director\n",
       "[1] \"Woody Allen\"\n",
       "\n",
       "$Writer\n",
       "[1] \"Woody Allen, Marshall Brickman\"\n",
       "\n",
       "$Actors\n",
       "[1] \"Woody Allen, Diane Keaton, Tony Roberts, Carol Kane\"\n",
       "\n",
       "$Plot\n",
       "[1] \"Neurotic New York comedian Alvy Singer falls in love with the ditzy Annie Hall.\"\n",
       "\n",
       "$Language\n",
       "[1] \"English, German\"\n",
       "\n",
       "$Country\n",
       "[1] \"USA\"\n",
       "\n",
       "$Awards\n",
       "[1] \"Won 4 Oscars. Another 26 wins & 8 nominations.\"\n",
       "\n",
       "$Poster\n",
       "[1] \"https://images-na.ssl-images-amazon.com/images/M/MV5BZDg1OGQ4YzgtM2Y2NS00NjA3LWFjYTctMDRlMDI3NWE1OTUyXkEyXkFqcGdeQXVyMjUzOTY1NTc@._V1_SX300.jpg\"\n",
       "\n",
       "$Ratings\n",
       "$Ratings[[1]]\n",
       "$Ratings[[1]]$Source\n",
       "[1] \"Internet Movie Database\"\n",
       "\n",
       "$Ratings[[1]]$Value\n",
       "[1] \"8.1/10\"\n",
       "\n",
       "\n",
       "$Ratings[[2]]\n",
       "$Ratings[[2]]$Source\n",
       "[1] \"Rotten Tomatoes\"\n",
       "\n",
       "$Ratings[[2]]$Value\n",
       "[1] \"97%\"\n",
       "\n",
       "\n",
       "$Ratings[[3]]\n",
       "$Ratings[[3]]$Source\n",
       "[1] \"Metacritic\"\n",
       "\n",
       "$Ratings[[3]]$Value\n",
       "[1] \"92/100\"\n",
       "\n",
       "\n",
       "\n",
       "$Metascore\n",
       "[1] \"92\"\n",
       "\n",
       "$imdbRating\n",
       "[1] \"8.1\"\n",
       "\n",
       "$imdbVotes\n",
       "[1] \"214,867\"\n",
       "\n",
       "$imdbID\n",
       "[1] \"tt0075686\"\n",
       "\n",
       "$Type\n",
       "[1] \"movie\"\n",
       "\n",
       "$DVD\n",
       "[1] \"28 Apr 1998\"\n",
       "\n",
       "$BoxOffice\n",
       "[1] \"N/A\"\n",
       "\n",
       "$Production\n",
       "[1] \"United Artists\"\n",
       "\n",
       "$Website\n",
       "[1] \"N/A\"\n",
       "\n",
       "$Response\n",
       "[1] \"True\"\n"
      ]
     },
     "metadata": {},
     "output_type": "display_data"
    }
   ],
   "source": [
    "# httr is already loaded\n",
    "\n",
    "# Get the url\n",
    "url <- \"http://www.omdbapi.com/?apikey=ff21610b&t=Annie+Hall&y=&plot=short&r=json\"\n",
    "resp <- GET(url)\n",
    "\n",
    "# Print resp\n",
    "resp\n",
    "\n",
    "# Print content of resp as text\n",
    "content(resp, as=\"text\")\n",
    "\n",
    "# Print content of resp\n",
    "content(resp)"
   ]
  },
  {
   "cell_type": "markdown",
   "metadata": {},
   "source": [
    "From JSON to R\n",
    "In the simplest setting, fromJSON() can convert character strings that represent JSON data into a nicely structured R list. Give it a try!"
   ]
  },
  {
   "cell_type": "code",
   "execution_count": 22,
   "metadata": {},
   "outputs": [
    {
     "name": "stdout",
     "output_type": "stream",
     "text": [
      "List of 5\n",
      " $ name       : chr \"Chateau Migraine\"\n",
      " $ year       : int 1997\n",
      " $ alcohol_pct: num 12.4\n",
      " $ color      : chr \"red\"\n",
      " $ awarded    : logi FALSE\n"
     ]
    }
   ],
   "source": [
    "# Load the jsonlite package\n",
    "library(jsonlite)\n",
    "\n",
    "# wine_json is a JSON\n",
    "wine_json <- '{\"name\":\"Chateau Migraine\", \"year\":1997, \"alcohol_pct\":12.4, \"color\":\"red\", \"awarded\":false}'\n",
    "\n",
    "# Convert wine_json into a list: wine\n",
    "wine <- fromJSON(wine_json)\n",
    "\n",
    "# Print structure of wine\n",
    "str(wine)"
   ]
  },
  {
   "cell_type": "markdown",
   "metadata": {},
   "source": [
    "Quandl API\n",
    "As Filip showed in the video, fromJSON() also works if you pass a URL as a character string or the path to a local file that contains JSON data. Let's try this out on the Quandl API, where you can fetch all sorts of financial and economical data."
   ]
  },
  {
   "cell_type": "code",
   "execution_count": 23,
   "metadata": {},
   "outputs": [
    {
     "name": "stdout",
     "output_type": "stream",
     "text": [
      "List of 1\n",
      " $ dataset_data:List of 10\n",
      "  ..$ limit       : NULL\n",
      "  ..$ transform   : NULL\n",
      "  ..$ column_index: NULL\n",
      "  ..$ column_names: chr [1:13] \"Date\" \"Open\" \"High\" \"Low\" ...\n",
      "  ..$ start_date  : chr \"2012-05-18\"\n",
      "  ..$ end_date    : chr \"2017-12-18\"\n",
      "  ..$ frequency   : chr \"daily\"\n",
      "  ..$ data        : chr [1:1405, 1:13] \"2017-12-18\" \"2017-12-15\" \"2017-12-14\" \"2017-12-13\" ...\n",
      "  ..$ collapse    : NULL\n",
      "  ..$ order       : NULL\n"
     ]
    }
   ],
   "source": [
    "# jsonlite is preloaded\n",
    "\n",
    "# Definition of quandl_url\n",
    "quandl_url <- \"https://www.quandl.com/api/v3/datasets/WIKI/FB/data.json?auth_token=i83asDsiWUUyfoypkgMz\"\n",
    "\n",
    "# Import Quandl data: quandl_data\n",
    "quandl_data <- fromJSON(quandl_url)\n",
    "\n",
    "# Print structure of quandl_data\n",
    "str(quandl_data)"
   ]
  },
  {
   "cell_type": "markdown",
   "metadata": {},
   "source": [
    "OMDb API\n",
    "In the video, you saw how easy it is to interact with an API once you know how to formulate requests. You also saw how to fetch all information on Rain Man from OMDb. Simply perform a GET() call, and next ask for the contents with the content() function. This content() function, which is part of the httr package, uses jsonlite behind the scenes to import the JSON data into R.\n",
    "\n",
    "However, by now you also know that jsonlite can handle URLs itself. Simply passing the request URL to fromJSON() will get your data into R. In this exercise, you will be using this technique to compare the release year of two movies in the Open Movie Database."
   ]
  },
  {
   "cell_type": "code",
   "execution_count": 24,
   "metadata": {},
   "outputs": [
    {
     "data": {
      "text/html": [
       "'Star Wars: Episode IV - A New Hope'"
      ],
      "text/latex": [
       "'Star Wars: Episode IV - A New Hope'"
      ],
      "text/markdown": [
       "'Star Wars: Episode IV - A New Hope'"
      ],
      "text/plain": [
       "[1] \"Star Wars: Episode IV - A New Hope\""
      ]
     },
     "metadata": {},
     "output_type": "display_data"
    },
    {
     "data": {
      "text/html": [
       "'Star Wars: Episode III - Revenge of the Sith'"
      ],
      "text/latex": [
       "'Star Wars: Episode III - Revenge of the Sith'"
      ],
      "text/markdown": [
       "'Star Wars: Episode III - Revenge of the Sith'"
      ],
      "text/plain": [
       "[1] \"Star Wars: Episode III - Revenge of the Sith\""
      ]
     },
     "metadata": {},
     "output_type": "display_data"
    },
    {
     "data": {
      "text/html": [
       "FALSE"
      ],
      "text/latex": [
       "FALSE"
      ],
      "text/markdown": [
       "FALSE"
      ],
      "text/plain": [
       "[1] FALSE"
      ]
     },
     "metadata": {},
     "output_type": "display_data"
    }
   ],
   "source": [
    "# The package jsonlite is already loaded\n",
    "\n",
    "# Definition of the URLs\n",
    "url_sw4 <- \"http://www.omdbapi.com/?apikey=ff21610b&i=tt0076759&r=json\"\n",
    "url_sw3 <- \"http://www.omdbapi.com/?apikey=ff21610b&i=tt0121766&r=json\"\n",
    "\n",
    "# Import two URLs with fromJSON(): sw4 and sw3\n",
    "sw4 <- fromJSON(url_sw4)\n",
    "sw3 <- fromJSON(url_sw3)\n",
    "\n",
    "# Print out the Title element of both lists\n",
    "sw4$Title\n",
    "sw3$Title\n",
    "\n",
    "# Is the release year of sw4 later than sw3?\n",
    "sw4$Year > sw3$Year"
   ]
  },
  {
   "cell_type": "markdown",
   "metadata": {},
   "source": [
    "JSON practice (1)\n",
    "JSON is built on two structures: objects and arrays. To help you experiment with these, two JSON strings are included in the sample code. It's up to you to change them appropriately and then call jsonlite's fromJSON() function on them each time."
   ]
  },
  {
   "cell_type": "code",
   "execution_count": 25,
   "metadata": {},
   "outputs": [
    {
     "data": {
      "text/html": [
       "<ol class=list-inline>\n",
       "\t<li>1</li>\n",
       "\t<li>2</li>\n",
       "\t<li>3</li>\n",
       "\t<li>4</li>\n",
       "\t<li>5</li>\n",
       "\t<li>6</li>\n",
       "</ol>\n"
      ],
      "text/latex": [
       "\\begin{enumerate*}\n",
       "\\item 1\n",
       "\\item 2\n",
       "\\item 3\n",
       "\\item 4\n",
       "\\item 5\n",
       "\\item 6\n",
       "\\end{enumerate*}\n"
      ],
      "text/markdown": [
       "1. 1\n",
       "2. 2\n",
       "3. 3\n",
       "4. 4\n",
       "5. 5\n",
       "6. 6\n",
       "\n",
       "\n"
      ],
      "text/plain": [
       "[1] 1 2 3 4 5 6"
      ]
     },
     "metadata": {},
     "output_type": "display_data"
    },
    {
     "data": {
      "text/html": [
       "<dl>\n",
       "\t<dt>$a</dt>\n",
       "\t\t<dd><ol class=list-inline>\n",
       "\t<li>1</li>\n",
       "\t<li>2</li>\n",
       "\t<li>3</li>\n",
       "</ol>\n",
       "</dd>\n",
       "\t<dt>$b</dt>\n",
       "\t\t<dd><ol class=list-inline>\n",
       "\t<li>4</li>\n",
       "\t<li>5</li>\n",
       "\t<li>6</li>\n",
       "</ol>\n",
       "</dd>\n",
       "</dl>\n"
      ],
      "text/latex": [
       "\\begin{description}\n",
       "\\item[\\$a] \\begin{enumerate*}\n",
       "\\item 1\n",
       "\\item 2\n",
       "\\item 3\n",
       "\\end{enumerate*}\n",
       "\n",
       "\\item[\\$b] \\begin{enumerate*}\n",
       "\\item 4\n",
       "\\item 5\n",
       "\\item 6\n",
       "\\end{enumerate*}\n",
       "\n",
       "\\end{description}\n"
      ],
      "text/markdown": [
       "$a\n",
       ":   1. 1\n",
       "2. 2\n",
       "3. 3\n",
       "\n",
       "\n",
       "\n",
       "$b\n",
       ":   1. 4\n",
       "2. 5\n",
       "3. 6\n",
       "\n",
       "\n",
       "\n",
       "\n",
       "\n"
      ],
      "text/plain": [
       "$a\n",
       "[1] 1 2 3\n",
       "\n",
       "$b\n",
       "[1] 4 5 6\n"
      ]
     },
     "metadata": {},
     "output_type": "display_data"
    }
   ],
   "source": [
    "# jsonlite is already loaded\n",
    "\n",
    "# Challenge 1\n",
    "json1 <- '[1, 2,3, 4, 5,6]'\n",
    "fromJSON(json1)\n",
    "\n",
    "# Challenge 2\n",
    "json2 <- '{\"a\": [1, 2, 3], \"b\":[4,5,6]}'\n",
    "fromJSON(json2)"
   ]
  },
  {
   "cell_type": "markdown",
   "metadata": {},
   "source": [
    "JSON practice (2)\n",
    "We prepared two more JSON strings in the sample code. Can you change them and call jsonlite's fromJSON() function on them, similar to the previous exercise?"
   ]
  },
  {
   "cell_type": "code",
   "execution_count": 26,
   "metadata": {},
   "outputs": [
    {
     "data": {
      "text/html": [
       "<table>\n",
       "<tbody>\n",
       "\t<tr><td>1</td><td>2</td></tr>\n",
       "\t<tr><td>3</td><td>4</td></tr>\n",
       "</tbody>\n",
       "</table>\n"
      ],
      "text/latex": [
       "\\begin{tabular}{ll}\n",
       "\t 1 & 2\\\\\n",
       "\t 3 & 4\\\\\n",
       "\\end{tabular}\n"
      ],
      "text/markdown": [
       "\n",
       "| 1 | 2 | \n",
       "| 3 | 4 | \n",
       "\n",
       "\n"
      ],
      "text/plain": [
       "     [,1] [,2]\n",
       "[1,] 1    2   \n",
       "[2,] 3    4   "
      ]
     },
     "metadata": {},
     "output_type": "display_data"
    },
    {
     "data": {
      "text/html": [
       "<table>\n",
       "<thead><tr><th scope=col>a</th><th scope=col>b</th></tr></thead>\n",
       "<tbody>\n",
       "\t<tr><td>1</td><td>2</td></tr>\n",
       "\t<tr><td>3</td><td>4</td></tr>\n",
       "\t<tr><td>5</td><td>6</td></tr>\n",
       "</tbody>\n",
       "</table>\n"
      ],
      "text/latex": [
       "\\begin{tabular}{r|ll}\n",
       " a & b\\\\\n",
       "\\hline\n",
       "\t 1 & 2\\\\\n",
       "\t 3 & 4\\\\\n",
       "\t 5 & 6\\\\\n",
       "\\end{tabular}\n"
      ],
      "text/markdown": [
       "\n",
       "a | b | \n",
       "|---|---|---|\n",
       "| 1 | 2 | \n",
       "| 3 | 4 | \n",
       "| 5 | 6 | \n",
       "\n",
       "\n"
      ],
      "text/plain": [
       "  a b\n",
       "1 1 2\n",
       "2 3 4\n",
       "3 5 6"
      ]
     },
     "metadata": {},
     "output_type": "display_data"
    }
   ],
   "source": [
    "# jsonlite is already loaded\n",
    "\n",
    "# Challenge 1\n",
    "json1 <- '[[1, 2], [3, 4]]'\n",
    "fromJSON(json1)\n",
    "\n",
    "# Challenge 2\n",
    "json2 <- '[{\"a\": 1, \"b\": 2}, {\"a\": 3, \"b\": 4}, {\"a\": 5, \"b\": 6}]'\n",
    "fromJSON(json2)"
   ]
  },
  {
   "cell_type": "markdown",
   "metadata": {},
   "source": [
    "toJSON()\n",
    "Apart from converting JSON to R with fromJSON(), you can also use toJSON() to convert R data to a JSON format. In its most basic use, you simply pass this function an R object to convert to a JSON. The result is an R object of the class json, which is basically a character string representing that JSON.\n",
    "\n",
    "For this exercise, you will be working with a .csv file containing information on the amount of desalinated water that is produced around the world. As you'll see, it contains a lot of missing values. This data can be found on the URL that is specified in the sample code."
   ]
  },
  {
   "cell_type": "code",
   "execution_count": 27,
   "metadata": {},
   "outputs": [
    {
     "ename": "ERROR",
     "evalue": "Error in file(file, \"rt\"): internet routines cannot be loaded\n",
     "output_type": "error",
     "traceback": [
      "Error in file(file, \"rt\"): internet routines cannot be loaded\nTraceback:\n",
      "1. read.csv(url_csv, stringsAsFactors = FALSE)",
      "2. read.table(file = file, header = header, sep = sep, quote = quote, \n .     dec = dec, fill = fill, comment.char = comment.char, ...)",
      "3. file(file, \"rt\")"
     ]
    }
   ],
   "source": [
    "# jsonlite is already loaded\n",
    "\n",
    "# URL pointing to the .csv file\n",
    "url_csv <- \"http://s3.amazonaws.com/assets.datacamp.com/production/course_1478/datasets/water.csv\"\n",
    "\n",
    "# Import the .csv file located at url_csv\n",
    "water <- read.csv(url_csv, stringsAsFactors=FALSE)\n",
    "\n",
    "# Convert the data file according to the requirements\n",
    "water_json <- toJSON(water)\n",
    "\n",
    "# Print out water_json\n",
    "water_json"
   ]
  },
  {
   "cell_type": "markdown",
   "metadata": {},
   "source": [
    "Minify and prettify\n",
    "JSONs can come in different formats. Take these two JSONs, that are in fact exactly the same: the first one is in a minified format, the second one is in a pretty format with indentation, whitespace and new lines:\n",
    "\n",
    "# Mini\n",
    "{\"a\":1,\"b\":2,\"c\":{\"x\":5,\"y\":6}}\n",
    "\n",
    "# Pretty\n",
    "{\n",
    "  \"a\": 1,\n",
    "  \"b\": 2,\n",
    "  \"c\": {\n",
    "    \"x\": 5,\n",
    "    \"y\": 6\n",
    "  }\n",
    "}\n",
    "Unless you're a computer, you surely prefer the second version. However, the standard form that toJSON() returns, is the minified version, as it is more concise. You can adapt this behavior by setting the pretty argument inside toJSON() to TRUE. If you already have a JSON string, you can use prettify() or minify() to make the JSON pretty or as concise as possible."
   ]
  },
  {
   "cell_type": "code",
   "execution_count": 28,
   "metadata": {},
   "outputs": [
    {
     "data": {
      "text/plain": [
       "[\n",
       "  {\n",
       "    \"mpg\": 21,\n",
       "    \"cyl\": 6,\n",
       "    \"disp\": 160,\n",
       "    \"hp\": 110,\n",
       "    \"drat\": 3.9,\n",
       "    \"wt\": 2.62,\n",
       "    \"qsec\": 16.46,\n",
       "    \"vs\": 0,\n",
       "    \"am\": 1,\n",
       "    \"gear\": 4,\n",
       "    \"carb\": 4,\n",
       "    \"_row\": \"Mazda RX4\"\n",
       "  },\n",
       "  {\n",
       "    \"mpg\": 21,\n",
       "    \"cyl\": 6,\n",
       "    \"disp\": 160,\n",
       "    \"hp\": 110,\n",
       "    \"drat\": 3.9,\n",
       "    \"wt\": 2.875,\n",
       "    \"qsec\": 17.02,\n",
       "    \"vs\": 0,\n",
       "    \"am\": 1,\n",
       "    \"gear\": 4,\n",
       "    \"carb\": 4,\n",
       "    \"_row\": \"Mazda RX4 Wag\"\n",
       "  },\n",
       "  {\n",
       "    \"mpg\": 22.8,\n",
       "    \"cyl\": 4,\n",
       "    \"disp\": 108,\n",
       "    \"hp\": 93,\n",
       "    \"drat\": 3.85,\n",
       "    \"wt\": 2.32,\n",
       "    \"qsec\": 18.61,\n",
       "    \"vs\": 1,\n",
       "    \"am\": 1,\n",
       "    \"gear\": 4,\n",
       "    \"carb\": 1,\n",
       "    \"_row\": \"Datsun 710\"\n",
       "  },\n",
       "  {\n",
       "    \"mpg\": 21.4,\n",
       "    \"cyl\": 6,\n",
       "    \"disp\": 258,\n",
       "    \"hp\": 110,\n",
       "    \"drat\": 3.08,\n",
       "    \"wt\": 3.215,\n",
       "    \"qsec\": 19.44,\n",
       "    \"vs\": 1,\n",
       "    \"am\": 0,\n",
       "    \"gear\": 3,\n",
       "    \"carb\": 1,\n",
       "    \"_row\": \"Hornet 4 Drive\"\n",
       "  },\n",
       "  {\n",
       "    \"mpg\": 18.7,\n",
       "    \"cyl\": 8,\n",
       "    \"disp\": 360,\n",
       "    \"hp\": 175,\n",
       "    \"drat\": 3.15,\n",
       "    \"wt\": 3.44,\n",
       "    \"qsec\": 17.02,\n",
       "    \"vs\": 0,\n",
       "    \"am\": 0,\n",
       "    \"gear\": 3,\n",
       "    \"carb\": 2,\n",
       "    \"_row\": \"Hornet Sportabout\"\n",
       "  },\n",
       "  {\n",
       "    \"mpg\": 18.1,\n",
       "    \"cyl\": 6,\n",
       "    \"disp\": 225,\n",
       "    \"hp\": 105,\n",
       "    \"drat\": 2.76,\n",
       "    \"wt\": 3.46,\n",
       "    \"qsec\": 20.22,\n",
       "    \"vs\": 1,\n",
       "    \"am\": 0,\n",
       "    \"gear\": 3,\n",
       "    \"carb\": 1,\n",
       "    \"_row\": \"Valiant\"\n",
       "  },\n",
       "  {\n",
       "    \"mpg\": 14.3,\n",
       "    \"cyl\": 8,\n",
       "    \"disp\": 360,\n",
       "    \"hp\": 245,\n",
       "    \"drat\": 3.21,\n",
       "    \"wt\": 3.57,\n",
       "    \"qsec\": 15.84,\n",
       "    \"vs\": 0,\n",
       "    \"am\": 0,\n",
       "    \"gear\": 3,\n",
       "    \"carb\": 4,\n",
       "    \"_row\": \"Duster 360\"\n",
       "  },\n",
       "  {\n",
       "    \"mpg\": 24.4,\n",
       "    \"cyl\": 4,\n",
       "    \"disp\": 146.7,\n",
       "    \"hp\": 62,\n",
       "    \"drat\": 3.69,\n",
       "    \"wt\": 3.19,\n",
       "    \"qsec\": 20,\n",
       "    \"vs\": 1,\n",
       "    \"am\": 0,\n",
       "    \"gear\": 4,\n",
       "    \"carb\": 2,\n",
       "    \"_row\": \"Merc 240D\"\n",
       "  },\n",
       "  {\n",
       "    \"mpg\": 22.8,\n",
       "    \"cyl\": 4,\n",
       "    \"disp\": 140.8,\n",
       "    \"hp\": 95,\n",
       "    \"drat\": 3.92,\n",
       "    \"wt\": 3.15,\n",
       "    \"qsec\": 22.9,\n",
       "    \"vs\": 1,\n",
       "    \"am\": 0,\n",
       "    \"gear\": 4,\n",
       "    \"carb\": 2,\n",
       "    \"_row\": \"Merc 230\"\n",
       "  },\n",
       "  {\n",
       "    \"mpg\": 19.2,\n",
       "    \"cyl\": 6,\n",
       "    \"disp\": 167.6,\n",
       "    \"hp\": 123,\n",
       "    \"drat\": 3.92,\n",
       "    \"wt\": 3.44,\n",
       "    \"qsec\": 18.3,\n",
       "    \"vs\": 1,\n",
       "    \"am\": 0,\n",
       "    \"gear\": 4,\n",
       "    \"carb\": 4,\n",
       "    \"_row\": \"Merc 280\"\n",
       "  },\n",
       "  {\n",
       "    \"mpg\": 17.8,\n",
       "    \"cyl\": 6,\n",
       "    \"disp\": 167.6,\n",
       "    \"hp\": 123,\n",
       "    \"drat\": 3.92,\n",
       "    \"wt\": 3.44,\n",
       "    \"qsec\": 18.9,\n",
       "    \"vs\": 1,\n",
       "    \"am\": 0,\n",
       "    \"gear\": 4,\n",
       "    \"carb\": 4,\n",
       "    \"_row\": \"Merc 280C\"\n",
       "  },\n",
       "  {\n",
       "    \"mpg\": 16.4,\n",
       "    \"cyl\": 8,\n",
       "    \"disp\": 275.8,\n",
       "    \"hp\": 180,\n",
       "    \"drat\": 3.07,\n",
       "    \"wt\": 4.07,\n",
       "    \"qsec\": 17.4,\n",
       "    \"vs\": 0,\n",
       "    \"am\": 0,\n",
       "    \"gear\": 3,\n",
       "    \"carb\": 3,\n",
       "    \"_row\": \"Merc 450SE\"\n",
       "  },\n",
       "  {\n",
       "    \"mpg\": 17.3,\n",
       "    \"cyl\": 8,\n",
       "    \"disp\": 275.8,\n",
       "    \"hp\": 180,\n",
       "    \"drat\": 3.07,\n",
       "    \"wt\": 3.73,\n",
       "    \"qsec\": 17.6,\n",
       "    \"vs\": 0,\n",
       "    \"am\": 0,\n",
       "    \"gear\": 3,\n",
       "    \"carb\": 3,\n",
       "    \"_row\": \"Merc 450SL\"\n",
       "  },\n",
       "  {\n",
       "    \"mpg\": 15.2,\n",
       "    \"cyl\": 8,\n",
       "    \"disp\": 275.8,\n",
       "    \"hp\": 180,\n",
       "    \"drat\": 3.07,\n",
       "    \"wt\": 3.78,\n",
       "    \"qsec\": 18,\n",
       "    \"vs\": 0,\n",
       "    \"am\": 0,\n",
       "    \"gear\": 3,\n",
       "    \"carb\": 3,\n",
       "    \"_row\": \"Merc 450SLC\"\n",
       "  },\n",
       "  {\n",
       "    \"mpg\": 10.4,\n",
       "    \"cyl\": 8,\n",
       "    \"disp\": 472,\n",
       "    \"hp\": 205,\n",
       "    \"drat\": 2.93,\n",
       "    \"wt\": 5.25,\n",
       "    \"qsec\": 17.98,\n",
       "    \"vs\": 0,\n",
       "    \"am\": 0,\n",
       "    \"gear\": 3,\n",
       "    \"carb\": 4,\n",
       "    \"_row\": \"Cadillac Fleetwood\"\n",
       "  },\n",
       "  {\n",
       "    \"mpg\": 10.4,\n",
       "    \"cyl\": 8,\n",
       "    \"disp\": 460,\n",
       "    \"hp\": 215,\n",
       "    \"drat\": 3,\n",
       "    \"wt\": 5.424,\n",
       "    \"qsec\": 17.82,\n",
       "    \"vs\": 0,\n",
       "    \"am\": 0,\n",
       "    \"gear\": 3,\n",
       "    \"carb\": 4,\n",
       "    \"_row\": \"Lincoln Continental\"\n",
       "  },\n",
       "  {\n",
       "    \"mpg\": 14.7,\n",
       "    \"cyl\": 8,\n",
       "    \"disp\": 440,\n",
       "    \"hp\": 230,\n",
       "    \"drat\": 3.23,\n",
       "    \"wt\": 5.345,\n",
       "    \"qsec\": 17.42,\n",
       "    \"vs\": 0,\n",
       "    \"am\": 0,\n",
       "    \"gear\": 3,\n",
       "    \"carb\": 4,\n",
       "    \"_row\": \"Chrysler Imperial\"\n",
       "  },\n",
       "  {\n",
       "    \"mpg\": 32.4,\n",
       "    \"cyl\": 4,\n",
       "    \"disp\": 78.7,\n",
       "    \"hp\": 66,\n",
       "    \"drat\": 4.08,\n",
       "    \"wt\": 2.2,\n",
       "    \"qsec\": 19.47,\n",
       "    \"vs\": 1,\n",
       "    \"am\": 1,\n",
       "    \"gear\": 4,\n",
       "    \"carb\": 1,\n",
       "    \"_row\": \"Fiat 128\"\n",
       "  },\n",
       "  {\n",
       "    \"mpg\": 30.4,\n",
       "    \"cyl\": 4,\n",
       "    \"disp\": 75.7,\n",
       "    \"hp\": 52,\n",
       "    \"drat\": 4.93,\n",
       "    \"wt\": 1.615,\n",
       "    \"qsec\": 18.52,\n",
       "    \"vs\": 1,\n",
       "    \"am\": 1,\n",
       "    \"gear\": 4,\n",
       "    \"carb\": 2,\n",
       "    \"_row\": \"Honda Civic\"\n",
       "  },\n",
       "  {\n",
       "    \"mpg\": 33.9,\n",
       "    \"cyl\": 4,\n",
       "    \"disp\": 71.1,\n",
       "    \"hp\": 65,\n",
       "    \"drat\": 4.22,\n",
       "    \"wt\": 1.835,\n",
       "    \"qsec\": 19.9,\n",
       "    \"vs\": 1,\n",
       "    \"am\": 1,\n",
       "    \"gear\": 4,\n",
       "    \"carb\": 1,\n",
       "    \"_row\": \"Toyota Corolla\"\n",
       "  },\n",
       "  {\n",
       "    \"mpg\": 21.5,\n",
       "    \"cyl\": 4,\n",
       "    \"disp\": 120.1,\n",
       "    \"hp\": 97,\n",
       "    \"drat\": 3.7,\n",
       "    \"wt\": 2.465,\n",
       "    \"qsec\": 20.01,\n",
       "    \"vs\": 1,\n",
       "    \"am\": 0,\n",
       "    \"gear\": 3,\n",
       "    \"carb\": 1,\n",
       "    \"_row\": \"Toyota Corona\"\n",
       "  },\n",
       "  {\n",
       "    \"mpg\": 15.5,\n",
       "    \"cyl\": 8,\n",
       "    \"disp\": 318,\n",
       "    \"hp\": 150,\n",
       "    \"drat\": 2.76,\n",
       "    \"wt\": 3.52,\n",
       "    \"qsec\": 16.87,\n",
       "    \"vs\": 0,\n",
       "    \"am\": 0,\n",
       "    \"gear\": 3,\n",
       "    \"carb\": 2,\n",
       "    \"_row\": \"Dodge Challenger\"\n",
       "  },\n",
       "  {\n",
       "    \"mpg\": 15.2,\n",
       "    \"cyl\": 8,\n",
       "    \"disp\": 304,\n",
       "    \"hp\": 150,\n",
       "    \"drat\": 3.15,\n",
       "    \"wt\": 3.435,\n",
       "    \"qsec\": 17.3,\n",
       "    \"vs\": 0,\n",
       "    \"am\": 0,\n",
       "    \"gear\": 3,\n",
       "    \"carb\": 2,\n",
       "    \"_row\": \"AMC Javelin\"\n",
       "  },\n",
       "  {\n",
       "    \"mpg\": 13.3,\n",
       "    \"cyl\": 8,\n",
       "    \"disp\": 350,\n",
       "    \"hp\": 245,\n",
       "    \"drat\": 3.73,\n",
       "    \"wt\": 3.84,\n",
       "    \"qsec\": 15.41,\n",
       "    \"vs\": 0,\n",
       "    \"am\": 0,\n",
       "    \"gear\": 3,\n",
       "    \"carb\": 4,\n",
       "    \"_row\": \"Camaro Z28\"\n",
       "  },\n",
       "  {\n",
       "    \"mpg\": 19.2,\n",
       "    \"cyl\": 8,\n",
       "    \"disp\": 400,\n",
       "    \"hp\": 175,\n",
       "    \"drat\": 3.08,\n",
       "    \"wt\": 3.845,\n",
       "    \"qsec\": 17.05,\n",
       "    \"vs\": 0,\n",
       "    \"am\": 0,\n",
       "    \"gear\": 3,\n",
       "    \"carb\": 2,\n",
       "    \"_row\": \"Pontiac Firebird\"\n",
       "  },\n",
       "  {\n",
       "    \"mpg\": 27.3,\n",
       "    \"cyl\": 4,\n",
       "    \"disp\": 79,\n",
       "    \"hp\": 66,\n",
       "    \"drat\": 4.08,\n",
       "    \"wt\": 1.935,\n",
       "    \"qsec\": 18.9,\n",
       "    \"vs\": 1,\n",
       "    \"am\": 1,\n",
       "    \"gear\": 4,\n",
       "    \"carb\": 1,\n",
       "    \"_row\": \"Fiat X1-9\"\n",
       "  },\n",
       "  {\n",
       "    \"mpg\": 26,\n",
       "    \"cyl\": 4,\n",
       "    \"disp\": 120.3,\n",
       "    \"hp\": 91,\n",
       "    \"drat\": 4.43,\n",
       "    \"wt\": 2.14,\n",
       "    \"qsec\": 16.7,\n",
       "    \"vs\": 0,\n",
       "    \"am\": 1,\n",
       "    \"gear\": 5,\n",
       "    \"carb\": 2,\n",
       "    \"_row\": \"Porsche 914-2\"\n",
       "  },\n",
       "  {\n",
       "    \"mpg\": 30.4,\n",
       "    \"cyl\": 4,\n",
       "    \"disp\": 95.1,\n",
       "    \"hp\": 113,\n",
       "    \"drat\": 3.77,\n",
       "    \"wt\": 1.513,\n",
       "    \"qsec\": 16.9,\n",
       "    \"vs\": 1,\n",
       "    \"am\": 1,\n",
       "    \"gear\": 5,\n",
       "    \"carb\": 2,\n",
       "    \"_row\": \"Lotus Europa\"\n",
       "  },\n",
       "  {\n",
       "    \"mpg\": 15.8,\n",
       "    \"cyl\": 8,\n",
       "    \"disp\": 351,\n",
       "    \"hp\": 264,\n",
       "    \"drat\": 4.22,\n",
       "    \"wt\": 3.17,\n",
       "    \"qsec\": 14.5,\n",
       "    \"vs\": 0,\n",
       "    \"am\": 1,\n",
       "    \"gear\": 5,\n",
       "    \"carb\": 4,\n",
       "    \"_row\": \"Ford Pantera L\"\n",
       "  },\n",
       "  {\n",
       "    \"mpg\": 19.7,\n",
       "    \"cyl\": 6,\n",
       "    \"disp\": 145,\n",
       "    \"hp\": 175,\n",
       "    \"drat\": 3.62,\n",
       "    \"wt\": 2.77,\n",
       "    \"qsec\": 15.5,\n",
       "    \"vs\": 0,\n",
       "    \"am\": 1,\n",
       "    \"gear\": 5,\n",
       "    \"carb\": 6,\n",
       "    \"_row\": \"Ferrari Dino\"\n",
       "  },\n",
       "  {\n",
       "    \"mpg\": 15,\n",
       "    \"cyl\": 8,\n",
       "    \"disp\": 301,\n",
       "    \"hp\": 335,\n",
       "    \"drat\": 3.54,\n",
       "    \"wt\": 3.57,\n",
       "    \"qsec\": 14.6,\n",
       "    \"vs\": 0,\n",
       "    \"am\": 1,\n",
       "    \"gear\": 5,\n",
       "    \"carb\": 8,\n",
       "    \"_row\": \"Maserati Bora\"\n",
       "  },\n",
       "  {\n",
       "    \"mpg\": 21.4,\n",
       "    \"cyl\": 4,\n",
       "    \"disp\": 121,\n",
       "    \"hp\": 109,\n",
       "    \"drat\": 4.11,\n",
       "    \"wt\": 2.78,\n",
       "    \"qsec\": 18.6,\n",
       "    \"vs\": 1,\n",
       "    \"am\": 1,\n",
       "    \"gear\": 4,\n",
       "    \"carb\": 2,\n",
       "    \"_row\": \"Volvo 142E\"\n",
       "  }\n",
       "] "
      ]
     },
     "metadata": {},
     "output_type": "display_data"
    },
    {
     "data": {
      "text/plain": [
       "[{\"mpg\":21,\"cyl\":6,\"disp\":160,\"hp\":110,\"drat\":3.9,\"wt\":2.62,\"qsec\":16.46,\"vs\":0,\"am\":1,\"gear\":4,\"carb\":4,\"_row\":\"Mazda RX4\"},{\"mpg\":21,\"cyl\":6,\"disp\":160,\"hp\":110,\"drat\":3.9,\"wt\":2.875,\"qsec\":17.02,\"vs\":0,\"am\":1,\"gear\":4,\"carb\":4,\"_row\":\"Mazda RX4 Wag\"},{\"mpg\":22.8,\"cyl\":4,\"disp\":108,\"hp\":93,\"drat\":3.85,\"wt\":2.32,\"qsec\":18.61,\"vs\":1,\"am\":1,\"gear\":4,\"carb\":1,\"_row\":\"Datsun 710\"},{\"mpg\":21.4,\"cyl\":6,\"disp\":258,\"hp\":110,\"drat\":3.08,\"wt\":3.215,\"qsec\":19.44,\"vs\":1,\"am\":0,\"gear\":3,\"carb\":1,\"_row\":\"Hornet 4 Drive\"},{\"mpg\":18.7,\"cyl\":8,\"disp\":360,\"hp\":175,\"drat\":3.15,\"wt\":3.44,\"qsec\":17.02,\"vs\":0,\"am\":0,\"gear\":3,\"carb\":2,\"_row\":\"Hornet Sportabout\"},{\"mpg\":18.1,\"cyl\":6,\"disp\":225,\"hp\":105,\"drat\":2.76,\"wt\":3.46,\"qsec\":20.22,\"vs\":1,\"am\":0,\"gear\":3,\"carb\":1,\"_row\":\"Valiant\"},{\"mpg\":14.3,\"cyl\":8,\"disp\":360,\"hp\":245,\"drat\":3.21,\"wt\":3.57,\"qsec\":15.84,\"vs\":0,\"am\":0,\"gear\":3,\"carb\":4,\"_row\":\"Duster 360\"},{\"mpg\":24.4,\"cyl\":4,\"disp\":146.7,\"hp\":62,\"drat\":3.69,\"wt\":3.19,\"qsec\":20,\"vs\":1,\"am\":0,\"gear\":4,\"carb\":2,\"_row\":\"Merc 240D\"},{\"mpg\":22.8,\"cyl\":4,\"disp\":140.8,\"hp\":95,\"drat\":3.92,\"wt\":3.15,\"qsec\":22.9,\"vs\":1,\"am\":0,\"gear\":4,\"carb\":2,\"_row\":\"Merc 230\"},{\"mpg\":19.2,\"cyl\":6,\"disp\":167.6,\"hp\":123,\"drat\":3.92,\"wt\":3.44,\"qsec\":18.3,\"vs\":1,\"am\":0,\"gear\":4,\"carb\":4,\"_row\":\"Merc 280\"},{\"mpg\":17.8,\"cyl\":6,\"disp\":167.6,\"hp\":123,\"drat\":3.92,\"wt\":3.44,\"qsec\":18.9,\"vs\":1,\"am\":0,\"gear\":4,\"carb\":4,\"_row\":\"Merc 280C\"},{\"mpg\":16.4,\"cyl\":8,\"disp\":275.8,\"hp\":180,\"drat\":3.07,\"wt\":4.07,\"qsec\":17.4,\"vs\":0,\"am\":0,\"gear\":3,\"carb\":3,\"_row\":\"Merc 450SE\"},{\"mpg\":17.3,\"cyl\":8,\"disp\":275.8,\"hp\":180,\"drat\":3.07,\"wt\":3.73,\"qsec\":17.6,\"vs\":0,\"am\":0,\"gear\":3,\"carb\":3,\"_row\":\"Merc 450SL\"},{\"mpg\":15.2,\"cyl\":8,\"disp\":275.8,\"hp\":180,\"drat\":3.07,\"wt\":3.78,\"qsec\":18,\"vs\":0,\"am\":0,\"gear\":3,\"carb\":3,\"_row\":\"Merc 450SLC\"},{\"mpg\":10.4,\"cyl\":8,\"disp\":472,\"hp\":205,\"drat\":2.93,\"wt\":5.25,\"qsec\":17.98,\"vs\":0,\"am\":0,\"gear\":3,\"carb\":4,\"_row\":\"Cadillac Fleetwood\"},{\"mpg\":10.4,\"cyl\":8,\"disp\":460,\"hp\":215,\"drat\":3,\"wt\":5.424,\"qsec\":17.82,\"vs\":0,\"am\":0,\"gear\":3,\"carb\":4,\"_row\":\"Lincoln Continental\"},{\"mpg\":14.7,\"cyl\":8,\"disp\":440,\"hp\":230,\"drat\":3.23,\"wt\":5.345,\"qsec\":17.42,\"vs\":0,\"am\":0,\"gear\":3,\"carb\":4,\"_row\":\"Chrysler Imperial\"},{\"mpg\":32.4,\"cyl\":4,\"disp\":78.7,\"hp\":66,\"drat\":4.08,\"wt\":2.2,\"qsec\":19.47,\"vs\":1,\"am\":1,\"gear\":4,\"carb\":1,\"_row\":\"Fiat 128\"},{\"mpg\":30.4,\"cyl\":4,\"disp\":75.7,\"hp\":52,\"drat\":4.93,\"wt\":1.615,\"qsec\":18.52,\"vs\":1,\"am\":1,\"gear\":4,\"carb\":2,\"_row\":\"Honda Civic\"},{\"mpg\":33.9,\"cyl\":4,\"disp\":71.1,\"hp\":65,\"drat\":4.22,\"wt\":1.835,\"qsec\":19.9,\"vs\":1,\"am\":1,\"gear\":4,\"carb\":1,\"_row\":\"Toyota Corolla\"},{\"mpg\":21.5,\"cyl\":4,\"disp\":120.1,\"hp\":97,\"drat\":3.7,\"wt\":2.465,\"qsec\":20.01,\"vs\":1,\"am\":0,\"gear\":3,\"carb\":1,\"_row\":\"Toyota Corona\"},{\"mpg\":15.5,\"cyl\":8,\"disp\":318,\"hp\":150,\"drat\":2.76,\"wt\":3.52,\"qsec\":16.87,\"vs\":0,\"am\":0,\"gear\":3,\"carb\":2,\"_row\":\"Dodge Challenger\"},{\"mpg\":15.2,\"cyl\":8,\"disp\":304,\"hp\":150,\"drat\":3.15,\"wt\":3.435,\"qsec\":17.3,\"vs\":0,\"am\":0,\"gear\":3,\"carb\":2,\"_row\":\"AMC Javelin\"},{\"mpg\":13.3,\"cyl\":8,\"disp\":350,\"hp\":245,\"drat\":3.73,\"wt\":3.84,\"qsec\":15.41,\"vs\":0,\"am\":0,\"gear\":3,\"carb\":4,\"_row\":\"Camaro Z28\"},{\"mpg\":19.2,\"cyl\":8,\"disp\":400,\"hp\":175,\"drat\":3.08,\"wt\":3.845,\"qsec\":17.05,\"vs\":0,\"am\":0,\"gear\":3,\"carb\":2,\"_row\":\"Pontiac Firebird\"},{\"mpg\":27.3,\"cyl\":4,\"disp\":79,\"hp\":66,\"drat\":4.08,\"wt\":1.935,\"qsec\":18.9,\"vs\":1,\"am\":1,\"gear\":4,\"carb\":1,\"_row\":\"Fiat X1-9\"},{\"mpg\":26,\"cyl\":4,\"disp\":120.3,\"hp\":91,\"drat\":4.43,\"wt\":2.14,\"qsec\":16.7,\"vs\":0,\"am\":1,\"gear\":5,\"carb\":2,\"_row\":\"Porsche 914-2\"},{\"mpg\":30.4,\"cyl\":4,\"disp\":95.1,\"hp\":113,\"drat\":3.77,\"wt\":1.513,\"qsec\":16.9,\"vs\":1,\"am\":1,\"gear\":5,\"carb\":2,\"_row\":\"Lotus Europa\"},{\"mpg\":15.8,\"cyl\":8,\"disp\":351,\"hp\":264,\"drat\":4.22,\"wt\":3.17,\"qsec\":14.5,\"vs\":0,\"am\":1,\"gear\":5,\"carb\":4,\"_row\":\"Ford Pantera L\"},{\"mpg\":19.7,\"cyl\":6,\"disp\":145,\"hp\":175,\"drat\":3.62,\"wt\":2.77,\"qsec\":15.5,\"vs\":0,\"am\":1,\"gear\":5,\"carb\":6,\"_row\":\"Ferrari Dino\"},{\"mpg\":15,\"cyl\":8,\"disp\":301,\"hp\":335,\"drat\":3.54,\"wt\":3.57,\"qsec\":14.6,\"vs\":0,\"am\":1,\"gear\":5,\"carb\":8,\"_row\":\"Maserati Bora\"},{\"mpg\":21.4,\"cyl\":4,\"disp\":121,\"hp\":109,\"drat\":4.11,\"wt\":2.78,\"qsec\":18.6,\"vs\":1,\"am\":1,\"gear\":4,\"carb\":2,\"_row\":\"Volvo 142E\"}] "
      ]
     },
     "metadata": {},
     "output_type": "display_data"
    }
   ],
   "source": [
    "# jsonlite is already loaded\n",
    "\n",
    "# Convert mtcars to a pretty JSON: pretty_json\n",
    "pretty_json <- toJSON(mtcars, pretty=TRUE)\n",
    "\n",
    "# Print pretty_json\n",
    "pretty_json\n",
    "\n",
    "# Minify pretty_json: mini_json\n",
    "mini_json <- minify(pretty_json)\n",
    "\n",
    "# Print mini_json\n",
    "mini_json"
   ]
  },
  {
   "cell_type": "markdown",
   "metadata": {},
   "source": [
    "Import SAS data with haven\n",
    "haven is an extremely easy-to-use package to import data from three software packages: SAS, STATA and SPSS. Depending on the software, you use different functions:\n",
    "\n",
    "SAS: read_sas()\n",
    "STATA: read_dta() (or read_stata(), which are identical)\n",
    "SPSS: read_sav() or read_por(), depending on the file type.\n",
    "All these functions take one key argument: the path to your local file. In fact, you can even pass a URL; haven will then automatically download the file for you before importing it.\n",
    "\n",
    "You'll be working with data on the age, gender, income, and purchase level (0 = low, 1 = high) of 36 individuals (Source: SAS). The information is stored in a SAS file, sales.sas7bdat, which is available in your current working directory. You can also download the data here."
   ]
  },
  {
   "cell_type": "code",
   "execution_count": 29,
   "metadata": {},
   "outputs": [
    {
     "name": "stdout",
     "output_type": "stream",
     "text": [
      "Classes ‘tbl_df’, ‘tbl’ and 'data.frame':\t431 obs. of  4 variables:\n",
      " $ purchase: num  0 0 1 1 0 0 0 0 0 0 ...\n",
      " $ age     : num  41 47 41 39 32 32 33 45 43 40 ...\n",
      " $ gender  : chr  \"Female\" \"Female\" \"Female\" \"Female\" ...\n",
      " $ income  : chr  \"Low\" \"Low\" \"Low\" \"Low\" ...\n",
      " - attr(*, \"label\")= chr \"SALES\"\n"
     ]
    }
   ],
   "source": [
    "# Load the haven package\n",
    "library(\"haven\")\n",
    "\n",
    "# Import sales.sas7bdat: sales\n",
    "sales <- read_sas(\"sales.sas7bdat\")\n",
    "\n",
    "# Display the structure of sales\n",
    "str(sales)"
   ]
  },
  {
   "cell_type": "markdown",
   "metadata": {},
   "source": [
    "ext up are STATA data files; you can use read_dta() for these.\n",
    "\n",
    "When inspecting the result of the read_dta() call, you will notice that one column will be imported as a labelled vector, an R equivalent for the common data structure in other statistical environments. In order to effectively continue working on the data in R, it's best to change this data into a standard R class. To convert a variable of the class labelled to a factor, you'll need haven's as_factor() function.\n",
    "\n",
    "In this exercise, you will work with data on yearly import and export numbers of sugar, both in USD and in weight. "
   ]
  },
  {
   "cell_type": "code",
   "execution_count": 31,
   "metadata": {},
   "outputs": [
    {
     "name": "stdout",
     "output_type": "stream",
     "text": [
      "Classes ‘tbl_df’, ‘tbl’ and 'data.frame':\t10 obs. of  5 variables:\n",
      " $ Date    :Class 'labelled'  atomic [1:10] 10 9 8 7 6 5 4 3 2 1\n",
      "  .. ..- attr(*, \"label\")= chr \"Date\"\n",
      "  .. ..- attr(*, \"format.stata\")= chr \"%9.0g\"\n",
      "  .. ..- attr(*, \"labels\")= Named num [1:10] 1 2 3 4 5 6 7 8 9 10\n",
      "  .. .. ..- attr(*, \"names\")= chr [1:10] \"2004-12-31\" \"2005-12-31\" \"2006-12-31\" \"2007-12-31\" ...\n",
      " $ Import  : atomic  37664782 16316512 11082246 35677943 9879878 ...\n",
      "  ..- attr(*, \"label\")= chr \"Import\"\n",
      "  ..- attr(*, \"format.stata\")= chr \"%9.0g\"\n",
      " $ Weight_I: atomic  54029106 21584365 14526089 55034932 14806865 ...\n",
      "  ..- attr(*, \"label\")= chr \"Weight_I\"\n",
      "  ..- attr(*, \"format.stata\")= chr \"%9.0g\"\n",
      " $ Export  : atomic  5.45e+07 1.03e+08 3.79e+07 4.85e+07 7.15e+07 ...\n",
      "  ..- attr(*, \"label\")= chr \"Export\"\n",
      "  ..- attr(*, \"format.stata\")= chr \"%9.0g\"\n",
      " $ Weight_E: atomic  9.34e+07 1.58e+08 8.80e+07 1.12e+08 1.32e+08 ...\n",
      "  ..- attr(*, \"label\")= chr \"Weight_E\"\n",
      "  ..- attr(*, \"format.stata\")= chr \"%9.0g\"\n",
      " - attr(*, \"label\")= chr \"Written by R.\"\n",
      "Classes ‘tbl_df’, ‘tbl’ and 'data.frame':\t10 obs. of  5 variables:\n",
      " $ Date    : Date, format: \"2013-12-31\" \"2012-12-31\" ...\n",
      " $ Import  : atomic  37664782 16316512 11082246 35677943 9879878 ...\n",
      "  ..- attr(*, \"label\")= chr \"Import\"\n",
      "  ..- attr(*, \"format.stata\")= chr \"%9.0g\"\n",
      " $ Weight_I: atomic  54029106 21584365 14526089 55034932 14806865 ...\n",
      "  ..- attr(*, \"label\")= chr \"Weight_I\"\n",
      "  ..- attr(*, \"format.stata\")= chr \"%9.0g\"\n",
      " $ Export  : atomic  5.45e+07 1.03e+08 3.79e+07 4.85e+07 7.15e+07 ...\n",
      "  ..- attr(*, \"label\")= chr \"Export\"\n",
      "  ..- attr(*, \"format.stata\")= chr \"%9.0g\"\n",
      " $ Weight_E: atomic  9.34e+07 1.58e+08 8.80e+07 1.12e+08 1.32e+08 ...\n",
      "  ..- attr(*, \"label\")= chr \"Weight_E\"\n",
      "  ..- attr(*, \"format.stata\")= chr \"%9.0g\"\n",
      " - attr(*, \"label\")= chr \"Written by R.\"\n"
     ]
    }
   ],
   "source": [
    "# haven is already loaded\n",
    "\n",
    "# Import the data from the URL: sugar\n",
    "sugar<- read_dta(\"trade.dta\")\n",
    "\n",
    "# Structure of sugar\n",
    "str(sugar)\n",
    "\n",
    "# Convert values in Date column to dates\n",
    "sugar$Date <- as.Date(as_factor(sugar$Date))\n",
    "\n",
    "# Structure of sugar again\n",
    "str(sugar)"
   ]
  },
  {
   "cell_type": "markdown",
   "metadata": {},
   "source": [
    "What does the graphic tell?\n",
    "A plot can be very useful to explore the relationship between two variables. If you pass the plot() function two arguments, the first one will be plotted on the x-axis, the second one will be plotted on the y-axis.\n",
    "\n",
    "The sugar trading data is again available at http://assets.datacamp.com/production/course_1478/datasets/trade.dta.\n",
    "\n",
    "After you've imported the data frame, you should plot two of its variables, Import against Weight_I, and describe their relationship! haven is already loaded in your R session, so you can start importing straight away."
   ]
  },
  {
   "cell_type": "markdown",
   "metadata": {},
   "source": [
    "Import SPSS data with haven\n",
    "The haven package can also import data files from SPSS. Again, importing the data is pretty straightforward. Depending on the SPSS data file you're working with, you'll need either read_sav() - for .sav files - or read_por() - for .por files.\n",
    "\n",
    "In this exercise, you will work with data on four of the Big Five personality traits for 434 persons (Source: University of Bath). The Big Five is a psychological concept including, originally, five dimensions of personality to classify human personality. The SPSS dataset is called person.sav and is available in your working directory."
   ]
  },
  {
   "cell_type": "code",
   "execution_count": 32,
   "metadata": {},
   "outputs": [
    {
     "data": {
      "text/plain": [
       "    Neurotic      Extroversion   Agreeableness   Conscientiousness\n",
       " Min.   : 0.00   Min.   : 5.00   Min.   :15.00   Min.   : 7.00    \n",
       " 1st Qu.:18.00   1st Qu.:26.00   1st Qu.:39.00   1st Qu.:25.00    \n",
       " Median :24.00   Median :31.00   Median :45.00   Median :30.00    \n",
       " Mean   :23.63   Mean   :30.23   Mean   :44.55   Mean   :30.85    \n",
       " 3rd Qu.:29.00   3rd Qu.:34.00   3rd Qu.:50.00   3rd Qu.:36.00    \n",
       " Max.   :44.00   Max.   :65.00   Max.   :73.00   Max.   :58.00    \n",
       " NA's   :14      NA's   :16      NA's   :19      NA's   :14       "
      ]
     },
     "metadata": {},
     "output_type": "display_data"
    },
    {
     "data": {
      "text/html": [
       "<table>\n",
       "<thead><tr><th scope=col>Neurotic</th><th scope=col>Extroversion</th><th scope=col>Agreeableness</th><th scope=col>Conscientiousness</th></tr></thead>\n",
       "<tbody>\n",
       "\t<tr><td>38</td><td>43</td><td>49</td><td>29</td></tr>\n",
       "\t<tr><td>20</td><td>42</td><td>46</td><td>31</td></tr>\n",
       "\t<tr><td>18</td><td>42</td><td>49</td><td>31</td></tr>\n",
       "\t<tr><td>42</td><td>43</td><td>44</td><td>29</td></tr>\n",
       "\t<tr><td>30</td><td>42</td><td>51</td><td>24</td></tr>\n",
       "\t<tr><td>18</td><td>42</td><td>50</td><td>25</td></tr>\n",
       "\t<tr><td>27</td><td>45</td><td>55</td><td>23</td></tr>\n",
       "\t<tr><td>18</td><td>43</td><td>57</td><td>34</td></tr>\n",
       "</tbody>\n",
       "</table>\n"
      ],
      "text/latex": [
       "\\begin{tabular}{r|llll}\n",
       " Neurotic & Extroversion & Agreeableness & Conscientiousness\\\\\n",
       "\\hline\n",
       "\t 38 & 43 & 49 & 29\\\\\n",
       "\t 20 & 42 & 46 & 31\\\\\n",
       "\t 18 & 42 & 49 & 31\\\\\n",
       "\t 42 & 43 & 44 & 29\\\\\n",
       "\t 30 & 42 & 51 & 24\\\\\n",
       "\t 18 & 42 & 50 & 25\\\\\n",
       "\t 27 & 45 & 55 & 23\\\\\n",
       "\t 18 & 43 & 57 & 34\\\\\n",
       "\\end{tabular}\n"
      ],
      "text/markdown": [
       "\n",
       "Neurotic | Extroversion | Agreeableness | Conscientiousness | \n",
       "|---|---|---|---|---|---|---|---|\n",
       "| 38 | 43 | 49 | 29 | \n",
       "| 20 | 42 | 46 | 31 | \n",
       "| 18 | 42 | 49 | 31 | \n",
       "| 42 | 43 | 44 | 29 | \n",
       "| 30 | 42 | 51 | 24 | \n",
       "| 18 | 42 | 50 | 25 | \n",
       "| 27 | 45 | 55 | 23 | \n",
       "| 18 | 43 | 57 | 34 | \n",
       "\n",
       "\n"
      ],
      "text/plain": [
       "  Neurotic Extroversion Agreeableness Conscientiousness\n",
       "1 38       43           49            29               \n",
       "2 20       42           46            31               \n",
       "3 18       42           49            31               \n",
       "4 42       43           44            29               \n",
       "5 30       42           51            24               \n",
       "6 18       42           50            25               \n",
       "7 27       45           55            23               \n",
       "8 18       43           57            34               "
      ]
     },
     "metadata": {},
     "output_type": "display_data"
    }
   ],
   "source": [
    "# haven is already loaded\n",
    "\n",
    "# Import person.sav: traits\n",
    "traits <- read_sav(\"person.sav\")\n",
    "\n",
    "# Summarize traits\n",
    "summary(traits)\n",
    "\n",
    "# Print out a subset\n",
    "subset(traits, subset=(Extroversion>40 & Agreeableness >40))"
   ]
  },
  {
   "cell_type": "markdown",
   "metadata": {},
   "source": [
    "Factorize, round two\n",
    "In the last exercise you learned how to import a data file using the command read_sav(). With SPSS data files, it can also happen that some of the variables you import have the labelled class. This is done to keep all the labelling information that was originally present in the .sav and .por files. It's advised to coerce (or change) these variables to factors or other standard R classes.\n",
    "\n",
    "The data for this exercise involves information on employees and their demographic and economic attributes (Source: QRiE). The data can be found on the following URL:\n",
    "\n",
    "http://s3.amazonaws.com/assets.datacamp.com/production/course_1478/datasets/employee.sav"
   ]
  },
  {
   "cell_type": "code",
   "execution_count": 34,
   "metadata": {},
   "outputs": [
    {
     "data": {
      "text/plain": [
       "   Length     Class      Mode \n",
       "      474  labelled character "
      ]
     },
     "metadata": {},
     "output_type": "display_data"
    },
    {
     "data": {
      "text/html": [
       "<dl class=dl-horizontal>\n",
       "\t<dt>Female</dt>\n",
       "\t\t<dd>216</dd>\n",
       "\t<dt>Male</dt>\n",
       "\t\t<dd>258</dd>\n",
       "</dl>\n"
      ],
      "text/latex": [
       "\\begin{description*}\n",
       "\\item[Female] 216\n",
       "\\item[Male] 258\n",
       "\\end{description*}\n"
      ],
      "text/markdown": [
       "Female\n",
       ":   216Male\n",
       ":   258\n",
       "\n"
      ],
      "text/plain": [
       "Female   Male \n",
       "   216    258 "
      ]
     },
     "metadata": {},
     "output_type": "display_data"
    }
   ],
   "source": [
    "# Import SPSS data from the URL: work\n",
    "work <- read_sav(\"http://s3.amazonaws.com/assets.datacamp.com/production/course_1478/datasets/employee.sav\")\n",
    "\n",
    "# Display summary of work$GENDER\n",
    "summary(work$GENDER)\n",
    "\n",
    "\n",
    "# Convert work$GENDER to a factor\n",
    "work$GENDER <- as_factor(work$GENDER)\n",
    "\n",
    "\n",
    "# Display summary of work$GENDER again\n",
    "summary(work$GENDER)"
   ]
  },
  {
   "cell_type": "markdown",
   "metadata": {},
   "source": [
    "Import STATA data with foreign (1)\n",
    "The foreign package offers a simple function to import and read STATA data: read.dta().\n",
    "\n",
    "In this exercise, you will import data on the US presidential elections in the year 2000. The data in florida.dta contains the total numbers of votes for each of the four candidates as well as the total number of votes per election area in the state of Florida (Source: Florida Department of State). The file is available in your working directory, you can download it here if you want to experiment some more."
   ]
  },
  {
   "cell_type": "code",
   "execution_count": 35,
   "metadata": {},
   "outputs": [
    {
     "data": {
      "text/html": [
       "<table>\n",
       "<thead><tr><th></th><th scope=col>gore</th><th scope=col>bush</th><th scope=col>buchanan</th><th scope=col>nader</th><th scope=col>total</th></tr></thead>\n",
       "<tbody>\n",
       "\t<tr><th scope=row>62</th><td> 2647 </td><td> 4051 </td><td> 27   </td><td>  59  </td><td>  6784</td></tr>\n",
       "\t<tr><th scope=row>63</th><td> 1399 </td><td> 2326 </td><td> 26   </td><td>  29  </td><td>  3780</td></tr>\n",
       "\t<tr><th scope=row>64</th><td>97063 </td><td>82214 </td><td>396   </td><td>2436  </td><td>182109</td></tr>\n",
       "\t<tr><th scope=row>65</th><td> 3835 </td><td> 4511 </td><td> 46   </td><td> 149  </td><td>  8541</td></tr>\n",
       "\t<tr><th scope=row>66</th><td> 5637 </td><td>12176 </td><td>120   </td><td> 265  </td><td> 18198</td></tr>\n",
       "\t<tr><th scope=row>67</th><td> 2796 </td><td> 4983 </td><td> 88   </td><td>  93  </td><td>  7960</td></tr>\n",
       "</tbody>\n",
       "</table>\n"
      ],
      "text/latex": [
       "\\begin{tabular}{r|lllll}\n",
       "  & gore & bush & buchanan & nader & total\\\\\n",
       "\\hline\n",
       "\t62 &  2647  &  4051  &  27    &   59   &   6784\\\\\n",
       "\t63 &  1399  &  2326  &  26    &   29   &   3780\\\\\n",
       "\t64 & 97063  & 82214  & 396    & 2436   & 182109\\\\\n",
       "\t65 &  3835  &  4511  &  46    &  149   &   8541\\\\\n",
       "\t66 &  5637  & 12176  & 120    &  265   &  18198\\\\\n",
       "\t67 &  2796  &  4983  &  88    &   93   &   7960\\\\\n",
       "\\end{tabular}\n"
      ],
      "text/markdown": [
       "\n",
       "| <!--/--> | gore | bush | buchanan | nader | total | \n",
       "|---|---|---|---|---|---|\n",
       "| 62 |  2647  |  4051  |  27    |   59   |   6784 | \n",
       "| 63 |  1399  |  2326  |  26    |   29   |   3780 | \n",
       "| 64 | 97063  | 82214  | 396    | 2436   | 182109 | \n",
       "| 65 |  3835  |  4511  |  46    |  149   |   8541 | \n",
       "| 66 |  5637  | 12176  | 120    |  265   |  18198 | \n",
       "| 67 |  2796  |  4983  |  88    |   93   |   7960 | \n",
       "\n",
       "\n"
      ],
      "text/plain": [
       "   gore  bush  buchanan nader total \n",
       "62  2647  4051  27        59    6784\n",
       "63  1399  2326  26        29    3780\n",
       "64 97063 82214 396      2436  182109\n",
       "65  3835  4511  46       149    8541\n",
       "66  5637 12176 120       265   18198\n",
       "67  2796  4983  88        93    7960"
      ]
     },
     "metadata": {},
     "output_type": "display_data"
    }
   ],
   "source": [
    "# Load the foreign package\n",
    "library(foreign)\n",
    "\n",
    "# Import florida.dta and name the resulting data frame florida\n",
    "florida <- read.dta(\"florida.dta\")\n",
    "\n",
    "# Check tail() of florida\n",
    "tail(florida)"
   ]
  },
  {
   "cell_type": "markdown",
   "metadata": {},
   "source": [
    "Import STATA data with foreign (2)\n",
    "Data can be very diverse, going from character vectors to categorical variables, dates and more. It's in these cases that the additional arguments of read.dta() will come in handy.\n",
    "\n",
    "The arguments you will use most often are convert.dates, convert.factors, missing.type and convert.underscore. Their meaning is pretty straightforward, as Filip explained in the video. It's all about correctly converting STATA data to standard R data structures. Type ?read.dta to find out about about the default values.\n",
    "\n",
    "The dataset for this exercise contains socio-economic measures and access to education for different individuals (Source: World Bank). This data is available as edequality.dta, which is located in the worldbank folder in your working directory."
   ]
  },
  {
   "cell_type": "code",
   "execution_count": 39,
   "metadata": {},
   "outputs": [
    {
     "name": "stdout",
     "output_type": "stream",
     "text": [
      "'data.frame':\t12214 obs. of  27 variables:\n",
      " $ hhid              : num  1 1 1 2 2 3 4 4 5 6 ...\n",
      " $ hhweight          : num  627 627 627 627 627 ...\n",
      " $ location          : Factor w/ 2 levels \"urban location\",..: 1 1 1 1 1 2 2 2 1 1 ...\n",
      " $ region            : Factor w/ 9 levels \"Sofia city\",\"Bourgass\",..: 8 8 8 9 9 4 4 4 8 8 ...\n",
      " $ ethnicity_head    : Factor w/ 4 levels \"Bulgaria\",\"Turks\",..: 2 2 2 1 1 1 1 1 1 1 ...\n",
      " $ age               : num  37 11 8 73 70 75 79 80 82 83 ...\n",
      " $ gender            : Factor w/ 2 levels \"male\",\"female\": 2 2 1 1 2 1 1 2 2 2 ...\n",
      " $ relation          : Factor w/ 9 levels \"head                      \",..: 1 3 3 1 2 1 1 2 1 1 ...\n",
      " $ literate          : Factor w/ 2 levels \"no\",\"yes\": 1 2 2 2 2 2 2 2 2 2 ...\n",
      " $ income_mnt        : num  13.3 13.3 13.3 142.5 142.5 ...\n",
      " $ income            : num  160 160 160 1710 1710 ...\n",
      " $ aggregate         : num  1042 1042 1042 3271 3271 ...\n",
      " $ aggr_ind_annual   : num  347 347 347 1635 1635 ...\n",
      " $ educ_completed    : int  2 4 4 4 3 3 3 3 4 4 ...\n",
      " $ grade_complete    : num  4 3 0 3 4 4 4 4 5 5 ...\n",
      " $ grade_all         : num  4 11 8 11 8 8 8 8 13 13 ...\n",
      " $ unemployed        : int  2 1 1 1 1 1 1 1 1 1 ...\n",
      " $ reason_OLF        : int  NA NA NA 3 3 3 9 9 3 3 ...\n",
      " $ sector            : int  NA NA NA NA NA NA 1 1 NA NA ...\n",
      " $ occupation        : int  NA NA NA NA NA NA 5 5 NA NA ...\n",
      " $ earn_mont         : num  0 0 0 0 0 0 20 20 0 0 ...\n",
      " $ earn_ann          : num  0 0 0 0 0 0 240 240 0 0 ...\n",
      " $ hours_week        : num  NA NA NA NA NA NA 30 35 NA NA ...\n",
      " $ hours_mnt         : num  NA NA NA NA NA ...\n",
      " $ fulltime          : int  NA NA NA NA NA NA 1 1 NA NA ...\n",
      " $ hhexp             : num  100 100 100 343 343 ...\n",
      " $ legacy_pension_amt: num  NA NA NA NA NA NA NA NA NA NA ...\n",
      " - attr(*, \"datalabel\")= chr \"\"\n",
      " - attr(*, \"time.stamp\")= chr \"\"\n",
      " - attr(*, \"formats\")= chr  \"%9.0g\" \"%9.0g\" \"%9.0g\" \"%9.0g\" ...\n",
      " - attr(*, \"types\")= int  100 100 108 108 108 100 108 108 108 100 ...\n",
      " - attr(*, \"val.labels\")= chr  \"\" \"\" \"location\" \"region\" ...\n",
      " - attr(*, \"var.labels\")= chr  \"hhid\" \"hhweight\" \"location\" \"region\" ...\n",
      " - attr(*, \"expansion.fields\")=List of 12\n",
      "  ..$ : chr  \"_dta\" \"_svy_su1\" \"cluster\"\n",
      "  ..$ : chr  \"_dta\" \"_svy_strata1\" \"strata\"\n",
      "  ..$ : chr  \"_dta\" \"_svy_stages\" \"1\"\n",
      "  ..$ : chr  \"_dta\" \"_svy_version\" \"2\"\n",
      "  ..$ : chr  \"_dta\" \"__XijVarLabcons\" \"(sum) cons\"\n",
      "  ..$ : chr  \"_dta\" \"ReS_Xij\" \"cons\"\n",
      "  ..$ : chr  \"_dta\" \"ReS_str\" \"0\"\n",
      "  ..$ : chr  \"_dta\" \"ReS_j\" \"group\"\n",
      "  ..$ : chr  \"_dta\" \"ReS_ver\" \"v.2\"\n",
      "  ..$ : chr  \"_dta\" \"ReS_i\" \"hhid dur\"\n",
      "  ..$ : chr  \"_dta\" \"note1\" \"variables g1pc, g2pc, g3pc, g4pc, g5pc, g7pc, g8pc, g9pc, g10pc, g11pc, g12pc,  gall, health, rent, durables we\"| __truncated__\n",
      "  ..$ : chr  \"_dta\" \"note0\" \"1\"\n",
      " - attr(*, \"version\")= int 7\n",
      " - attr(*, \"label.table\")=List of 12\n",
      "  ..$ location: Named int  1 2\n",
      "  .. ..- attr(*, \"names\")= chr  \"urban location\" \"rural location\"\n",
      "  ..$ region  : Named int  1 2 3 4 5 6 7 8 9\n",
      "  .. ..- attr(*, \"names\")= chr  \"Sofia city\" \"Bourgass\" \"Varna\" \"Lovetch\" ...\n",
      "  ..$ ethnic  : Named int  1 2 3 4\n",
      "  .. ..- attr(*, \"names\")= chr  \"Bulgaria\" \"Turks\" \"Roma\" \"Other\"\n",
      "  ..$ s2_q2   : Named int  1 2\n",
      "  .. ..- attr(*, \"names\")= chr  \"male\" \"female\"\n",
      "  ..$ s2_q3   : Named int  1 2 3 4 5 6 7 8 9\n",
      "  .. ..- attr(*, \"names\")= chr  \"head                      \" \"spouse/partner            \" \"child                     \" \"son/daughter-in-law       \" ...\n",
      "  ..$ lit     : Named int  1 2\n",
      "  .. ..- attr(*, \"names\")= chr  \"no\" \"yes\"\n",
      "  ..$         : Named int  1 2 3 4\n",
      "  .. ..- attr(*, \"names\")= chr  \"never attanded\" \"primary\" \"secondary\" \"postsecondary\"\n",
      "  ..$         : Named int  1 2\n",
      "  .. ..- attr(*, \"names\")= chr  \"Not unemployed\" \"Unemployed\"\n",
      "  ..$         : Named int  1 2 3 4 5 6 7 8 9 10\n",
      "  .. ..- attr(*, \"names\")= chr  \"student\" \"housewife/childcare\" \"in retirement\" \"illness, disability\" ...\n",
      "  ..$         : Named int  1 2 3 4 5 6 7 8 9 10\n",
      "  .. ..- attr(*, \"names\")= chr  \"agriculture\" \"mining\" \"manufacturing\" \"utilities\" ...\n",
      "  ..$         : Named int  1 2 3 4 5\n",
      "  .. ..- attr(*, \"names\")= chr  \"private company\" \"public works program\" \"government,public sector, army\" \"private individual\" ...\n",
      "  ..$         : Named int  1 2\n",
      "  .. ..- attr(*, \"names\")= chr  \"no\" \"yes\"\n",
      "'data.frame':\t12214 obs. of  27 variables:\n",
      " $ hhid              : num  1 1 1 2 2 3 4 4 5 6 ...\n",
      " $ hhweight          : num  627 627 627 627 627 ...\n",
      " $ location          : int  1 1 1 1 1 2 2 2 1 1 ...\n",
      " $ region            : int  8 8 8 9 9 4 4 4 8 8 ...\n",
      " $ ethnicity_head    : int  2 2 2 1 1 1 1 1 1 1 ...\n",
      " $ age               : num  37 11 8 73 70 75 79 80 82 83 ...\n",
      " $ gender            : int  2 2 1 1 2 1 1 2 2 2 ...\n",
      " $ relation          : int  1 3 3 1 2 1 1 2 1 1 ...\n",
      " $ literate          : int  1 2 2 2 2 2 2 2 2 2 ...\n",
      " $ income_mnt        : num  13.3 13.3 13.3 142.5 142.5 ...\n",
      " $ income            : num  160 160 160 1710 1710 ...\n",
      " $ aggregate         : num  1042 1042 1042 3271 3271 ...\n",
      " $ aggr_ind_annual   : num  347 347 347 1635 1635 ...\n",
      " $ educ_completed    : int  2 4 4 4 3 3 3 3 4 4 ...\n",
      " $ grade_complete    : num  4 3 0 3 4 4 4 4 5 5 ...\n",
      " $ grade_all         : num  4 11 8 11 8 8 8 8 13 13 ...\n",
      " $ unemployed        : int  2 1 1 1 1 1 1 1 1 1 ...\n",
      " $ reason_OLF        : int  NA NA NA 3 3 3 9 9 3 3 ...\n",
      " $ sector            : int  NA NA NA NA NA NA 1 1 NA NA ...\n",
      " $ occupation        : int  NA NA NA NA NA NA 5 5 NA NA ...\n",
      " $ earn_mont         : num  0 0 0 0 0 0 20 20 0 0 ...\n",
      " $ earn_ann          : num  0 0 0 0 0 0 240 240 0 0 ...\n",
      " $ hours_week        : num  NA NA NA NA NA NA 30 35 NA NA ...\n",
      " $ hours_mnt         : num  NA NA NA NA NA ...\n",
      " $ fulltime          : int  NA NA NA NA NA NA 1 1 NA NA ...\n",
      " $ hhexp             : num  100 100 100 343 343 ...\n",
      " $ legacy_pension_amt: num  NA NA NA NA NA NA NA NA NA NA ...\n",
      " - attr(*, \"datalabel\")= chr \"\"\n",
      " - attr(*, \"time.stamp\")= chr \"\"\n",
      " - attr(*, \"formats\")= chr  \"%9.0g\" \"%9.0g\" \"%9.0g\" \"%9.0g\" ...\n",
      " - attr(*, \"types\")= int  100 100 108 108 108 100 108 108 108 100 ...\n",
      " - attr(*, \"val.labels\")= chr  \"\" \"\" \"location\" \"region\" ...\n",
      " - attr(*, \"var.labels\")= chr  \"hhid\" \"hhweight\" \"location\" \"region\" ...\n",
      " - attr(*, \"expansion.fields\")=List of 12\n",
      "  ..$ : chr  \"_dta\" \"_svy_su1\" \"cluster\"\n",
      "  ..$ : chr  \"_dta\" \"_svy_strata1\" \"strata\"\n",
      "  ..$ : chr  \"_dta\" \"_svy_stages\" \"1\"\n",
      "  ..$ : chr  \"_dta\" \"_svy_version\" \"2\"\n",
      "  ..$ : chr  \"_dta\" \"__XijVarLabcons\" \"(sum) cons\"\n",
      "  ..$ : chr  \"_dta\" \"ReS_Xij\" \"cons\"\n",
      "  ..$ : chr  \"_dta\" \"ReS_str\" \"0\"\n",
      "  ..$ : chr  \"_dta\" \"ReS_j\" \"group\"\n",
      "  ..$ : chr  \"_dta\" \"ReS_ver\" \"v.2\"\n",
      "  ..$ : chr  \"_dta\" \"ReS_i\" \"hhid dur\"\n",
      "  ..$ : chr  \"_dta\" \"note1\" \"variables g1pc, g2pc, g3pc, g4pc, g5pc, g7pc, g8pc, g9pc, g10pc, g11pc, g12pc,  gall, health, rent, durables we\"| __truncated__\n",
      "  ..$ : chr  \"_dta\" \"note0\" \"1\"\n",
      " - attr(*, \"version\")= int 7\n",
      " - attr(*, \"label.table\")=List of 12\n",
      "  ..$ location: Named int  1 2\n",
      "  .. ..- attr(*, \"names\")= chr  \"urban location\" \"rural location\"\n",
      "  ..$ region  : Named int  1 2 3 4 5 6 7 8 9\n",
      "  .. ..- attr(*, \"names\")= chr  \"Sofia city\" \"Bourgass\" \"Varna\" \"Lovetch\" ...\n",
      "  ..$ ethnic  : Named int  1 2 3 4\n",
      "  .. ..- attr(*, \"names\")= chr  \"Bulgaria\" \"Turks\" \"Roma\" \"Other\"\n",
      "  ..$ s2_q2   : Named int  1 2\n",
      "  .. ..- attr(*, \"names\")= chr  \"male\" \"female\"\n",
      "  ..$ s2_q3   : Named int  1 2 3 4 5 6 7 8 9\n",
      "  .. ..- attr(*, \"names\")= chr  \"head                      \" \"spouse/partner            \" \"child                     \" \"son/daughter-in-law       \" ...\n",
      "  ..$ lit     : Named int  1 2\n",
      "  .. ..- attr(*, \"names\")= chr  \"no\" \"yes\"\n",
      "  ..$         : Named int  1 2 3 4\n",
      "  .. ..- attr(*, \"names\")= chr  \"never attanded\" \"primary\" \"secondary\" \"postsecondary\"\n",
      "  ..$         : Named int  1 2\n",
      "  .. ..- attr(*, \"names\")= chr  \"Not unemployed\" \"Unemployed\"\n",
      "  ..$         : Named int  1 2 3 4 5 6 7 8 9 10\n",
      "  .. ..- attr(*, \"names\")= chr  \"student\" \"housewife/childcare\" \"in retirement\" \"illness, disability\" ...\n",
      "  ..$         : Named int  1 2 3 4 5 6 7 8 9 10\n",
      "  .. ..- attr(*, \"names\")= chr  \"agriculture\" \"mining\" \"manufacturing\" \"utilities\" ...\n",
      "  ..$         : Named int  1 2 3 4 5\n",
      "  .. ..- attr(*, \"names\")= chr  \"private company\" \"public works program\" \"government,public sector, army\" \"private individual\" ...\n",
      "  ..$         : Named int  1 2\n",
      "  .. ..- attr(*, \"names\")= chr  \"no\" \"yes\"\n",
      "'data.frame':\t12214 obs. of  27 variables:\n",
      " $ hhid              : num  1 1 1 2 2 3 4 4 5 6 ...\n",
      " $ hhweight          : num  627 627 627 627 627 ...\n",
      " $ location          : Factor w/ 2 levels \"urban location\",..: 1 1 1 1 1 2 2 2 1 1 ...\n",
      " $ region            : Factor w/ 9 levels \"Sofia city\",\"Bourgass\",..: 8 8 8 9 9 4 4 4 8 8 ...\n",
      " $ ethnicity.head    : Factor w/ 4 levels \"Bulgaria\",\"Turks\",..: 2 2 2 1 1 1 1 1 1 1 ...\n",
      " $ age               : num  37 11 8 73 70 75 79 80 82 83 ...\n",
      " $ gender            : Factor w/ 2 levels \"male\",\"female\": 2 2 1 1 2 1 1 2 2 2 ...\n",
      " $ relation          : Factor w/ 9 levels \"head                      \",..: 1 3 3 1 2 1 1 2 1 1 ...\n",
      " $ literate          : Factor w/ 2 levels \"no\",\"yes\": 1 2 2 2 2 2 2 2 2 2 ...\n",
      " $ income.mnt        : num  13.3 13.3 13.3 142.5 142.5 ...\n",
      " $ income            : num  160 160 160 1710 1710 ...\n",
      " $ aggregate         : num  1042 1042 1042 3271 3271 ...\n",
      " $ aggr.ind.annual   : num  347 347 347 1635 1635 ...\n",
      " $ educ.completed    : int  2 4 4 4 3 3 3 3 4 4 ...\n",
      " $ grade.complete    : num  4 3 0 3 4 4 4 4 5 5 ...\n",
      " $ grade.all         : num  4 11 8 11 8 8 8 8 13 13 ...\n",
      " $ unemployed        : int  2 1 1 1 1 1 1 1 1 1 ...\n",
      " $ reason.OLF        : int  NA NA NA 3 3 3 9 9 3 3 ...\n",
      " $ sector            : int  NA NA NA NA NA NA 1 1 NA NA ...\n",
      " $ occupation        : int  NA NA NA NA NA NA 5 5 NA NA ...\n",
      " $ earn.mont         : num  0 0 0 0 0 0 20 20 0 0 ...\n",
      " $ earn.ann          : num  0 0 0 0 0 0 240 240 0 0 ...\n",
      " $ hours.week        : num  NA NA NA NA NA NA 30 35 NA NA ...\n",
      " $ hours.mnt         : num  NA NA NA NA NA ...\n",
      " $ fulltime          : int  NA NA NA NA NA NA 1 1 NA NA ...\n",
      " $ hhexp             : num  100 100 100 343 343 ...\n",
      " $ legacy.pension.amt: num  NA NA NA NA NA NA NA NA NA NA ...\n",
      " - attr(*, \"datalabel\")= chr \"\"\n",
      " - attr(*, \"time.stamp\")= chr \"\"\n",
      " - attr(*, \"formats\")= chr  \"%9.0g\" \"%9.0g\" \"%9.0g\" \"%9.0g\" ...\n",
      " - attr(*, \"types\")= int  100 100 108 108 108 100 108 108 108 100 ...\n",
      " - attr(*, \"val.labels\")= chr  \"\" \"\" \"location\" \"region\" ...\n",
      " - attr(*, \"var.labels\")= chr  \"hhid\" \"hhweight\" \"location\" \"region\" ...\n",
      " - attr(*, \"expansion.fields\")=List of 12\n",
      "  ..$ : chr  \"_dta\" \"_svy_su1\" \"cluster\"\n",
      "  ..$ : chr  \"_dta\" \"_svy_strata1\" \"strata\"\n",
      "  ..$ : chr  \"_dta\" \"_svy_stages\" \"1\"\n",
      "  ..$ : chr  \"_dta\" \"_svy_version\" \"2\"\n",
      "  ..$ : chr  \"_dta\" \"__XijVarLabcons\" \"(sum) cons\"\n",
      "  ..$ : chr  \"_dta\" \"ReS_Xij\" \"cons\"\n",
      "  ..$ : chr  \"_dta\" \"ReS_str\" \"0\"\n",
      "  ..$ : chr  \"_dta\" \"ReS_j\" \"group\"\n",
      "  ..$ : chr  \"_dta\" \"ReS_ver\" \"v.2\"\n",
      "  ..$ : chr  \"_dta\" \"ReS_i\" \"hhid dur\"\n",
      "  ..$ : chr  \"_dta\" \"note1\" \"variables g1pc, g2pc, g3pc, g4pc, g5pc, g7pc, g8pc, g9pc, g10pc, g11pc, g12pc,  gall, health, rent, durables we\"| __truncated__\n",
      "  ..$ : chr  \"_dta\" \"note0\" \"1\"\n",
      " - attr(*, \"version\")= int 7\n",
      " - attr(*, \"label.table\")=List of 12\n",
      "  ..$ location: Named int  1 2\n",
      "  .. ..- attr(*, \"names\")= chr  \"urban location\" \"rural location\"\n",
      "  ..$ region  : Named int  1 2 3 4 5 6 7 8 9\n",
      "  .. ..- attr(*, \"names\")= chr  \"Sofia city\" \"Bourgass\" \"Varna\" \"Lovetch\" ...\n",
      "  ..$ ethnic  : Named int  1 2 3 4\n",
      "  .. ..- attr(*, \"names\")= chr  \"Bulgaria\" \"Turks\" \"Roma\" \"Other\"\n",
      "  ..$ s2_q2   : Named int  1 2\n",
      "  .. ..- attr(*, \"names\")= chr  \"male\" \"female\"\n",
      "  ..$ s2_q3   : Named int  1 2 3 4 5 6 7 8 9\n",
      "  .. ..- attr(*, \"names\")= chr  \"head                      \" \"spouse/partner            \" \"child                     \" \"son/daughter-in-law       \" ...\n",
      "  ..$ lit     : Named int  1 2\n",
      "  .. ..- attr(*, \"names\")= chr  \"no\" \"yes\"\n",
      "  ..$         : Named int  1 2 3 4\n",
      "  .. ..- attr(*, \"names\")= chr  \"never attanded\" \"primary\" \"secondary\" \"postsecondary\"\n",
      "  ..$         : Named int  1 2\n",
      "  .. ..- attr(*, \"names\")= chr  \"Not unemployed\" \"Unemployed\"\n",
      "  ..$         : Named int  1 2 3 4 5 6 7 8 9 10\n",
      "  .. ..- attr(*, \"names\")= chr  \"student\" \"housewife/childcare\" \"in retirement\" \"illness, disability\" ...\n",
      "  ..$         : Named int  1 2 3 4 5 6 7 8 9 10\n",
      "  .. ..- attr(*, \"names\")= chr  \"agriculture\" \"mining\" \"manufacturing\" \"utilities\" ...\n",
      "  ..$         : Named int  1 2 3 4 5\n",
      "  .. ..- attr(*, \"names\")= chr  \"private company\" \"public works program\" \"government,public sector, army\" \"private individual\" ...\n",
      "  ..$         : Named int  1 2\n",
      "  .. ..- attr(*, \"names\")= chr  \"no\" \"yes\"\n"
     ]
    }
   ],
   "source": [
    "# foreign is already loaded\n",
    "\n",
    "# Specify the file path using file.path(): path\n",
    "path <- file.path(\"edequality.dta\")\n",
    "\n",
    "# Create and print structure of edu_equal_1\n",
    "edu_equal_1 <- read.dta(path)\n",
    "str(edu_equal_1)\n",
    "\n",
    "# Create and print structure of edu_equal_2\n",
    "edu_equal_2 <- read.dta(path, convert.factors=FALSE)\n",
    "str(edu_equal_2)\n",
    "\n",
    "# Create and print structure of edu_equal_3\n",
    "edu_equal_3 <- read.dta(path, convert.underscore = TRUE)\n",
    "str(edu_equal_3)"
   ]
  },
  {
   "cell_type": "markdown",
   "metadata": {},
   "source": [
    "Import SPSS data with foreign (1)\n",
    "All great things come in pairs. Where foreign provided read.dta() to read Stata data, there's also read.spss() to read SPSS data files. To get a data frame, make sure to set to.data.frame = TRUE inside read.spss().\n",
    "\n",
    "In this exercise, you'll be working with socio-economic variables from different countries (Source: Quantative Data Analysis in Education). The SPSS data is in a file called international.sav, which is in your working directory. You can also download it here if you want to play around with it some more."
   ]
  },
  {
   "cell_type": "code",
   "execution_count": 40,
   "metadata": {},
   "outputs": [
    {
     "name": "stderr",
     "output_type": "stream",
     "text": [
      "re-encoding from CP1252\n"
     ]
    },
    {
     "data": {
      "image/png": "[encoded data removed]",
      "text/plain": [
       "plot without title"
      ]
     },
     "metadata": {},
     "output_type": "display_data"
    }
   ],
   "source": [
    "# foreign is already loaded\n",
    "\n",
    "# Import international.sav as a data frame: demo\n",
    "demo <- read.spss(\"international.sav\", to.data.frame =TRUE)\n",
    "\n",
    "# Create boxplot of gdp variable of demo\n",
    "boxplot(demo$gdp)"
   ]
  },
  {
   "cell_type": "markdown",
   "metadata": {},
   "source": [
    "mport SPSS data with foreign (2)\n",
    "In the previous exercise, you used the to.data.frame argument inside read.spss(). There are many other ways in which to customize the way your SPSS data is imported.\n",
    "\n",
    "In this exercise you will experiment with another argument, use.value.labels. It specifies whether variables with value labels should be converted into R factors with levels that are named accordingly. The argument is TRUE by default which means that so called labelled variables inside SPSS are converted to factors inside R.\n",
    "\n",
    "You'll again be working with the international.sav data, which is available in your current working directory."
   ]
  },
  {
   "cell_type": "code",
   "execution_count": 41,
   "metadata": {},
   "outputs": [
    {
     "name": "stderr",
     "output_type": "stream",
     "text": [
      "re-encoding from CP1252\n"
     ]
    },
    {
     "data": {
      "text/html": [
       "<table>\n",
       "<thead><tr><th scope=col>id</th><th scope=col>country</th><th scope=col>contint</th><th scope=col>m_illit</th><th scope=col>f_illit</th><th scope=col>lifeexpt</th><th scope=col>gdp</th></tr></thead>\n",
       "<tbody>\n",
       "\t<tr><td>1                   </td><td>Argentina           </td><td>Americas            </td><td> 3.0                </td><td> 3.0                </td><td>16                  </td><td>3375                </td></tr>\n",
       "\t<tr><td>2                   </td><td>Benin               </td><td>Africa              </td><td>45.2                </td><td>74.5                </td><td> 7                  </td><td> 521                </td></tr>\n",
       "\t<tr><td>3                   </td><td>Burundi             </td><td>Africa              </td><td>33.2                </td><td>48.1                </td><td> 5                  </td><td>  86                </td></tr>\n",
       "\t<tr><td>4                   </td><td>Chile               </td><td>Americas            </td><td> 4.2                </td><td> 4.4                </td><td>14                  </td><td>4523                </td></tr>\n",
       "\t<tr><td>5                   </td><td>Dominican Republic  </td><td>Americas            </td><td>12.0                </td><td>12.7                </td><td>12                  </td><td>2408                </td></tr>\n",
       "\t<tr><td>6                   </td><td>El Salvador         </td><td>Americas            </td><td>17.6                </td><td>22.9                </td><td>11                  </td><td>2302                </td></tr>\n",
       "</tbody>\n",
       "</table>\n"
      ],
      "text/latex": [
       "\\begin{tabular}{r|lllllll}\n",
       " id & country & contint & m\\_illit & f\\_illit & lifeexpt & gdp\\\\\n",
       "\\hline\n",
       "\t 1                    & Argentina            & Americas             &  3.0                 &  3.0                 & 16                   & 3375                \\\\\n",
       "\t 2                    & Benin                & Africa               & 45.2                 & 74.5                 &  7                   &  521                \\\\\n",
       "\t 3                    & Burundi              & Africa               & 33.2                 & 48.1                 &  5                   &   86                \\\\\n",
       "\t 4                    & Chile                & Americas             &  4.2                 &  4.4                 & 14                   & 4523                \\\\\n",
       "\t 5                    & Dominican Republic   & Americas             & 12.0                 & 12.7                 & 12                   & 2408                \\\\\n",
       "\t 6                    & El Salvador          & Americas             & 17.6                 & 22.9                 & 11                   & 2302                \\\\\n",
       "\\end{tabular}\n"
      ],
      "text/markdown": [
       "\n",
       "id | country | contint | m_illit | f_illit | lifeexpt | gdp | \n",
       "|---|---|---|---|---|---|\n",
       "| 1                    | Argentina            | Americas             |  3.0                 |  3.0                 | 16                   | 3375                 | \n",
       "| 2                    | Benin                | Africa               | 45.2                 | 74.5                 |  7                   |  521                 | \n",
       "| 3                    | Burundi              | Africa               | 33.2                 | 48.1                 |  5                   |   86                 | \n",
       "| 4                    | Chile                | Americas             |  4.2                 |  4.4                 | 14                   | 4523                 | \n",
       "| 5                    | Dominican Republic   | Americas             | 12.0                 | 12.7                 | 12                   | 2408                 | \n",
       "| 6                    | El Salvador          | Americas             | 17.6                 | 22.9                 | 11                   | 2302                 | \n",
       "\n",
       "\n"
      ],
      "text/plain": [
       "  id country              contint  m_illit f_illit lifeexpt gdp \n",
       "1 1  Argentina            Americas  3.0     3.0    16       3375\n",
       "2 2  Benin                Africa   45.2    74.5     7        521\n",
       "3 3  Burundi              Africa   33.2    48.1     5         86\n",
       "4 4  Chile                Americas  4.2     4.4    14       4523\n",
       "5 5  Dominican Republic   Americas 12.0    12.7    12       2408\n",
       "6 6  El Salvador          Americas 17.6    22.9    11       2302"
      ]
     },
     "metadata": {},
     "output_type": "display_data"
    },
    {
     "name": "stderr",
     "output_type": "stream",
     "text": [
      "re-encoding from CP1252\n"
     ]
    },
    {
     "data": {
      "text/html": [
       "<table>\n",
       "<thead><tr><th scope=col>id</th><th scope=col>country</th><th scope=col>contint</th><th scope=col>m_illit</th><th scope=col>f_illit</th><th scope=col>lifeexpt</th><th scope=col>gdp</th></tr></thead>\n",
       "<tbody>\n",
       "\t<tr><td>1                   </td><td>Argentina           </td><td>2                   </td><td> 3.0                </td><td> 3.0                </td><td>16                  </td><td>3375                </td></tr>\n",
       "\t<tr><td>2                   </td><td>Benin               </td><td>1                   </td><td>45.2                </td><td>74.5                </td><td> 7                  </td><td> 521                </td></tr>\n",
       "\t<tr><td>3                   </td><td>Burundi             </td><td>1                   </td><td>33.2                </td><td>48.1                </td><td> 5                  </td><td>  86                </td></tr>\n",
       "\t<tr><td>4                   </td><td>Chile               </td><td>2                   </td><td> 4.2                </td><td> 4.4                </td><td>14                  </td><td>4523                </td></tr>\n",
       "\t<tr><td>5                   </td><td>Dominican Republic  </td><td>2                   </td><td>12.0                </td><td>12.7                </td><td>12                  </td><td>2408                </td></tr>\n",
       "\t<tr><td>6                   </td><td>El Salvador         </td><td>2                   </td><td>17.6                </td><td>22.9                </td><td>11                  </td><td>2302                </td></tr>\n",
       "</tbody>\n",
       "</table>\n"
      ],
      "text/latex": [
       "\\begin{tabular}{r|lllllll}\n",
       " id & country & contint & m\\_illit & f\\_illit & lifeexpt & gdp\\\\\n",
       "\\hline\n",
       "\t 1                    & Argentina            & 2                    &  3.0                 &  3.0                 & 16                   & 3375                \\\\\n",
       "\t 2                    & Benin                & 1                    & 45.2                 & 74.5                 &  7                   &  521                \\\\\n",
       "\t 3                    & Burundi              & 1                    & 33.2                 & 48.1                 &  5                   &   86                \\\\\n",
       "\t 4                    & Chile                & 2                    &  4.2                 &  4.4                 & 14                   & 4523                \\\\\n",
       "\t 5                    & Dominican Republic   & 2                    & 12.0                 & 12.7                 & 12                   & 2408                \\\\\n",
       "\t 6                    & El Salvador          & 2                    & 17.6                 & 22.9                 & 11                   & 2302                \\\\\n",
       "\\end{tabular}\n"
      ],
      "text/markdown": [
       "\n",
       "id | country | contint | m_illit | f_illit | lifeexpt | gdp | \n",
       "|---|---|---|---|---|---|\n",
       "| 1                    | Argentina            | 2                    |  3.0                 |  3.0                 | 16                   | 3375                 | \n",
       "| 2                    | Benin                | 1                    | 45.2                 | 74.5                 |  7                   |  521                 | \n",
       "| 3                    | Burundi              | 1                    | 33.2                 | 48.1                 |  5                   |   86                 | \n",
       "| 4                    | Chile                | 2                    |  4.2                 |  4.4                 | 14                   | 4523                 | \n",
       "| 5                    | Dominican Republic   | 2                    | 12.0                 | 12.7                 | 12                   | 2408                 | \n",
       "| 6                    | El Salvador          | 2                    | 17.6                 | 22.9                 | 11                   | 2302                 | \n",
       "\n",
       "\n"
      ],
      "text/plain": [
       "  id country              contint m_illit f_illit lifeexpt gdp \n",
       "1 1  Argentina            2        3.0     3.0    16       3375\n",
       "2 2  Benin                1       45.2    74.5     7        521\n",
       "3 3  Burundi              1       33.2    48.1     5         86\n",
       "4 4  Chile                2        4.2     4.4    14       4523\n",
       "5 5  Dominican Republic   2       12.0    12.7    12       2408\n",
       "6 6  El Salvador          2       17.6    22.9    11       2302"
      ]
     },
     "metadata": {},
     "output_type": "display_data"
    }
   ],
   "source": [
    "# foreign is already loaded\n",
    "\n",
    "# Import international.sav as demo_1\n",
    "demo_1 <- read.spss(\"international.sav\", to.data.frame=TRUE)\n",
    "\n",
    "# Print out the head of demo_1\n",
    "head(demo_1)\n",
    "\n",
    "# Import international.sav as demo_2\n",
    "demo_2 <- read.spss(\"international.sav\", to.data.frame=TRUE,use.value.labels=FALSE)\n",
    "\n",
    "# Print out the head of demo_2\n",
    "head(demo_2)"
   ]
  },
  {
   "cell_type": "code",
   "execution_count": null,
   "metadata": {
    "collapsed": true
   },
   "outputs": [],
   "source": []
  }
 ],
 "metadata": {
  "kernelspec": {
   "display_name": "R",
   "language": "R",
   "name": "ir"
  },
  "language_info": {
   "codemirror_mode": "r",
   "file_extension": ".r",
   "mimetype": "text/x-r-source",
   "name": "R",
   "pygments_lexer": "r",
   "version": "3.4.1"
  }
 },
 "nbformat": 4,
 "nbformat_minor": 2
}
