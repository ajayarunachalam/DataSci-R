{
 "cells": [
  {
   "cell_type": "markdown",
   "metadata": {},
   "source": [
    "The utils package, which is automatically loaded in your R session on startup, can import CSV files with the read.csv() function.\n",
    "\n",
    "In this exercise, you'll be working with swimming_pools.csv; it contains data on swimming pools in Brisbane, Australia (Source: data.gov.au). The file contains the column names in the first row. It uses a comma to separate values within rows.\n",
    "\n",
    "Type dir() in the console to list the files in your working directory. You'll see that it contains swimming_pools.csv, so you can start straight away."
   ]
  },
  {
   "cell_type": "code",
   "execution_count": 4,
   "metadata": {},
   "outputs": [
    {
     "data": {
      "text/html": [
       "<ol class=list-inline>\n",
       "\t<li>'Cleaning Data in R - part 1.ipynb'</li>\n",
       "\t<li>'hotdogs.txt'</li>\n",
       "\t<li>'potatoes.csv'</li>\n",
       "\t<li>'potatoes.txt'</li>\n",
       "\t<li>'swimming_pools.csv'</li>\n",
       "\t<li>'urbanpop.xls'</li>\n",
       "\t<li>'urbanpop.xlsx'</li>\n",
       "</ol>\n"
      ],
      "text/latex": [
       "\\begin{enumerate*}\n",
       "\\item 'Cleaning Data in R - part 1.ipynb'\n",
       "\\item 'hotdogs.txt'\n",
       "\\item 'potatoes.csv'\n",
       "\\item 'potatoes.txt'\n",
       "\\item 'swimming\\_pools.csv'\n",
       "\\item 'urbanpop.xls'\n",
       "\\item 'urbanpop.xlsx'\n",
       "\\end{enumerate*}\n"
      ],
      "text/markdown": [
       "1. 'Cleaning Data in R - part 1.ipynb'\n",
       "2. 'hotdogs.txt'\n",
       "3. 'potatoes.csv'\n",
       "4. 'potatoes.txt'\n",
       "5. 'swimming_pools.csv'\n",
       "6. 'urbanpop.xls'\n",
       "7. 'urbanpop.xlsx'\n",
       "\n",
       "\n"
      ],
      "text/plain": [
       "[1] \"Cleaning Data in R - part 1.ipynb\" \"hotdogs.txt\"                      \n",
       "[3] \"potatoes.csv\"                      \"potatoes.txt\"                     \n",
       "[5] \"swimming_pools.csv\"                \"urbanpop.xls\"                     \n",
       "[7] \"urbanpop.xlsx\"                    "
      ]
     },
     "metadata": {},
     "output_type": "display_data"
    }
   ],
   "source": [
    "dir()\n"
   ]
  },
  {
   "cell_type": "code",
   "execution_count": 2,
   "metadata": {},
   "outputs": [
    {
     "name": "stdout",
     "output_type": "stream",
     "text": [
      "'data.frame':\t20 obs. of  4 variables:\n",
      " $ Name     : Factor w/ 20 levels \"Acacia Ridge Leisure Centre\",..: 1 2 3 4 5 6 19 7 8 9 ...\n",
      " $ Address  : Factor w/ 20 levels \"1 Fairlead Crescent, Manly\",..: 5 20 18 10 9 11 6 15 12 17 ...\n",
      " $ Latitude : num  -27.6 -27.6 -27.6 -27.5 -27.4 ...\n",
      " $ Longitude: num  153 153 153 153 153 ...\n"
     ]
    }
   ],
   "source": [
    "# Import swimming_pools.csv: pools\n",
    "pools <- read.csv(\"swimming_pools.csv\")\n",
    "\n",
    "# Print the structure of pools\n",
    "str(pools)"
   ]
  },
  {
   "cell_type": "markdown",
   "metadata": {},
   "source": [
    "With stringsAsFactors, you can tell R whether it should convert strings in the flat file to factors.\n",
    "\n",
    "For all importing functions in the utils package, this argument is TRUE, which means that you import strings as factors. This only makes sense if the strings you import represent categorical variables in R. If you set stringsAsFactors to FALSE, the data frame columns corresponding to strings in your text file will be character.\n",
    "\n",
    "You'll again be working with the swimming_pools.csv file. It contains two columns (Name and Address), which shouldn't be factors."
   ]
  },
  {
   "cell_type": "code",
   "execution_count": 3,
   "metadata": {},
   "outputs": [
    {
     "name": "stdout",
     "output_type": "stream",
     "text": [
      "'data.frame':\t20 obs. of  4 variables:\n",
      " $ Name     : chr  \"Acacia Ridge Leisure Centre\" \"Bellbowrie Pool\" \"Carole Park\" \"Centenary Pool (inner City)\" ...\n",
      " $ Address  : chr  \"1391 Beaudesert Road, Acacia Ridge\" \"Sugarwood Street, Bellbowrie\" \"Cnr Boundary Road and Waterford Road Wacol\" \"400 Gregory Terrace, Spring Hill\" ...\n",
      " $ Latitude : num  -27.6 -27.6 -27.6 -27.5 -27.4 ...\n",
      " $ Longitude: num  153 153 153 153 153 ...\n"
     ]
    }
   ],
   "source": [
    "# Import swimming_pools.csv correctly: pools\n",
    "pools <- read.csv(\"swimming_pools.csv\", stringsAsFactors = FALSE)\n",
    "\n",
    "# Check the structure of pools\n",
    "str(pools)"
   ]
  },
  {
   "cell_type": "markdown",
   "metadata": {},
   "source": [
    "Aside from .csv files, there are also the .txt files which are basically text files. You can import these functions with read.delim(). By default, it sets the sep argument to \"\\t\" (fields in a record are delimited by tabs) and the header argument to TRUE (the first row contains the field names).\n",
    "\n",
    "In this exercise, you will import hotdogs.txt, containing information on sodium and calorie levels in different hotdogs (Source: UCLA). The dataset has 3 variables, but the variable names are not available in the first line of the file. The file uses tabs as field separators."
   ]
  },
  {
   "cell_type": "code",
   "execution_count": 5,
   "metadata": {},
   "outputs": [
    {
     "data": {
      "text/plain": [
       "       V1           V2              V3       \n",
       " Beef   :20   Min.   : 86.0   Min.   :144.0  \n",
       " Meat   :17   1st Qu.:132.0   1st Qu.:362.5  \n",
       " Poultry:17   Median :145.0   Median :405.0  \n",
       "              Mean   :145.4   Mean   :424.8  \n",
       "              3rd Qu.:172.8   3rd Qu.:503.5  \n",
       "              Max.   :195.0   Max.   :645.0  "
      ]
     },
     "metadata": {},
     "output_type": "display_data"
    }
   ],
   "source": [
    "# Import hotdogs.txt: hotdogs\n",
    "hotdogs <- read.delim(\"hotdogs.txt\", header=FALSE)\n",
    "\n",
    "# Summarize hotdogs\n",
    "summary(hotdogs)"
   ]
  },
  {
   "cell_type": "markdown",
   "metadata": {},
   "source": [
    "If you're dealing with more exotic flat file formats, you'll want to use read.table(). It's the most basic importing function; you can specify tons of different arguments in this function. Unlike read.csv() and read.delim(), the header argument defaults to FALSE and the sep argument is \"\" by default.\n",
    "\n",
    "Up to you again! The data is still hotdogs.txt. It has no column names in the first row, and the field separators are tabs. This time, though, the file is in the data folder inside your current working directory. A variable path with the location of this file is already coded for you."
   ]
  },
  {
   "cell_type": "code",
   "execution_count": 7,
   "metadata": {},
   "outputs": [
    {
     "data": {
      "text/html": [
       "<table>\n",
       "<thead><tr><th scope=col>type</th><th scope=col>calories</th><th scope=col>sodium</th></tr></thead>\n",
       "<tbody>\n",
       "\t<tr><td>Beef</td><td>186 </td><td>495 </td></tr>\n",
       "\t<tr><td>Beef</td><td>181 </td><td>477 </td></tr>\n",
       "\t<tr><td>Beef</td><td>176 </td><td>425 </td></tr>\n",
       "\t<tr><td>Beef</td><td>149 </td><td>322 </td></tr>\n",
       "\t<tr><td>Beef</td><td>184 </td><td>482 </td></tr>\n",
       "\t<tr><td>Beef</td><td>190 </td><td>587 </td></tr>\n",
       "</tbody>\n",
       "</table>\n"
      ],
      "text/latex": [
       "\\begin{tabular}{r|lll}\n",
       " type & calories & sodium\\\\\n",
       "\\hline\n",
       "\t Beef & 186  & 495 \\\\\n",
       "\t Beef & 181  & 477 \\\\\n",
       "\t Beef & 176  & 425 \\\\\n",
       "\t Beef & 149  & 322 \\\\\n",
       "\t Beef & 184  & 482 \\\\\n",
       "\t Beef & 190  & 587 \\\\\n",
       "\\end{tabular}\n"
      ],
      "text/markdown": [
       "\n",
       "type | calories | sodium | \n",
       "|---|---|---|---|---|---|\n",
       "| Beef | 186  | 495  | \n",
       "| Beef | 181  | 477  | \n",
       "| Beef | 176  | 425  | \n",
       "| Beef | 149  | 322  | \n",
       "| Beef | 184  | 482  | \n",
       "| Beef | 190  | 587  | \n",
       "\n",
       "\n"
      ],
      "text/plain": [
       "  type calories sodium\n",
       "1 Beef 186      495   \n",
       "2 Beef 181      477   \n",
       "3 Beef 176      425   \n",
       "4 Beef 149      322   \n",
       "5 Beef 184      482   \n",
       "6 Beef 190      587   "
      ]
     },
     "metadata": {},
     "output_type": "display_data"
    }
   ],
   "source": [
    "# Path to the hotdogs.txt file: path\n",
    "#path <- file.path(\"data\", \"hotdogs.txt\")\n",
    "\n",
    "# Import the hotdogs.txt file: hotdogs\n",
    "hotdogs <- read.table(\"hotdogs.txt\", \n",
    "                      sep = \"\", \n",
    "                      col.names = c(\"type\", \"calories\", \"sodium\"))\n",
    "\n",
    "# Call head() on hotdogs\n",
    "head(hotdogs)"
   ]
  },
  {
   "cell_type": "markdown",
   "metadata": {},
   "source": [
    "Lily and Tom are having an argument because they want to share a hot dog but they can't seem to agree on which one to choose. After some time, they simply decide that they will have one each. Lily wants to have the one with the fewest calories while Tom wants to have the one with the most sodium.\n",
    "\n",
    "Next to calories and sodium, the hotdogs have one more variable: type. This can be one of three things: Beef, Meat, or Poultry, so a categorical variable: a factor is fine."
   ]
  },
  {
   "cell_type": "code",
   "execution_count": 8,
   "metadata": {},
   "outputs": [
    {
     "data": {
      "text/html": [
       "<table>\n",
       "<thead><tr><th scope=col>type</th><th scope=col>calories</th><th scope=col>sodium</th></tr></thead>\n",
       "<tbody>\n",
       "\t<tr><td>Beef</td><td>186 </td><td>495 </td></tr>\n",
       "\t<tr><td>Beef</td><td>181 </td><td>477 </td></tr>\n",
       "\t<tr><td>Beef</td><td>176 </td><td>425 </td></tr>\n",
       "\t<tr><td>Beef</td><td>149 </td><td>322 </td></tr>\n",
       "\t<tr><td>Beef</td><td>184 </td><td>482 </td></tr>\n",
       "\t<tr><td>Beef</td><td>190 </td><td>587 </td></tr>\n",
       "</tbody>\n",
       "</table>\n"
      ],
      "text/latex": [
       "\\begin{tabular}{r|lll}\n",
       " type & calories & sodium\\\\\n",
       "\\hline\n",
       "\t Beef & 186  & 495 \\\\\n",
       "\t Beef & 181  & 477 \\\\\n",
       "\t Beef & 176  & 425 \\\\\n",
       "\t Beef & 149  & 322 \\\\\n",
       "\t Beef & 184  & 482 \\\\\n",
       "\t Beef & 190  & 587 \\\\\n",
       "\\end{tabular}\n"
      ],
      "text/markdown": [
       "\n",
       "type | calories | sodium | \n",
       "|---|---|---|---|---|---|\n",
       "| Beef | 186  | 495  | \n",
       "| Beef | 181  | 477  | \n",
       "| Beef | 176  | 425  | \n",
       "| Beef | 149  | 322  | \n",
       "| Beef | 184  | 482  | \n",
       "| Beef | 190  | 587  | \n",
       "\n",
       "\n"
      ],
      "text/plain": [
       "  type calories sodium\n",
       "1 Beef 186      495   \n",
       "2 Beef 181      477   \n",
       "3 Beef 176      425   \n",
       "4 Beef 149      322   \n",
       "5 Beef 184      482   \n",
       "6 Beef 190      587   "
      ]
     },
     "metadata": {},
     "output_type": "display_data"
    },
    {
     "data": {
      "text/html": [
       "<table>\n",
       "<thead><tr><th></th><th scope=col>type</th><th scope=col>calories</th><th scope=col>sodium</th></tr></thead>\n",
       "<tbody>\n",
       "\t<tr><th scope=row>50</th><td>Poultry</td><td>86     </td><td>358    </td></tr>\n",
       "</tbody>\n",
       "</table>\n"
      ],
      "text/latex": [
       "\\begin{tabular}{r|lll}\n",
       "  & type & calories & sodium\\\\\n",
       "\\hline\n",
       "\t50 & Poultry & 86      & 358    \\\\\n",
       "\\end{tabular}\n"
      ],
      "text/markdown": [
       "\n",
       "| <!--/--> | type | calories | sodium | \n",
       "|---|\n",
       "| 50 | Poultry | 86      | 358     | \n",
       "\n",
       "\n"
      ],
      "text/plain": [
       "   type    calories sodium\n",
       "50 Poultry 86       358   "
      ]
     },
     "metadata": {},
     "output_type": "display_data"
    },
    {
     "data": {
      "text/html": [
       "<table>\n",
       "<thead><tr><th></th><th scope=col>type</th><th scope=col>calories</th><th scope=col>sodium</th></tr></thead>\n",
       "<tbody>\n",
       "\t<tr><th scope=row>15</th><td>Beef</td><td>190 </td><td>645 </td></tr>\n",
       "</tbody>\n",
       "</table>\n"
      ],
      "text/latex": [
       "\\begin{tabular}{r|lll}\n",
       "  & type & calories & sodium\\\\\n",
       "\\hline\n",
       "\t15 & Beef & 190  & 645 \\\\\n",
       "\\end{tabular}\n"
      ],
      "text/markdown": [
       "\n",
       "| <!--/--> | type | calories | sodium | \n",
       "|---|\n",
       "| 15 | Beef | 190  | 645  | \n",
       "\n",
       "\n"
      ],
      "text/plain": [
       "   type calories sodium\n",
       "15 Beef 190      645   "
      ]
     },
     "metadata": {},
     "output_type": "display_data"
    }
   ],
   "source": [
    "# Finish the read.delim() call\n",
    "hotdogs <- read.delim(\"hotdogs.txt\", header = FALSE, col.names = c(\"type\", \"calories\", \"sodium\"))\n",
    "head(hotdogs)\n",
    "# Select the hot dog with the least calories: lily\n",
    "lily <- hotdogs[which.min(hotdogs$calories), ]\n",
    "\n",
    "# Select the observation with the most sodium: tom\n",
    "tom <- hotdogs[which.max(hotdogs$sodium), ]\n",
    "\n",
    "# Print lily and tom\n",
    "lily\n",
    "tom\n"
   ]
  },
  {
   "cell_type": "raw",
   "metadata": {},
   "source": [
    "Next to column names, you can also specify the column types or column classes of the resulting data frame. You can do this by setting the colClasses argument to a vector of strings representing classes:\n",
    "\n",
    "read.delim(\"my_file.txt\", \n",
    "           colClasses = c(\"character\",\n",
    "                          \"numeric\",\n",
    "                          \"logical\"))\n",
    "This approach can be useful if you have some columns that should be factors and others that should be characters. You don't have to bother with stringsAsFactors anymore; just state for each column what the class should be.\n",
    "\n",
    "If a column is set to \"NULL\" in the colClasses vector, this column will be skipped and will not be loaded into the data frame."
   ]
  },
  {
   "cell_type": "code",
   "execution_count": 9,
   "metadata": {},
   "outputs": [
    {
     "name": "stdout",
     "output_type": "stream",
     "text": [
      "'data.frame':\t54 obs. of  3 variables:\n",
      " $ type    : Factor w/ 3 levels \"Beef\",\"Meat\",..: 1 1 1 1 1 1 1 1 1 1 ...\n",
      " $ calories: int  186 181 176 149 184 190 158 139 175 148 ...\n",
      " $ sodium  : int  495 477 425 322 482 587 370 322 479 375 ...\n",
      "'data.frame':\t54 obs. of  2 variables:\n",
      " $ type  : Factor w/ 3 levels \"Beef\",\"Meat\",..: 1 1 1 1 1 1 1 1 1 1 ...\n",
      " $ sodium: num  495 477 425 322 482 587 370 322 479 375 ...\n"
     ]
    }
   ],
   "source": [
    "# Previous call to import hotdogs.txt\n",
    "hotdogs <- read.delim(\"hotdogs.txt\", header = FALSE, col.names = c(\"type\", \"calories\", \"sodium\"))\n",
    "\n",
    "# Display structure of hotdogs\n",
    "str(hotdogs)\n",
    "\n",
    "# Edit the colClasses argument to import the data correctly: hotdogs2\n",
    "hotdogs2 <- read.delim(\"hotdogs.txt\", header = FALSE, \n",
    "                       col.names = c(\"type\", \"calories\", \"sodium\"),\n",
    "                       colClasses = c(\"factor\", \"NULL\", \"numeric\"))\n",
    "\n",
    "\n",
    "# Display structure of hotdogs2\n",
    "str(hotdogs2)"
   ]
  },
  {
   "cell_type": "markdown",
   "metadata": {},
   "source": [
    "CSV files can be imported with read_csv(). It's a wrapper function around read_delim() that handles all the details for you. For example, it will assume that the first row contains the column names.\n",
    "\n",
    "The dataset you'll be working with here is potatoes.csv. It gives information on the impact of storage period and cooking on potatoes' flavor. It uses commas to delimit fields in a record, and contains column names in the first row. The file is available in your workspace. Remember that you can inspect your workspace with dir()."
   ]
  },
  {
   "cell_type": "code",
   "execution_count": 10,
   "metadata": {},
   "outputs": [
    {
     "name": "stderr",
     "output_type": "stream",
     "text": [
      "Parsed with column specification:\n",
      "cols(\n",
      "  area = col_integer(),\n",
      "  temp = col_integer(),\n",
      "  size = col_integer(),\n",
      "  storage = col_integer(),\n",
      "  method = col_integer(),\n",
      "  texture = col_double(),\n",
      "  flavor = col_double(),\n",
      "  moistness = col_double()\n",
      ")\n"
     ]
    },
    {
     "data": {
      "text/html": [
       "<table>\n",
       "<thead><tr><th scope=col>area</th><th scope=col>temp</th><th scope=col>size</th><th scope=col>storage</th><th scope=col>method</th><th scope=col>texture</th><th scope=col>flavor</th><th scope=col>moistness</th></tr></thead>\n",
       "<tbody>\n",
       "\t<tr><td>1  </td><td>1  </td><td>1  </td><td>1  </td><td>1  </td><td>2.9</td><td>3.2</td><td>3.0</td></tr>\n",
       "\t<tr><td>1  </td><td>1  </td><td>1  </td><td>1  </td><td>2  </td><td>2.3</td><td>2.5</td><td>2.6</td></tr>\n",
       "\t<tr><td>1  </td><td>1  </td><td>1  </td><td>1  </td><td>3  </td><td>2.5</td><td>2.8</td><td>2.8</td></tr>\n",
       "\t<tr><td>1  </td><td>1  </td><td>1  </td><td>1  </td><td>4  </td><td>2.1</td><td>2.9</td><td>2.4</td></tr>\n",
       "\t<tr><td>1  </td><td>1  </td><td>1  </td><td>1  </td><td>5  </td><td>1.9</td><td>2.8</td><td>2.2</td></tr>\n",
       "\t<tr><td>1  </td><td>1  </td><td>1  </td><td>2  </td><td>1  </td><td>1.8</td><td>3.0</td><td>1.7</td></tr>\n",
       "</tbody>\n",
       "</table>\n"
      ],
      "text/latex": [
       "\\begin{tabular}{r|llllllll}\n",
       " area & temp & size & storage & method & texture & flavor & moistness\\\\\n",
       "\\hline\n",
       "\t 1   & 1   & 1   & 1   & 1   & 2.9 & 3.2 & 3.0\\\\\n",
       "\t 1   & 1   & 1   & 1   & 2   & 2.3 & 2.5 & 2.6\\\\\n",
       "\t 1   & 1   & 1   & 1   & 3   & 2.5 & 2.8 & 2.8\\\\\n",
       "\t 1   & 1   & 1   & 1   & 4   & 2.1 & 2.9 & 2.4\\\\\n",
       "\t 1   & 1   & 1   & 1   & 5   & 1.9 & 2.8 & 2.2\\\\\n",
       "\t 1   & 1   & 1   & 2   & 1   & 1.8 & 3.0 & 1.7\\\\\n",
       "\\end{tabular}\n"
      ],
      "text/markdown": [
       "\n",
       "area | temp | size | storage | method | texture | flavor | moistness | \n",
       "|---|---|---|---|---|---|\n",
       "| 1   | 1   | 1   | 1   | 1   | 2.9 | 3.2 | 3.0 | \n",
       "| 1   | 1   | 1   | 1   | 2   | 2.3 | 2.5 | 2.6 | \n",
       "| 1   | 1   | 1   | 1   | 3   | 2.5 | 2.8 | 2.8 | \n",
       "| 1   | 1   | 1   | 1   | 4   | 2.1 | 2.9 | 2.4 | \n",
       "| 1   | 1   | 1   | 1   | 5   | 1.9 | 2.8 | 2.2 | \n",
       "| 1   | 1   | 1   | 2   | 1   | 1.8 | 3.0 | 1.7 | \n",
       "\n",
       "\n"
      ],
      "text/plain": [
       "  area temp size storage method texture flavor moistness\n",
       "1 1    1    1    1       1      2.9     3.2    3.0      \n",
       "2 1    1    1    1       2      2.3     2.5    2.6      \n",
       "3 1    1    1    1       3      2.5     2.8    2.8      \n",
       "4 1    1    1    1       4      2.1     2.9    2.4      \n",
       "5 1    1    1    1       5      1.9     2.8    2.2      \n",
       "6 1    1    1    2       1      1.8     3.0    1.7      "
      ]
     },
     "metadata": {},
     "output_type": "display_data"
    }
   ],
   "source": [
    "# Load the readr package\n",
    "library(readr)\n",
    "\n",
    "# Import potatoes.csv with read_csv(): potatoes\n",
    "potatoes <- read_csv(\"potatoes.csv\")\n",
    "head(potatoes)"
   ]
  },
  {
   "cell_type": "markdown",
   "metadata": {},
   "source": [
    "Where you use read_csv() to easily read in CSV files, you use read_tsv() to easily read in TSV files. TSV is short for tab-seperated values.\n",
    "\n",
    "This time, the potatoes data comes in the form of a tab-separated values file; potatoes.txt is available in your workspace. In contrast to potatoes.csv, this file does not contain columns names in the first row, though.\n",
    "\n",
    "There's a vector properties that you can use to specify these column names manually."
   ]
  },
  {
   "cell_type": "code",
   "execution_count": 11,
   "metadata": {},
   "outputs": [
    {
     "name": "stderr",
     "output_type": "stream",
     "text": [
      "Parsed with column specification:\n",
      "cols(\n",
      "  area = col_integer(),\n",
      "  temp = col_integer(),\n",
      "  size = col_integer(),\n",
      "  storage = col_integer(),\n",
      "  method = col_integer(),\n",
      "  texture = col_double(),\n",
      "  flavor = col_double(),\n",
      "  moistness = col_double()\n",
      ")\n"
     ]
    },
    {
     "data": {
      "text/html": [
       "<table>\n",
       "<thead><tr><th scope=col>area</th><th scope=col>temp</th><th scope=col>size</th><th scope=col>storage</th><th scope=col>method</th><th scope=col>texture</th><th scope=col>flavor</th><th scope=col>moistness</th></tr></thead>\n",
       "<tbody>\n",
       "\t<tr><td>1  </td><td>1  </td><td>1  </td><td>1  </td><td>1  </td><td>2.9</td><td>3.2</td><td>3.0</td></tr>\n",
       "\t<tr><td>1  </td><td>1  </td><td>1  </td><td>1  </td><td>2  </td><td>2.3</td><td>2.5</td><td>2.6</td></tr>\n",
       "\t<tr><td>1  </td><td>1  </td><td>1  </td><td>1  </td><td>3  </td><td>2.5</td><td>2.8</td><td>2.8</td></tr>\n",
       "\t<tr><td>1  </td><td>1  </td><td>1  </td><td>1  </td><td>4  </td><td>2.1</td><td>2.9</td><td>2.4</td></tr>\n",
       "\t<tr><td>1  </td><td>1  </td><td>1  </td><td>1  </td><td>5  </td><td>1.9</td><td>2.8</td><td>2.2</td></tr>\n",
       "\t<tr><td>1  </td><td>1  </td><td>1  </td><td>2  </td><td>1  </td><td>1.8</td><td>3.0</td><td>1.7</td></tr>\n",
       "</tbody>\n",
       "</table>\n"
      ],
      "text/latex": [
       "\\begin{tabular}{r|llllllll}\n",
       " area & temp & size & storage & method & texture & flavor & moistness\\\\\n",
       "\\hline\n",
       "\t 1   & 1   & 1   & 1   & 1   & 2.9 & 3.2 & 3.0\\\\\n",
       "\t 1   & 1   & 1   & 1   & 2   & 2.3 & 2.5 & 2.6\\\\\n",
       "\t 1   & 1   & 1   & 1   & 3   & 2.5 & 2.8 & 2.8\\\\\n",
       "\t 1   & 1   & 1   & 1   & 4   & 2.1 & 2.9 & 2.4\\\\\n",
       "\t 1   & 1   & 1   & 1   & 5   & 1.9 & 2.8 & 2.2\\\\\n",
       "\t 1   & 1   & 1   & 2   & 1   & 1.8 & 3.0 & 1.7\\\\\n",
       "\\end{tabular}\n"
      ],
      "text/markdown": [
       "\n",
       "area | temp | size | storage | method | texture | flavor | moistness | \n",
       "|---|---|---|---|---|---|\n",
       "| 1   | 1   | 1   | 1   | 1   | 2.9 | 3.2 | 3.0 | \n",
       "| 1   | 1   | 1   | 1   | 2   | 2.3 | 2.5 | 2.6 | \n",
       "| 1   | 1   | 1   | 1   | 3   | 2.5 | 2.8 | 2.8 | \n",
       "| 1   | 1   | 1   | 1   | 4   | 2.1 | 2.9 | 2.4 | \n",
       "| 1   | 1   | 1   | 1   | 5   | 1.9 | 2.8 | 2.2 | \n",
       "| 1   | 1   | 1   | 2   | 1   | 1.8 | 3.0 | 1.7 | \n",
       "\n",
       "\n"
      ],
      "text/plain": [
       "  area temp size storage method texture flavor moistness\n",
       "1 1    1    1    1       1      2.9     3.2    3.0      \n",
       "2 1    1    1    1       2      2.3     2.5    2.6      \n",
       "3 1    1    1    1       3      2.5     2.8    2.8      \n",
       "4 1    1    1    1       4      2.1     2.9    2.4      \n",
       "5 1    1    1    1       5      1.9     2.8    2.2      \n",
       "6 1    1    1    2       1      1.8     3.0    1.7      "
      ]
     },
     "metadata": {},
     "output_type": "display_data"
    }
   ],
   "source": [
    "# readr is already loaded\n",
    "\n",
    "# Column names\n",
    "properties <- c(\"area\", \"temp\", \"size\", \"storage\", \"method\",\n",
    "                \"texture\", \"flavor\", \"moistness\")\n",
    "\n",
    "# Import potatoes.txt: potatoes\n",
    "potatoes <- read_tsv(\"potatoes.txt\", col_names=properties)\n",
    "\n",
    "# Call head() on potatoes\n",
    "head(potatoes)"
   ]
  },
  {
   "cell_type": "markdown",
   "metadata": {},
   "source": [
    "Just as read.table() was the main utils function, read_delim() is the main readr function.\n",
    "\n",
    "read_delim() takes two mandatory arguments:\n",
    "\n",
    "file: the file that contains the data\n",
    "delim: the character that separates the values in the data file\n",
    "You'll again be working potatoes.txt; the file uses tabs (\"\\t\") to delimit values and does not contain column names in its first line. It's available in your working directory so you can start right away. As before, the vector properties is available to set the col_names."
   ]
  },
  {
   "cell_type": "code",
   "execution_count": 12,
   "metadata": {},
   "outputs": [
    {
     "name": "stderr",
     "output_type": "stream",
     "text": [
      "Parsed with column specification:\n",
      "cols(\n",
      "  area = col_integer(),\n",
      "  temp = col_integer(),\n",
      "  size = col_integer(),\n",
      "  storage = col_integer(),\n",
      "  method = col_integer(),\n",
      "  texture = col_double(),\n",
      "  flavor = col_double(),\n",
      "  moistness = col_double()\n",
      ")\n"
     ]
    },
    {
     "data": {
      "text/html": [
       "<table>\n",
       "<thead><tr><th scope=col>area</th><th scope=col>temp</th><th scope=col>size</th><th scope=col>storage</th><th scope=col>method</th><th scope=col>texture</th><th scope=col>flavor</th><th scope=col>moistness</th></tr></thead>\n",
       "<tbody>\n",
       "\t<tr><td>1  </td><td>1  </td><td>1  </td><td>1  </td><td>1  </td><td>2.9</td><td>3.2</td><td>3.0</td></tr>\n",
       "\t<tr><td>1  </td><td>1  </td><td>1  </td><td>1  </td><td>2  </td><td>2.3</td><td>2.5</td><td>2.6</td></tr>\n",
       "\t<tr><td>1  </td><td>1  </td><td>1  </td><td>1  </td><td>3  </td><td>2.5</td><td>2.8</td><td>2.8</td></tr>\n",
       "\t<tr><td>1  </td><td>1  </td><td>1  </td><td>1  </td><td>4  </td><td>2.1</td><td>2.9</td><td>2.4</td></tr>\n",
       "\t<tr><td>1  </td><td>1  </td><td>1  </td><td>1  </td><td>5  </td><td>1.9</td><td>2.8</td><td>2.2</td></tr>\n",
       "\t<tr><td>1  </td><td>1  </td><td>1  </td><td>2  </td><td>1  </td><td>1.8</td><td>3.0</td><td>1.7</td></tr>\n",
       "\t<tr><td>1  </td><td>1  </td><td>1  </td><td>2  </td><td>2  </td><td>2.6</td><td>3.1</td><td>2.4</td></tr>\n",
       "\t<tr><td>1  </td><td>1  </td><td>1  </td><td>2  </td><td>3  </td><td>3.0</td><td>3.0</td><td>2.9</td></tr>\n",
       "\t<tr><td>1  </td><td>1  </td><td>1  </td><td>2  </td><td>4  </td><td>2.2</td><td>3.2</td><td>2.5</td></tr>\n",
       "\t<tr><td>1  </td><td>1  </td><td>1  </td><td>2  </td><td>5  </td><td>2.0</td><td>2.8</td><td>1.9</td></tr>\n",
       "\t<tr><td>1  </td><td>1  </td><td>1  </td><td>3  </td><td>1  </td><td>1.8</td><td>2.6</td><td>1.5</td></tr>\n",
       "\t<tr><td>1  </td><td>1  </td><td>1  </td><td>3  </td><td>2  </td><td>2.0</td><td>2.8</td><td>1.9</td></tr>\n",
       "\t<tr><td>1  </td><td>1  </td><td>1  </td><td>3  </td><td>3  </td><td>2.6</td><td>2.6</td><td>2.6</td></tr>\n",
       "\t<tr><td>1  </td><td>1  </td><td>1  </td><td>3  </td><td>4  </td><td>2.1</td><td>3.2</td><td>2.1</td></tr>\n",
       "\t<tr><td>1  </td><td>1  </td><td>1  </td><td>3  </td><td>5  </td><td>2.5</td><td>3.0</td><td>2.1</td></tr>\n",
       "\t<tr><td>1  </td><td>1  </td><td>1  </td><td>4  </td><td>1  </td><td>2.6</td><td>3.1</td><td>2.4</td></tr>\n",
       "\t<tr><td>1  </td><td>1  </td><td>1  </td><td>4  </td><td>2  </td><td>2.7</td><td>2.9</td><td>2.4</td></tr>\n",
       "\t<tr><td>1  </td><td>1  </td><td>1  </td><td>4  </td><td>3  </td><td>2.2</td><td>3.1</td><td>2.3</td></tr>\n",
       "\t<tr><td>1  </td><td>1  </td><td>1  </td><td>4  </td><td>4  </td><td>3.1</td><td>3.4</td><td>2.7</td></tr>\n",
       "\t<tr><td>1  </td><td>1  </td><td>1  </td><td>4  </td><td>5  </td><td>3.0</td><td>2.6</td><td>2.7</td></tr>\n",
       "\t<tr><td>1  </td><td>1  </td><td>2  </td><td>1  </td><td>1  </td><td>3.1</td><td>3.0</td><td>2.8</td></tr>\n",
       "\t<tr><td>1  </td><td>1  </td><td>2  </td><td>1  </td><td>2  </td><td>2.7</td><td>2.8</td><td>2.7</td></tr>\n",
       "\t<tr><td>1  </td><td>1  </td><td>2  </td><td>1  </td><td>3  </td><td>2.4</td><td>3.0</td><td>2.9</td></tr>\n",
       "\t<tr><td>1  </td><td>1  </td><td>2  </td><td>1  </td><td>4  </td><td>2.2</td><td>2.9</td><td>2.3</td></tr>\n",
       "\t<tr><td>1  </td><td>1  </td><td>2  </td><td>1  </td><td>5  </td><td>1.9</td><td>2.9</td><td>2.0</td></tr>\n",
       "\t<tr><td>1  </td><td>1  </td><td>2  </td><td>2  </td><td>1  </td><td>1.8</td><td>2.6</td><td>1.8</td></tr>\n",
       "\t<tr><td>1  </td><td>1  </td><td>2  </td><td>2  </td><td>2  </td><td>2.2</td><td>2.9</td><td>2.1</td></tr>\n",
       "\t<tr><td>1  </td><td>1  </td><td>2  </td><td>2  </td><td>3  </td><td>2.8</td><td>3.2</td><td>2.8</td></tr>\n",
       "\t<tr><td>1  </td><td>1  </td><td>2  </td><td>2  </td><td>4  </td><td>2.3</td><td>3.2</td><td>2.4</td></tr>\n",
       "\t<tr><td>1  </td><td>1  </td><td>2  </td><td>2  </td><td>5  </td><td>2.0</td><td>3.0</td><td>2.0</td></tr>\n",
       "\t<tr><td>⋮</td><td>⋮</td><td>⋮</td><td>⋮</td><td>⋮</td><td>⋮</td><td>⋮</td><td>⋮</td></tr>\n",
       "\t<tr><td>2  </td><td>2  </td><td>1  </td><td>3  </td><td>1  </td><td>2.8</td><td>2.8</td><td>2.6</td></tr>\n",
       "\t<tr><td>2  </td><td>2  </td><td>1  </td><td>3  </td><td>2  </td><td>3.5</td><td>2.8</td><td>3.0</td></tr>\n",
       "\t<tr><td>2  </td><td>2  </td><td>1  </td><td>3  </td><td>3  </td><td>2.5</td><td>3.2</td><td>2.3</td></tr>\n",
       "\t<tr><td>2  </td><td>2  </td><td>1  </td><td>3  </td><td>4  </td><td>3.3</td><td>3.0</td><td>2.7</td></tr>\n",
       "\t<tr><td>2  </td><td>2  </td><td>1  </td><td>3  </td><td>5  </td><td>3.5</td><td>2.9</td><td>2.9</td></tr>\n",
       "\t<tr><td>2  </td><td>2  </td><td>1  </td><td>4  </td><td>1  </td><td>3.2</td><td>3.4</td><td>2.5</td></tr>\n",
       "\t<tr><td>2  </td><td>2  </td><td>1  </td><td>4  </td><td>2  </td><td>3.3</td><td>2.8</td><td>2.8</td></tr>\n",
       "\t<tr><td>2  </td><td>2  </td><td>1  </td><td>4  </td><td>3  </td><td>3.0</td><td>3.0</td><td>2.8</td></tr>\n",
       "\t<tr><td>2  </td><td>2  </td><td>1  </td><td>4  </td><td>4  </td><td>3.5</td><td>3.2</td><td>3.1</td></tr>\n",
       "\t<tr><td>2  </td><td>2  </td><td>1  </td><td>4  </td><td>5  </td><td>3.4</td><td>3.0</td><td>2.8</td></tr>\n",
       "\t<tr><td>2  </td><td>2  </td><td>2  </td><td>1  </td><td>1  </td><td>2.7</td><td>2.5</td><td>2.5</td></tr>\n",
       "\t<tr><td>2  </td><td>2  </td><td>2  </td><td>1  </td><td>2  </td><td>2.5</td><td>2.7</td><td>2.3</td></tr>\n",
       "\t<tr><td>2  </td><td>2  </td><td>2  </td><td>1  </td><td>3  </td><td>3.2</td><td>2.7</td><td>3.0</td></tr>\n",
       "\t<tr><td>2  </td><td>2  </td><td>2  </td><td>1  </td><td>4  </td><td>2.4</td><td>2.7</td><td>2.5</td></tr>\n",
       "\t<tr><td>2  </td><td>2  </td><td>2  </td><td>1  </td><td>5  </td><td>2.7</td><td>2.1</td><td>2.3</td></tr>\n",
       "\t<tr><td>2  </td><td>2  </td><td>2  </td><td>2  </td><td>1  </td><td>2.2</td><td>2.7</td><td>2.3</td></tr>\n",
       "\t<tr><td>2  </td><td>2  </td><td>2  </td><td>2  </td><td>2  </td><td>3.1</td><td>2.9</td><td>2.6</td></tr>\n",
       "\t<tr><td>2  </td><td>2  </td><td>2  </td><td>2  </td><td>3  </td><td>2.2</td><td>2.8</td><td>3.1</td></tr>\n",
       "\t<tr><td>2  </td><td>2  </td><td>2  </td><td>2  </td><td>4  </td><td>2.9</td><td>3.0</td><td>2.7</td></tr>\n",
       "\t<tr><td>2  </td><td>2  </td><td>2  </td><td>2  </td><td>5  </td><td>2.8</td><td>2.7</td><td>2.6</td></tr>\n",
       "\t<tr><td>2  </td><td>2  </td><td>2  </td><td>3  </td><td>1  </td><td>2.5</td><td>3.2</td><td>2.3</td></tr>\n",
       "\t<tr><td>2  </td><td>2  </td><td>2  </td><td>3  </td><td>2  </td><td>2.9</td><td>3.3</td><td>2.7</td></tr>\n",
       "\t<tr><td>2  </td><td>2  </td><td>2  </td><td>3  </td><td>3  </td><td>2.5</td><td>3.1</td><td>2.5</td></tr>\n",
       "\t<tr><td>2  </td><td>2  </td><td>2  </td><td>3  </td><td>4  </td><td>3.0</td><td>2.9</td><td>2.5</td></tr>\n",
       "\t<tr><td>2  </td><td>2  </td><td>2  </td><td>3  </td><td>5  </td><td>2.9</td><td>3.1</td><td>3.1</td></tr>\n",
       "\t<tr><td>2  </td><td>2  </td><td>2  </td><td>4  </td><td>1  </td><td>2.7</td><td>3.3</td><td>2.6</td></tr>\n",
       "\t<tr><td>2  </td><td>2  </td><td>2  </td><td>4  </td><td>2  </td><td>2.6</td><td>2.8</td><td>2.3</td></tr>\n",
       "\t<tr><td>2  </td><td>2  </td><td>2  </td><td>4  </td><td>3  </td><td>2.5</td><td>3.1</td><td>2.6</td></tr>\n",
       "\t<tr><td>2  </td><td>2  </td><td>2  </td><td>4  </td><td>4  </td><td>3.4</td><td>3.3</td><td>3.0</td></tr>\n",
       "\t<tr><td>2  </td><td>2  </td><td>2  </td><td>4  </td><td>5  </td><td>2.5</td><td>2.8</td><td>2.3</td></tr>\n",
       "</tbody>\n",
       "</table>\n"
      ],
      "text/latex": [
       "\\begin{tabular}{r|llllllll}\n",
       " area & temp & size & storage & method & texture & flavor & moistness\\\\\n",
       "\\hline\n",
       "\t 1   & 1   & 1   & 1   & 1   & 2.9 & 3.2 & 3.0\\\\\n",
       "\t 1   & 1   & 1   & 1   & 2   & 2.3 & 2.5 & 2.6\\\\\n",
       "\t 1   & 1   & 1   & 1   & 3   & 2.5 & 2.8 & 2.8\\\\\n",
       "\t 1   & 1   & 1   & 1   & 4   & 2.1 & 2.9 & 2.4\\\\\n",
       "\t 1   & 1   & 1   & 1   & 5   & 1.9 & 2.8 & 2.2\\\\\n",
       "\t 1   & 1   & 1   & 2   & 1   & 1.8 & 3.0 & 1.7\\\\\n",
       "\t 1   & 1   & 1   & 2   & 2   & 2.6 & 3.1 & 2.4\\\\\n",
       "\t 1   & 1   & 1   & 2   & 3   & 3.0 & 3.0 & 2.9\\\\\n",
       "\t 1   & 1   & 1   & 2   & 4   & 2.2 & 3.2 & 2.5\\\\\n",
       "\t 1   & 1   & 1   & 2   & 5   & 2.0 & 2.8 & 1.9\\\\\n",
       "\t 1   & 1   & 1   & 3   & 1   & 1.8 & 2.6 & 1.5\\\\\n",
       "\t 1   & 1   & 1   & 3   & 2   & 2.0 & 2.8 & 1.9\\\\\n",
       "\t 1   & 1   & 1   & 3   & 3   & 2.6 & 2.6 & 2.6\\\\\n",
       "\t 1   & 1   & 1   & 3   & 4   & 2.1 & 3.2 & 2.1\\\\\n",
       "\t 1   & 1   & 1   & 3   & 5   & 2.5 & 3.0 & 2.1\\\\\n",
       "\t 1   & 1   & 1   & 4   & 1   & 2.6 & 3.1 & 2.4\\\\\n",
       "\t 1   & 1   & 1   & 4   & 2   & 2.7 & 2.9 & 2.4\\\\\n",
       "\t 1   & 1   & 1   & 4   & 3   & 2.2 & 3.1 & 2.3\\\\\n",
       "\t 1   & 1   & 1   & 4   & 4   & 3.1 & 3.4 & 2.7\\\\\n",
       "\t 1   & 1   & 1   & 4   & 5   & 3.0 & 2.6 & 2.7\\\\\n",
       "\t 1   & 1   & 2   & 1   & 1   & 3.1 & 3.0 & 2.8\\\\\n",
       "\t 1   & 1   & 2   & 1   & 2   & 2.7 & 2.8 & 2.7\\\\\n",
       "\t 1   & 1   & 2   & 1   & 3   & 2.4 & 3.0 & 2.9\\\\\n",
       "\t 1   & 1   & 2   & 1   & 4   & 2.2 & 2.9 & 2.3\\\\\n",
       "\t 1   & 1   & 2   & 1   & 5   & 1.9 & 2.9 & 2.0\\\\\n",
       "\t 1   & 1   & 2   & 2   & 1   & 1.8 & 2.6 & 1.8\\\\\n",
       "\t 1   & 1   & 2   & 2   & 2   & 2.2 & 2.9 & 2.1\\\\\n",
       "\t 1   & 1   & 2   & 2   & 3   & 2.8 & 3.2 & 2.8\\\\\n",
       "\t 1   & 1   & 2   & 2   & 4   & 2.3 & 3.2 & 2.4\\\\\n",
       "\t 1   & 1   & 2   & 2   & 5   & 2.0 & 3.0 & 2.0\\\\\n",
       "\t ⋮ & ⋮ & ⋮ & ⋮ & ⋮ & ⋮ & ⋮ & ⋮\\\\\n",
       "\t 2   & 2   & 1   & 3   & 1   & 2.8 & 2.8 & 2.6\\\\\n",
       "\t 2   & 2   & 1   & 3   & 2   & 3.5 & 2.8 & 3.0\\\\\n",
       "\t 2   & 2   & 1   & 3   & 3   & 2.5 & 3.2 & 2.3\\\\\n",
       "\t 2   & 2   & 1   & 3   & 4   & 3.3 & 3.0 & 2.7\\\\\n",
       "\t 2   & 2   & 1   & 3   & 5   & 3.5 & 2.9 & 2.9\\\\\n",
       "\t 2   & 2   & 1   & 4   & 1   & 3.2 & 3.4 & 2.5\\\\\n",
       "\t 2   & 2   & 1   & 4   & 2   & 3.3 & 2.8 & 2.8\\\\\n",
       "\t 2   & 2   & 1   & 4   & 3   & 3.0 & 3.0 & 2.8\\\\\n",
       "\t 2   & 2   & 1   & 4   & 4   & 3.5 & 3.2 & 3.1\\\\\n",
       "\t 2   & 2   & 1   & 4   & 5   & 3.4 & 3.0 & 2.8\\\\\n",
       "\t 2   & 2   & 2   & 1   & 1   & 2.7 & 2.5 & 2.5\\\\\n",
       "\t 2   & 2   & 2   & 1   & 2   & 2.5 & 2.7 & 2.3\\\\\n",
       "\t 2   & 2   & 2   & 1   & 3   & 3.2 & 2.7 & 3.0\\\\\n",
       "\t 2   & 2   & 2   & 1   & 4   & 2.4 & 2.7 & 2.5\\\\\n",
       "\t 2   & 2   & 2   & 1   & 5   & 2.7 & 2.1 & 2.3\\\\\n",
       "\t 2   & 2   & 2   & 2   & 1   & 2.2 & 2.7 & 2.3\\\\\n",
       "\t 2   & 2   & 2   & 2   & 2   & 3.1 & 2.9 & 2.6\\\\\n",
       "\t 2   & 2   & 2   & 2   & 3   & 2.2 & 2.8 & 3.1\\\\\n",
       "\t 2   & 2   & 2   & 2   & 4   & 2.9 & 3.0 & 2.7\\\\\n",
       "\t 2   & 2   & 2   & 2   & 5   & 2.8 & 2.7 & 2.6\\\\\n",
       "\t 2   & 2   & 2   & 3   & 1   & 2.5 & 3.2 & 2.3\\\\\n",
       "\t 2   & 2   & 2   & 3   & 2   & 2.9 & 3.3 & 2.7\\\\\n",
       "\t 2   & 2   & 2   & 3   & 3   & 2.5 & 3.1 & 2.5\\\\\n",
       "\t 2   & 2   & 2   & 3   & 4   & 3.0 & 2.9 & 2.5\\\\\n",
       "\t 2   & 2   & 2   & 3   & 5   & 2.9 & 3.1 & 3.1\\\\\n",
       "\t 2   & 2   & 2   & 4   & 1   & 2.7 & 3.3 & 2.6\\\\\n",
       "\t 2   & 2   & 2   & 4   & 2   & 2.6 & 2.8 & 2.3\\\\\n",
       "\t 2   & 2   & 2   & 4   & 3   & 2.5 & 3.1 & 2.6\\\\\n",
       "\t 2   & 2   & 2   & 4   & 4   & 3.4 & 3.3 & 3.0\\\\\n",
       "\t 2   & 2   & 2   & 4   & 5   & 2.5 & 2.8 & 2.3\\\\\n",
       "\\end{tabular}\n"
      ],
      "text/markdown": [
       "\n",
       "area | temp | size | storage | method | texture | flavor | moistness | \n",
       "|---|---|---|---|---|---|---|---|---|---|---|---|---|---|---|---|---|---|---|---|---|---|---|---|---|---|---|---|---|---|---|---|---|---|---|---|---|---|---|---|---|---|---|---|---|---|---|---|---|---|---|---|---|---|---|---|---|---|---|---|---|\n",
       "| 1   | 1   | 1   | 1   | 1   | 2.9 | 3.2 | 3.0 | \n",
       "| 1   | 1   | 1   | 1   | 2   | 2.3 | 2.5 | 2.6 | \n",
       "| 1   | 1   | 1   | 1   | 3   | 2.5 | 2.8 | 2.8 | \n",
       "| 1   | 1   | 1   | 1   | 4   | 2.1 | 2.9 | 2.4 | \n",
       "| 1   | 1   | 1   | 1   | 5   | 1.9 | 2.8 | 2.2 | \n",
       "| 1   | 1   | 1   | 2   | 1   | 1.8 | 3.0 | 1.7 | \n",
       "| 1   | 1   | 1   | 2   | 2   | 2.6 | 3.1 | 2.4 | \n",
       "| 1   | 1   | 1   | 2   | 3   | 3.0 | 3.0 | 2.9 | \n",
       "| 1   | 1   | 1   | 2   | 4   | 2.2 | 3.2 | 2.5 | \n",
       "| 1   | 1   | 1   | 2   | 5   | 2.0 | 2.8 | 1.9 | \n",
       "| 1   | 1   | 1   | 3   | 1   | 1.8 | 2.6 | 1.5 | \n",
       "| 1   | 1   | 1   | 3   | 2   | 2.0 | 2.8 | 1.9 | \n",
       "| 1   | 1   | 1   | 3   | 3   | 2.6 | 2.6 | 2.6 | \n",
       "| 1   | 1   | 1   | 3   | 4   | 2.1 | 3.2 | 2.1 | \n",
       "| 1   | 1   | 1   | 3   | 5   | 2.5 | 3.0 | 2.1 | \n",
       "| 1   | 1   | 1   | 4   | 1   | 2.6 | 3.1 | 2.4 | \n",
       "| 1   | 1   | 1   | 4   | 2   | 2.7 | 2.9 | 2.4 | \n",
       "| 1   | 1   | 1   | 4   | 3   | 2.2 | 3.1 | 2.3 | \n",
       "| 1   | 1   | 1   | 4   | 4   | 3.1 | 3.4 | 2.7 | \n",
       "| 1   | 1   | 1   | 4   | 5   | 3.0 | 2.6 | 2.7 | \n",
       "| 1   | 1   | 2   | 1   | 1   | 3.1 | 3.0 | 2.8 | \n",
       "| 1   | 1   | 2   | 1   | 2   | 2.7 | 2.8 | 2.7 | \n",
       "| 1   | 1   | 2   | 1   | 3   | 2.4 | 3.0 | 2.9 | \n",
       "| 1   | 1   | 2   | 1   | 4   | 2.2 | 2.9 | 2.3 | \n",
       "| 1   | 1   | 2   | 1   | 5   | 1.9 | 2.9 | 2.0 | \n",
       "| 1   | 1   | 2   | 2   | 1   | 1.8 | 2.6 | 1.8 | \n",
       "| 1   | 1   | 2   | 2   | 2   | 2.2 | 2.9 | 2.1 | \n",
       "| 1   | 1   | 2   | 2   | 3   | 2.8 | 3.2 | 2.8 | \n",
       "| 1   | 1   | 2   | 2   | 4   | 2.3 | 3.2 | 2.4 | \n",
       "| 1   | 1   | 2   | 2   | 5   | 2.0 | 3.0 | 2.0 | \n",
       "| ⋮ | ⋮ | ⋮ | ⋮ | ⋮ | ⋮ | ⋮ | ⋮ | \n",
       "| 2   | 2   | 1   | 3   | 1   | 2.8 | 2.8 | 2.6 | \n",
       "| 2   | 2   | 1   | 3   | 2   | 3.5 | 2.8 | 3.0 | \n",
       "| 2   | 2   | 1   | 3   | 3   | 2.5 | 3.2 | 2.3 | \n",
       "| 2   | 2   | 1   | 3   | 4   | 3.3 | 3.0 | 2.7 | \n",
       "| 2   | 2   | 1   | 3   | 5   | 3.5 | 2.9 | 2.9 | \n",
       "| 2   | 2   | 1   | 4   | 1   | 3.2 | 3.4 | 2.5 | \n",
       "| 2   | 2   | 1   | 4   | 2   | 3.3 | 2.8 | 2.8 | \n",
       "| 2   | 2   | 1   | 4   | 3   | 3.0 | 3.0 | 2.8 | \n",
       "| 2   | 2   | 1   | 4   | 4   | 3.5 | 3.2 | 3.1 | \n",
       "| 2   | 2   | 1   | 4   | 5   | 3.4 | 3.0 | 2.8 | \n",
       "| 2   | 2   | 2   | 1   | 1   | 2.7 | 2.5 | 2.5 | \n",
       "| 2   | 2   | 2   | 1   | 2   | 2.5 | 2.7 | 2.3 | \n",
       "| 2   | 2   | 2   | 1   | 3   | 3.2 | 2.7 | 3.0 | \n",
       "| 2   | 2   | 2   | 1   | 4   | 2.4 | 2.7 | 2.5 | \n",
       "| 2   | 2   | 2   | 1   | 5   | 2.7 | 2.1 | 2.3 | \n",
       "| 2   | 2   | 2   | 2   | 1   | 2.2 | 2.7 | 2.3 | \n",
       "| 2   | 2   | 2   | 2   | 2   | 3.1 | 2.9 | 2.6 | \n",
       "| 2   | 2   | 2   | 2   | 3   | 2.2 | 2.8 | 3.1 | \n",
       "| 2   | 2   | 2   | 2   | 4   | 2.9 | 3.0 | 2.7 | \n",
       "| 2   | 2   | 2   | 2   | 5   | 2.8 | 2.7 | 2.6 | \n",
       "| 2   | 2   | 2   | 3   | 1   | 2.5 | 3.2 | 2.3 | \n",
       "| 2   | 2   | 2   | 3   | 2   | 2.9 | 3.3 | 2.7 | \n",
       "| 2   | 2   | 2   | 3   | 3   | 2.5 | 3.1 | 2.5 | \n",
       "| 2   | 2   | 2   | 3   | 4   | 3.0 | 2.9 | 2.5 | \n",
       "| 2   | 2   | 2   | 3   | 5   | 2.9 | 3.1 | 3.1 | \n",
       "| 2   | 2   | 2   | 4   | 1   | 2.7 | 3.3 | 2.6 | \n",
       "| 2   | 2   | 2   | 4   | 2   | 2.6 | 2.8 | 2.3 | \n",
       "| 2   | 2   | 2   | 4   | 3   | 2.5 | 3.1 | 2.6 | \n",
       "| 2   | 2   | 2   | 4   | 4   | 3.4 | 3.3 | 3.0 | \n",
       "| 2   | 2   | 2   | 4   | 5   | 2.5 | 2.8 | 2.3 | \n",
       "\n",
       "\n"
      ],
      "text/plain": [
       "    area temp size storage method texture flavor moistness\n",
       "1   1    1    1    1       1      2.9     3.2    3.0      \n",
       "2   1    1    1    1       2      2.3     2.5    2.6      \n",
       "3   1    1    1    1       3      2.5     2.8    2.8      \n",
       "4   1    1    1    1       4      2.1     2.9    2.4      \n",
       "5   1    1    1    1       5      1.9     2.8    2.2      \n",
       "6   1    1    1    2       1      1.8     3.0    1.7      \n",
       "7   1    1    1    2       2      2.6     3.1    2.4      \n",
       "8   1    1    1    2       3      3.0     3.0    2.9      \n",
       "9   1    1    1    2       4      2.2     3.2    2.5      \n",
       "10  1    1    1    2       5      2.0     2.8    1.9      \n",
       "11  1    1    1    3       1      1.8     2.6    1.5      \n",
       "12  1    1    1    3       2      2.0     2.8    1.9      \n",
       "13  1    1    1    3       3      2.6     2.6    2.6      \n",
       "14  1    1    1    3       4      2.1     3.2    2.1      \n",
       "15  1    1    1    3       5      2.5     3.0    2.1      \n",
       "16  1    1    1    4       1      2.6     3.1    2.4      \n",
       "17  1    1    1    4       2      2.7     2.9    2.4      \n",
       "18  1    1    1    4       3      2.2     3.1    2.3      \n",
       "19  1    1    1    4       4      3.1     3.4    2.7      \n",
       "20  1    1    1    4       5      3.0     2.6    2.7      \n",
       "21  1    1    2    1       1      3.1     3.0    2.8      \n",
       "22  1    1    2    1       2      2.7     2.8    2.7      \n",
       "23  1    1    2    1       3      2.4     3.0    2.9      \n",
       "24  1    1    2    1       4      2.2     2.9    2.3      \n",
       "25  1    1    2    1       5      1.9     2.9    2.0      \n",
       "26  1    1    2    2       1      1.8     2.6    1.8      \n",
       "27  1    1    2    2       2      2.2     2.9    2.1      \n",
       "28  1    1    2    2       3      2.8     3.2    2.8      \n",
       "29  1    1    2    2       4      2.3     3.2    2.4      \n",
       "30  1    1    2    2       5      2.0     3.0    2.0      \n",
       "⋮   ⋮    ⋮    ⋮    ⋮       ⋮      ⋮       ⋮      ⋮        \n",
       "131 2    2    1    3       1      2.8     2.8    2.6      \n",
       "132 2    2    1    3       2      3.5     2.8    3.0      \n",
       "133 2    2    1    3       3      2.5     3.2    2.3      \n",
       "134 2    2    1    3       4      3.3     3.0    2.7      \n",
       "135 2    2    1    3       5      3.5     2.9    2.9      \n",
       "136 2    2    1    4       1      3.2     3.4    2.5      \n",
       "137 2    2    1    4       2      3.3     2.8    2.8      \n",
       "138 2    2    1    4       3      3.0     3.0    2.8      \n",
       "139 2    2    1    4       4      3.5     3.2    3.1      \n",
       "140 2    2    1    4       5      3.4     3.0    2.8      \n",
       "141 2    2    2    1       1      2.7     2.5    2.5      \n",
       "142 2    2    2    1       2      2.5     2.7    2.3      \n",
       "143 2    2    2    1       3      3.2     2.7    3.0      \n",
       "144 2    2    2    1       4      2.4     2.7    2.5      \n",
       "145 2    2    2    1       5      2.7     2.1    2.3      \n",
       "146 2    2    2    2       1      2.2     2.7    2.3      \n",
       "147 2    2    2    2       2      3.1     2.9    2.6      \n",
       "148 2    2    2    2       3      2.2     2.8    3.1      \n",
       "149 2    2    2    2       4      2.9     3.0    2.7      \n",
       "150 2    2    2    2       5      2.8     2.7    2.6      \n",
       "151 2    2    2    3       1      2.5     3.2    2.3      \n",
       "152 2    2    2    3       2      2.9     3.3    2.7      \n",
       "153 2    2    2    3       3      2.5     3.1    2.5      \n",
       "154 2    2    2    3       4      3.0     2.9    2.5      \n",
       "155 2    2    2    3       5      2.9     3.1    3.1      \n",
       "156 2    2    2    4       1      2.7     3.3    2.6      \n",
       "157 2    2    2    4       2      2.6     2.8    2.3      \n",
       "158 2    2    2    4       3      2.5     3.1    2.6      \n",
       "159 2    2    2    4       4      3.4     3.3    3.0      \n",
       "160 2    2    2    4       5      2.5     2.8    2.3      "
      ]
     },
     "metadata": {},
     "output_type": "display_data"
    }
   ],
   "source": [
    "# readr is already loaded\n",
    "\n",
    "# Column names\n",
    "properties <- c(\"area\", \"temp\", \"size\", \"storage\", \"method\",\n",
    "                \"texture\", \"flavor\", \"moistness\")\n",
    "\n",
    "# Import potatoes.txt using read_delim(): potatoes\n",
    "potatoes <- read_delim(\"potatoes.txt\", delim=\"\\t\", col_names=properties)\n",
    "\n",
    "# Print out potatoes\n",
    "potatoes"
   ]
  },
  {
   "cell_type": "markdown",
   "metadata": {},
   "source": [
    "Through skip and n_max you can control which part of your flat file you're actually importing into R.\n",
    "\n",
    "skip specifies the number of lines you're ignoring in the flat file before actually starting to import data.\n",
    "n_max specifies the number of lines you're actually importing.\n",
    "Say for example you have a CSV file with 20 lines, and set skip = 2 and n_max = 3, you're only reading in lines 3, 4 and 5 of the file.\n",
    "\n",
    "Watch out: Once you skip some lines, you also skip the first line that can contain column names!\n",
    "\n",
    "potatoes.txt, a flat file with tab-delimited records and without column names, is available in your workspace."
   ]
  },
  {
   "cell_type": "code",
   "execution_count": 14,
   "metadata": {},
   "outputs": [
    {
     "name": "stderr",
     "output_type": "stream",
     "text": [
      "Parsed with column specification:\n",
      "cols(\n",
      "  area = col_integer(),\n",
      "  temp = col_integer(),\n",
      "  size = col_integer(),\n",
      "  storage = col_integer(),\n",
      "  method = col_integer(),\n",
      "  texture = col_double(),\n",
      "  flavor = col_double(),\n",
      "  moistness = col_double()\n",
      ")\n"
     ]
    },
    {
     "data": {
      "text/html": [
       "<table>\n",
       "<thead><tr><th scope=col>area</th><th scope=col>temp</th><th scope=col>size</th><th scope=col>storage</th><th scope=col>method</th><th scope=col>texture</th><th scope=col>flavor</th><th scope=col>moistness</th></tr></thead>\n",
       "<tbody>\n",
       "\t<tr><td>1  </td><td>1  </td><td>1  </td><td>2  </td><td>2  </td><td>2.6</td><td>3.1</td><td>2.4</td></tr>\n",
       "\t<tr><td>1  </td><td>1  </td><td>1  </td><td>2  </td><td>3  </td><td>3.0</td><td>3.0</td><td>2.9</td></tr>\n",
       "\t<tr><td>1  </td><td>1  </td><td>1  </td><td>2  </td><td>4  </td><td>2.2</td><td>3.2</td><td>2.5</td></tr>\n",
       "\t<tr><td>1  </td><td>1  </td><td>1  </td><td>2  </td><td>5  </td><td>2.0</td><td>2.8</td><td>1.9</td></tr>\n",
       "\t<tr><td>1  </td><td>1  </td><td>1  </td><td>3  </td><td>1  </td><td>1.8</td><td>2.6</td><td>1.5</td></tr>\n",
       "</tbody>\n",
       "</table>\n"
      ],
      "text/latex": [
       "\\begin{tabular}{r|llllllll}\n",
       " area & temp & size & storage & method & texture & flavor & moistness\\\\\n",
       "\\hline\n",
       "\t 1   & 1   & 1   & 2   & 2   & 2.6 & 3.1 & 2.4\\\\\n",
       "\t 1   & 1   & 1   & 2   & 3   & 3.0 & 3.0 & 2.9\\\\\n",
       "\t 1   & 1   & 1   & 2   & 4   & 2.2 & 3.2 & 2.5\\\\\n",
       "\t 1   & 1   & 1   & 2   & 5   & 2.0 & 2.8 & 1.9\\\\\n",
       "\t 1   & 1   & 1   & 3   & 1   & 1.8 & 2.6 & 1.5\\\\\n",
       "\\end{tabular}\n"
      ],
      "text/markdown": [
       "\n",
       "area | temp | size | storage | method | texture | flavor | moistness | \n",
       "|---|---|---|---|---|\n",
       "| 1   | 1   | 1   | 2   | 2   | 2.6 | 3.1 | 2.4 | \n",
       "| 1   | 1   | 1   | 2   | 3   | 3.0 | 3.0 | 2.9 | \n",
       "| 1   | 1   | 1   | 2   | 4   | 2.2 | 3.2 | 2.5 | \n",
       "| 1   | 1   | 1   | 2   | 5   | 2.0 | 2.8 | 1.9 | \n",
       "| 1   | 1   | 1   | 3   | 1   | 1.8 | 2.6 | 1.5 | \n",
       "\n",
       "\n"
      ],
      "text/plain": [
       "  area temp size storage method texture flavor moistness\n",
       "1 1    1    1    2       2      2.6     3.1    2.4      \n",
       "2 1    1    1    2       3      3.0     3.0    2.9      \n",
       "3 1    1    1    2       4      2.2     3.2    2.5      \n",
       "4 1    1    1    2       5      2.0     2.8    1.9      \n",
       "5 1    1    1    3       1      1.8     2.6    1.5      "
      ]
     },
     "metadata": {},
     "output_type": "display_data"
    }
   ],
   "source": [
    "# readr is already loaded\n",
    "\n",
    "# Column names\n",
    "properties <- c(\"area\", \"temp\", \"size\", \"storage\", \"method\",\n",
    "                \"texture\", \"flavor\", \"moistness\")\n",
    "\n",
    "# Import 5 observations from potatoes.txt: potatoes_fragment\n",
    "potatoes_fragment <- read_tsv(\"potatoes.txt\", skip = 6, n_max = 5, col_names = properties)\n",
    "potatoes_fragment"
   ]
  },
  {
   "cell_type": "markdown",
   "metadata": {},
   "source": [
    "You can also specify which types the columns in your imported data frame should have. You can do this with col_types. If set to NULL, the default, functions from the readr package will try to find the correct types themselves. You can manually set the types with a string, where each character denotes the class of the column: character, double, integer and logical. _ skips the column as a whole.\n",
    "\n",
    "potatoes.txt, a flat file with tab-delimited records and without column names, is again available in your workspace."
   ]
  },
  {
   "cell_type": "code",
   "execution_count": 15,
   "metadata": {},
   "outputs": [
    {
     "name": "stdout",
     "output_type": "stream",
     "text": [
      "Classes ‘tbl_df’, ‘tbl’ and 'data.frame':\t160 obs. of  8 variables:\n",
      " $ area     : chr  \"1\" \"1\" \"1\" \"1\" ...\n",
      " $ temp     : chr  \"1\" \"1\" \"1\" \"1\" ...\n",
      " $ size     : chr  \"1\" \"1\" \"1\" \"1\" ...\n",
      " $ storage  : chr  \"1\" \"1\" \"1\" \"1\" ...\n",
      " $ method   : chr  \"1\" \"2\" \"3\" \"4\" ...\n",
      " $ texture  : chr  \"2.9\" \"2.3\" \"2.5\" \"2.1\" ...\n",
      " $ flavor   : chr  \"3.2\" \"2.5\" \"2.8\" \"2.9\" ...\n",
      " $ moistness: chr  \"3.0\" \"2.6\" \"2.8\" \"2.4\" ...\n",
      " - attr(*, \"spec\")=List of 2\n",
      "  ..$ cols   :List of 8\n",
      "  .. ..$ area     : list()\n",
      "  .. .. ..- attr(*, \"class\")= chr  \"collector_character\" \"collector\"\n",
      "  .. ..$ temp     : list()\n",
      "  .. .. ..- attr(*, \"class\")= chr  \"collector_character\" \"collector\"\n",
      "  .. ..$ size     : list()\n",
      "  .. .. ..- attr(*, \"class\")= chr  \"collector_character\" \"collector\"\n",
      "  .. ..$ storage  : list()\n",
      "  .. .. ..- attr(*, \"class\")= chr  \"collector_character\" \"collector\"\n",
      "  .. ..$ method   : list()\n",
      "  .. .. ..- attr(*, \"class\")= chr  \"collector_character\" \"collector\"\n",
      "  .. ..$ texture  : list()\n",
      "  .. .. ..- attr(*, \"class\")= chr  \"collector_character\" \"collector\"\n",
      "  .. ..$ flavor   : list()\n",
      "  .. .. ..- attr(*, \"class\")= chr  \"collector_character\" \"collector\"\n",
      "  .. ..$ moistness: list()\n",
      "  .. .. ..- attr(*, \"class\")= chr  \"collector_character\" \"collector\"\n",
      "  ..$ default: list()\n",
      "  .. ..- attr(*, \"class\")= chr  \"collector_guess\" \"collector\"\n",
      "  ..- attr(*, \"class\")= chr \"col_spec\"\n"
     ]
    }
   ],
   "source": [
    "# readr is already loaded\n",
    "\n",
    "# Column names\n",
    "properties <- c(\"area\", \"temp\", \"size\", \"storage\", \"method\",\n",
    "                \"texture\", \"flavor\", \"moistness\")\n",
    "\n",
    "# Import all data, but force all columns to be character: potatoes_char\n",
    "potatoes_char <- read_tsv(\"potatoes.txt\", col_types = \"cccccccc\", col_names = properties)\n",
    "\n",
    "# Print out structure of potatoes_char\n",
    "str(potatoes_char)"
   ]
  },
  {
   "cell_type": "markdown",
   "metadata": {},
   "source": [
    "Another way of setting the types of the imported columns is using collectors. Collector functions can be passed in a list() to the col_types argument of read_ functions to tell them how to interpret values in a column.\n",
    "\n",
    "For a complete list of collector functions, you can take a look at the collector documentation. For this exercise you will need two collector functions:\n",
    "\n",
    "col_integer(): the column should be interpreted as an integer.\n",
    "col_factor(levels, ordered = FALSE): the column should be interpreted as a factor with levels.\n",
    "In this exercise, you will work with hotdogs.txt, which is a tab-delimited file without column names in the first row."
   ]
  },
  {
   "cell_type": "code",
   "execution_count": 16,
   "metadata": {},
   "outputs": [
    {
     "name": "stderr",
     "output_type": "stream",
     "text": [
      "Parsed with column specification:\n",
      "cols(\n",
      "  type = col_character(),\n",
      "  calories = col_integer(),\n",
      "  sodium = col_integer()\n",
      ")\n"
     ]
    },
    {
     "data": {
      "text/plain": [
       "     type              calories         sodium     \n",
       " Length:54          Min.   : 86.0   Min.   :144.0  \n",
       " Class :character   1st Qu.:132.0   1st Qu.:362.5  \n",
       " Mode  :character   Median :145.0   Median :405.0  \n",
       "                    Mean   :145.4   Mean   :424.8  \n",
       "                    3rd Qu.:172.8   3rd Qu.:503.5  \n",
       "                    Max.   :195.0   Max.   :645.0  "
      ]
     },
     "metadata": {},
     "output_type": "display_data"
    },
    {
     "data": {
      "text/plain": [
       "      type       calories         sodium     \n",
       " Beef   :20   Min.   : 86.0   Min.   :144.0  \n",
       " Meat   :17   1st Qu.:132.0   1st Qu.:362.5  \n",
       " Poultry:17   Median :145.0   Median :405.0  \n",
       "              Mean   :145.4   Mean   :424.8  \n",
       "              3rd Qu.:172.8   3rd Qu.:503.5  \n",
       "              Max.   :195.0   Max.   :645.0  "
      ]
     },
     "metadata": {},
     "output_type": "display_data"
    }
   ],
   "source": [
    "# readr is already loaded\n",
    "\n",
    "# Import without col_types\n",
    "hotdogs <- read_tsv(\"hotdogs.txt\", col_names = c(\"type\", \"calories\", \"sodium\"))\n",
    "\n",
    "# Display the summary of hotdogs\n",
    "summary(hotdogs)\n",
    "\n",
    "# The collectors you will need to import the data\n",
    "fac <- col_factor(levels = c(\"Beef\", \"Meat\", \"Poultry\"))\n",
    "int <- col_integer()\n",
    "\n",
    "# Edit the col_types argument to import the data correctly: hotdogs_factor\n",
    "hotdogs_factor <- read_tsv(\"hotdogs.txt\",\n",
    "                           col_names = c(\"type\", \"calories\", \"sodium\"),\n",
    "                           col_types = list(fac, int, int))\n",
    "\n",
    "# Display the summary of hotdogs_factor\n",
    "summary(hotdogs_factor)"
   ]
  },
  {
   "cell_type": "markdown",
   "metadata": {},
   "source": [
    "You still remember how to use read.table(), right? Well, fread() is a function that does the same job with very similar arguments. It is extremely easy to use and blazingly fast! Often, simply specifying the path to the file is enough to successfully import your data.\n",
    "\n",
    "Don't take our word for it, try it yourself! You'll be working with the potatoes.csv file, that's available in your workspace. Fields are delimited by commas, and the first line contains the column names."
   ]
  },
  {
   "cell_type": "code",
   "execution_count": 17,
   "metadata": {},
   "outputs": [
    {
     "data": {
      "text/html": [
       "<table>\n",
       "<thead><tr><th scope=col>area</th><th scope=col>temp</th><th scope=col>size</th><th scope=col>storage</th><th scope=col>method</th><th scope=col>texture</th><th scope=col>flavor</th><th scope=col>moistness</th></tr></thead>\n",
       "<tbody>\n",
       "\t<tr><td>1  </td><td>1  </td><td>1  </td><td>1  </td><td>1  </td><td>2.9</td><td>3.2</td><td>3.0</td></tr>\n",
       "\t<tr><td>1  </td><td>1  </td><td>1  </td><td>1  </td><td>2  </td><td>2.3</td><td>2.5</td><td>2.6</td></tr>\n",
       "\t<tr><td>1  </td><td>1  </td><td>1  </td><td>1  </td><td>3  </td><td>2.5</td><td>2.8</td><td>2.8</td></tr>\n",
       "\t<tr><td>1  </td><td>1  </td><td>1  </td><td>1  </td><td>4  </td><td>2.1</td><td>2.9</td><td>2.4</td></tr>\n",
       "\t<tr><td>1  </td><td>1  </td><td>1  </td><td>1  </td><td>5  </td><td>1.9</td><td>2.8</td><td>2.2</td></tr>\n",
       "\t<tr><td>1  </td><td>1  </td><td>1  </td><td>2  </td><td>1  </td><td>1.8</td><td>3.0</td><td>1.7</td></tr>\n",
       "\t<tr><td>1  </td><td>1  </td><td>1  </td><td>2  </td><td>2  </td><td>2.6</td><td>3.1</td><td>2.4</td></tr>\n",
       "\t<tr><td>1  </td><td>1  </td><td>1  </td><td>2  </td><td>3  </td><td>3.0</td><td>3.0</td><td>2.9</td></tr>\n",
       "\t<tr><td>1  </td><td>1  </td><td>1  </td><td>2  </td><td>4  </td><td>2.2</td><td>3.2</td><td>2.5</td></tr>\n",
       "\t<tr><td>1  </td><td>1  </td><td>1  </td><td>2  </td><td>5  </td><td>2.0</td><td>2.8</td><td>1.9</td></tr>\n",
       "\t<tr><td>1  </td><td>1  </td><td>1  </td><td>3  </td><td>1  </td><td>1.8</td><td>2.6</td><td>1.5</td></tr>\n",
       "\t<tr><td>1  </td><td>1  </td><td>1  </td><td>3  </td><td>2  </td><td>2.0</td><td>2.8</td><td>1.9</td></tr>\n",
       "\t<tr><td>1  </td><td>1  </td><td>1  </td><td>3  </td><td>3  </td><td>2.6</td><td>2.6</td><td>2.6</td></tr>\n",
       "\t<tr><td>1  </td><td>1  </td><td>1  </td><td>3  </td><td>4  </td><td>2.1</td><td>3.2</td><td>2.1</td></tr>\n",
       "\t<tr><td>1  </td><td>1  </td><td>1  </td><td>3  </td><td>5  </td><td>2.5</td><td>3.0</td><td>2.1</td></tr>\n",
       "\t<tr><td>1  </td><td>1  </td><td>1  </td><td>4  </td><td>1  </td><td>2.6</td><td>3.1</td><td>2.4</td></tr>\n",
       "\t<tr><td>1  </td><td>1  </td><td>1  </td><td>4  </td><td>2  </td><td>2.7</td><td>2.9</td><td>2.4</td></tr>\n",
       "\t<tr><td>1  </td><td>1  </td><td>1  </td><td>4  </td><td>3  </td><td>2.2</td><td>3.1</td><td>2.3</td></tr>\n",
       "\t<tr><td>1  </td><td>1  </td><td>1  </td><td>4  </td><td>4  </td><td>3.1</td><td>3.4</td><td>2.7</td></tr>\n",
       "\t<tr><td>1  </td><td>1  </td><td>1  </td><td>4  </td><td>5  </td><td>3.0</td><td>2.6</td><td>2.7</td></tr>\n",
       "\t<tr><td>1  </td><td>1  </td><td>2  </td><td>1  </td><td>1  </td><td>3.1</td><td>3.0</td><td>2.8</td></tr>\n",
       "\t<tr><td>1  </td><td>1  </td><td>2  </td><td>1  </td><td>2  </td><td>2.7</td><td>2.8</td><td>2.7</td></tr>\n",
       "\t<tr><td>1  </td><td>1  </td><td>2  </td><td>1  </td><td>3  </td><td>2.4</td><td>3.0</td><td>2.9</td></tr>\n",
       "\t<tr><td>1  </td><td>1  </td><td>2  </td><td>1  </td><td>4  </td><td>2.2</td><td>2.9</td><td>2.3</td></tr>\n",
       "\t<tr><td>1  </td><td>1  </td><td>2  </td><td>1  </td><td>5  </td><td>1.9</td><td>2.9</td><td>2.0</td></tr>\n",
       "\t<tr><td>1  </td><td>1  </td><td>2  </td><td>2  </td><td>1  </td><td>1.8</td><td>2.6</td><td>1.8</td></tr>\n",
       "\t<tr><td>1  </td><td>1  </td><td>2  </td><td>2  </td><td>2  </td><td>2.2</td><td>2.9</td><td>2.1</td></tr>\n",
       "\t<tr><td>1  </td><td>1  </td><td>2  </td><td>2  </td><td>3  </td><td>2.8</td><td>3.2</td><td>2.8</td></tr>\n",
       "\t<tr><td>1  </td><td>1  </td><td>2  </td><td>2  </td><td>4  </td><td>2.3</td><td>3.2</td><td>2.4</td></tr>\n",
       "\t<tr><td>1  </td><td>1  </td><td>2  </td><td>2  </td><td>5  </td><td>2.0</td><td>3.0</td><td>2.0</td></tr>\n",
       "\t<tr><td>⋮</td><td>⋮</td><td>⋮</td><td>⋮</td><td>⋮</td><td>⋮</td><td>⋮</td><td>⋮</td></tr>\n",
       "\t<tr><td>2  </td><td>2  </td><td>1  </td><td>3  </td><td>1  </td><td>2.8</td><td>2.8</td><td>2.6</td></tr>\n",
       "\t<tr><td>2  </td><td>2  </td><td>1  </td><td>3  </td><td>2  </td><td>3.5</td><td>2.8</td><td>3.0</td></tr>\n",
       "\t<tr><td>2  </td><td>2  </td><td>1  </td><td>3  </td><td>3  </td><td>2.5</td><td>3.2</td><td>2.3</td></tr>\n",
       "\t<tr><td>2  </td><td>2  </td><td>1  </td><td>3  </td><td>4  </td><td>3.3</td><td>3.0</td><td>2.7</td></tr>\n",
       "\t<tr><td>2  </td><td>2  </td><td>1  </td><td>3  </td><td>5  </td><td>3.5</td><td>2.9</td><td>2.9</td></tr>\n",
       "\t<tr><td>2  </td><td>2  </td><td>1  </td><td>4  </td><td>1  </td><td>3.2</td><td>3.4</td><td>2.5</td></tr>\n",
       "\t<tr><td>2  </td><td>2  </td><td>1  </td><td>4  </td><td>2  </td><td>3.3</td><td>2.8</td><td>2.8</td></tr>\n",
       "\t<tr><td>2  </td><td>2  </td><td>1  </td><td>4  </td><td>3  </td><td>3.0</td><td>3.0</td><td>2.8</td></tr>\n",
       "\t<tr><td>2  </td><td>2  </td><td>1  </td><td>4  </td><td>4  </td><td>3.5</td><td>3.2</td><td>3.1</td></tr>\n",
       "\t<tr><td>2  </td><td>2  </td><td>1  </td><td>4  </td><td>5  </td><td>3.4</td><td>3.0</td><td>2.8</td></tr>\n",
       "\t<tr><td>2  </td><td>2  </td><td>2  </td><td>1  </td><td>1  </td><td>2.7</td><td>2.5</td><td>2.5</td></tr>\n",
       "\t<tr><td>2  </td><td>2  </td><td>2  </td><td>1  </td><td>2  </td><td>2.5</td><td>2.7</td><td>2.3</td></tr>\n",
       "\t<tr><td>2  </td><td>2  </td><td>2  </td><td>1  </td><td>3  </td><td>3.2</td><td>2.7</td><td>3.0</td></tr>\n",
       "\t<tr><td>2  </td><td>2  </td><td>2  </td><td>1  </td><td>4  </td><td>2.4</td><td>2.7</td><td>2.5</td></tr>\n",
       "\t<tr><td>2  </td><td>2  </td><td>2  </td><td>1  </td><td>5  </td><td>2.7</td><td>2.1</td><td>2.3</td></tr>\n",
       "\t<tr><td>2  </td><td>2  </td><td>2  </td><td>2  </td><td>1  </td><td>2.2</td><td>2.7</td><td>2.3</td></tr>\n",
       "\t<tr><td>2  </td><td>2  </td><td>2  </td><td>2  </td><td>2  </td><td>3.1</td><td>2.9</td><td>2.6</td></tr>\n",
       "\t<tr><td>2  </td><td>2  </td><td>2  </td><td>2  </td><td>3  </td><td>2.2</td><td>2.8</td><td>3.1</td></tr>\n",
       "\t<tr><td>2  </td><td>2  </td><td>2  </td><td>2  </td><td>4  </td><td>2.9</td><td>3.0</td><td>2.7</td></tr>\n",
       "\t<tr><td>2  </td><td>2  </td><td>2  </td><td>2  </td><td>5  </td><td>2.8</td><td>2.7</td><td>2.6</td></tr>\n",
       "\t<tr><td>2  </td><td>2  </td><td>2  </td><td>3  </td><td>1  </td><td>2.5</td><td>3.2</td><td>2.3</td></tr>\n",
       "\t<tr><td>2  </td><td>2  </td><td>2  </td><td>3  </td><td>2  </td><td>2.9</td><td>3.3</td><td>2.7</td></tr>\n",
       "\t<tr><td>2  </td><td>2  </td><td>2  </td><td>3  </td><td>3  </td><td>2.5</td><td>3.1</td><td>2.5</td></tr>\n",
       "\t<tr><td>2  </td><td>2  </td><td>2  </td><td>3  </td><td>4  </td><td>3.0</td><td>2.9</td><td>2.5</td></tr>\n",
       "\t<tr><td>2  </td><td>2  </td><td>2  </td><td>3  </td><td>5  </td><td>2.9</td><td>3.1</td><td>3.1</td></tr>\n",
       "\t<tr><td>2  </td><td>2  </td><td>2  </td><td>4  </td><td>1  </td><td>2.7</td><td>3.3</td><td>2.6</td></tr>\n",
       "\t<tr><td>2  </td><td>2  </td><td>2  </td><td>4  </td><td>2  </td><td>2.6</td><td>2.8</td><td>2.3</td></tr>\n",
       "\t<tr><td>2  </td><td>2  </td><td>2  </td><td>4  </td><td>3  </td><td>2.5</td><td>3.1</td><td>2.6</td></tr>\n",
       "\t<tr><td>2  </td><td>2  </td><td>2  </td><td>4  </td><td>4  </td><td>3.4</td><td>3.3</td><td>3.0</td></tr>\n",
       "\t<tr><td>2  </td><td>2  </td><td>2  </td><td>4  </td><td>5  </td><td>2.5</td><td>2.8</td><td>2.3</td></tr>\n",
       "</tbody>\n",
       "</table>\n"
      ],
      "text/latex": [
       "\\begin{tabular}{r|llllllll}\n",
       " area & temp & size & storage & method & texture & flavor & moistness\\\\\n",
       "\\hline\n",
       "\t 1   & 1   & 1   & 1   & 1   & 2.9 & 3.2 & 3.0\\\\\n",
       "\t 1   & 1   & 1   & 1   & 2   & 2.3 & 2.5 & 2.6\\\\\n",
       "\t 1   & 1   & 1   & 1   & 3   & 2.5 & 2.8 & 2.8\\\\\n",
       "\t 1   & 1   & 1   & 1   & 4   & 2.1 & 2.9 & 2.4\\\\\n",
       "\t 1   & 1   & 1   & 1   & 5   & 1.9 & 2.8 & 2.2\\\\\n",
       "\t 1   & 1   & 1   & 2   & 1   & 1.8 & 3.0 & 1.7\\\\\n",
       "\t 1   & 1   & 1   & 2   & 2   & 2.6 & 3.1 & 2.4\\\\\n",
       "\t 1   & 1   & 1   & 2   & 3   & 3.0 & 3.0 & 2.9\\\\\n",
       "\t 1   & 1   & 1   & 2   & 4   & 2.2 & 3.2 & 2.5\\\\\n",
       "\t 1   & 1   & 1   & 2   & 5   & 2.0 & 2.8 & 1.9\\\\\n",
       "\t 1   & 1   & 1   & 3   & 1   & 1.8 & 2.6 & 1.5\\\\\n",
       "\t 1   & 1   & 1   & 3   & 2   & 2.0 & 2.8 & 1.9\\\\\n",
       "\t 1   & 1   & 1   & 3   & 3   & 2.6 & 2.6 & 2.6\\\\\n",
       "\t 1   & 1   & 1   & 3   & 4   & 2.1 & 3.2 & 2.1\\\\\n",
       "\t 1   & 1   & 1   & 3   & 5   & 2.5 & 3.0 & 2.1\\\\\n",
       "\t 1   & 1   & 1   & 4   & 1   & 2.6 & 3.1 & 2.4\\\\\n",
       "\t 1   & 1   & 1   & 4   & 2   & 2.7 & 2.9 & 2.4\\\\\n",
       "\t 1   & 1   & 1   & 4   & 3   & 2.2 & 3.1 & 2.3\\\\\n",
       "\t 1   & 1   & 1   & 4   & 4   & 3.1 & 3.4 & 2.7\\\\\n",
       "\t 1   & 1   & 1   & 4   & 5   & 3.0 & 2.6 & 2.7\\\\\n",
       "\t 1   & 1   & 2   & 1   & 1   & 3.1 & 3.0 & 2.8\\\\\n",
       "\t 1   & 1   & 2   & 1   & 2   & 2.7 & 2.8 & 2.7\\\\\n",
       "\t 1   & 1   & 2   & 1   & 3   & 2.4 & 3.0 & 2.9\\\\\n",
       "\t 1   & 1   & 2   & 1   & 4   & 2.2 & 2.9 & 2.3\\\\\n",
       "\t 1   & 1   & 2   & 1   & 5   & 1.9 & 2.9 & 2.0\\\\\n",
       "\t 1   & 1   & 2   & 2   & 1   & 1.8 & 2.6 & 1.8\\\\\n",
       "\t 1   & 1   & 2   & 2   & 2   & 2.2 & 2.9 & 2.1\\\\\n",
       "\t 1   & 1   & 2   & 2   & 3   & 2.8 & 3.2 & 2.8\\\\\n",
       "\t 1   & 1   & 2   & 2   & 4   & 2.3 & 3.2 & 2.4\\\\\n",
       "\t 1   & 1   & 2   & 2   & 5   & 2.0 & 3.0 & 2.0\\\\\n",
       "\t ⋮ & ⋮ & ⋮ & ⋮ & ⋮ & ⋮ & ⋮ & ⋮\\\\\n",
       "\t 2   & 2   & 1   & 3   & 1   & 2.8 & 2.8 & 2.6\\\\\n",
       "\t 2   & 2   & 1   & 3   & 2   & 3.5 & 2.8 & 3.0\\\\\n",
       "\t 2   & 2   & 1   & 3   & 3   & 2.5 & 3.2 & 2.3\\\\\n",
       "\t 2   & 2   & 1   & 3   & 4   & 3.3 & 3.0 & 2.7\\\\\n",
       "\t 2   & 2   & 1   & 3   & 5   & 3.5 & 2.9 & 2.9\\\\\n",
       "\t 2   & 2   & 1   & 4   & 1   & 3.2 & 3.4 & 2.5\\\\\n",
       "\t 2   & 2   & 1   & 4   & 2   & 3.3 & 2.8 & 2.8\\\\\n",
       "\t 2   & 2   & 1   & 4   & 3   & 3.0 & 3.0 & 2.8\\\\\n",
       "\t 2   & 2   & 1   & 4   & 4   & 3.5 & 3.2 & 3.1\\\\\n",
       "\t 2   & 2   & 1   & 4   & 5   & 3.4 & 3.0 & 2.8\\\\\n",
       "\t 2   & 2   & 2   & 1   & 1   & 2.7 & 2.5 & 2.5\\\\\n",
       "\t 2   & 2   & 2   & 1   & 2   & 2.5 & 2.7 & 2.3\\\\\n",
       "\t 2   & 2   & 2   & 1   & 3   & 3.2 & 2.7 & 3.0\\\\\n",
       "\t 2   & 2   & 2   & 1   & 4   & 2.4 & 2.7 & 2.5\\\\\n",
       "\t 2   & 2   & 2   & 1   & 5   & 2.7 & 2.1 & 2.3\\\\\n",
       "\t 2   & 2   & 2   & 2   & 1   & 2.2 & 2.7 & 2.3\\\\\n",
       "\t 2   & 2   & 2   & 2   & 2   & 3.1 & 2.9 & 2.6\\\\\n",
       "\t 2   & 2   & 2   & 2   & 3   & 2.2 & 2.8 & 3.1\\\\\n",
       "\t 2   & 2   & 2   & 2   & 4   & 2.9 & 3.0 & 2.7\\\\\n",
       "\t 2   & 2   & 2   & 2   & 5   & 2.8 & 2.7 & 2.6\\\\\n",
       "\t 2   & 2   & 2   & 3   & 1   & 2.5 & 3.2 & 2.3\\\\\n",
       "\t 2   & 2   & 2   & 3   & 2   & 2.9 & 3.3 & 2.7\\\\\n",
       "\t 2   & 2   & 2   & 3   & 3   & 2.5 & 3.1 & 2.5\\\\\n",
       "\t 2   & 2   & 2   & 3   & 4   & 3.0 & 2.9 & 2.5\\\\\n",
       "\t 2   & 2   & 2   & 3   & 5   & 2.9 & 3.1 & 3.1\\\\\n",
       "\t 2   & 2   & 2   & 4   & 1   & 2.7 & 3.3 & 2.6\\\\\n",
       "\t 2   & 2   & 2   & 4   & 2   & 2.6 & 2.8 & 2.3\\\\\n",
       "\t 2   & 2   & 2   & 4   & 3   & 2.5 & 3.1 & 2.6\\\\\n",
       "\t 2   & 2   & 2   & 4   & 4   & 3.4 & 3.3 & 3.0\\\\\n",
       "\t 2   & 2   & 2   & 4   & 5   & 2.5 & 2.8 & 2.3\\\\\n",
       "\\end{tabular}\n"
      ],
      "text/markdown": [
       "\n",
       "area | temp | size | storage | method | texture | flavor | moistness | \n",
       "|---|---|---|---|---|---|---|---|---|---|---|---|---|---|---|---|---|---|---|---|---|---|---|---|---|---|---|---|---|---|---|---|---|---|---|---|---|---|---|---|---|---|---|---|---|---|---|---|---|---|---|---|---|---|---|---|---|---|---|---|---|\n",
       "| 1   | 1   | 1   | 1   | 1   | 2.9 | 3.2 | 3.0 | \n",
       "| 1   | 1   | 1   | 1   | 2   | 2.3 | 2.5 | 2.6 | \n",
       "| 1   | 1   | 1   | 1   | 3   | 2.5 | 2.8 | 2.8 | \n",
       "| 1   | 1   | 1   | 1   | 4   | 2.1 | 2.9 | 2.4 | \n",
       "| 1   | 1   | 1   | 1   | 5   | 1.9 | 2.8 | 2.2 | \n",
       "| 1   | 1   | 1   | 2   | 1   | 1.8 | 3.0 | 1.7 | \n",
       "| 1   | 1   | 1   | 2   | 2   | 2.6 | 3.1 | 2.4 | \n",
       "| 1   | 1   | 1   | 2   | 3   | 3.0 | 3.0 | 2.9 | \n",
       "| 1   | 1   | 1   | 2   | 4   | 2.2 | 3.2 | 2.5 | \n",
       "| 1   | 1   | 1   | 2   | 5   | 2.0 | 2.8 | 1.9 | \n",
       "| 1   | 1   | 1   | 3   | 1   | 1.8 | 2.6 | 1.5 | \n",
       "| 1   | 1   | 1   | 3   | 2   | 2.0 | 2.8 | 1.9 | \n",
       "| 1   | 1   | 1   | 3   | 3   | 2.6 | 2.6 | 2.6 | \n",
       "| 1   | 1   | 1   | 3   | 4   | 2.1 | 3.2 | 2.1 | \n",
       "| 1   | 1   | 1   | 3   | 5   | 2.5 | 3.0 | 2.1 | \n",
       "| 1   | 1   | 1   | 4   | 1   | 2.6 | 3.1 | 2.4 | \n",
       "| 1   | 1   | 1   | 4   | 2   | 2.7 | 2.9 | 2.4 | \n",
       "| 1   | 1   | 1   | 4   | 3   | 2.2 | 3.1 | 2.3 | \n",
       "| 1   | 1   | 1   | 4   | 4   | 3.1 | 3.4 | 2.7 | \n",
       "| 1   | 1   | 1   | 4   | 5   | 3.0 | 2.6 | 2.7 | \n",
       "| 1   | 1   | 2   | 1   | 1   | 3.1 | 3.0 | 2.8 | \n",
       "| 1   | 1   | 2   | 1   | 2   | 2.7 | 2.8 | 2.7 | \n",
       "| 1   | 1   | 2   | 1   | 3   | 2.4 | 3.0 | 2.9 | \n",
       "| 1   | 1   | 2   | 1   | 4   | 2.2 | 2.9 | 2.3 | \n",
       "| 1   | 1   | 2   | 1   | 5   | 1.9 | 2.9 | 2.0 | \n",
       "| 1   | 1   | 2   | 2   | 1   | 1.8 | 2.6 | 1.8 | \n",
       "| 1   | 1   | 2   | 2   | 2   | 2.2 | 2.9 | 2.1 | \n",
       "| 1   | 1   | 2   | 2   | 3   | 2.8 | 3.2 | 2.8 | \n",
       "| 1   | 1   | 2   | 2   | 4   | 2.3 | 3.2 | 2.4 | \n",
       "| 1   | 1   | 2   | 2   | 5   | 2.0 | 3.0 | 2.0 | \n",
       "| ⋮ | ⋮ | ⋮ | ⋮ | ⋮ | ⋮ | ⋮ | ⋮ | \n",
       "| 2   | 2   | 1   | 3   | 1   | 2.8 | 2.8 | 2.6 | \n",
       "| 2   | 2   | 1   | 3   | 2   | 3.5 | 2.8 | 3.0 | \n",
       "| 2   | 2   | 1   | 3   | 3   | 2.5 | 3.2 | 2.3 | \n",
       "| 2   | 2   | 1   | 3   | 4   | 3.3 | 3.0 | 2.7 | \n",
       "| 2   | 2   | 1   | 3   | 5   | 3.5 | 2.9 | 2.9 | \n",
       "| 2   | 2   | 1   | 4   | 1   | 3.2 | 3.4 | 2.5 | \n",
       "| 2   | 2   | 1   | 4   | 2   | 3.3 | 2.8 | 2.8 | \n",
       "| 2   | 2   | 1   | 4   | 3   | 3.0 | 3.0 | 2.8 | \n",
       "| 2   | 2   | 1   | 4   | 4   | 3.5 | 3.2 | 3.1 | \n",
       "| 2   | 2   | 1   | 4   | 5   | 3.4 | 3.0 | 2.8 | \n",
       "| 2   | 2   | 2   | 1   | 1   | 2.7 | 2.5 | 2.5 | \n",
       "| 2   | 2   | 2   | 1   | 2   | 2.5 | 2.7 | 2.3 | \n",
       "| 2   | 2   | 2   | 1   | 3   | 3.2 | 2.7 | 3.0 | \n",
       "| 2   | 2   | 2   | 1   | 4   | 2.4 | 2.7 | 2.5 | \n",
       "| 2   | 2   | 2   | 1   | 5   | 2.7 | 2.1 | 2.3 | \n",
       "| 2   | 2   | 2   | 2   | 1   | 2.2 | 2.7 | 2.3 | \n",
       "| 2   | 2   | 2   | 2   | 2   | 3.1 | 2.9 | 2.6 | \n",
       "| 2   | 2   | 2   | 2   | 3   | 2.2 | 2.8 | 3.1 | \n",
       "| 2   | 2   | 2   | 2   | 4   | 2.9 | 3.0 | 2.7 | \n",
       "| 2   | 2   | 2   | 2   | 5   | 2.8 | 2.7 | 2.6 | \n",
       "| 2   | 2   | 2   | 3   | 1   | 2.5 | 3.2 | 2.3 | \n",
       "| 2   | 2   | 2   | 3   | 2   | 2.9 | 3.3 | 2.7 | \n",
       "| 2   | 2   | 2   | 3   | 3   | 2.5 | 3.1 | 2.5 | \n",
       "| 2   | 2   | 2   | 3   | 4   | 3.0 | 2.9 | 2.5 | \n",
       "| 2   | 2   | 2   | 3   | 5   | 2.9 | 3.1 | 3.1 | \n",
       "| 2   | 2   | 2   | 4   | 1   | 2.7 | 3.3 | 2.6 | \n",
       "| 2   | 2   | 2   | 4   | 2   | 2.6 | 2.8 | 2.3 | \n",
       "| 2   | 2   | 2   | 4   | 3   | 2.5 | 3.1 | 2.6 | \n",
       "| 2   | 2   | 2   | 4   | 4   | 3.4 | 3.3 | 3.0 | \n",
       "| 2   | 2   | 2   | 4   | 5   | 2.5 | 2.8 | 2.3 | \n",
       "\n",
       "\n"
      ],
      "text/plain": [
       "    area temp size storage method texture flavor moistness\n",
       "1   1    1    1    1       1      2.9     3.2    3.0      \n",
       "2   1    1    1    1       2      2.3     2.5    2.6      \n",
       "3   1    1    1    1       3      2.5     2.8    2.8      \n",
       "4   1    1    1    1       4      2.1     2.9    2.4      \n",
       "5   1    1    1    1       5      1.9     2.8    2.2      \n",
       "6   1    1    1    2       1      1.8     3.0    1.7      \n",
       "7   1    1    1    2       2      2.6     3.1    2.4      \n",
       "8   1    1    1    2       3      3.0     3.0    2.9      \n",
       "9   1    1    1    2       4      2.2     3.2    2.5      \n",
       "10  1    1    1    2       5      2.0     2.8    1.9      \n",
       "11  1    1    1    3       1      1.8     2.6    1.5      \n",
       "12  1    1    1    3       2      2.0     2.8    1.9      \n",
       "13  1    1    1    3       3      2.6     2.6    2.6      \n",
       "14  1    1    1    3       4      2.1     3.2    2.1      \n",
       "15  1    1    1    3       5      2.5     3.0    2.1      \n",
       "16  1    1    1    4       1      2.6     3.1    2.4      \n",
       "17  1    1    1    4       2      2.7     2.9    2.4      \n",
       "18  1    1    1    4       3      2.2     3.1    2.3      \n",
       "19  1    1    1    4       4      3.1     3.4    2.7      \n",
       "20  1    1    1    4       5      3.0     2.6    2.7      \n",
       "21  1    1    2    1       1      3.1     3.0    2.8      \n",
       "22  1    1    2    1       2      2.7     2.8    2.7      \n",
       "23  1    1    2    1       3      2.4     3.0    2.9      \n",
       "24  1    1    2    1       4      2.2     2.9    2.3      \n",
       "25  1    1    2    1       5      1.9     2.9    2.0      \n",
       "26  1    1    2    2       1      1.8     2.6    1.8      \n",
       "27  1    1    2    2       2      2.2     2.9    2.1      \n",
       "28  1    1    2    2       3      2.8     3.2    2.8      \n",
       "29  1    1    2    2       4      2.3     3.2    2.4      \n",
       "30  1    1    2    2       5      2.0     3.0    2.0      \n",
       "⋮   ⋮    ⋮    ⋮    ⋮       ⋮      ⋮       ⋮      ⋮        \n",
       "131 2    2    1    3       1      2.8     2.8    2.6      \n",
       "132 2    2    1    3       2      3.5     2.8    3.0      \n",
       "133 2    2    1    3       3      2.5     3.2    2.3      \n",
       "134 2    2    1    3       4      3.3     3.0    2.7      \n",
       "135 2    2    1    3       5      3.5     2.9    2.9      \n",
       "136 2    2    1    4       1      3.2     3.4    2.5      \n",
       "137 2    2    1    4       2      3.3     2.8    2.8      \n",
       "138 2    2    1    4       3      3.0     3.0    2.8      \n",
       "139 2    2    1    4       4      3.5     3.2    3.1      \n",
       "140 2    2    1    4       5      3.4     3.0    2.8      \n",
       "141 2    2    2    1       1      2.7     2.5    2.5      \n",
       "142 2    2    2    1       2      2.5     2.7    2.3      \n",
       "143 2    2    2    1       3      3.2     2.7    3.0      \n",
       "144 2    2    2    1       4      2.4     2.7    2.5      \n",
       "145 2    2    2    1       5      2.7     2.1    2.3      \n",
       "146 2    2    2    2       1      2.2     2.7    2.3      \n",
       "147 2    2    2    2       2      3.1     2.9    2.6      \n",
       "148 2    2    2    2       3      2.2     2.8    3.1      \n",
       "149 2    2    2    2       4      2.9     3.0    2.7      \n",
       "150 2    2    2    2       5      2.8     2.7    2.6      \n",
       "151 2    2    2    3       1      2.5     3.2    2.3      \n",
       "152 2    2    2    3       2      2.9     3.3    2.7      \n",
       "153 2    2    2    3       3      2.5     3.1    2.5      \n",
       "154 2    2    2    3       4      3.0     2.9    2.5      \n",
       "155 2    2    2    3       5      2.9     3.1    3.1      \n",
       "156 2    2    2    4       1      2.7     3.3    2.6      \n",
       "157 2    2    2    4       2      2.6     2.8    2.3      \n",
       "158 2    2    2    4       3      2.5     3.1    2.6      \n",
       "159 2    2    2    4       4      3.4     3.3    3.0      \n",
       "160 2    2    2    4       5      2.5     2.8    2.3      "
      ]
     },
     "metadata": {},
     "output_type": "display_data"
    }
   ],
   "source": [
    "# load the data.table package\n",
    "library(\"data.table\")\n",
    "\n",
    "# Import potatoes.csv with fread(): potatoes\n",
    "potatoes <- fread(\"potatoes.csv\")\n",
    "\n",
    "# Print out potatoes\n",
    "potatoes"
   ]
  },
  {
   "cell_type": "raw",
   "metadata": {},
   "source": [
    "Now that you know the basics about fread(), you should know about two arguments of the function: drop and select, to drop or select variables of interest.\n",
    "\n",
    "Suppose you have a dataset that contains 5 variables and you want to keep the first and fifth variable, named \"a\" and \"e\". The following options will all do the trick:\n",
    "\n",
    "fread(\"path/to/file.txt\", drop = 2:4)\n",
    "fread(\"path/to/file.txt\", select = c(1, 5))\n",
    "fread(\"path/to/file.txt\", drop = c(\"b\", \"c\", \"d\")\n",
    "fread(\"path/to/file.txt\", select = c(\"a\", \"e\"))\n",
    "Let's stick with potatoes since we're particularly fond of them here at DataCamp. The data is again available in the file potatoes.csv, containing comma-separated records.\n",
    "\n"
   ]
  },
  {
   "cell_type": "code",
   "execution_count": 18,
   "metadata": {},
   "outputs": [
    {
     "data": {
      "image/png": "[encoded data removed]",
      "text/plain": [
       "plot without title"
      ]
     },
     "metadata": {},
     "output_type": "display_data"
    }
   ],
   "source": [
    "# fread is already loaded\n",
    "\n",
    "# Import columns 6 and 8 of potatoes.csv: potatoes\n",
    "potatoes <- fread(\"potatoes.csv\", select = c(6,8))\n",
    "\n",
    "# Plot texture (x) and moistness (y) of potatoes\n",
    "plot(potatoes$texture, potatoes$moistness)"
   ]
  },
  {
   "cell_type": "markdown",
   "metadata": {},
   "source": [
    "Before you can start importing from Excel, you should find out which sheets are available in the workbook. You can use the excel_sheets() function for this.\n",
    "\n",
    "You will find the Excel file urbanpop.xlsx in your working directory (type dir() to see it). This dataset contains urban population metrics for practically all countries in the world throughout time (Source: Gapminder). It contains three sheets for three different time periods. In each sheet, the first row contains the column names."
   ]
  },
  {
   "cell_type": "code",
   "execution_count": 19,
   "metadata": {},
   "outputs": [
    {
     "data": {
      "text/html": [
       "<ol class=list-inline>\n",
       "\t<li>'1960-1966'</li>\n",
       "\t<li>'1967-1974'</li>\n",
       "\t<li>'1975-2011'</li>\n",
       "</ol>\n"
      ],
      "text/latex": [
       "\\begin{enumerate*}\n",
       "\\item '1960-1966'\n",
       "\\item '1967-1974'\n",
       "\\item '1975-2011'\n",
       "\\end{enumerate*}\n"
      ],
      "text/markdown": [
       "1. '1960-1966'\n",
       "2. '1967-1974'\n",
       "3. '1975-2011'\n",
       "\n",
       "\n"
      ],
      "text/plain": [
       "[1] \"1960-1966\" \"1967-1974\" \"1975-2011\""
      ]
     },
     "metadata": {},
     "output_type": "display_data"
    }
   ],
   "source": [
    "# Load the readxl package\n",
    "library(readxl)\n",
    "\n",
    "# Print out the names of both spreadsheets\n",
    "excel_sheets(\"urbanpop.xlsx\")"
   ]
  },
  {
   "cell_type": "markdown",
   "metadata": {},
   "source": [
    "Now that you know the names of the sheets in the Excel file you want to import, it is time to import those sheets into R. You can do this with the read_excel() function. Have a look at this recipe:\n",
    "\n",
    "data <- read_excel(\"data.xlsx\", sheet = \"my_sheet\")\n",
    "This call simply imports the sheet with the name \"my_sheet\" from the \"data.xlsx\" file. You can also pass a number to the sheet argument; this will cause read_excel() to import the sheet with the given sheet number. sheet = 1 will import the first sheet, sheet = 2 will import the second sheet, and so on.\n",
    "\n",
    "In this exercise, you'll continue working with the urbanpop.xlsx file.\n",
    "\n"
   ]
  },
  {
   "cell_type": "code",
   "execution_count": 20,
   "metadata": {},
   "outputs": [
    {
     "name": "stdout",
     "output_type": "stream",
     "text": [
      "List of 3\n",
      " $ :Classes ‘tbl_df’, ‘tbl’ and 'data.frame':\t209 obs. of  8 variables:\n",
      "  ..$ country: chr [1:209] \"Afghanistan\" \"Albania\" \"Algeria\" \"American Samoa\" ...\n",
      "  ..$ 1960   : num [1:209] 769308 494443 3293999 NA NA ...\n",
      "  ..$ 1961   : num [1:209] 814923 511803 3515148 13660 8724 ...\n",
      "  ..$ 1962   : num [1:209] 858522 529439 3739963 14166 9700 ...\n",
      "  ..$ 1963   : num [1:209] 903914 547377 3973289 14759 10748 ...\n",
      "  ..$ 1964   : num [1:209] 951226 565572 4220987 15396 11866 ...\n",
      "  ..$ 1965   : num [1:209] 1000582 583983 4488176 16045 13053 ...\n",
      "  ..$ 1966   : num [1:209] 1058743 602512 4649105 16693 14217 ...\n",
      " $ :Classes ‘tbl_df’, ‘tbl’ and 'data.frame':\t209 obs. of  9 variables:\n",
      "  ..$ country: chr [1:209] \"Afghanistan\" \"Albania\" \"Algeria\" \"American Samoa\" ...\n",
      "  ..$ 1967   : num [1:209] 1119067 621180 4826104 17349 15440 ...\n",
      "  ..$ 1968   : num [1:209] 1182159 639964 5017299 17996 16727 ...\n",
      "  ..$ 1969   : num [1:209] 1248901 658853 5219332 18619 18088 ...\n",
      "  ..$ 1970   : num [1:209] 1319849 677839 5429743 19206 19529 ...\n",
      "  ..$ 1971   : num [1:209] 1409001 698932 5619042 19752 20929 ...\n",
      "  ..$ 1972   : num [1:209] 1502402 720207 5815734 20263 22406 ...\n",
      "  ..$ 1973   : num [1:209] 1598835 741681 6020647 20742 23937 ...\n",
      "  ..$ 1974   : num [1:209] 1696445 763385 6235114 21194 25482 ...\n",
      " $ :Classes ‘tbl_df’, ‘tbl’ and 'data.frame':\t209 obs. of  38 variables:\n",
      "  ..$ country: chr [1:209] \"Afghanistan\" \"Albania\" \"Algeria\" \"American Samoa\" ...\n",
      "  ..$ 1975   : num [1:209] 1793266 785350 6460138 21632 27019 ...\n",
      "  ..$ 1976   : num [1:209] 1905033 807990 6774099 22047 28366 ...\n",
      "  ..$ 1977   : num [1:209] 2021308 830959 7102902 22452 29677 ...\n",
      "  ..$ 1978   : num [1:209] 2142248 854262 7447728 22899 31037 ...\n",
      "  ..$ 1979   : num [1:209] 2268015 877898 7810073 23457 32572 ...\n",
      "  ..$ 1980   : num [1:209] 2398775 901884 8190772 24177 34366 ...\n",
      "  ..$ 1981   : num [1:209] 2493265 927224 8637724 25173 36356 ...\n",
      "  ..$ 1982   : num [1:209] 2590846 952447 9105820 26342 38618 ...\n",
      "  ..$ 1983   : num [1:209] 2691612 978476 9591900 27655 40983 ...\n",
      "  ..$ 1984   : num [1:209] 2795656 1006613 10091289 29062 43207 ...\n",
      "  ..$ 1985   : num [1:209] 2903078 1037541 10600112 30524 45119 ...\n",
      "  ..$ 1986   : num [1:209] 3006983 1072365 11101757 32014 46254 ...\n",
      "  ..$ 1987   : num [1:209] 3113957 1109954 11609104 33548 47019 ...\n",
      "  ..$ 1988   : num [1:209] 3224082 1146633 12122941 35095 47669 ...\n",
      "  ..$ 1989   : num [1:209] 3337444 1177286 12645263 36618 48577 ...\n",
      "  ..$ 1990   : num [1:209] 3454129 1198293 13177079 38088 49982 ...\n",
      "  ..$ 1991   : num [1:209] 3617842 1215445 13708813 39600 51972 ...\n",
      "  ..$ 1992   : num [1:209] 3788685 1222544 14248297 41049 54469 ...\n",
      "  ..$ 1993   : num [1:209] 3966956 1222812 14789176 42443 57079 ...\n",
      "  ..$ 1994   : num [1:209] 4152960 1221364 15322651 43798 59243 ...\n",
      "  ..$ 1995   : num [1:209] 4347018 1222234 15842442 45129 60598 ...\n",
      "  ..$ 1996   : num [1:209] 4531285 1228760 16395553 46343 60927 ...\n",
      "  ..$ 1997   : num [1:209] 4722603 1238090 16935451 47527 60462 ...\n",
      "  ..$ 1998   : num [1:209] 4921227 1250366 17469200 48705 59685 ...\n",
      "  ..$ 1999   : num [1:209] 5127421 1265195 18007937 49906 59281 ...\n",
      "  ..$ 2000   : num [1:209] 5341456 1282223 18560597 51151 59719 ...\n",
      "  ..$ 2001   : num [1:209] 5564492 1315690 19198872 52341 61062 ...\n",
      "  ..$ 2002   : num [1:209] 5795940 1352278 19854835 53583 63212 ...\n",
      "  ..$ 2003   : num [1:209] 6036100 1391143 20529356 54864 65802 ...\n",
      "  ..$ 2004   : num [1:209] 6285281 1430918 21222198 56166 68301 ...\n",
      "  ..$ 2005   : num [1:209] 6543804 1470488 21932978 57474 70329 ...\n",
      "  ..$ 2006   : num [1:209] 6812538 1512255 22625052 58679 71726 ...\n",
      "  ..$ 2007   : num [1:209] 7091245 1553491 23335543 59894 72684 ...\n",
      "  ..$ 2008   : num [1:209] 7380272 1594351 24061749 61118 73335 ...\n",
      "  ..$ 2009   : num [1:209] 7679982 1635262 24799591 62357 73897 ...\n",
      "  ..$ 2010   : num [1:209] 7990746 1676545 25545622 63616 74525 ...\n",
      "  ..$ 2011   : num [1:209] 8316976 1716842 26216968 64817 75207 ...\n"
     ]
    }
   ],
   "source": [
    "# The readxl package is already loaded\n",
    "\n",
    "# Read the sheets, one by one\n",
    "pop_1 <- read_excel(\"urbanpop.xlsx\", sheet = 1)\n",
    "pop_2 <- read_excel(\"urbanpop.xlsx\", sheet = 2)\n",
    "pop_3 <- read_excel(\"urbanpop.xlsx\", sheet = 3)\n",
    "\n",
    "# Put pop_1, pop_2 and pop_3 in a list: pop_list\n",
    "pop_list = list(pop_1, pop_2, pop_3)\n",
    "\n",
    "# Display the structure of pop_list\n",
    "str(pop_list)"
   ]
  },
  {
   "cell_type": "raw",
   "metadata": {},
   "source": [
    "In the previous exercise you generated a list of three Excel sheets that you imported. However, loading in every sheet manually and then merging them in a list can be quite tedious. Luckily, you can automate this with lapply(). If you have no experience with lapply(), feel free to take Chapter 4 of the Intermediate R course.\n",
    "\n",
    "Have a look at the example code below:\n",
    "\n",
    "my_workbook <- lapply(excel_sheets(\"data.xlsx\"),\n",
    "                      read_excel,\n",
    "                      path = \"data.xlsx\")\n",
    "The read_excel() function is called multiple times on the \"data.xlsx\" file and each sheet is loaded in one after the other. The result is a list of data frames, each data frame representing one of the sheets in data.xlsx.\n",
    "\n",
    "You're still working with the urbanpop.xlsx file."
   ]
  },
  {
   "cell_type": "code",
   "execution_count": 21,
   "metadata": {},
   "outputs": [
    {
     "name": "stdout",
     "output_type": "stream",
     "text": [
      "List of 3\n",
      " $ :Classes ‘tbl_df’, ‘tbl’ and 'data.frame':\t209 obs. of  8 variables:\n",
      "  ..$ country: chr [1:209] \"Afghanistan\" \"Albania\" \"Algeria\" \"American Samoa\" ...\n",
      "  ..$ 1960   : num [1:209] 769308 494443 3293999 NA NA ...\n",
      "  ..$ 1961   : num [1:209] 814923 511803 3515148 13660 8724 ...\n",
      "  ..$ 1962   : num [1:209] 858522 529439 3739963 14166 9700 ...\n",
      "  ..$ 1963   : num [1:209] 903914 547377 3973289 14759 10748 ...\n",
      "  ..$ 1964   : num [1:209] 951226 565572 4220987 15396 11866 ...\n",
      "  ..$ 1965   : num [1:209] 1000582 583983 4488176 16045 13053 ...\n",
      "  ..$ 1966   : num [1:209] 1058743 602512 4649105 16693 14217 ...\n",
      " $ :Classes ‘tbl_df’, ‘tbl’ and 'data.frame':\t209 obs. of  9 variables:\n",
      "  ..$ country: chr [1:209] \"Afghanistan\" \"Albania\" \"Algeria\" \"American Samoa\" ...\n",
      "  ..$ 1967   : num [1:209] 1119067 621180 4826104 17349 15440 ...\n",
      "  ..$ 1968   : num [1:209] 1182159 639964 5017299 17996 16727 ...\n",
      "  ..$ 1969   : num [1:209] 1248901 658853 5219332 18619 18088 ...\n",
      "  ..$ 1970   : num [1:209] 1319849 677839 5429743 19206 19529 ...\n",
      "  ..$ 1971   : num [1:209] 1409001 698932 5619042 19752 20929 ...\n",
      "  ..$ 1972   : num [1:209] 1502402 720207 5815734 20263 22406 ...\n",
      "  ..$ 1973   : num [1:209] 1598835 741681 6020647 20742 23937 ...\n",
      "  ..$ 1974   : num [1:209] 1696445 763385 6235114 21194 25482 ...\n",
      " $ :Classes ‘tbl_df’, ‘tbl’ and 'data.frame':\t209 obs. of  38 variables:\n",
      "  ..$ country: chr [1:209] \"Afghanistan\" \"Albania\" \"Algeria\" \"American Samoa\" ...\n",
      "  ..$ 1975   : num [1:209] 1793266 785350 6460138 21632 27019 ...\n",
      "  ..$ 1976   : num [1:209] 1905033 807990 6774099 22047 28366 ...\n",
      "  ..$ 1977   : num [1:209] 2021308 830959 7102902 22452 29677 ...\n",
      "  ..$ 1978   : num [1:209] 2142248 854262 7447728 22899 31037 ...\n",
      "  ..$ 1979   : num [1:209] 2268015 877898 7810073 23457 32572 ...\n",
      "  ..$ 1980   : num [1:209] 2398775 901884 8190772 24177 34366 ...\n",
      "  ..$ 1981   : num [1:209] 2493265 927224 8637724 25173 36356 ...\n",
      "  ..$ 1982   : num [1:209] 2590846 952447 9105820 26342 38618 ...\n",
      "  ..$ 1983   : num [1:209] 2691612 978476 9591900 27655 40983 ...\n",
      "  ..$ 1984   : num [1:209] 2795656 1006613 10091289 29062 43207 ...\n",
      "  ..$ 1985   : num [1:209] 2903078 1037541 10600112 30524 45119 ...\n",
      "  ..$ 1986   : num [1:209] 3006983 1072365 11101757 32014 46254 ...\n",
      "  ..$ 1987   : num [1:209] 3113957 1109954 11609104 33548 47019 ...\n",
      "  ..$ 1988   : num [1:209] 3224082 1146633 12122941 35095 47669 ...\n",
      "  ..$ 1989   : num [1:209] 3337444 1177286 12645263 36618 48577 ...\n",
      "  ..$ 1990   : num [1:209] 3454129 1198293 13177079 38088 49982 ...\n",
      "  ..$ 1991   : num [1:209] 3617842 1215445 13708813 39600 51972 ...\n",
      "  ..$ 1992   : num [1:209] 3788685 1222544 14248297 41049 54469 ...\n",
      "  ..$ 1993   : num [1:209] 3966956 1222812 14789176 42443 57079 ...\n",
      "  ..$ 1994   : num [1:209] 4152960 1221364 15322651 43798 59243 ...\n",
      "  ..$ 1995   : num [1:209] 4347018 1222234 15842442 45129 60598 ...\n",
      "  ..$ 1996   : num [1:209] 4531285 1228760 16395553 46343 60927 ...\n",
      "  ..$ 1997   : num [1:209] 4722603 1238090 16935451 47527 60462 ...\n",
      "  ..$ 1998   : num [1:209] 4921227 1250366 17469200 48705 59685 ...\n",
      "  ..$ 1999   : num [1:209] 5127421 1265195 18007937 49906 59281 ...\n",
      "  ..$ 2000   : num [1:209] 5341456 1282223 18560597 51151 59719 ...\n",
      "  ..$ 2001   : num [1:209] 5564492 1315690 19198872 52341 61062 ...\n",
      "  ..$ 2002   : num [1:209] 5795940 1352278 19854835 53583 63212 ...\n",
      "  ..$ 2003   : num [1:209] 6036100 1391143 20529356 54864 65802 ...\n",
      "  ..$ 2004   : num [1:209] 6285281 1430918 21222198 56166 68301 ...\n",
      "  ..$ 2005   : num [1:209] 6543804 1470488 21932978 57474 70329 ...\n",
      "  ..$ 2006   : num [1:209] 6812538 1512255 22625052 58679 71726 ...\n",
      "  ..$ 2007   : num [1:209] 7091245 1553491 23335543 59894 72684 ...\n",
      "  ..$ 2008   : num [1:209] 7380272 1594351 24061749 61118 73335 ...\n",
      "  ..$ 2009   : num [1:209] 7679982 1635262 24799591 62357 73897 ...\n",
      "  ..$ 2010   : num [1:209] 7990746 1676545 25545622 63616 74525 ...\n",
      "  ..$ 2011   : num [1:209] 8316976 1716842 26216968 64817 75207 ...\n"
     ]
    }
   ],
   "source": [
    "# The readxl package is already loaded\n",
    "\n",
    "# Read all Excel sheets with lapply(): pop_list\n",
    "pop_list <- lapply(excel_sheets(\"urbanpop.xlsx\"), read_excel, path=\"urbanpop.xlsx\")\n",
    "\n",
    "# Display the structure of pop_list\n",
    "str(pop_list)"
   ]
  },
  {
   "cell_type": "markdown",
   "metadata": {},
   "source": [
    "Apart from path and sheet, there are several other arguments you can specify in read_excel(). One of these arguments is called col_names.\n",
    "\n",
    "By default it is TRUE, denoting whether the first row in the Excel sheets contains the column names. If this is not the case, you can set col_names to FALSE. In this case, R will choose column names for you. You can also choose to set col_names to a character vector with names for each column. It works exactly the same as in the readr package.\n",
    "\n",
    "You'll be working with the urbanpop_nonames.xlsx file. It contains the same data as urbanpop.xlsx but has no column names in the first row of the excel sheets.\n",
    "\n"
   ]
  },
  {
   "cell_type": "code",
   "execution_count": 23,
   "metadata": {},
   "outputs": [
    {
     "data": {
      "text/html": [
       "<ol class=list-inline>\n",
       "\t<li>'Cleaning Data in R - part 1.ipynb'</li>\n",
       "\t<li>'hotdogs.txt'</li>\n",
       "\t<li>'potatoes.csv'</li>\n",
       "\t<li>'potatoes.txt'</li>\n",
       "\t<li>'swimming_pools.csv'</li>\n",
       "\t<li>'urbanpop.xls'</li>\n",
       "\t<li>'urbanpop.xlsx'</li>\n",
       "\t<li>'urbanpop_noname.xlsx'</li>\n",
       "</ol>\n"
      ],
      "text/latex": [
       "\\begin{enumerate*}\n",
       "\\item 'Cleaning Data in R - part 1.ipynb'\n",
       "\\item 'hotdogs.txt'\n",
       "\\item 'potatoes.csv'\n",
       "\\item 'potatoes.txt'\n",
       "\\item 'swimming\\_pools.csv'\n",
       "\\item 'urbanpop.xls'\n",
       "\\item 'urbanpop.xlsx'\n",
       "\\item 'urbanpop\\_noname.xlsx'\n",
       "\\end{enumerate*}\n"
      ],
      "text/markdown": [
       "1. 'Cleaning Data in R - part 1.ipynb'\n",
       "2. 'hotdogs.txt'\n",
       "3. 'potatoes.csv'\n",
       "4. 'potatoes.txt'\n",
       "5. 'swimming_pools.csv'\n",
       "6. 'urbanpop.xls'\n",
       "7. 'urbanpop.xlsx'\n",
       "8. 'urbanpop_noname.xlsx'\n",
       "\n",
       "\n"
      ],
      "text/plain": [
       "[1] \"Cleaning Data in R - part 1.ipynb\" \"hotdogs.txt\"                      \n",
       "[3] \"potatoes.csv\"                      \"potatoes.txt\"                     \n",
       "[5] \"swimming_pools.csv\"                \"urbanpop.xls\"                     \n",
       "[7] \"urbanpop.xlsx\"                     \"urbanpop_noname.xlsx\"             "
      ]
     },
     "metadata": {},
     "output_type": "display_data"
    }
   ],
   "source": [
    "dir()\n"
   ]
  },
  {
   "cell_type": "code",
   "execution_count": 24,
   "metadata": {},
   "outputs": [
    {
     "data": {
      "text/plain": [
       "     X__1                X__2                X__3                X__4          \n",
       " Length:209         Min.   :     3378   Min.   :     1028   Min.   :     1090  \n",
       " Class :character   1st Qu.:    88978   1st Qu.:    70644   1st Qu.:    74974  \n",
       " Mode  :character   Median :   580675   Median :   570159   Median :   593968  \n",
       "                    Mean   :  4988124   Mean   :  4991613   Mean   :  5141592  \n",
       "                    3rd Qu.:  3077228   3rd Qu.:  2807280   3rd Qu.:  2948396  \n",
       "                    Max.   :126469700   Max.   :129268133   Max.   :131974143  \n",
       "                    NA's   :11                                                 \n",
       "      X__5                X__6                X__7          \n",
       " Min.   :     1154   Min.   :     1218   Min.   :     1281  \n",
       " 1st Qu.:    81870   1st Qu.:    84953   1st Qu.:    88633  \n",
       " Median :   619331   Median :   645262   Median :   679109  \n",
       " Mean   :  5303711   Mean   :  5468966   Mean   :  5637394  \n",
       " 3rd Qu.:  3148941   3rd Qu.:  3296444   3rd Qu.:  3317422  \n",
       " Max.   :134599886   Max.   :137205240   Max.   :139663053  \n",
       "                                                            \n",
       "      X__8          \n",
       " Min.   :     1349  \n",
       " 1st Qu.:    93638  \n",
       " Median :   735139  \n",
       " Mean   :  5790281  \n",
       " 3rd Qu.:  3418036  \n",
       " Max.   :141962708  \n",
       "                    "
      ]
     },
     "metadata": {},
     "output_type": "display_data"
    },
    {
     "data": {
      "text/plain": [
       "   country            year_1960           year_1961           year_1962        \n",
       " Length:209         Min.   :     3378   Min.   :     1028   Min.   :     1090  \n",
       " Class :character   1st Qu.:    88978   1st Qu.:    70644   1st Qu.:    74974  \n",
       " Mode  :character   Median :   580675   Median :   570159   Median :   593968  \n",
       "                    Mean   :  4988124   Mean   :  4991613   Mean   :  5141592  \n",
       "                    3rd Qu.:  3077228   3rd Qu.:  2807280   3rd Qu.:  2948396  \n",
       "                    Max.   :126469700   Max.   :129268133   Max.   :131974143  \n",
       "                    NA's   :11                                                 \n",
       "   year_1963           year_1964           year_1965        \n",
       " Min.   :     1154   Min.   :     1218   Min.   :     1281  \n",
       " 1st Qu.:    81870   1st Qu.:    84953   1st Qu.:    88633  \n",
       " Median :   619331   Median :   645262   Median :   679109  \n",
       " Mean   :  5303711   Mean   :  5468966   Mean   :  5637394  \n",
       " 3rd Qu.:  3148941   3rd Qu.:  3296444   3rd Qu.:  3317422  \n",
       " Max.   :134599886   Max.   :137205240   Max.   :139663053  \n",
       "                                                            \n",
       "   year_1966        \n",
       " Min.   :     1349  \n",
       " 1st Qu.:    93638  \n",
       " Median :   735139  \n",
       " Mean   :  5790281  \n",
       " 3rd Qu.:  3418036  \n",
       " Max.   :141962708  \n",
       "                    "
      ]
     },
     "metadata": {},
     "output_type": "display_data"
    }
   ],
   "source": [
    "# The readxl package is already loaded\n",
    "\n",
    "# Import the the first Excel sheet of urbanpop_nonames.xlsx (R gives names): pop_a\n",
    "pop_a <- read_excel(\"urbanpop_noname.xlsx\", sheet = 1, col_names=FALSE)\n",
    "\n",
    "# Import the the first Excel sheet of urbanpop_nonames.xlsx (specify col_names): pop_b\n",
    "cols <- c(\"country\", paste0(\"year_\", 1960:1966))\n",
    "pop_b <- read_excel(\"urbanpop_noname.xlsx\", sheet = 1, col_names=cols)\n",
    "\n",
    "# Print the summary of pop_a\n",
    "summary(pop_a)\n",
    "\n",
    "# Print the summary of pop_b\n",
    "summary(pop_b)"
   ]
  },
  {
   "cell_type": "markdown",
   "metadata": {},
   "source": [
    "Another argument that can be very useful when reading in Excel files that are less tidy, is skip. With skip, you can tell R to ignore a specified number of rows inside the Excel sheets you're trying to pull data from. Have a look at this example:\n",
    "\n",
    "read_excel(\"data.xlsx\", skip = 15)\n",
    "In this case, the first 15 rows in the first sheet of \"data.xlsx\" are ignored.\n",
    "\n",
    "If the first row of this sheet contained the column names, this information will also be ignored by readxl. Make sure to set col_names to FALSE or manually specify column names in this case!\n",
    "\n",
    "The file urbanpop.xlsx is available in your directory; it has column names in the first rows."
   ]
  },
  {
   "cell_type": "code",
   "execution_count": 25,
   "metadata": {},
   "outputs": [
    {
     "data": {
      "text/html": [
       "<table>\n",
       "<thead><tr><th scope=col>X__1</th><th scope=col>X__2</th><th scope=col>X__3</th><th scope=col>X__4</th><th scope=col>X__5</th><th scope=col>X__6</th><th scope=col>X__7</th><th scope=col>X__8</th><th scope=col>X__9</th></tr></thead>\n",
       "<tbody>\n",
       "\t<tr><td>Benin   </td><td>382022.1</td><td>411859.5</td><td>443013.1</td><td>475611.4</td><td>515819.5</td><td>557937.6</td><td>602093.2</td><td>648409.7</td></tr>\n",
       "</tbody>\n",
       "</table>\n"
      ],
      "text/latex": [
       "\\begin{tabular}{r|lllllllll}\n",
       " X\\_\\_1 & X\\_\\_2 & X\\_\\_3 & X\\_\\_4 & X\\_\\_5 & X\\_\\_6 & X\\_\\_7 & X\\_\\_8 & X\\_\\_9\\\\\n",
       "\\hline\n",
       "\t Benin    & 382022.1 & 411859.5 & 443013.1 & 475611.4 & 515819.5 & 557937.6 & 602093.2 & 648409.7\\\\\n",
       "\\end{tabular}\n"
      ],
      "text/markdown": [
       "\n",
       "X__1 | X__2 | X__3 | X__4 | X__5 | X__6 | X__7 | X__8 | X__9 | \n",
       "|---|\n",
       "| Benin    | 382022.1 | 411859.5 | 443013.1 | 475611.4 | 515819.5 | 557937.6 | 602093.2 | 648409.7 | \n",
       "\n",
       "\n"
      ],
      "text/plain": [
       "  X__1  X__2     X__3     X__4     X__5     X__6     X__7     X__8     X__9    \n",
       "1 Benin 382022.1 411859.5 443013.1 475611.4 515819.5 557937.6 602093.2 648409.7"
      ]
     },
     "metadata": {},
     "output_type": "display_data"
    }
   ],
   "source": [
    "# The readxl package is already loaded\n",
    "\n",
    "# Import the second sheet of urbanpop.xlsx, skipping the first 21 rows: urbanpop_sel\n",
    "urbanpop_sel <- read_excel(\"urbanpop.xlsx\",sheet=2, col_names=FALSE, skip=21)\n",
    "\n",
    "# Print out the first observation from urbanpop_sel\n",
    "urbanpop_sel[1,]\n",
    "\n"
   ]
  },
  {
   "cell_type": "markdown",
   "metadata": {},
   "source": [
    "In this part of the chapter you'll learn how to import .xls files using the gdata package. Similar to the readxl package, you can import single Excel sheets from Excel sheets to start your analysis in R.\n",
    "\n",
    "You'll be working with the urbanpop.xls dataset, the .xls version of the Excel file you've been working with before. It's available in your current working directory."
   ]
  },
  {
   "cell_type": "code",
   "execution_count": 29,
   "metadata": {},
   "outputs": [
    {
     "name": "stderr",
     "output_type": "stream",
     "text": [
      "Warning message:\n",
      "“unable to access index for repository https://cran.r-project.org/src/contrib:\n",
      "  internet routines cannot be loaded”Warning message:\n",
      "“package ‘gdata’ is not available (for R version 3.4.1)”"
     ]
    }
   ],
   "source": [
    "install.packages(\"gdata\")"
   ]
  },
  {
   "cell_type": "code",
   "execution_count": 28,
   "metadata": {},
   "outputs": [
    {
     "ename": "ERROR",
     "evalue": "Error in library(\"gdata\"): there is no package called ‘gdata’\n",
     "output_type": "error",
     "traceback": [
      "Error in library(\"gdata\"): there is no package called ‘gdata’\nTraceback:\n",
      "1. library(\"gdata\")",
      "2. stop(txt, domain = NA)"
     ]
    }
   ],
   "source": [
    "# Load the gdata package\n",
    "library(\"gdata\")\n",
    "\n",
    "# Import the second sheet of urbanpop.xls: urban_pop\n",
    "urban_pop <- read.xls(\"urbanpop.xls\", sheet = \"1967-1974\")\n",
    "\n",
    "# Print the first 11 observations using head()\n",
    "head(urban_pop, n=11)"
   ]
  },
  {
   "cell_type": "markdown",
   "metadata": {},
   "source": [
    "Remember how read.xls() actually works? It basically comes down to two steps: converting the Excel file to a .csv file using a Perl script, and then reading that .csv file with the read.csv() function that is loaded by default in R, through the utils package.\n",
    "\n",
    "This means that all the options that you can specify in read.csv(), can also be specified in read.xls().\n",
    "\n",
    "The urbanpop.xls dataset is already available in your workspace. It's still comprised of three sheets, and has column names in the first row of each sheet.)"
   ]
  },
  {
   "cell_type": "code",
   "execution_count": 30,
   "metadata": {},
   "outputs": [
    {
     "ename": "ERROR",
     "evalue": "Error in read.xls(\"urbanpop.xls\", sheet = 2, skip = 50, header = FALSE, : could not find function \"read.xls\"\n",
     "output_type": "error",
     "traceback": [
      "Error in read.xls(\"urbanpop.xls\", sheet = 2, skip = 50, header = FALSE, : could not find function \"read.xls\"\nTraceback:\n"
     ]
    }
   ],
   "source": [
    "# The gdata package is alreaded loaded\n",
    "\n",
    "# Column names for urban_pop\n",
    "columns <- c(\"country\", paste0(\"year_\", 1967:1974))\n",
    "\n",
    "# Finish the read.xls call\n",
    "urban_pop <- read.xls(\"urbanpop.xls\", sheet = 2,\n",
    "                      skip = 50, header = FALSE, stringsAsFactors = FALSE,\n",
    "                      col.names = columns)\n",
    "\n",
    "# Print first 10 observation of urban_pop\n",
    "head(urban_pop, n=10)"
   ]
  },
  {
   "cell_type": "markdown",
   "metadata": {},
   "source": [
    "Now that you can read in Excel data, let's try to clean and merge it. You already used the cbind() function some exercises ago. Let's take it one step further now.\n",
    "\n",
    "The urbanpop.xls dataset is available in your working directory. The file still contains three sheets, and has column names in the first row of each sheet."
   ]
  },
  {
   "cell_type": "code",
   "execution_count": 31,
   "metadata": {},
   "outputs": [
    {
     "ename": "ERROR",
     "evalue": "Error in read.xls(path, sheet = 1, stringsAsFactors = FALSE): could not find function \"read.xls\"\n",
     "output_type": "error",
     "traceback": [
      "Error in read.xls(path, sheet = 1, stringsAsFactors = FALSE): could not find function \"read.xls\"\nTraceback:\n"
     ]
    }
   ],
   "source": [
    "# Add code to import data from all three sheets in urbanpop.xls\n",
    "path <- \"urbanpop.xls\"\n",
    "urban_sheet1 <- read.xls(path, sheet = 1, stringsAsFactors = FALSE)\n",
    "urban_sheet2 <- read.xls(path, sheet = 2, stringsAsFactors = FALSE)\n",
    "urban_sheet3 <- read.xls(path, sheet = 3, stringsAsFactors = FALSE)\n",
    "\n",
    "# Extend the cbind() call to include urban_sheet3: urban\n",
    "urban <- cbind(urban_sheet1, urban_sheet2[-1], urban_sheet3[-1])\n",
    "\n",
    "# Remove all rows with NAs from urban: urban_clean\n",
    "urban_clean <- na.omit(urban)\n",
    "\n",
    "# Print out a summary of urban_clean\n",
    "summary(urban_clean)"
   ]
  },
  {
   "cell_type": "markdown",
   "metadata": {},
   "source": [
    "When working with XLConnect, the first step will be to load a workbook in your R session with loadWorkbook(); this function will build a \"bridge\" between your Excel file and your R session.\n",
    "\n",
    "In this and the following exercises, you will continue to work with urbanpop.xlsx, containing urban population data throughout time. The Excel file is available in your current working directory."
   ]
  },
  {
   "cell_type": "code",
   "execution_count": 33,
   "metadata": {},
   "outputs": [
    {
     "name": "stderr",
     "output_type": "stream",
     "text": [
      "Warning message:\n",
      "“unable to access index for repository https://cran.r-project.org/src/contrib:\n",
      "  internet routines cannot be loaded”Warning message:\n",
      "“package ‘XLConnect’ is not available (for R version 3.4.1)”"
     ]
    }
   ],
   "source": [
    "install.packages(\"XLConnect\")"
   ]
  },
  {
   "cell_type": "code",
   "execution_count": 34,
   "metadata": {},
   "outputs": [
    {
     "ename": "ERROR",
     "evalue": "Error in library(\"XLConnect\"): there is no package called ‘XLConnect’\n",
     "output_type": "error",
     "traceback": [
      "Error in library(\"XLConnect\"): there is no package called ‘XLConnect’\nTraceback:\n",
      "1. library(\"XLConnect\")",
      "2. stop(txt, domain = NA)"
     ]
    }
   ],
   "source": [
    "# urbanpop.xlsx is available in your working directory\n",
    "\n",
    "# Load the XLConnect package\n",
    "library(\"XLConnect\")\n",
    "\n",
    "# Build connection to urbanpop.xlsx: my_book\n",
    "my_book <- loadWorkbook(\"urbanpop.xlsx\")\n",
    "\n",
    "# Print out the class of my_book\n",
    "class(my_book)"
   ]
  },
  {
   "cell_type": "markdown",
   "metadata": {},
   "source": [
    "Just as readxl and gdata, you can use XLConnect to import data from Excel file into R.\n",
    "\n",
    "To list the sheets in an Excel file, use getSheets(). To actually import data from a sheet, you can use readWorksheet(). Both functions require an XLConnect workbook object as the first argument.\n",
    "\n",
    "You'll again be working with urbanpop.xlsx. The my_book object that links to this Excel file has already been created."
   ]
  },
  {
   "cell_type": "code",
   "execution_count": 35,
   "metadata": {},
   "outputs": [
    {
     "ename": "ERROR",
     "evalue": "Error in loadWorkbook(\"urbanpop.xlsx\"): could not find function \"loadWorkbook\"\n",
     "output_type": "error",
     "traceback": [
      "Error in loadWorkbook(\"urbanpop.xlsx\"): could not find function \"loadWorkbook\"\nTraceback:\n"
     ]
    }
   ],
   "source": [
    "# XLConnect is already available\n",
    "\n",
    "# Build connection to urbanpop.xlsx\n",
    "my_book <- loadWorkbook(\"urbanpop.xlsx\")\n",
    "\n",
    "# List the sheets in my_book\n",
    "getSheets(my_book)\n",
    "\n",
    "# Import the second sheet in my_book\n",
    "readWorksheet(my_book, sheet=2)\n"
   ]
  },
  {
   "cell_type": "markdown",
   "metadata": {},
   "source": [
    "o get a clear overview about urbanpop.xlsx without having to open up the Excel file, you can execute the following code:\n",
    "\n",
    "my_book <- loadWorkbook(\"urbanpop.xlsx\")\n",
    "sheets <- getSheets(my_book)\n",
    "all <- lapply(sheets, readWorksheet, object = my_book)\n",
    "str(all)\n",
    "Suppose we're only interested in urban population data of the years 1968, 1969 and 1970. The data for these years is in the columns 3, 4, and 5 of the second sheet. Only selecting these columns will leave us in the dark about the actual countries the figures belong to,"
   ]
  },
  {
   "cell_type": "code",
   "execution_count": 36,
   "metadata": {},
   "outputs": [
    {
     "ename": "ERROR",
     "evalue": "Error in loadWorkbook(\"urbanpop.xlsx\"): could not find function \"loadWorkbook\"\n",
     "output_type": "error",
     "traceback": [
      "Error in loadWorkbook(\"urbanpop.xlsx\"): could not find function \"loadWorkbook\"\nTraceback:\n"
     ]
    }
   ],
   "source": [
    "# XLConnect is already available\n",
    "\n",
    "# Build connection to urbanpop.xlsx\n",
    "my_book <- loadWorkbook(\"urbanpop.xlsx\")\n",
    "\n",
    "# Import columns 3, 4, and 5 from second sheet in my_book: urbanpop_sel\n",
    "urbanpop_sel <- readWorksheet(my_book, sheet = 2, startCol=3, endCol=5)\n",
    "\n",
    "# Import first column from second sheet in my_book: countries\n",
    "countries <- readWorksheet(my_book, sheet =2,  startCol=1, endCol=1)\n",
    "\n",
    "# cbind() urbanpop_sel and countries together: selection\n",
    "selection <- cbind(countries, urbanpop_sel)"
   ]
  },
  {
   "cell_type": "markdown",
   "metadata": {},
   "source": [
    "Where readxl and gdata were only able to import Excel data, XLConnect's approach of providing an actual interface to an Excel file makes it able to edit your Excel files from inside R. In this exercise, you'll create a new sheet. In the next exercise, you'll populate the sheet with data, and save the results in a new Excel file.\n",
    "\n",
    "You'll continue to work with urbanpop.xlsx. The my_book object that links to this Excel file is already available."
   ]
  },
  {
   "cell_type": "code",
   "execution_count": 37,
   "metadata": {},
   "outputs": [
    {
     "ename": "ERROR",
     "evalue": "Error in loadWorkbook(\"urbanpop.xlsx\"): could not find function \"loadWorkbook\"\n",
     "output_type": "error",
     "traceback": [
      "Error in loadWorkbook(\"urbanpop.xlsx\"): could not find function \"loadWorkbook\"\nTraceback:\n"
     ]
    }
   ],
   "source": [
    "# XLConnect is already available\n",
    "\n",
    "# Build connection to urbanpop.xlsx\n",
    "my_book <- loadWorkbook(\"urbanpop.xlsx\")\n",
    "\n",
    "# Add a worksheet to my_book, named \"data_summary\"\n",
    "createSheet(my_book, name=\"data_summary\")\n",
    "\n",
    "# Use getSheets() on my_book\n",
    "getSheets(my_book)"
   ]
  },
  {
   "cell_type": "markdown",
   "metadata": {},
   "source": [
    "The first step of creating a sheet is done; let's populate it with some data now! summ, a data frame with some summary statistics on the two Excel sheets is already coded so you can take it from there."
   ]
  },
  {
   "cell_type": "code",
   "execution_count": 38,
   "metadata": {},
   "outputs": [
    {
     "ename": "ERROR",
     "evalue": "Error in loadWorkbook(\"urbanpop.xlsx\"): could not find function \"loadWorkbook\"\n",
     "output_type": "error",
     "traceback": [
      "Error in loadWorkbook(\"urbanpop.xlsx\"): could not find function \"loadWorkbook\"\nTraceback:\n"
     ]
    }
   ],
   "source": [
    "# XLConnect is already available\n",
    "\n",
    "# Build connection to urbanpop.xlsx\n",
    "my_book <- loadWorkbook(\"urbanpop.xlsx\")\n",
    "\n",
    "# Add a worksheet to my_book, named \"data_summary\"\n",
    "createSheet(my_book, \"data_summary\")\n",
    "\n",
    "# Create data frame: summ\n",
    "sheets <- getSheets(my_book)[1:3]\n",
    "dims <- sapply(sheets, function(x) dim(readWorksheet(my_book, sheet = x)), USE.NAMES = FALSE)\n",
    "summ <- data.frame(sheets = sheets,\n",
    "                   nrows = dims[1, ],\n",
    "                   ncols = dims[2, ])\n",
    "\n",
    "# Add data in summ to \"data_summary\" sheet\n",
    "writeWorksheet(my_book, summ, sheet = \"data_summary\")\n",
    "\n",
    "# Save workbook as summary.xlsx\n",
    "saveWorkbook(my_book, file=\"summary.xlsx\")"
   ]
  },
  {
   "cell_type": "markdown",
   "metadata": {},
   "source": [
    "Come to think of it, \"data_summary\" is not an ideal name. As the summary of these excel sheets is always data-related, you simply want to name the sheet \"summary\".\n",
    "\n",
    "The workspace already contains a workbook, my_book, that refers to an Excel file with 4 sheets: the three data sheets, and the \"data_summary\" sheet."
   ]
  },
  {
   "cell_type": "code",
   "execution_count": 39,
   "metadata": {},
   "outputs": [
    {
     "ename": "ERROR",
     "evalue": "Error in renameSheet(my_book, sheet = 4, \"summary\"): could not find function \"renameSheet\"\n",
     "output_type": "error",
     "traceback": [
      "Error in renameSheet(my_book, sheet = 4, \"summary\"): could not find function \"renameSheet\"\nTraceback:\n"
     ]
    }
   ],
   "source": [
    "# my_book is available\n",
    "\n",
    "# Rename \"data_summary\" sheet to \"summary\"\n",
    "renameSheet(my_book, sheet=4, \"summary\")\n",
    "\n",
    "# Print out sheets of my_book\n",
    "getSheets(my_book)\n",
    "\n",
    "# Save workbook to \"renamed.xlsx\"\n",
    "saveWorkbook(my_book, file=\"renamed.xlsx\")"
   ]
  },
  {
   "cell_type": "markdown",
   "metadata": {},
   "source": [
    "After presenting the new Excel sheet to your peers, it appears not everybody is a big fan. Why summarize sheets and store the info in Excel if all the information is implicitly available? To hell with it, just remove the entire fourth sheet!"
   ]
  },
  {
   "cell_type": "code",
   "execution_count": 40,
   "metadata": {},
   "outputs": [
    {
     "ename": "ERROR",
     "evalue": "Error in library(\"XLConnect\"): there is no package called ‘XLConnect’\n",
     "output_type": "error",
     "traceback": [
      "Error in library(\"XLConnect\"): there is no package called ‘XLConnect’\nTraceback:\n",
      "1. library(\"XLConnect\")",
      "2. stop(txt, domain = NA)"
     ]
    }
   ],
   "source": [
    "# Load the XLConnect package\n",
    "library(\"XLConnect\")\n",
    "\n",
    "# Build connection to renamed.xlsx: my_book\n",
    "my_book <- loadWorkbook(\"renamed.xlsx\")\n",
    "\n",
    "# Remove the fourth sheet\n",
    "removeSheet(my_book, sheet=\"summary\")\n",
    "\n",
    "# Save workbook to \"clean.xlsx\"\n",
    "saveWorkbook(my_book, file=\"clean.xlsx\")"
   ]
  },
  {
   "cell_type": "code",
   "execution_count": null,
   "metadata": {
    "collapsed": true
   },
   "outputs": [],
   "source": []
  }
 ],
 "metadata": {
  "kernelspec": {
   "display_name": "R",
   "language": "R",
   "name": "ir"
  },
  "language_info": {
   "codemirror_mode": "r",
   "file_extension": ".r",
   "mimetype": "text/x-r-source",
   "name": "R",
   "pygments_lexer": "r",
   "version": "3.4.1"
  }
 },
 "nbformat": 4,
 "nbformat_minor": 2
}
