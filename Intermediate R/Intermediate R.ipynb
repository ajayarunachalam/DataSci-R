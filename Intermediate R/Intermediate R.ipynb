{
 "cells": [
  {
   "cell_type": "raw",
   "metadata": {},
   "source": [
    "The most basic form of comparison is equality. Let's briefly recap its syntax. The following statements all evaluate to TRUE (feel free to try them out in the console).\n",
    "\n",
    "3 == (2 + 1)\n",
    "\"intermediate\" != \"r\"\n",
    "TRUE != FALSE\n",
    "\"Rchitect\" != \"rchitect\"\n",
    "Notice from the last expression that R is case sensitive: \"R\" is not equal to \"r\". Keep this in mind when solving the exercises in this chapter!"
   ]
  },
  {
   "cell_type": "code",
   "execution_count": 1,
   "metadata": {},
   "outputs": [
    {
     "data": {
      "text/html": [
       "FALSE"
      ],
      "text/latex": [
       "FALSE"
      ],
      "text/markdown": [
       "FALSE"
      ],
      "text/plain": [
       "[1] FALSE"
      ]
     },
     "metadata": {},
     "output_type": "display_data"
    },
    {
     "data": {
      "text/html": [
       "FALSE"
      ],
      "text/latex": [
       "FALSE"
      ],
      "text/markdown": [
       "FALSE"
      ],
      "text/plain": [
       "[1] FALSE"
      ]
     },
     "metadata": {},
     "output_type": "display_data"
    },
    {
     "data": {
      "text/html": [
       "FALSE"
      ],
      "text/latex": [
       "FALSE"
      ],
      "text/markdown": [
       "FALSE"
      ],
      "text/plain": [
       "[1] FALSE"
      ]
     },
     "metadata": {},
     "output_type": "display_data"
    },
    {
     "data": {
      "text/html": [
       "TRUE"
      ],
      "text/latex": [
       "TRUE"
      ],
      "text/markdown": [
       "TRUE"
      ],
      "text/plain": [
       "[1] TRUE"
      ]
     },
     "metadata": {},
     "output_type": "display_data"
    }
   ],
   "source": [
    "# Comparison of logicals\n",
    "TRUE == FALSE\n",
    "\n",
    "# Comparison of numerics\n",
    "-6 * 14 != 17-101\n",
    "\n",
    "# Comparison of character strings\n",
    "\"useR\" == \"user\"\n",
    "\n",
    "# Compare a logical with a numeric\n",
    "TRUE == 1\n"
   ]
  },
  {
   "cell_type": "raw",
   "metadata": {},
   "source": [
    "Apart from equality operators, Filip also introduced the less than and greater than operators: < and >. You can also add an equal sign to express less than or equal to or greater than or equal to, respectively. Have a look at the following R expressions, that all evaluate to FALSE:\n",
    "\n",
    "(1 + 2) > 4\n",
    "\"dog\" < \"Cats\"\n",
    "TRUE <= FALSE\n",
    "Remember that for string comparison, R determines the greater than relationship based on alphabetical order. Also, keep in mind that TRUE corresponds to 1 in R, and FALSE coerces to 0 behind the scenes. Therefore, FALSE < TRUE is TRUE."
   ]
  },
  {
   "cell_type": "code",
   "execution_count": 2,
   "metadata": {},
   "outputs": [
    {
     "data": {
      "text/html": [
       "FALSE"
      ],
      "text/latex": [
       "FALSE"
      ],
      "text/markdown": [
       "FALSE"
      ],
      "text/plain": [
       "[1] FALSE"
      ]
     },
     "metadata": {},
     "output_type": "display_data"
    },
    {
     "data": {
      "text/html": [
       "TRUE"
      ],
      "text/latex": [
       "TRUE"
      ],
      "text/markdown": [
       "TRUE"
      ],
      "text/plain": [
       "[1] TRUE"
      ]
     },
     "metadata": {},
     "output_type": "display_data"
    },
    {
     "data": {
      "text/html": [
       "TRUE"
      ],
      "text/latex": [
       "TRUE"
      ],
      "text/markdown": [
       "TRUE"
      ],
      "text/plain": [
       "[1] TRUE"
      ]
     },
     "metadata": {},
     "output_type": "display_data"
    }
   ],
   "source": [
    "# Comparison of numerics\n",
    "-6 * 5 + 2 >= -10 +1\n",
    "\n",
    "# Comparison of character strings\n",
    "\"raining\" <= \"raining dogs\"\n",
    "\n",
    "# Comparison of logicals\n",
    "TRUE > FALSE"
   ]
  },
  {
   "cell_type": "raw",
   "metadata": {},
   "source": [
    "You are already aware that R is very good with vectors. Without having to change anything about the syntax, R's relational operators also work on vectors.\n",
    "\n",
    "Let's go back to the example that was started in the video. You want to figure out whether your activity on social media platforms have paid off and decide to look at your results for LinkedIn and Facebook. The sample code in the editor initializes the vectors linkedin and facebook. Each of the vectors contains the number of profile views your LinkedIn and Facebook profiles had over the last seven days."
   ]
  },
  {
   "cell_type": "code",
   "execution_count": 3,
   "metadata": {},
   "outputs": [
    {
     "data": {
      "text/html": [
       "<ol class=list-inline>\n",
       "\t<li>TRUE</li>\n",
       "\t<li>FALSE</li>\n",
       "\t<li>FALSE</li>\n",
       "\t<li>FALSE</li>\n",
       "\t<li>FALSE</li>\n",
       "\t<li>TRUE</li>\n",
       "\t<li>FALSE</li>\n",
       "</ol>\n"
      ],
      "text/latex": [
       "\\begin{enumerate*}\n",
       "\\item TRUE\n",
       "\\item FALSE\n",
       "\\item FALSE\n",
       "\\item FALSE\n",
       "\\item FALSE\n",
       "\\item TRUE\n",
       "\\item FALSE\n",
       "\\end{enumerate*}\n"
      ],
      "text/markdown": [
       "1. TRUE\n",
       "2. FALSE\n",
       "3. FALSE\n",
       "4. FALSE\n",
       "5. FALSE\n",
       "6. TRUE\n",
       "7. FALSE\n",
       "\n",
       "\n"
      ],
      "text/plain": [
       "[1]  TRUE FALSE FALSE FALSE FALSE  TRUE FALSE"
      ]
     },
     "metadata": {},
     "output_type": "display_data"
    },
    {
     "data": {
      "text/html": [
       "<ol class=list-inline>\n",
       "\t<li>FALSE</li>\n",
       "\t<li>FALSE</li>\n",
       "\t<li>FALSE</li>\n",
       "\t<li>TRUE</li>\n",
       "\t<li>TRUE</li>\n",
       "\t<li>FALSE</li>\n",
       "\t<li>FALSE</li>\n",
       "</ol>\n"
      ],
      "text/latex": [
       "\\begin{enumerate*}\n",
       "\\item FALSE\n",
       "\\item FALSE\n",
       "\\item FALSE\n",
       "\\item TRUE\n",
       "\\item TRUE\n",
       "\\item FALSE\n",
       "\\item FALSE\n",
       "\\end{enumerate*}\n"
      ],
      "text/markdown": [
       "1. FALSE\n",
       "2. FALSE\n",
       "3. FALSE\n",
       "4. TRUE\n",
       "5. TRUE\n",
       "6. FALSE\n",
       "7. FALSE\n",
       "\n",
       "\n"
      ],
      "text/plain": [
       "[1] FALSE FALSE FALSE  TRUE  TRUE FALSE FALSE"
      ]
     },
     "metadata": {},
     "output_type": "display_data"
    },
    {
     "data": {
      "text/html": [
       "<ol class=list-inline>\n",
       "\t<li>FALSE</li>\n",
       "\t<li>TRUE</li>\n",
       "\t<li>TRUE</li>\n",
       "\t<li>FALSE</li>\n",
       "\t<li>FALSE</li>\n",
       "\t<li>TRUE</li>\n",
       "\t<li>FALSE</li>\n",
       "</ol>\n"
      ],
      "text/latex": [
       "\\begin{enumerate*}\n",
       "\\item FALSE\n",
       "\\item TRUE\n",
       "\\item TRUE\n",
       "\\item FALSE\n",
       "\\item FALSE\n",
       "\\item TRUE\n",
       "\\item FALSE\n",
       "\\end{enumerate*}\n"
      ],
      "text/markdown": [
       "1. FALSE\n",
       "2. TRUE\n",
       "3. TRUE\n",
       "4. FALSE\n",
       "5. FALSE\n",
       "6. TRUE\n",
       "7. FALSE\n",
       "\n",
       "\n"
      ],
      "text/plain": [
       "[1] FALSE  TRUE  TRUE FALSE FALSE  TRUE FALSE"
      ]
     },
     "metadata": {},
     "output_type": "display_data"
    }
   ],
   "source": [
    "# The linkedin and facebook vectors have already been created for you\n",
    "linkedin <- c(16, 9, 13, 5, 2, 17, 14)\n",
    "facebook <- c(17, 7, 5, 16, 8, 13, 14)\n",
    "\n",
    "# Popular days\n",
    "linkedin>15\n",
    "\n",
    "# Quiet days\n",
    "linkedin<=5\n",
    "\n",
    "# LinkedIn more popular than Facebook\n",
    "linkedin>facebook"
   ]
  },
  {
   "cell_type": "raw",
   "metadata": {},
   "source": [
    "R's ability to deal with different data structures for comparisons does not stop at vectors. Matrices and relational operators also work together seamlessly!\n",
    "\n",
    "Instead of in vectors (as in the previous exercise), the LinkedIn and Facebook data is now stored in a matrix called views. The first row contains the LinkedIn information; the second row the Facebook information. The original vectors facebook and linkedin are still available as well."
   ]
  },
  {
   "cell_type": "code",
   "execution_count": 5,
   "metadata": {},
   "outputs": [
    {
     "data": {
      "text/html": [
       "<table>\n",
       "<tbody>\n",
       "\t<tr><td>16</td><td>9 </td><td>13</td><td> 5</td><td>2 </td><td>17</td><td>14</td></tr>\n",
       "\t<tr><td>17</td><td>7 </td><td> 5</td><td>16</td><td>8 </td><td>13</td><td>14</td></tr>\n",
       "</tbody>\n",
       "</table>\n"
      ],
      "text/latex": [
       "\\begin{tabular}{lllllll}\n",
       "\t 16 & 9  & 13 &  5 & 2  & 17 & 14\\\\\n",
       "\t 17 & 7  &  5 & 16 & 8  & 13 & 14\\\\\n",
       "\\end{tabular}\n"
      ],
      "text/markdown": [
       "\n",
       "| 16 | 9  | 13 |  5 | 2  | 17 | 14 | \n",
       "| 17 | 7  |  5 | 16 | 8  | 13 | 14 | \n",
       "\n",
       "\n"
      ],
      "text/plain": [
       "     [,1] [,2] [,3] [,4] [,5] [,6] [,7]\n",
       "[1,] 16   9    13    5   2    17   14  \n",
       "[2,] 17   7     5   16   8    13   14  "
      ]
     },
     "metadata": {},
     "output_type": "display_data"
    },
    {
     "data": {
      "text/html": [
       "<table>\n",
       "<tbody>\n",
       "\t<tr><td>FALSE</td><td>FALSE</td><td> TRUE</td><td>FALSE</td><td>FALSE</td><td>FALSE</td><td>FALSE</td></tr>\n",
       "\t<tr><td>FALSE</td><td>FALSE</td><td>FALSE</td><td>FALSE</td><td>FALSE</td><td> TRUE</td><td>FALSE</td></tr>\n",
       "</tbody>\n",
       "</table>\n"
      ],
      "text/latex": [
       "\\begin{tabular}{lllllll}\n",
       "\t FALSE & FALSE &  TRUE & FALSE & FALSE & FALSE & FALSE\\\\\n",
       "\t FALSE & FALSE & FALSE & FALSE & FALSE &  TRUE & FALSE\\\\\n",
       "\\end{tabular}\n"
      ],
      "text/markdown": [
       "\n",
       "| FALSE | FALSE |  TRUE | FALSE | FALSE | FALSE | FALSE | \n",
       "| FALSE | FALSE | FALSE | FALSE | FALSE |  TRUE | FALSE | \n",
       "\n",
       "\n"
      ],
      "text/plain": [
       "     [,1]  [,2]  [,3]  [,4]  [,5]  [,6]  [,7] \n",
       "[1,] FALSE FALSE  TRUE FALSE FALSE FALSE FALSE\n",
       "[2,] FALSE FALSE FALSE FALSE FALSE  TRUE FALSE"
      ]
     },
     "metadata": {},
     "output_type": "display_data"
    },
    {
     "data": {
      "text/html": [
       "<table>\n",
       "<tbody>\n",
       "\t<tr><td>FALSE</td><td>TRUE </td><td>TRUE </td><td> TRUE</td><td>TRUE </td><td>FALSE</td><td>TRUE </td></tr>\n",
       "\t<tr><td>FALSE</td><td>TRUE </td><td>TRUE </td><td>FALSE</td><td>TRUE </td><td> TRUE</td><td>TRUE </td></tr>\n",
       "</tbody>\n",
       "</table>\n"
      ],
      "text/latex": [
       "\\begin{tabular}{lllllll}\n",
       "\t FALSE & TRUE  & TRUE  &  TRUE & TRUE  & FALSE & TRUE \\\\\n",
       "\t FALSE & TRUE  & TRUE  & FALSE & TRUE  &  TRUE & TRUE \\\\\n",
       "\\end{tabular}\n"
      ],
      "text/markdown": [
       "\n",
       "| FALSE | TRUE  | TRUE  |  TRUE | TRUE  | FALSE | TRUE  | \n",
       "| FALSE | TRUE  | TRUE  | FALSE | TRUE  |  TRUE | TRUE  | \n",
       "\n",
       "\n"
      ],
      "text/plain": [
       "     [,1]  [,2] [,3] [,4]  [,5] [,6]  [,7]\n",
       "[1,] FALSE TRUE TRUE  TRUE TRUE FALSE TRUE\n",
       "[2,] FALSE TRUE TRUE FALSE TRUE  TRUE TRUE"
      ]
     },
     "metadata": {},
     "output_type": "display_data"
    }
   ],
   "source": [
    "# The social data has been created for you\n",
    "linkedin <- c(16, 9, 13, 5, 2, 17, 14)\n",
    "facebook <- c(17, 7, 5, 16, 8, 13, 14)\n",
    "views <- matrix(c(linkedin, facebook), nrow = 2, byrow = TRUE)\n",
    "views\n",
    "# When does views equal 13?\n",
    "views==13\n",
    "\n",
    "# When is views less than or equal to 14?\n",
    "views <=14"
   ]
  },
  {
   "cell_type": "raw",
   "metadata": {},
   "source": [
    "Before you work your way through the next exercises, have a look at the following R expressions. All of them will evaluate to TRUE:\n",
    "\n",
    "TRUE & TRUE\n",
    "FALSE | TRUE\n",
    "5 <= 5 & 2 < 3\n",
    "3 < 4 | 7 < 6\n",
    "Watch out: 3 < x < 7 to check if x is between 3 and 7 will not work; you'll need 3 < x & x < 7 for that.\n",
    "\n",
    "In this exercise, you'll be working with the last variable. This variable equals the last value of the linkedin vector that you've worked with previously. The linkedin vector represents the number of LinkedIn views your profile had in the last seven days, remember? Both the variables linkedin and last have already been defined in the editor."
   ]
  },
  {
   "cell_type": "code",
   "execution_count": 7,
   "metadata": {},
   "outputs": [
    {
     "data": {
      "text/html": [
       "<ol class=list-inline>\n",
       "\t<li>16</li>\n",
       "\t<li>9</li>\n",
       "\t<li>13</li>\n",
       "\t<li>5</li>\n",
       "\t<li>2</li>\n",
       "\t<li>17</li>\n",
       "\t<li>14</li>\n",
       "</ol>\n"
      ],
      "text/latex": [
       "\\begin{enumerate*}\n",
       "\\item 16\n",
       "\\item 9\n",
       "\\item 13\n",
       "\\item 5\n",
       "\\item 2\n",
       "\\item 17\n",
       "\\item 14\n",
       "\\end{enumerate*}\n"
      ],
      "text/markdown": [
       "1. 16\n",
       "2. 9\n",
       "3. 13\n",
       "4. 5\n",
       "5. 2\n",
       "6. 17\n",
       "7. 14\n",
       "\n",
       "\n"
      ],
      "text/plain": [
       "[1] 16  9 13  5  2 17 14"
      ]
     },
     "metadata": {},
     "output_type": "display_data"
    },
    {
     "data": {
      "text/html": [
       "14"
      ],
      "text/latex": [
       "14"
      ],
      "text/markdown": [
       "14"
      ],
      "text/plain": [
       "[1] 14"
      ]
     },
     "metadata": {},
     "output_type": "display_data"
    },
    {
     "data": {
      "text/html": [
       "TRUE"
      ],
      "text/latex": [
       "TRUE"
      ],
      "text/markdown": [
       "TRUE"
      ],
      "text/plain": [
       "[1] TRUE"
      ]
     },
     "metadata": {},
     "output_type": "display_data"
    },
    {
     "data": {
      "text/html": [
       "FALSE"
      ],
      "text/latex": [
       "FALSE"
      ],
      "text/markdown": [
       "FALSE"
      ],
      "text/plain": [
       "[1] FALSE"
      ]
     },
     "metadata": {},
     "output_type": "display_data"
    }
   ],
   "source": [
    "# The linkedin and last variable are already defined for you\n",
    "linkedin <- c(16, 9, 13, 5, 2, 17, 14)\n",
    "last <- tail(linkedin, 1)\n",
    "linkedin\n",
    "last\n",
    "# Is last under 5 or above 10?\n",
    "last<5 | last>10\n",
    "\n",
    "# Is last between 15 (exclusive) and 20 (inclusive)?\n",
    "last>15 & last<=20"
   ]
  },
  {
   "cell_type": "raw",
   "metadata": {},
   "source": [
    "Like relational operators, logical operators work perfectly fine with vectors and matrices.\n",
    "\n",
    "Both the vectors linkedin and facebook are available again. Also a matrix - views - has been defined; its first and second row correspond to the linkedin and facebook vectors, respectively. Ready for some advanced queries to gain more insights into your social outreach?"
   ]
  },
  {
   "cell_type": "code",
   "execution_count": 9,
   "metadata": {},
   "outputs": [
    {
     "data": {
      "text/html": [
       "<ol class=list-inline>\n",
       "\t<li>16</li>\n",
       "\t<li>9</li>\n",
       "\t<li>13</li>\n",
       "\t<li>5</li>\n",
       "\t<li>2</li>\n",
       "\t<li>17</li>\n",
       "\t<li>14</li>\n",
       "</ol>\n"
      ],
      "text/latex": [
       "\\begin{enumerate*}\n",
       "\\item 16\n",
       "\\item 9\n",
       "\\item 13\n",
       "\\item 5\n",
       "\\item 2\n",
       "\\item 17\n",
       "\\item 14\n",
       "\\end{enumerate*}\n"
      ],
      "text/markdown": [
       "1. 16\n",
       "2. 9\n",
       "3. 13\n",
       "4. 5\n",
       "5. 2\n",
       "6. 17\n",
       "7. 14\n",
       "\n",
       "\n"
      ],
      "text/plain": [
       "[1] 16  9 13  5  2 17 14"
      ]
     },
     "metadata": {},
     "output_type": "display_data"
    },
    {
     "data": {
      "text/html": [
       "<ol class=list-inline>\n",
       "\t<li>17</li>\n",
       "\t<li>7</li>\n",
       "\t<li>5</li>\n",
       "\t<li>16</li>\n",
       "\t<li>8</li>\n",
       "\t<li>13</li>\n",
       "\t<li>14</li>\n",
       "</ol>\n"
      ],
      "text/latex": [
       "\\begin{enumerate*}\n",
       "\\item 17\n",
       "\\item 7\n",
       "\\item 5\n",
       "\\item 16\n",
       "\\item 8\n",
       "\\item 13\n",
       "\\item 14\n",
       "\\end{enumerate*}\n"
      ],
      "text/markdown": [
       "1. 17\n",
       "2. 7\n",
       "3. 5\n",
       "4. 16\n",
       "5. 8\n",
       "6. 13\n",
       "7. 14\n",
       "\n",
       "\n"
      ],
      "text/plain": [
       "[1] 17  7  5 16  8 13 14"
      ]
     },
     "metadata": {},
     "output_type": "display_data"
    },
    {
     "data": {
      "text/html": [
       "<table>\n",
       "<tbody>\n",
       "\t<tr><td>16</td><td>9 </td><td>13</td><td> 5</td><td>2 </td><td>17</td><td>14</td></tr>\n",
       "\t<tr><td>17</td><td>7 </td><td> 5</td><td>16</td><td>8 </td><td>13</td><td>14</td></tr>\n",
       "</tbody>\n",
       "</table>\n"
      ],
      "text/latex": [
       "\\begin{tabular}{lllllll}\n",
       "\t 16 & 9  & 13 &  5 & 2  & 17 & 14\\\\\n",
       "\t 17 & 7  &  5 & 16 & 8  & 13 & 14\\\\\n",
       "\\end{tabular}\n"
      ],
      "text/markdown": [
       "\n",
       "| 16 | 9  | 13 |  5 | 2  | 17 | 14 | \n",
       "| 17 | 7  |  5 | 16 | 8  | 13 | 14 | \n",
       "\n",
       "\n"
      ],
      "text/plain": [
       "     [,1] [,2] [,3] [,4] [,5] [,6] [,7]\n",
       "[1,] 16   9    13    5   2    17   14  \n",
       "[2,] 17   7     5   16   8    13   14  "
      ]
     },
     "metadata": {},
     "output_type": "display_data"
    },
    {
     "data": {
      "text/html": [
       "<ol class=list-inline>\n",
       "\t<li>FALSE</li>\n",
       "\t<li>FALSE</li>\n",
       "\t<li>TRUE</li>\n",
       "\t<li>FALSE</li>\n",
       "\t<li>FALSE</li>\n",
       "\t<li>FALSE</li>\n",
       "\t<li>FALSE</li>\n",
       "</ol>\n"
      ],
      "text/latex": [
       "\\begin{enumerate*}\n",
       "\\item FALSE\n",
       "\\item FALSE\n",
       "\\item TRUE\n",
       "\\item FALSE\n",
       "\\item FALSE\n",
       "\\item FALSE\n",
       "\\item FALSE\n",
       "\\end{enumerate*}\n"
      ],
      "text/markdown": [
       "1. FALSE\n",
       "2. FALSE\n",
       "3. TRUE\n",
       "4. FALSE\n",
       "5. FALSE\n",
       "6. FALSE\n",
       "7. FALSE\n",
       "\n",
       "\n"
      ],
      "text/plain": [
       "[1] FALSE FALSE  TRUE FALSE FALSE FALSE FALSE"
      ]
     },
     "metadata": {},
     "output_type": "display_data"
    },
    {
     "data": {
      "text/html": [
       "<ol class=list-inline>\n",
       "\t<li>TRUE</li>\n",
       "\t<li>FALSE</li>\n",
       "\t<li>TRUE</li>\n",
       "\t<li>TRUE</li>\n",
       "\t<li>FALSE</li>\n",
       "\t<li>TRUE</li>\n",
       "\t<li>TRUE</li>\n",
       "</ol>\n"
      ],
      "text/latex": [
       "\\begin{enumerate*}\n",
       "\\item TRUE\n",
       "\\item FALSE\n",
       "\\item TRUE\n",
       "\\item TRUE\n",
       "\\item FALSE\n",
       "\\item TRUE\n",
       "\\item TRUE\n",
       "\\end{enumerate*}\n"
      ],
      "text/markdown": [
       "1. TRUE\n",
       "2. FALSE\n",
       "3. TRUE\n",
       "4. TRUE\n",
       "5. FALSE\n",
       "6. TRUE\n",
       "7. TRUE\n",
       "\n",
       "\n"
      ],
      "text/plain": [
       "[1]  TRUE FALSE  TRUE  TRUE FALSE  TRUE  TRUE"
      ]
     },
     "metadata": {},
     "output_type": "display_data"
    },
    {
     "data": {
      "text/html": [
       "<table>\n",
       "<tbody>\n",
       "\t<tr><td>FALSE</td><td>FALSE</td><td> TRUE</td><td>FALSE</td><td>FALSE</td><td>FALSE</td><td>TRUE </td></tr>\n",
       "\t<tr><td>FALSE</td><td>FALSE</td><td>FALSE</td><td>FALSE</td><td>FALSE</td><td> TRUE</td><td>TRUE </td></tr>\n",
       "</tbody>\n",
       "</table>\n"
      ],
      "text/latex": [
       "\\begin{tabular}{lllllll}\n",
       "\t FALSE & FALSE &  TRUE & FALSE & FALSE & FALSE & TRUE \\\\\n",
       "\t FALSE & FALSE & FALSE & FALSE & FALSE &  TRUE & TRUE \\\\\n",
       "\\end{tabular}\n"
      ],
      "text/markdown": [
       "\n",
       "| FALSE | FALSE |  TRUE | FALSE | FALSE | FALSE | TRUE  | \n",
       "| FALSE | FALSE | FALSE | FALSE | FALSE |  TRUE | TRUE  | \n",
       "\n",
       "\n"
      ],
      "text/plain": [
       "     [,1]  [,2]  [,3]  [,4]  [,5]  [,6]  [,7]\n",
       "[1,] FALSE FALSE  TRUE FALSE FALSE FALSE TRUE\n",
       "[2,] FALSE FALSE FALSE FALSE FALSE  TRUE TRUE"
      ]
     },
     "metadata": {},
     "output_type": "display_data"
    }
   ],
   "source": [
    "# The social data (linkedin, facebook, views) has been created for you\n",
    "linkedin\n",
    "facebook\n",
    "views\n",
    "# linkedin exceeds 10 but facebook below 10\n",
    "linkedin > 10 & facebook <10\n",
    "\n",
    "# When were one or both visited at least 12 times?\n",
    "linkedin >=12 | facebook>=12\n",
    "\n",
    "# When is views between 11 (exclusive) and 14 (inclusive)?\n",
    "views >11 & views <=14"
   ]
  },
  {
   "cell_type": "raw",
   "metadata": {},
   "source": [
    "With the things you've learned by now, you're able to solve pretty cool problems.\n",
    "\n",
    "Instead of recording the number of views for your own LinkedIn profile, suppose you conducted a survey inside the company you're working for. You've asked every employee with a LinkedIn profile how many visits their profile has had over the past seven days. You stored the results in a data frame called li_df. This data frame is available in the workspace; type li_df in the console to check it out."
   ]
  },
  {
   "cell_type": "code",
   "execution_count": 11,
   "metadata": {},
   "outputs": [
    {
     "data": {
      "text/html": [
       "<table>\n",
       "<thead><tr><th></th><th scope=col>day1</th><th scope=col>day2</th><th scope=col>day3</th><th scope=col>day4</th><th scope=col>day5</th><th scope=col>day6</th><th scope=col>day7</th></tr></thead>\n",
       "<tbody>\n",
       "\t<tr><th scope=row>employee1</th><td> 2</td><td> 2</td><td> 3</td><td> 6</td><td> 4</td><td> 2</td><td> 0</td></tr>\n",
       "\t<tr><th scope=row>employee2</th><td>19</td><td>23</td><td>18</td><td>22</td><td>23</td><td>29</td><td>25</td></tr>\n",
       "\t<tr><th scope=row>employee3</th><td>24</td><td>18</td><td>15</td><td>19</td><td>18</td><td>22</td><td>17</td></tr>\n",
       "\t<tr><th scope=row>employee4</th><td>22</td><td>18</td><td>27</td><td>26</td><td>19</td><td>21</td><td>25</td></tr>\n",
       "\t<tr><th scope=row>employee5</th><td>25</td><td>25</td><td>26</td><td>31</td><td>24</td><td>36</td><td>37</td></tr>\n",
       "\t<tr><th scope=row>employee6</th><td>22</td><td>20</td><td>29</td><td>26</td><td>26</td><td>23</td><td>22</td></tr>\n",
       "\t<tr><th scope=row>employee7</th><td> 0</td><td> 4</td><td> 2</td><td> 2</td><td> 3</td><td> 4</td><td> 2</td></tr>\n",
       "\t<tr><th scope=row>employee8</th><td>12</td><td> 2</td><td>15</td><td> 7</td><td> 1</td><td>15</td><td>11</td></tr>\n",
       "\t<tr><th scope=row>employee9</th><td>19</td><td>22</td><td>22</td><td>19</td><td>25</td><td>24</td><td>23</td></tr>\n",
       "\t<tr><th scope=row>employee10</th><td>23</td><td>12</td><td>19</td><td>25</td><td>18</td><td>22</td><td>22</td></tr>\n",
       "</tbody>\n",
       "</table>\n"
      ],
      "text/latex": [
       "\\begin{tabular}{r|lllllll}\n",
       "  & day1 & day2 & day3 & day4 & day5 & day6 & day7\\\\\n",
       "\\hline\n",
       "\temployee1 &  2 &  2 &  3 &  6 &  4 &  2 &  0\\\\\n",
       "\temployee2 & 19 & 23 & 18 & 22 & 23 & 29 & 25\\\\\n",
       "\temployee3 & 24 & 18 & 15 & 19 & 18 & 22 & 17\\\\\n",
       "\temployee4 & 22 & 18 & 27 & 26 & 19 & 21 & 25\\\\\n",
       "\temployee5 & 25 & 25 & 26 & 31 & 24 & 36 & 37\\\\\n",
       "\temployee6 & 22 & 20 & 29 & 26 & 26 & 23 & 22\\\\\n",
       "\temployee7 &  0 &  4 &  2 &  2 &  3 &  4 &  2\\\\\n",
       "\temployee8 & 12 &  2 & 15 &  7 &  1 & 15 & 11\\\\\n",
       "\temployee9 & 19 & 22 & 22 & 19 & 25 & 24 & 23\\\\\n",
       "\temployee10 & 23 & 12 & 19 & 25 & 18 & 22 & 22\\\\\n",
       "\\end{tabular}\n"
      ],
      "text/markdown": [
       "\n",
       "| <!--/--> | day1 | day2 | day3 | day4 | day5 | day6 | day7 | \n",
       "|---|---|---|---|---|---|---|---|---|---|\n",
       "| employee1 |  2 |  2 |  3 |  6 |  4 |  2 |  0 | \n",
       "| employee2 | 19 | 23 | 18 | 22 | 23 | 29 | 25 | \n",
       "| employee3 | 24 | 18 | 15 | 19 | 18 | 22 | 17 | \n",
       "| employee4 | 22 | 18 | 27 | 26 | 19 | 21 | 25 | \n",
       "| employee5 | 25 | 25 | 26 | 31 | 24 | 36 | 37 | \n",
       "| employee6 | 22 | 20 | 29 | 26 | 26 | 23 | 22 | \n",
       "| employee7 |  0 |  4 |  2 |  2 |  3 |  4 |  2 | \n",
       "| employee8 | 12 |  2 | 15 |  7 |  1 | 15 | 11 | \n",
       "| employee9 | 19 | 22 | 22 | 19 | 25 | 24 | 23 | \n",
       "| employee10 | 23 | 12 | 19 | 25 | 18 | 22 | 22 | \n",
       "\n",
       "\n"
      ],
      "text/plain": [
       "           day1 day2 day3 day4 day5 day6 day7\n",
       "employee1   2    2    3    6    4    2    0  \n",
       "employee2  19   23   18   22   23   29   25  \n",
       "employee3  24   18   15   19   18   22   17  \n",
       "employee4  22   18   27   26   19   21   25  \n",
       "employee5  25   25   26   31   24   36   37  \n",
       "employee6  22   20   29   26   26   23   22  \n",
       "employee7   0    4    2    2    3    4    2  \n",
       "employee8  12    2   15    7    1   15   11  \n",
       "employee9  19   22   22   19   25   24   23  \n",
       "employee10 23   12   19   25   18   22   22  "
      ]
     },
     "metadata": {},
     "output_type": "display_data"
    }
   ],
   "source": [
    "pro_visit <- c(2,2,3,6,4,2,0,\n",
    "               19,23,18,22,23,29,25,\n",
    "               24,18,15,19,18,22,17,\n",
    "               22,18,27,26,19,21,25,\n",
    "               25,25,26,31,24,36,37,\n",
    "               22,20,29,26,26,23,22,\n",
    "               0,4,2,2,3,4,2,\n",
    "               12,2,15,7,1,15,11,\n",
    "               19,22,22,19,25,24,23,\n",
    "               23,12,19,25,18,22,22)\n",
    "li_df <- matrix(pro_visit, nrow=10, byrow=TRUE,\n",
    "               dimnames = list(c(\"employee1\", \"employee2\", \"employee3\",\n",
    "                                \"employee4\", \"employee5\", \"employee6\",\n",
    "                                \"employee7\", \"employee8\", \"employee9\", \"employee10\"),\n",
    "                              c(\"day1\",\"day2\",\"day3\",\"day4\",\"day5\",\"day6\",\"day7\")))\n",
    "\n",
    "li_df"
   ]
  },
  {
   "cell_type": "code",
   "execution_count": 17,
   "metadata": {},
   "outputs": [
    {
     "data": {
      "text/html": [
       "<dl class=dl-horizontal>\n",
       "\t<dt>employee1</dt>\n",
       "\t\t<dd>2</dd>\n",
       "\t<dt>employee2</dt>\n",
       "\t\t<dd>23</dd>\n",
       "\t<dt>employee3</dt>\n",
       "\t\t<dd>18</dd>\n",
       "\t<dt>employee4</dt>\n",
       "\t\t<dd>18</dd>\n",
       "\t<dt>employee5</dt>\n",
       "\t\t<dd>25</dd>\n",
       "\t<dt>employee6</dt>\n",
       "\t\t<dd>20</dd>\n",
       "\t<dt>employee7</dt>\n",
       "\t\t<dd>4</dd>\n",
       "\t<dt>employee8</dt>\n",
       "\t\t<dd>2</dd>\n",
       "\t<dt>employee9</dt>\n",
       "\t\t<dd>22</dd>\n",
       "\t<dt>employee10</dt>\n",
       "\t\t<dd>12</dd>\n",
       "</dl>\n"
      ],
      "text/latex": [
       "\\begin{description*}\n",
       "\\item[employee1] 2\n",
       "\\item[employee2] 23\n",
       "\\item[employee3] 18\n",
       "\\item[employee4] 18\n",
       "\\item[employee5] 25\n",
       "\\item[employee6] 20\n",
       "\\item[employee7] 4\n",
       "\\item[employee8] 2\n",
       "\\item[employee9] 22\n",
       "\\item[employee10] 12\n",
       "\\end{description*}\n"
      ],
      "text/markdown": [
       "employee1\n",
       ":   2employee2\n",
       ":   23employee3\n",
       ":   18employee4\n",
       ":   18employee5\n",
       ":   25employee6\n",
       ":   20employee7\n",
       ":   4employee8\n",
       ":   2employee9\n",
       ":   22employee10\n",
       ":   12\n",
       "\n"
      ],
      "text/plain": [
       " employee1  employee2  employee3  employee4  employee5  employee6  employee7 \n",
       "         2         23         18         18         25         20          4 \n",
       " employee8  employee9 employee10 \n",
       "         2         22         12 "
      ]
     },
     "metadata": {},
     "output_type": "display_data"
    },
    {
     "data": {
      "text/html": [
       "<dl class=dl-horizontal>\n",
       "\t<dt>employee1</dt>\n",
       "\t\t<dd>TRUE</dd>\n",
       "\t<dt>employee2</dt>\n",
       "\t\t<dd>FALSE</dd>\n",
       "\t<dt>employee3</dt>\n",
       "\t\t<dd>FALSE</dd>\n",
       "\t<dt>employee4</dt>\n",
       "\t\t<dd>FALSE</dd>\n",
       "\t<dt>employee5</dt>\n",
       "\t\t<dd>FALSE</dd>\n",
       "\t<dt>employee6</dt>\n",
       "\t\t<dd>FALSE</dd>\n",
       "\t<dt>employee7</dt>\n",
       "\t\t<dd>TRUE</dd>\n",
       "\t<dt>employee8</dt>\n",
       "\t\t<dd>TRUE</dd>\n",
       "\t<dt>employee9</dt>\n",
       "\t\t<dd>FALSE</dd>\n",
       "\t<dt>employee10</dt>\n",
       "\t\t<dd>FALSE</dd>\n",
       "</dl>\n"
      ],
      "text/latex": [
       "\\begin{description*}\n",
       "\\item[employee1] TRUE\n",
       "\\item[employee2] FALSE\n",
       "\\item[employee3] FALSE\n",
       "\\item[employee4] FALSE\n",
       "\\item[employee5] FALSE\n",
       "\\item[employee6] FALSE\n",
       "\\item[employee7] TRUE\n",
       "\\item[employee8] TRUE\n",
       "\\item[employee9] FALSE\n",
       "\\item[employee10] FALSE\n",
       "\\end{description*}\n"
      ],
      "text/markdown": [
       "employee1\n",
       ":   TRUEemployee2\n",
       ":   FALSEemployee3\n",
       ":   FALSEemployee4\n",
       ":   FALSEemployee5\n",
       ":   FALSEemployee6\n",
       ":   FALSEemployee7\n",
       ":   TRUEemployee8\n",
       ":   TRUEemployee9\n",
       ":   FALSEemployee10\n",
       ":   FALSE\n",
       "\n"
      ],
      "text/plain": [
       " employee1  employee2  employee3  employee4  employee5  employee6  employee7 \n",
       "      TRUE      FALSE      FALSE      FALSE      FALSE      FALSE       TRUE \n",
       " employee8  employee9 employee10 \n",
       "      TRUE      FALSE      FALSE "
      ]
     },
     "metadata": {},
     "output_type": "display_data"
    },
    {
     "data": {
      "text/html": [
       "3"
      ],
      "text/latex": [
       "3"
      ],
      "text/markdown": [
       "3"
      ],
      "text/plain": [
       "[1] 3"
      ]
     },
     "metadata": {},
     "output_type": "display_data"
    },
    {
     "name": "stdout",
     "output_type": "stream",
     "text": [
      "[1] 3\n"
     ]
    }
   ],
   "source": [
    "\n",
    "\n",
    "# li_df is pre-loaded in your workspace\n",
    "\n",
    "# Select the second column, named day2, from li_df: second\n",
    "second<-li_df[,2]\n",
    "second\n",
    "# Build a logical vector, TRUE if value in second is extreme: extremes\n",
    "extremes <- second>25|second<5\n",
    "extremes\n",
    "# Count the number of TRUEs in extremes\n",
    "sum(extremes)\n",
    "\n",
    "# Solve it with a one-liner\n",
    "print(sum(extremes))"
   ]
  },
  {
   "cell_type": "raw",
   "metadata": {},
   "source": [
    "Before diving into some exercises on the if statement, have another look at its syntax:\n",
    "\n",
    "if (condition) {\n",
    "  expr\n",
    "}\n",
    "Remember your vectors with social profile views? Let's look at it from another angle. The medium variable gives information about the social website; the num_views variable denotes the actual number of views that particular medium had on the last day of your recordings. Both these variables have already been defined in the editor."
   ]
  },
  {
   "cell_type": "code",
   "execution_count": 18,
   "metadata": {},
   "outputs": [
    {
     "name": "stdout",
     "output_type": "stream",
     "text": [
      "[1] \"Showing LinkedIn information\"\n"
     ]
    }
   ],
   "source": [
    "# Variables related to your last day of recordings\n",
    "medium <- \"LinkedIn\"\n",
    "num_views <- 14\n",
    "\n",
    "# Examine the if statement for medium\n",
    "if (medium == \"LinkedIn\") {\n",
    "  print(\"Showing LinkedIn information\")\n",
    "}\n",
    "\n",
    "# Write the if statement for num_views\n",
    "\n",
    "if(num_views>15){\n",
    "  print(\"You're popular!\")\n",
    "}\n"
   ]
  },
  {
   "cell_type": "raw",
   "metadata": {},
   "source": [
    "ou can only use an else statement in combination with an if statement. The else statement does not require a condition; its corresponding code is simply run if all of the preceding conditions in the control structure are FALSE. Here's a recipe for its usage:\n",
    "\n",
    "if (condition) {\n",
    "  expr1\n",
    "} else {\n",
    "  expr2\n",
    "}\n",
    "It's important that the else keyword comes on the same line as the closing bracket of the if part!\n",
    "\n",
    "Both if statements that you coded in the previous exercises are already available in the editor. It's now up to you to extend them with the appropriate else statements!"
   ]
  },
  {
   "cell_type": "code",
   "execution_count": 19,
   "metadata": {},
   "outputs": [
    {
     "name": "stdout",
     "output_type": "stream",
     "text": [
      "[1] \"Showing LinkedIn information\"\n",
      "[1] \"Try to be more visible!\"\n"
     ]
    }
   ],
   "source": [
    "# Variables related to your last day of recordings\n",
    "medium <- \"LinkedIn\"\n",
    "num_views <- 14\n",
    "\n",
    "# Control structure for medium\n",
    "if (medium == \"LinkedIn\") {\n",
    "  print(\"Showing LinkedIn information\")\n",
    "}else{\n",
    "  print(\"Unknown medium\")\n",
    "}\n",
    "\n",
    "\n",
    "# Control structure for num_views\n",
    "if (num_views > 15) {\n",
    "  print(\"You're popular!\")\n",
    "}else{\n",
    "  print(\"Try to be more visible!\")\n",
    "}"
   ]
  },
  {
   "cell_type": "raw",
   "metadata": {},
   "source": [
    "The else if statement allows you to further customize your control structure. You can add as many else if statements as you like. Keep in mind that R ignores the remainder of the control structure once a condition has been found that is TRUE and the corresponding expressions have been executed. Here's an overview of the syntax to freshen your memory:\n",
    "\n",
    "if (condition1) {\n",
    "  expr1\n",
    "} else if (condition2) {\n",
    "  expr2\n",
    "} else if (condition3) {\n",
    "  expr3\n",
    "} else {\n",
    "  expr4\n",
    "}\n",
    "Again, It's important that the else if keywords comes on the same line as the closing bracket of the previous part of the control construct!"
   ]
  },
  {
   "cell_type": "code",
   "execution_count": 20,
   "metadata": {},
   "outputs": [
    {
     "name": "stdout",
     "output_type": "stream",
     "text": [
      "[1] \"Showing LinkedIn information\"\n",
      "[1] \"Your number of views is average\"\n"
     ]
    }
   ],
   "source": [
    "# Variables related to your last day of recordings\n",
    "medium <- \"LinkedIn\"\n",
    "num_views <- 14\n",
    "\n",
    "# Control structure for medium\n",
    "if (medium == \"LinkedIn\") {\n",
    "  print(\"Showing LinkedIn information\")\n",
    "} else if (medium == \"Facebook\") {\n",
    "  # Add code to print correct string when condition is TRUE\n",
    "  print(\"Showing Facebook information\")\n",
    "} else {\n",
    "  print(\"Unknown medium\")\n",
    "}\n",
    "\n",
    "# Control structure for num_views\n",
    "if (num_views > 15) {\n",
    "  print(\"You're popular!\")\n",
    "} else if (num_views <= 15 & num_views > 10) {\n",
    "  # Add code to print correct string when condition is TRUE\n",
    "  print(\"Your number of views is average\")\n",
    "} else {\n",
    "  print(\"Try to be more visible!\")\n",
    "}"
   ]
  },
  {
   "cell_type": "raw",
   "metadata": {},
   "source": [
    "In this exercise, you will combine everything that you've learned so far: relational operators, logical operators and control constructs. You'll need it all!\n",
    "\n",
    "In the editor, we've coded two values beforehand: li and fb, denoting the number of profile views your LinkedIn and Facebook profile had on the last day of recordings. Go through the instructions to create R code that generates a 'social media score', sms, based on the values of li and fb."
   ]
  },
  {
   "cell_type": "code",
   "execution_count": 21,
   "metadata": {},
   "outputs": [
    {
     "name": "stdout",
     "output_type": "stream",
     "text": [
      "[1] 24\n"
     ]
    }
   ],
   "source": [
    "# Variables related to your last day of recordings\n",
    "li <- 15\n",
    "fb <- 9\n",
    "\n",
    "# Code the control-flow construct\n",
    "if (li>=15 & fb>=15) {\n",
    "  sms <- 2 * (li + fb)\n",
    "} else if (li<10 & fb<10) {\n",
    "  sms <- 0.5 * (li + fb)\n",
    "} else {\n",
    "  sms <- (li+fb)\n",
    "}\n",
    "\n",
    "# Print the resulting sms to the console\n",
    "print(sms)"
   ]
  },
  {
   "cell_type": "raw",
   "metadata": {},
   "source": [
    "Let's get you started with building a while loop from the ground up. Have another look at its recipe:\n",
    "\n",
    "while (condition) {\n",
    "  expr\n",
    "}\n",
    "Remember that the condition part of this recipe should become FALSE at some point during the execution. Otherwise, the while loop will go on indefinitely. In DataCamp's learning interface, your session will be disconnected in this case.\n",
    "\n",
    "Have a look at the code on the right; it initializes the speed variables and already provides a while loop template to get you started.\n",
    "\n"
   ]
  },
  {
   "cell_type": "code",
   "execution_count": 22,
   "metadata": {},
   "outputs": [
    {
     "name": "stdout",
     "output_type": "stream",
     "text": [
      "[1] \"Slow down!\"\n",
      "[1] \"Slow down!\"\n",
      "[1] \"Slow down!\"\n",
      "[1] \"Slow down!\"\n",
      "[1] \"Slow down!\"\n"
     ]
    },
    {
     "data": {
      "text/html": [
       "29"
      ],
      "text/latex": [
       "29"
      ],
      "text/markdown": [
       "29"
      ],
      "text/plain": [
       "[1] 29"
      ]
     },
     "metadata": {},
     "output_type": "display_data"
    }
   ],
   "source": [
    "# Initialize the speed variable\n",
    "speed <- 64\n",
    "\n",
    "# Code the while loop\n",
    "while ( speed>30 ) {\n",
    "  print(\"Slow down!\")\n",
    "  speed <- speed - 7\n",
    "  \n",
    "}\n",
    "\n",
    "# Print out the speed variable\n",
    "speed"
   ]
  },
  {
   "cell_type": "raw",
   "metadata": {},
   "source": [
    "In the previous exercise, you simulated the interaction between a driver and a driver's assistant: When the speed was too high, \"Slow down!\" got printed out to the console, resulting in a decrease of your speed by 7 units.\n",
    "\n",
    "There are several ways in which you could make your driver's assistant more advanced. For example, the assistant could give you different messages based on your speed or provide you with a current speed at a given moment.\n",
    "\n",
    "A while loop similar to the one you've coded in the previous exercise is already available in the editor. It prints out your current speed, but there's no code that decreases the speed variable yet, which is pretty dangerous. Can you make the appropriate changes?"
   ]
  },
  {
   "cell_type": "code",
   "execution_count": 23,
   "metadata": {},
   "outputs": [
    {
     "name": "stdout",
     "output_type": "stream",
     "text": [
      "[1] \"Your speed is 64\"\n",
      "[1] \"Slow down big time!\"\n",
      "[1] \"Your speed is 53\"\n",
      "[1] \"Slow down big time!\"\n",
      "[1] \"Your speed is 42\"\n",
      "[1] \"Slow down!\"\n",
      "[1] \"Your speed is 36\"\n",
      "[1] \"Slow down!\"\n"
     ]
    }
   ],
   "source": [
    "# Initialize the speed variable\n",
    "speed <- 64\n",
    "\n",
    "# Extend/adapt the while loop\n",
    "while (speed > 30) {\n",
    "  print(paste(\"Your speed is\",speed))\n",
    "  if ( speed>48 ) {\n",
    "    print(\"Slow down big time!\")\n",
    "    speed <- speed -11\n",
    "  } else {\n",
    "    print(\"Slow down!\")\n",
    "    speed<-speed - 6\n",
    "  }\n",
    "  \n",
    "}\n"
   ]
  },
  {
   "cell_type": "raw",
   "metadata": {},
   "source": [
    "There are some very rare situations in which severe speeding is necessary: what if a hurricane is approaching and you have to get away as quickly as possible? You don't want the driver's assistant sending you speeding notifications in that scenario, right?\n",
    "\n",
    "This seems like a great opportunity to include the break statement in the while loop you've been working on. Remember that the break statement is a control statement. When R encounters it, the while loop is abandoned completely."
   ]
  },
  {
   "cell_type": "code",
   "execution_count": 1,
   "metadata": {},
   "outputs": [
    {
     "name": "stdout",
     "output_type": "stream",
     "text": [
      "[1] \"Your speed is 88\"\n"
     ]
    }
   ],
   "source": [
    "# Initialize the speed variable\n",
    "speed <- 88\n",
    "\n",
    "while (speed > 30) {\n",
    "  print(paste(\"Your speed is\", speed))\n",
    "  \n",
    "  # Break the while loop when speed exceeds 80\n",
    "  if ( speed > 80 ) {\n",
    "    break\n",
    "  }\n",
    "  \n",
    "  if (speed > 48) {\n",
    "    print(\"Slow down big time!\")\n",
    "    speed <- speed - 11\n",
    "  } else {\n",
    "    print(\"Slow down!\")\n",
    "    speed <- speed - 6\n",
    "  }\n",
    "}"
   ]
  },
  {
   "cell_type": "raw",
   "metadata": {},
   "source": [
    "The previous exercises guided you through developing a pretty advanced while loop, containing a break statement and different messages and updates as determined by control flow constructs. If you manage to solve this comprehensive exercise using a while loop, you're totally ready for the next topic: the for loop."
   ]
  },
  {
   "cell_type": "code",
   "execution_count": 2,
   "metadata": {},
   "outputs": [
    {
     "name": "stdout",
     "output_type": "stream",
     "text": [
      "[1] 3\n",
      "[1] 6\n",
      "[1] 9\n",
      "[1] 12\n",
      "[1] 15\n",
      "[1] 18\n",
      "[1] 21\n",
      "[1] 24\n"
     ]
    }
   ],
   "source": [
    "# Initialize i as 1 \n",
    "i <- 1\n",
    "\n",
    "# Code the while loop\n",
    "while (i <= 10) {\n",
    "  print(3*i)\n",
    "  if ( 3*i %% 8 ==0 ) {\n",
    "    break\n",
    "  }\n",
    "  i <- i + 1\n",
    "}"
   ]
  },
  {
   "cell_type": "raw",
   "metadata": {},
   "source": [
    "In the previous video, Filip told you about two different strategies for using the for loop. To refresh your memory, consider the following loops that are equivalent in R:\n",
    "\n",
    "primes <- c(2, 3, 5, 7, 11, 13)\n",
    "\n",
    "# loop version 1\n",
    "for (p in primes) {\n",
    "  print(p)\n",
    "}\n",
    "\n",
    "# loop version 2\n",
    "for (i in 1:length(primes)) {\n",
    "  print(primes[i])\n",
    "}\n",
    "Remember our linkedin vector? It's a vector that contains the number of views your LinkedIn profile had in the last seven days. The linkedin vector has already been defined in the editor on the right so that you can fully focus on the instructions!"
   ]
  },
  {
   "cell_type": "code",
   "execution_count": 3,
   "metadata": {},
   "outputs": [
    {
     "name": "stdout",
     "output_type": "stream",
     "text": [
      "[1] 16\n",
      "[1] 9\n",
      "[1] 13\n",
      "[1] 5\n",
      "[1] 2\n",
      "[1] 17\n",
      "[1] 14\n",
      "[1] 16\n",
      "[1] 9\n",
      "[1] 13\n",
      "[1] 5\n",
      "[1] 2\n",
      "[1] 17\n",
      "[1] 14\n"
     ]
    }
   ],
   "source": [
    "# The linkedin vector has already been defined for you\n",
    "linkedin <- c(16, 9, 13, 5, 2, 17, 14)\n",
    "\n",
    "# Loop version 1\n",
    "for ( p in linkedin){\n",
    "  print(p)\n",
    "}\n",
    "\n",
    "\n",
    "\n",
    "# Loop version 2\n",
    "for(i in 1:length(linkedin)){\n",
    "  print(linkedin[i])\n",
    "}\n"
   ]
  },
  {
   "cell_type": "raw",
   "metadata": {},
   "source": [
    "Looping over a list is just as easy and convenient as looping over a vector. There are again two different approaches here:\n",
    "\n",
    "primes_list <- list(2, 3, 5, 7, 11, 13)\n",
    "\n",
    "# loop version 1\n",
    "for (p in primes_list) {\n",
    "  print(p)\n",
    "}\n",
    "\n",
    "# loop version 2\n",
    "for (i in 1:length(primes_list)) {\n",
    "  print(primes_list[[i]])\n",
    "}\n",
    "Notice that you need double square brackets - [[ ]] - to select the list elements in loop version 2.\n",
    "\n",
    "Suppose you have a list of all sorts of information on New York City: its population size, the names of the boroughs, and whether it is the capital of the United States. We've already prepared a list nyc with all this information in the editor (source: Wikipedia).\n",
    "\n"
   ]
  },
  {
   "cell_type": "code",
   "execution_count": 4,
   "metadata": {},
   "outputs": [
    {
     "name": "stdout",
     "output_type": "stream",
     "text": [
      "[1] 8405837\n",
      "[1] \"Manhattan\"     \"Bronx\"         \"Brooklyn\"      \"Queens\"       \n",
      "[5] \"Staten Island\"\n",
      "[1] FALSE\n",
      "[1] 8405837\n",
      "[1] \"Manhattan\"     \"Bronx\"         \"Brooklyn\"      \"Queens\"       \n",
      "[5] \"Staten Island\"\n",
      "[1] FALSE\n"
     ]
    }
   ],
   "source": [
    "# The nyc list is already specified\n",
    "nyc <- list(pop = 8405837, \n",
    "            boroughs = c(\"Manhattan\", \"Bronx\", \"Brooklyn\", \"Queens\", \"Staten Island\"), \n",
    "            capital = FALSE)\n",
    "\n",
    "# Loop version 1\n",
    "for(p in nyc){\n",
    "  print(p)\n",
    "}\n",
    "\n",
    "\n",
    "\n",
    "# Loop version 2\n",
    "for(i in 1:length(nyc)){\n",
    "  print(nyc[[i]])\n",
    "}"
   ]
  },
  {
   "cell_type": "raw",
   "metadata": {},
   "source": [
    "In your workspace, there's a matrix ttt, that represents the status of a tic-tac-toe game. It contains the values \"X\", \"O\" and \"NA\". Print out ttt in the console so you can have a closer look. On row 1 and column 1, there's \"O\", while on row 3 and column 2 there's \"NA\".\n",
    "\n",
    "To solve this exercise, you'll need a for loop inside a for loop, often called a nested loop. Doing this in R is a breeze! Simply use the following recipe:\n",
    "\n",
    "for (var1 in seq1) {\n",
    "  for (var2 in seq2) {\n",
    "    expr\n",
    "  }\n",
    "}"
   ]
  },
  {
   "cell_type": "code",
   "execution_count": 6,
   "metadata": {},
   "outputs": [
    {
     "data": {
      "text/html": [
       "<table>\n",
       "<tbody>\n",
       "\t<tr><td>O </td><td>NA</td><td>X </td></tr>\n",
       "\t<tr><td>NA</td><td>O </td><td>O </td></tr>\n",
       "\t<tr><td>X </td><td>NA</td><td>X </td></tr>\n",
       "</tbody>\n",
       "</table>\n"
      ],
      "text/latex": [
       "\\begin{tabular}{lll}\n",
       "\t O  & NA & X \\\\\n",
       "\t NA & O  & O \\\\\n",
       "\t X  & NA & X \\\\\n",
       "\\end{tabular}\n"
      ],
      "text/markdown": [
       "\n",
       "| O  | NA | X  | \n",
       "| NA | O  | O  | \n",
       "| X  | NA | X  | \n",
       "\n",
       "\n"
      ],
      "text/plain": [
       "     [,1] [,2] [,3]\n",
       "[1,] O    NA   X   \n",
       "[2,] NA   O    O   \n",
       "[3,] X    NA   X   "
      ]
     },
     "metadata": {},
     "output_type": "display_data"
    }
   ],
   "source": [
    "ttt <- matrix(c(\"O\",NA,\"X\",NA, \"O\",\"O\",\"X\",NA,\"X\"), nrow=3, byrow=TRUE)\n",
    "ttt"
   ]
  },
  {
   "cell_type": "code",
   "execution_count": 7,
   "metadata": {},
   "outputs": [
    {
     "name": "stdout",
     "output_type": "stream",
     "text": [
      "[1] \"On row  1  and column  1  the board contains  O\"\n",
      "[1] \"On row  1  and column  2  the board contains  NA\"\n",
      "[1] \"On row  1  and column  3  the board contains  X\"\n",
      "[1] \"On row  2  and column  1  the board contains  NA\"\n",
      "[1] \"On row  2  and column  2  the board contains  O\"\n",
      "[1] \"On row  2  and column  3  the board contains  O\"\n",
      "[1] \"On row  3  and column  1  the board contains  X\"\n",
      "[1] \"On row  3  and column  2  the board contains  NA\"\n",
      "[1] \"On row  3  and column  3  the board contains  X\"\n"
     ]
    }
   ],
   "source": [
    "# The tic-tac-toe matrix ttt has already been defined for you\n",
    "\n",
    "# define the double for loop\n",
    "for (i in 1:nrow(ttt)) {\n",
    "  for (j in 1:ncol(ttt)) {\n",
    "    print(paste(\"On row \", i,\" and column \",j,\" the board contains \",ttt[i,j]))\n",
    "  }\n",
    "}"
   ]
  },
  {
   "cell_type": "raw",
   "metadata": {},
   "source": [
    "Let's return to the LinkedIn profile views data, stored in a vector linkedin. In the first exercise on for loops you already did a simple printout of each element in this vector. A little more in-depth interpretation of this data wouldn't hurt, right? Time to throw in some conditionals! As with the while loop, you can use the if and else statements inside the for loop."
   ]
  },
  {
   "cell_type": "code",
   "execution_count": 8,
   "metadata": {},
   "outputs": [
    {
     "name": "stdout",
     "output_type": "stream",
     "text": [
      "[1] \"You're popular!\"\n",
      "[1] 16\n",
      "[1] \"Be more visible!\"\n",
      "[1] 9\n",
      "[1] \"You're popular!\"\n",
      "[1] 13\n",
      "[1] \"Be more visible!\"\n",
      "[1] 5\n",
      "[1] \"Be more visible!\"\n",
      "[1] 2\n",
      "[1] \"You're popular!\"\n",
      "[1] 17\n",
      "[1] \"You're popular!\"\n",
      "[1] 14\n"
     ]
    }
   ],
   "source": [
    "# The linkedin vector has already been defined for you\n",
    "linkedin <- c(16, 9, 13, 5, 2, 17, 14)\n",
    "\n",
    "# Code the for loop with conditionals\n",
    "for (li in linkedin) {\n",
    "  if ( li > 10 ) {\n",
    "    print(\"You're popular!\")\n",
    "  } else {\n",
    "    print(\"Be more visible!\")\n",
    "  }\n",
    "  print(li)\n",
    "}"
   ]
  },
  {
   "cell_type": "raw",
   "metadata": {},
   "source": [
    "In the editor on the right you'll find a possible solution to the previous exercise. The code loops over the linkedin vector and prints out different messages depending on the values of li.\n",
    "\n",
    "In this exercise, you will use the break and next statements:\n",
    "\n",
    "The break statement abandons the active loop: the remaining code in the loop is skipped and the loop is not iterated over anymore.\n",
    "The next statement skips the remainder of the code in the loop, but continues the iteration."
   ]
  },
  {
   "cell_type": "code",
   "execution_count": 9,
   "metadata": {},
   "outputs": [
    {
     "name": "stdout",
     "output_type": "stream",
     "text": [
      "[1] \"You're popular!\"\n",
      "[1] 16\n",
      "[1] \"Be more visible!\"\n",
      "[1] 9\n",
      "[1] \"You're popular!\"\n",
      "[1] 13\n",
      "[1] \"Be more visible!\"\n",
      "[1] 5\n",
      "[1] \"Be more visible!\"\n",
      "[1] \"This is too embarrassing!\"\n",
      "[1] \"You're popular!\"\n",
      "[1] \"This is ridiculous, I'm outta here!\"\n"
     ]
    }
   ],
   "source": [
    "# The linkedin vector has already been defined for you\n",
    "linkedin <- c(16, 9, 13, 5, 2, 17, 14)\n",
    "\n",
    "# Extend the for loop\n",
    "for (li in linkedin) {\n",
    "  if (li > 10) {\n",
    "    print(\"You're popular!\")\n",
    "  } else {\n",
    "    print(\"Be more visible!\")\n",
    "  }\n",
    "  \n",
    "  # Add if statement with break\n",
    "  if(li>16){\n",
    "    print(\"This is ridiculous, I'm outta here!\")\n",
    "    break\n",
    "  }\n",
    "  \n",
    "  # Add if statement with next\n",
    "  if(li<5){\n",
    "    print(\"This is too embarrassing!\")\n",
    "    next\n",
    "  }\n",
    "  \n",
    "  print(li)\n",
    "}"
   ]
  },
  {
   "cell_type": "raw",
   "metadata": {},
   "source": [
    "This exercise will not introduce any new concepts on for loops.\n",
    "\n",
    "In the editor on the right, we already went ahead and defined a variable rquote. This variable has been split up into a vector that contains separate letters and has been stored in a vector chars with the strsplit() function.\n",
    "\n",
    "Can you write code that counts the number of r's that come before the first u in rquote?"
   ]
  },
  {
   "cell_type": "code",
   "execution_count": 11,
   "metadata": {},
   "outputs": [
    {
     "data": {
      "text/html": [
       "<ol class=list-inline>\n",
       "\t<li>'r'</li>\n",
       "\t<li>'\\''</li>\n",
       "\t<li>'s'</li>\n",
       "\t<li>' '</li>\n",
       "\t<li>'i'</li>\n",
       "\t<li>'n'</li>\n",
       "\t<li>'t'</li>\n",
       "\t<li>'e'</li>\n",
       "\t<li>'r'</li>\n",
       "\t<li>'n'</li>\n",
       "\t<li>'a'</li>\n",
       "\t<li>'l'</li>\n",
       "\t<li>'s'</li>\n",
       "\t<li>' '</li>\n",
       "\t<li>'a'</li>\n",
       "\t<li>'r'</li>\n",
       "\t<li>'e'</li>\n",
       "\t<li>' '</li>\n",
       "\t<li>'i'</li>\n",
       "\t<li>'r'</li>\n",
       "\t<li>'r'</li>\n",
       "\t<li>'e'</li>\n",
       "\t<li>'f'</li>\n",
       "\t<li>'u'</li>\n",
       "\t<li>'t'</li>\n",
       "\t<li>'a'</li>\n",
       "\t<li>'b'</li>\n",
       "\t<li>'l'</li>\n",
       "\t<li>'y'</li>\n",
       "\t<li>' '</li>\n",
       "\t<li>'i'</li>\n",
       "\t<li>'n'</li>\n",
       "\t<li>'t'</li>\n",
       "\t<li>'r'</li>\n",
       "\t<li>'i'</li>\n",
       "\t<li>'g'</li>\n",
       "\t<li>'u'</li>\n",
       "\t<li>'i'</li>\n",
       "\t<li>'n'</li>\n",
       "\t<li>'g'</li>\n",
       "</ol>\n"
      ],
      "text/latex": [
       "\\begin{enumerate*}\n",
       "\\item 'r'\n",
       "\\item '\\textbackslash{}''\n",
       "\\item 's'\n",
       "\\item ' '\n",
       "\\item 'i'\n",
       "\\item 'n'\n",
       "\\item 't'\n",
       "\\item 'e'\n",
       "\\item 'r'\n",
       "\\item 'n'\n",
       "\\item 'a'\n",
       "\\item 'l'\n",
       "\\item 's'\n",
       "\\item ' '\n",
       "\\item 'a'\n",
       "\\item 'r'\n",
       "\\item 'e'\n",
       "\\item ' '\n",
       "\\item 'i'\n",
       "\\item 'r'\n",
       "\\item 'r'\n",
       "\\item 'e'\n",
       "\\item 'f'\n",
       "\\item 'u'\n",
       "\\item 't'\n",
       "\\item 'a'\n",
       "\\item 'b'\n",
       "\\item 'l'\n",
       "\\item 'y'\n",
       "\\item ' '\n",
       "\\item 'i'\n",
       "\\item 'n'\n",
       "\\item 't'\n",
       "\\item 'r'\n",
       "\\item 'i'\n",
       "\\item 'g'\n",
       "\\item 'u'\n",
       "\\item 'i'\n",
       "\\item 'n'\n",
       "\\item 'g'\n",
       "\\end{enumerate*}\n"
      ],
      "text/markdown": [
       "1. 'r'\n",
       "2. '\\''\n",
       "3. 's'\n",
       "4. ' '\n",
       "5. 'i'\n",
       "6. 'n'\n",
       "7. 't'\n",
       "8. 'e'\n",
       "9. 'r'\n",
       "10. 'n'\n",
       "11. 'a'\n",
       "12. 'l'\n",
       "13. 's'\n",
       "14. ' '\n",
       "15. 'a'\n",
       "16. 'r'\n",
       "17. 'e'\n",
       "18. ' '\n",
       "19. 'i'\n",
       "20. 'r'\n",
       "21. 'r'\n",
       "22. 'e'\n",
       "23. 'f'\n",
       "24. 'u'\n",
       "25. 't'\n",
       "26. 'a'\n",
       "27. 'b'\n",
       "28. 'l'\n",
       "29. 'y'\n",
       "30. ' '\n",
       "31. 'i'\n",
       "32. 'n'\n",
       "33. 't'\n",
       "34. 'r'\n",
       "35. 'i'\n",
       "36. 'g'\n",
       "37. 'u'\n",
       "38. 'i'\n",
       "39. 'n'\n",
       "40. 'g'\n",
       "\n",
       "\n"
      ],
      "text/plain": [
       " [1] \"r\" \"'\" \"s\" \" \" \"i\" \"n\" \"t\" \"e\" \"r\" \"n\" \"a\" \"l\" \"s\" \" \" \"a\" \"r\" \"e\" \" \" \"i\"\n",
       "[20] \"r\" \"r\" \"e\" \"f\" \"u\" \"t\" \"a\" \"b\" \"l\" \"y\" \" \" \"i\" \"n\" \"t\" \"r\" \"i\" \"g\" \"u\" \"i\"\n",
       "[39] \"n\" \"g\""
      ]
     },
     "metadata": {},
     "output_type": "display_data"
    },
    {
     "name": "stdout",
     "output_type": "stream",
     "text": [
      "[1] 5\n"
     ]
    }
   ],
   "source": [
    "# Pre-defined variables\n",
    "rquote <- \"r's internals are irrefutably intriguing\"\n",
    "chars <- strsplit(rquote, split = \"\")[[1]]\n",
    "chars\n",
    "# Initialize rcount\n",
    "rcount <- 0\n",
    "\n",
    "# Finish the for loop\n",
    "for (char in chars) {\n",
    "  if(char == \"r\"){\n",
    "    rcount <- rcount +1\n",
    "  }\n",
    "  if(char == \"u\"){\n",
    "    break\n",
    "  }\n",
    "}\n",
    "\n",
    "# Print out rcount\n",
    "print(rcount)"
   ]
  },
  {
   "cell_type": "raw",
   "metadata": {},
   "source": [
    "Before even thinking of using an R function, you should clarify which arguments it expects. All the relevant details such as a description, usage, and arguments can be found in the documentation. To consult the documentation on the sample() function, for example, you can use one of following R commands:\n",
    "\n",
    "help(sample)\n",
    "?sample\n",
    "If you execute these commands in the console of the DataCamp interface, you'll be redirected to www.rdocumentation.org.\n",
    "\n",
    "A quick hack to see the arguments of the sample() function is the args() function. Try it out in the console:\n",
    "\n",
    "args(sample)\n",
    "In the next exercises, you'll be learning how to use the mean() function with increasing complexity. The first thing you'll have to do is get acquainted with the mean() function."
   ]
  },
  {
   "cell_type": "code",
   "execution_count": 12,
   "metadata": {},
   "outputs": [
    {
     "data": {
      "text/html": [
       "<pre class=language-r><code>function (x, ...) \n",
       "NULL</code></pre>"
      ],
      "text/latex": [
       "\\begin{minted}{r}\n",
       "function (x, ...) \n",
       "NULL\n",
       "\\end{minted}"
      ],
      "text/markdown": [
       "```r\n",
       "function (x, ...) \n",
       "NULL\n",
       "```"
      ],
      "text/plain": [
       "function (x, ...) \n",
       "NULL"
      ]
     },
     "metadata": {},
     "output_type": "display_data"
    }
   ],
   "source": [
    "# Consult the documentation on the mean() function\n",
    "help(mean)\n",
    "\n",
    "# Inspect the arguments of the mean() function\n",
    "args(mean)\n"
   ]
  },
  {
   "cell_type": "raw",
   "metadata": {},
   "source": [
    "The documentation on the mean() function gives us quite some information:\n",
    "\n",
    "The mean() function computes the arithmetic mean.\n",
    "The most general method takes multiple arguments: x and ....\n",
    "The x argument should be a vector containing numeric, logical or time-related information.\n",
    "Remember that R can match arguments both by position and by name. Can you still remember the difference? You'll find out in this exercise!\n",
    "\n",
    "Once more, you'll be working with the view counts of your social network profiles for the past 7 days. These are stored in the linkedin and facebook vectors and have already been defined in the editor on the right.\n",
    "\n"
   ]
  },
  {
   "cell_type": "code",
   "execution_count": 13,
   "metadata": {},
   "outputs": [
    {
     "name": "stdout",
     "output_type": "stream",
     "text": [
      "[1] 10.85714\n",
      "[1] 11.42857\n"
     ]
    }
   ],
   "source": [
    "# The linkedin and facebook vectors have already been created for you\n",
    "linkedin <- c(16, 9, 13, 5, 2, 17, 14)\n",
    "facebook <- c(17, 7, 5, 16, 8, 13, 14)\n",
    "\n",
    "# Calculate average number of views\n",
    "avg_li <- mean(linkedin)\n",
    "avg_fb <- mean(facebook)\n",
    "\n",
    "# Inspect avg_li and avg_fb\n",
    "print(avg_li)\n",
    "print(avg_fb)"
   ]
  },
  {
   "cell_type": "raw",
   "metadata": {},
   "source": [
    "Check the documentation on the mean() function again:\n",
    "\n",
    "?mean\n",
    "The Usage section of the documentation includes two versions of the mean() function. The first usage,\n",
    "\n",
    "mean(x, ...)\n",
    "is the most general usage of the mean function. The 'Default S3 method', however, is:\n",
    "\n",
    "mean(x, trim = 0, na.rm = FALSE, ...)\n",
    "The ... is called the ellipsis. It is a way for R to pass arguments along without the function having to name them explicitly. The ellipsis will be treated in more detail in future courses.\n",
    "\n",
    "For the remainder of this exercise, just work with the second usage of the mean function. Notice that both trim and na.rm have default values. This makes them optional arguments."
   ]
  },
  {
   "cell_type": "code",
   "execution_count": 14,
   "metadata": {},
   "outputs": [
    {
     "name": "stdout",
     "output_type": "stream",
     "text": [
      "[1] 22.28571\n",
      "[1] 22.6\n"
     ]
    }
   ],
   "source": [
    "# The linkedin and facebook vectors have already been created for you\n",
    "linkedin <- c(16, 9, 13, 5, 2, 17, 14)\n",
    "facebook <- c(17, 7, 5, 16, 8, 13, 14)\n",
    "\n",
    "# Calculate the mean of the sum\n",
    "avg_sum <- mean(linkedin + facebook)\n",
    "\n",
    "# Calculate the trimmed mean of the sum\n",
    "avg_sum_trimmed <- mean(linkedin+facebook, trim=0.2)\n",
    "\n",
    "# Inspect both new variables\n",
    "print(avg_sum)\n",
    "print(avg_sum_trimmed)"
   ]
  },
  {
   "cell_type": "raw",
   "metadata": {},
   "source": [
    "The sd() function has an optional argument, na.rm that specified whether or not to remove missing values from the input vector before calculating the standard deviation.\n",
    "\n",
    "If you've had a good look at the documentation, you'll know by now that the mean() function also has this argument, na.rm, and it does the exact same thing. By default, it is set to FALSE, as the Usage of the default S3 method shows:\n",
    "\n",
    "mean(x, trim = 0, na.rm = FALSE, ...)\n",
    "Let's see what happens if your vectors linkedin and facebook contain missing values (NA)."
   ]
  },
  {
   "cell_type": "code",
   "execution_count": 16,
   "metadata": {},
   "outputs": [
    {
     "name": "stdout",
     "output_type": "stream",
     "text": [
      "[1] NA\n",
      "[1] 12.33333\n"
     ]
    }
   ],
   "source": [
    "# The linkedin and facebook vectors have already been created for you\n",
    "linkedin <- c(16, 9, 13, 5, NA, 17, 14)\n",
    "facebook <- c(17, NA, 5, 16, 8, 13, 14)\n",
    "\n",
    "# Basic average of linkedin\n",
    "print(mean(linkedin))\n",
    "\n",
    "# Advanced average of linkedin\n",
    "print(mean(linkedin, na.rm=TRUE))"
   ]
  },
  {
   "cell_type": "raw",
   "metadata": {},
   "source": [
    "You already know that R functions return objects that you can then use somewhere else. This makes it easy to use functions inside functions, as you've seen before:\n",
    "\n",
    "speed <- 31\n",
    "print(paste(\"Your speed is\", speed))\n",
    "Notice that both the print() and paste() functions use the ellipsis - ... - as an argument. Can you figure out how they're used?"
   ]
  },
  {
   "cell_type": "code",
   "execution_count": 17,
   "metadata": {},
   "outputs": [
    {
     "name": "stdout",
     "output_type": "stream",
     "text": [
      "[1] 4.8\n"
     ]
    }
   ],
   "source": [
    "# The linkedin and facebook vectors have already been created for you\n",
    "linkedin <- c(16, 9, 13, 5, NA, 17, 14)\n",
    "facebook <- c(17, NA, 5, 16, 8, 13, 14)\n",
    "\n",
    "# Calculate the mean absolute deviation\n",
    "print(mean(abs(linkedin - facebook), na.rm=TRUE))"
   ]
  },
  {
   "cell_type": "raw",
   "metadata": {},
   "source": [
    "Wow, things are getting serious... you're about to write your own function! Before you have a go at it, have a look at the following function template:\n",
    "\n",
    "my_fun <- function(arg1, arg2) {\n",
    "  body\n",
    "}\n",
    "Notice that this recipe uses the assignment operator (<-) just as if you were assigning a vector to a variable for example. This is not a coincidence. Creating a function in R basically is the assignment of a function object to a variable! In the recipe above, you're creating a new R variable my_fun, that becomes available in the workspace as soon as you execute the definition. From then on, you can use the my_fun as a function."
   ]
  },
  {
   "cell_type": "code",
   "execution_count": 18,
   "metadata": {},
   "outputs": [
    {
     "data": {
      "text/html": [
       "144"
      ],
      "text/latex": [
       "144"
      ],
      "text/markdown": [
       "144"
      ],
      "text/plain": [
       "[1] 144"
      ]
     },
     "metadata": {},
     "output_type": "display_data"
    },
    {
     "data": {
      "text/html": [
       "5"
      ],
      "text/latex": [
       "5"
      ],
      "text/markdown": [
       "5"
      ],
      "text/plain": [
       "[1] 5"
      ]
     },
     "metadata": {},
     "output_type": "display_data"
    }
   ],
   "source": [
    "# Create a function pow_two()\n",
    "pow_two <- function(x){\n",
    "  (x*x)\n",
    "}\n",
    "\n",
    "\n",
    "# Use the function\n",
    "pow_two(12)\n",
    "\n",
    "# Create a function sum_abs()\n",
    "sum_abs<-function(x,y){\n",
    "  abs(x)+abs(y)\n",
    "}\n",
    "\n",
    "\n",
    "# Use the function\n",
    "sum_abs(-2,3)"
   ]
  },
  {
   "cell_type": "raw",
   "metadata": {},
   "source": [
    "There are situations in which your function does not require an input. Let's say you want to write a function that gives us the random outcome of throwing a fair die:\n",
    "\n",
    "throw_die <- function() {\n",
    "  number <- sample(1:6, size = 1)\n",
    "  number\n",
    "}\n",
    "\n",
    "throw_die()\n",
    "Up to you to code a function that doesn't take any arguments!"
   ]
  },
  {
   "cell_type": "code",
   "execution_count": 19,
   "metadata": {},
   "outputs": [
    {
     "name": "stdout",
     "output_type": "stream",
     "text": [
      "[1] \"Hi there!\"\n"
     ]
    },
    {
     "data": {
      "text/html": [
       "TRUE"
      ],
      "text/latex": [
       "TRUE"
      ],
      "text/markdown": [
       "TRUE"
      ],
      "text/plain": [
       "[1] TRUE"
      ]
     },
     "metadata": {},
     "output_type": "display_data"
    }
   ],
   "source": [
    "# Define the function hello()\n",
    "hello<-function(){\n",
    "  print(\"Hi there!\")\n",
    "  return(TRUE)\n",
    "}\n",
    "\n",
    "\n",
    "\n",
    "\n",
    "# Call the function hello()\n",
    "hello()"
   ]
  },
  {
   "cell_type": "raw",
   "metadata": {},
   "source": [
    "Do you still remember the difference between an argument with and without default values? Have another look at the sd() function by typing ?sd in the console. The usage section shows the following information:\n",
    "\n",
    "sd(x, na.rm = FALSE)\n",
    "This tells us that x has to be defined for the sd() function to be called correctly, however, na.rm already has a default value. Not specifying this argument won't cause an error.\n",
    "\n",
    "You can define default argument values in your own R functions as well. You can use the following recipe to do so:\n",
    "\n",
    "my_fun <- function(arg1, arg2 = val2) {\n",
    "  body\n",
    "}\n",
    "The editor on the right already includes an extended version of the pow_two() function from before. Can you finish it?"
   ]
  },
  {
   "cell_type": "code",
   "execution_count": 20,
   "metadata": {},
   "outputs": [
    {
     "name": "stdout",
     "output_type": "stream",
     "text": [
      "[1] \"3 to the power two equals 9\"\n"
     ]
    },
    {
     "data": {
      "text/html": [
       "9"
      ],
      "text/latex": [
       "9"
      ],
      "text/markdown": [
       "9"
      ],
      "text/plain": [
       "[1] 9"
      ]
     },
     "metadata": {},
     "output_type": "display_data"
    }
   ],
   "source": [
    "# Finish the pow_two() function\n",
    "pow_two <- function(x, print_info=TRUE) {\n",
    "  y <- x ^ 2\n",
    "  if(print_info){\n",
    "    print(paste(x, \"to the power two equals\", y))\n",
    "  }\n",
    "  \n",
    "  return(y)\n",
    "}\n",
    "pow_two(3)"
   ]
  },
  {
   "cell_type": "raw",
   "metadata": {},
   "source": [
    "Now that you've acquired some skills in defining functions with different types of arguments and return values, you should try to create more advanced functions. As you've noticed in the previous exercises, it's perfectly possible to add control-flow constructs, loops and even other functions to your function body.\n",
    "\n",
    "Remember our social media example? The vectors linkedin and facebook are already defined in the workspace so you can get your hands dirty straight away. As a first step, you will be writing a function that can interpret a single value of this vector. In the next exercise, you will write another function that can handle an entire vector at once.\n",
    "\n"
   ]
  },
  {
   "cell_type": "code",
   "execution_count": 23,
   "metadata": {},
   "outputs": [
    {
     "data": {
      "text/html": [
       "<ol class=list-inline>\n",
       "\t<li>16</li>\n",
       "\t<li>9</li>\n",
       "\t<li>13</li>\n",
       "\t<li>5</li>\n",
       "\t<li>NA</li>\n",
       "\t<li>17</li>\n",
       "\t<li>14</li>\n",
       "</ol>\n"
      ],
      "text/latex": [
       "\\begin{enumerate*}\n",
       "\\item 16\n",
       "\\item 9\n",
       "\\item 13\n",
       "\\item 5\n",
       "\\item NA\n",
       "\\item 17\n",
       "\\item 14\n",
       "\\end{enumerate*}\n"
      ],
      "text/markdown": [
       "1. 16\n",
       "2. 9\n",
       "3. 13\n",
       "4. 5\n",
       "5. NA\n",
       "6. 17\n",
       "7. 14\n",
       "\n",
       "\n"
      ],
      "text/plain": [
       "[1] 16  9 13  5 NA 17 14"
      ]
     },
     "metadata": {},
     "output_type": "display_data"
    },
    {
     "data": {
      "text/html": [
       "<ol class=list-inline>\n",
       "\t<li>17</li>\n",
       "\t<li>NA</li>\n",
       "\t<li>5</li>\n",
       "\t<li>16</li>\n",
       "\t<li>8</li>\n",
       "\t<li>13</li>\n",
       "\t<li>14</li>\n",
       "</ol>\n"
      ],
      "text/latex": [
       "\\begin{enumerate*}\n",
       "\\item 17\n",
       "\\item NA\n",
       "\\item 5\n",
       "\\item 16\n",
       "\\item 8\n",
       "\\item 13\n",
       "\\item 14\n",
       "\\end{enumerate*}\n"
      ],
      "text/markdown": [
       "1. 17\n",
       "2. NA\n",
       "3. 5\n",
       "4. 16\n",
       "5. 8\n",
       "6. 13\n",
       "7. 14\n",
       "\n",
       "\n"
      ],
      "text/plain": [
       "[1] 17 NA  5 16  8 13 14"
      ]
     },
     "metadata": {},
     "output_type": "display_data"
    },
    {
     "name": "stdout",
     "output_type": "stream",
     "text": [
      "[1] \"You're popular!\"\n"
     ]
    },
    {
     "data": {
      "text/html": [
       "16"
      ],
      "text/latex": [
       "16"
      ],
      "text/markdown": [
       "16"
      ],
      "text/plain": [
       "[1] 16"
      ]
     },
     "metadata": {},
     "output_type": "display_data"
    },
    {
     "ename": "ERROR",
     "evalue": "Error in if (num_views > 15) {: missing value where TRUE/FALSE needed\n",
     "output_type": "error",
     "traceback": [
      "Error in if (num_views > 15) {: missing value where TRUE/FALSE needed\nTraceback:\n",
      "1. interpret(facebook[2])"
     ]
    }
   ],
   "source": [
    "# The linkedin and facebook vectors have already been created for you\n",
    "linkedin\n",
    "facebook\n",
    "# Define the interpret function\n",
    "interpret <- function(num_views) {\n",
    "  if (num_views > 15) {\n",
    "    print(\"You're popular!\")\n",
    "    return(num_views)\n",
    "  } else {\n",
    "    print(\"Try to be more visible!\")\n",
    "    return(0)\n",
    "  }\n",
    "}\n",
    "\n",
    "# Call the interpret function twice\n",
    "interpret(linkedin[1])\n",
    "interpret(facebook[2])\n"
   ]
  },
  {
   "cell_type": "raw",
   "metadata": {},
   "source": [
    "A possible implementation of the interpret() function is already available in the editor. In this exercise you'll be writing another function that will use the interpret() function to interpret all the data from your daily profile views inside a vector. Furthermore, your function will return the sum of views on popular days, if asked for. A for loop is ideal for iterating over all the vector elements. The ability to return the sum of views on popular days is something you can code through a function argument with a default value."
   ]
  },
  {
   "cell_type": "code",
   "execution_count": 24,
   "metadata": {},
   "outputs": [
    {
     "name": "stdout",
     "output_type": "stream",
     "text": [
      "[1] \"You're popular!\"\n",
      "[1] \"Try to be more visible!\"\n",
      "[1] \"Try to be more visible!\"\n",
      "[1] \"Try to be more visible!\"\n",
      "[1] \"Try to be more visible!\"\n",
      "[1] \"You're popular!\"\n",
      "[1] \"Try to be more visible!\"\n"
     ]
    },
    {
     "data": {
      "text/html": [
       "33"
      ],
      "text/latex": [
       "33"
      ],
      "text/markdown": [
       "33"
      ],
      "text/plain": [
       "[1] 33"
      ]
     },
     "metadata": {},
     "output_type": "display_data"
    },
    {
     "name": "stdout",
     "output_type": "stream",
     "text": [
      "[1] \"You're popular!\"\n",
      "[1] \"Try to be more visible!\"\n",
      "[1] \"Try to be more visible!\"\n",
      "[1] \"You're popular!\"\n",
      "[1] \"Try to be more visible!\"\n",
      "[1] \"Try to be more visible!\"\n",
      "[1] \"Try to be more visible!\"\n"
     ]
    },
    {
     "data": {
      "text/html": [
       "33"
      ],
      "text/latex": [
       "33"
      ],
      "text/markdown": [
       "33"
      ],
      "text/plain": [
       "[1] 33"
      ]
     },
     "metadata": {},
     "output_type": "display_data"
    }
   ],
   "source": [
    "# The linkedin and facebook vectors have already been created for you\n",
    "linkedin <- c(16, 9, 13, 5, 2, 17, 14)\n",
    "facebook <- c(17, 7, 5, 16, 8, 13, 14)\n",
    "\n",
    "# The interpret() can be used inside interpret_all()\n",
    "interpret <- function(num_views) {\n",
    "  if (num_views > 15) {\n",
    "    print(\"You're popular!\")\n",
    "    return(num_views)\n",
    "  } else {\n",
    "    print(\"Try to be more visible!\")\n",
    "    return(0)\n",
    "  }\n",
    "}\n",
    "\n",
    "# Define the interpret_all() function\n",
    "# views: vector with data to interpret\n",
    "# return_sum: return total number of views on popular days?\n",
    "interpret_all <- function(views, return_sum=TRUE) {\n",
    "  count <- 0\n",
    "  \n",
    "  for (v in views) {\n",
    "    count<-count+interpret(v)\n",
    "  }\n",
    "\n",
    "  if (return_sum) {\n",
    "    return(count)\n",
    "  } else {\n",
    "    return(NULL)\n",
    "  }\n",
    "}\n",
    "\n",
    "# Call the interpret_all() function on both linkedin and facebook\n",
    "interpret_all(linkedin)\n",
    "interpret_all(facebook)\n"
   ]
  },
  {
   "cell_type": "raw",
   "metadata": {},
   "source": [
    "There are basically two extremely important functions when it comes down to R packages:\n",
    "\n",
    "install.packages(), which as you can expect, installs a given package.\n",
    "library() which loads packages, i.e. attaches them to the search list on your R workspace.\n",
    "To install packages, you need administrator privileges. This means that install.packages() will thus not work in the DataCamp interface. However, almost all CRAN packages are installed on our servers. You can load them with library().\n",
    "\n",
    "In this exercise, you'll be learning how to load the ggplot2 package, a powerful package for data visualization. You'll use it to create a plot of two variables of the mtcars data frame. The data has already been prepared for you in the workspace.\n",
    "\n",
    "Before starting, execute the following commands in the console:\n",
    "\n",
    "search(), to look at the currently attached packages and\n",
    "qplot(mtcars$wt, mtcars$hp), to build a plot of two variables of the mtcars data frame.\n",
    "An error should occur, because you haven't loaded the ggplot2 package yet!"
   ]
  },
  {
   "cell_type": "code",
   "execution_count": 25,
   "metadata": {},
   "outputs": [
    {
     "data": {},
     "metadata": {},
     "output_type": "display_data"
    },
    {
     "data": {
      "text/html": [
       "<ol class=list-inline>\n",
       "\t<li>'.GlobalEnv'</li>\n",
       "\t<li>'package:ggplot2'</li>\n",
       "\t<li>'jupyter:irkernel'</li>\n",
       "\t<li>'package:stats'</li>\n",
       "\t<li>'package:graphics'</li>\n",
       "\t<li>'package:grDevices'</li>\n",
       "\t<li>'package:utils'</li>\n",
       "\t<li>'package:datasets'</li>\n",
       "\t<li>'package:methods'</li>\n",
       "\t<li>'Autoloads'</li>\n",
       "\t<li>'package:base'</li>\n",
       "</ol>\n"
      ],
      "text/latex": [
       "\\begin{enumerate*}\n",
       "\\item '.GlobalEnv'\n",
       "\\item 'package:ggplot2'\n",
       "\\item 'jupyter:irkernel'\n",
       "\\item 'package:stats'\n",
       "\\item 'package:graphics'\n",
       "\\item 'package:grDevices'\n",
       "\\item 'package:utils'\n",
       "\\item 'package:datasets'\n",
       "\\item 'package:methods'\n",
       "\\item 'Autoloads'\n",
       "\\item 'package:base'\n",
       "\\end{enumerate*}\n"
      ],
      "text/markdown": [
       "1. '.GlobalEnv'\n",
       "2. 'package:ggplot2'\n",
       "3. 'jupyter:irkernel'\n",
       "4. 'package:stats'\n",
       "5. 'package:graphics'\n",
       "6. 'package:grDevices'\n",
       "7. 'package:utils'\n",
       "8. 'package:datasets'\n",
       "9. 'package:methods'\n",
       "10. 'Autoloads'\n",
       "11. 'package:base'\n",
       "\n",
       "\n"
      ],
      "text/plain": [
       " [1] \".GlobalEnv\"        \"package:ggplot2\"   \"jupyter:irkernel\" \n",
       " [4] \"package:stats\"     \"package:graphics\"  \"package:grDevices\"\n",
       " [7] \"package:utils\"     \"package:datasets\"  \"package:methods\"  \n",
       "[10] \"Autoloads\"         \"package:base\"     "
      ]
     },
     "metadata": {},
     "output_type": "display_data"
    },
    {
     "data": {
      "image/png": "[encoded data removed]",
      "text/plain": [
       "plot without title"
      ]
     },
     "metadata": {},
     "output_type": "display_data"
    }
   ],
   "source": [
    "# Load the ggplot2 package\n",
    "library(ggplot2)\n",
    "\n",
    "# Retry the qplot() function\n",
    "qplot(mtcars$wt, mtcars$hp)\n",
    "\n",
    "# Check out the currently attached packages again\n",
    "search()"
   ]
  },
  {
   "cell_type": "raw",
   "metadata": {},
   "source": [
    "Before you go about solving the exercises below, have a look at the documentation of the lapply() function. The Usage section shows the following expression:\n",
    "\n",
    "lapply(X, FUN, ...)\n",
    "To put it generally, lapply takes a vector or list X, and applies the function FUN to each of its members. If FUN requires additional arguments, you pass them after you've specified X and FUN (...). The output of lapply() is a list, the same length as X, where each element is the result of applying FUN on the corresponding element of X.\n",
    "\n",
    "Now that you are truly brushing up on your data science skills, let's revisit some of the most relevant figures in data science history. We've compiled a vector of famous mathematicians/statisticians and the year they were born. Up to you to extract some information!"
   ]
  },
  {
   "cell_type": "code",
   "execution_count": 26,
   "metadata": {},
   "outputs": [
    {
     "name": "stdout",
     "output_type": "stream",
     "text": [
      "List of 4\n",
      " $ : chr [1:2] \"gauss\" \"1777\"\n",
      " $ : chr [1:2] \"bayes\" \"1702\"\n",
      " $ : chr [1:2] \"pascal\" \"1623\"\n",
      " $ : chr [1:2] \"pearson\" \"1857\"\n"
     ]
    }
   ],
   "source": [
    "# The vector pioneers has already been created for you\n",
    "pioneers <- c(\"GAUSS:1777\", \"BAYES:1702\", \"PASCAL:1623\", \"PEARSON:1857\")\n",
    "\n",
    "# Split names from birth year\n",
    "split_math <- strsplit(pioneers, split = \":\")\n",
    "\n",
    "# Convert to lowercase strings: split_low\n",
    "split_low<- lapply((split_math), tolower)\n",
    "\n",
    "# Take a look at the structure of split_low\n",
    "str(split_low)"
   ]
  },
  {
   "cell_type": "raw",
   "metadata": {},
   "source": [
    "you can use lapply() on your own functions as well. You just need to code a new function and make sure it is available in the workspace. After that, you can use the function inside lapply() just as you did with base R functions.\n",
    "\n",
    "In the previous exercise you already used lapply() once to convert the information about your favorite pioneering statisticians to a list of vectors composed of two character strings. Let's write some code to select the names and the birth years separately.\n",
    "\n",
    "The sample code already includes code that defined select_first(), that takes a vector as input and returns the first element of this vector.\n",
    "\n"
   ]
  },
  {
   "cell_type": "code",
   "execution_count": 28,
   "metadata": {},
   "outputs": [
    {
     "data": {
      "text/html": [
       "<ol>\n",
       "\t<li>'gauss'</li>\n",
       "\t<li>'bayes'</li>\n",
       "\t<li>'pascal'</li>\n",
       "\t<li>'pearson'</li>\n",
       "</ol>\n"
      ],
      "text/latex": [
       "\\begin{enumerate}\n",
       "\\item 'gauss'\n",
       "\\item 'bayes'\n",
       "\\item 'pascal'\n",
       "\\item 'pearson'\n",
       "\\end{enumerate}\n"
      ],
      "text/markdown": [
       "1. 'gauss'\n",
       "2. 'bayes'\n",
       "3. 'pascal'\n",
       "4. 'pearson'\n",
       "\n",
       "\n"
      ],
      "text/plain": [
       "[[1]]\n",
       "[1] \"gauss\"\n",
       "\n",
       "[[2]]\n",
       "[1] \"bayes\"\n",
       "\n",
       "[[3]]\n",
       "[1] \"pascal\"\n",
       "\n",
       "[[4]]\n",
       "[1] \"pearson\"\n"
      ]
     },
     "metadata": {},
     "output_type": "display_data"
    },
    {
     "data": {
      "text/html": [
       "<ol>\n",
       "\t<li>'1777'</li>\n",
       "\t<li>'1702'</li>\n",
       "\t<li>'1623'</li>\n",
       "\t<li>'1857'</li>\n",
       "</ol>\n"
      ],
      "text/latex": [
       "\\begin{enumerate}\n",
       "\\item '1777'\n",
       "\\item '1702'\n",
       "\\item '1623'\n",
       "\\item '1857'\n",
       "\\end{enumerate}\n"
      ],
      "text/markdown": [
       "1. '1777'\n",
       "2. '1702'\n",
       "3. '1623'\n",
       "4. '1857'\n",
       "\n",
       "\n"
      ],
      "text/plain": [
       "[[1]]\n",
       "[1] \"1777\"\n",
       "\n",
       "[[2]]\n",
       "[1] \"1702\"\n",
       "\n",
       "[[3]]\n",
       "[1] \"1623\"\n",
       "\n",
       "[[4]]\n",
       "[1] \"1857\"\n"
      ]
     },
     "metadata": {},
     "output_type": "display_data"
    }
   ],
   "source": [
    "# Code from previous exercise:\n",
    "pioneers <- c(\"GAUSS:1777\", \"BAYES:1702\", \"PASCAL:1623\", \"PEARSON:1857\")\n",
    "split <- strsplit(pioneers, split = \":\")\n",
    "split_low <- lapply(split, tolower)\n",
    "\n",
    "# Write function select_first()\n",
    "select_first <- function(x) {\n",
    "  x[1]\n",
    "}\n",
    "\n",
    "# Apply select_first() over split_low: names\n",
    "names <- lapply(split_low, select_first)\n",
    "names\n",
    "# Write function select_second()\n",
    "select_second<-function(x){\n",
    "  x[2]\n",
    "}\n",
    "\n",
    "\n",
    "# Apply select_second() over split_low: years\n",
    "years <- lapply(split_low, select_second)\n",
    "years"
   ]
  },
  {
   "cell_type": "raw",
   "metadata": {},
   "source": [
    "Writing your own functions and then using them inside lapply() is quite an accomplishment! But defining functions to use them only once is kind of overkill, isn't it? That's why you can use so-called anonymous functions in R.\n",
    "\n",
    "Previously, you learned that functions in R are objects in their own right. This means that they aren't automatically bound to a name. When you create a function, you can use the assignment operator to give the function a name. It's perfectly possible, however, to not give the function a name. This is called an anonymous function:\n",
    "\n",
    "# Named function\n",
    "triple <- function(x) { 3 * x }\n",
    "\n",
    "# Anonymous function with same implementation\n",
    "function(x) { 3 * x }\n",
    "\n",
    "# Use anonymous function inside lapply()\n",
    "lapply(list(1,2,3), function(x) { 3 * x })"
   ]
  },
  {
   "cell_type": "code",
   "execution_count": 30,
   "metadata": {},
   "outputs": [
    {
     "data": {
      "text/html": [
       "<ol>\n",
       "\t<li>'gauss'</li>\n",
       "\t<li>'bayes'</li>\n",
       "\t<li>'pascal'</li>\n",
       "\t<li>'pearson'</li>\n",
       "</ol>\n"
      ],
      "text/latex": [
       "\\begin{enumerate}\n",
       "\\item 'gauss'\n",
       "\\item 'bayes'\n",
       "\\item 'pascal'\n",
       "\\item 'pearson'\n",
       "\\end{enumerate}\n"
      ],
      "text/markdown": [
       "1. 'gauss'\n",
       "2. 'bayes'\n",
       "3. 'pascal'\n",
       "4. 'pearson'\n",
       "\n",
       "\n"
      ],
      "text/plain": [
       "[[1]]\n",
       "[1] \"gauss\"\n",
       "\n",
       "[[2]]\n",
       "[1] \"bayes\"\n",
       "\n",
       "[[3]]\n",
       "[1] \"pascal\"\n",
       "\n",
       "[[4]]\n",
       "[1] \"pearson\"\n"
      ]
     },
     "metadata": {},
     "output_type": "display_data"
    },
    {
     "data": {
      "text/html": [
       "<ol>\n",
       "\t<li>'1777'</li>\n",
       "\t<li>'1702'</li>\n",
       "\t<li>'1623'</li>\n",
       "\t<li>'1857'</li>\n",
       "</ol>\n"
      ],
      "text/latex": [
       "\\begin{enumerate}\n",
       "\\item '1777'\n",
       "\\item '1702'\n",
       "\\item '1623'\n",
       "\\item '1857'\n",
       "\\end{enumerate}\n"
      ],
      "text/markdown": [
       "1. '1777'\n",
       "2. '1702'\n",
       "3. '1623'\n",
       "4. '1857'\n",
       "\n",
       "\n"
      ],
      "text/plain": [
       "[[1]]\n",
       "[1] \"1777\"\n",
       "\n",
       "[[2]]\n",
       "[1] \"1702\"\n",
       "\n",
       "[[3]]\n",
       "[1] \"1623\"\n",
       "\n",
       "[[4]]\n",
       "[1] \"1857\"\n"
      ]
     },
     "metadata": {},
     "output_type": "display_data"
    }
   ],
   "source": [
    "# Definition of split_low\n",
    "pioneers <- c(\"GAUSS:1777\", \"BAYES:1702\", \"PASCAL:1623\", \"PEARSON:1857\")\n",
    "split <- strsplit(pioneers, split = \":\")\n",
    "split_low <- lapply(split, tolower)\n",
    "\n",
    "# Transform: use anonymous function inside lapply\n",
    "\n",
    "names <- lapply(split_low, function(x) {x[1]})\n",
    "names\n",
    "# Transform: use anonymous function inside lapply\n",
    "\n",
    "years <- lapply(split_low, function(x) {x[2]})\n",
    "years"
   ]
  },
  {
   "cell_type": "raw",
   "metadata": {},
   "source": [
    "the triple() function was transformed to the multiply() function to allow for a more generic approach. lapply() provides a way to handle functions that require more than one argument, such as the multiply() function:\n",
    "\n",
    "multiply <- function(x, factor) {\n",
    "  x * factor\n",
    "}\n",
    "lapply(list(1,2,3), multiply, factor = 3)\n",
    "On the right we've included a generic version of the select functions that you've coded earlier: select_el(). It takes a vector as its first argument, and an index as its second argument. It returns the vector's element at the specified index."
   ]
  },
  {
   "cell_type": "code",
   "execution_count": 32,
   "metadata": {},
   "outputs": [
    {
     "data": {
      "text/html": [
       "<ol>\n",
       "\t<li>'gauss'</li>\n",
       "\t<li>'bayes'</li>\n",
       "\t<li>'pascal'</li>\n",
       "\t<li>'pearson'</li>\n",
       "</ol>\n"
      ],
      "text/latex": [
       "\\begin{enumerate}\n",
       "\\item 'gauss'\n",
       "\\item 'bayes'\n",
       "\\item 'pascal'\n",
       "\\item 'pearson'\n",
       "\\end{enumerate}\n"
      ],
      "text/markdown": [
       "1. 'gauss'\n",
       "2. 'bayes'\n",
       "3. 'pascal'\n",
       "4. 'pearson'\n",
       "\n",
       "\n"
      ],
      "text/plain": [
       "[[1]]\n",
       "[1] \"gauss\"\n",
       "\n",
       "[[2]]\n",
       "[1] \"bayes\"\n",
       "\n",
       "[[3]]\n",
       "[1] \"pascal\"\n",
       "\n",
       "[[4]]\n",
       "[1] \"pearson\"\n"
      ]
     },
     "metadata": {},
     "output_type": "display_data"
    },
    {
     "data": {
      "text/html": [
       "<ol>\n",
       "\t<li>'1777'</li>\n",
       "\t<li>'1702'</li>\n",
       "\t<li>'1623'</li>\n",
       "\t<li>'1857'</li>\n",
       "</ol>\n"
      ],
      "text/latex": [
       "\\begin{enumerate}\n",
       "\\item '1777'\n",
       "\\item '1702'\n",
       "\\item '1623'\n",
       "\\item '1857'\n",
       "\\end{enumerate}\n"
      ],
      "text/markdown": [
       "1. '1777'\n",
       "2. '1702'\n",
       "3. '1623'\n",
       "4. '1857'\n",
       "\n",
       "\n"
      ],
      "text/plain": [
       "[[1]]\n",
       "[1] \"1777\"\n",
       "\n",
       "[[2]]\n",
       "[1] \"1702\"\n",
       "\n",
       "[[3]]\n",
       "[1] \"1623\"\n",
       "\n",
       "[[4]]\n",
       "[1] \"1857\"\n"
      ]
     },
     "metadata": {},
     "output_type": "display_data"
    }
   ],
   "source": [
    "# Definition of split_low\n",
    "pioneers <- c(\"GAUSS:1777\", \"BAYES:1702\", \"PASCAL:1623\", \"PEARSON:1857\")\n",
    "split <- strsplit(pioneers, split = \":\")\n",
    "split_low <- lapply(split, tolower)\n",
    "\n",
    "# Generic select function\n",
    "select_el <- function(x, index) {\n",
    "  x[index]\n",
    "}\n",
    "\n",
    "# Use lapply() twice on split_low: names and years\n",
    "names<- lapply(split_low, select_el, index = 1)\n",
    "years<- lapply(split_low, select_el, index=2)\n",
    "names\n",
    "years"
   ]
  },
  {
   "cell_type": "raw",
   "metadata": {},
   "source": [
    "You can use sapply() similar to how you used lapply(). The first argument of sapply() is the list or vector X over which you want to apply a function, FUN. Potential additional arguments to this function are specified afterwards (...):\n",
    "\n",
    "sapply(X, FUN, ...)\n",
    "In the next couple of exercises, you'll be working with the variable temp, that contains temperature measurements for 7 days. temp is a list of length 7, where each element is a vector of length 5, representing 5 measurements on a given day. This variable has already been defined in the workspace: type str(temp) to see its structure.\n",
    "\n"
   ]
  },
  {
   "cell_type": "code",
   "execution_count": 34,
   "metadata": {},
   "outputs": [
    {
     "data": {
      "text/html": [
       "<ol>\n",
       "\t<li><ol class=list-inline>\n",
       "\t<li>3</li>\n",
       "\t<li>7</li>\n",
       "\t<li>9</li>\n",
       "\t<li>6</li>\n",
       "\t<li>-1</li>\n",
       "</ol>\n",
       "</li>\n",
       "\t<li><ol class=list-inline>\n",
       "\t<li>6</li>\n",
       "\t<li>9</li>\n",
       "\t<li>12</li>\n",
       "\t<li>13</li>\n",
       "\t<li>5</li>\n",
       "</ol>\n",
       "</li>\n",
       "\t<li><ol class=list-inline>\n",
       "\t<li>4</li>\n",
       "\t<li>8</li>\n",
       "\t<li>3</li>\n",
       "\t<li>-1</li>\n",
       "\t<li>-3</li>\n",
       "</ol>\n",
       "</li>\n",
       "\t<li><ol class=list-inline>\n",
       "\t<li>1</li>\n",
       "\t<li>4</li>\n",
       "\t<li>7</li>\n",
       "\t<li>2</li>\n",
       "\t<li>-2</li>\n",
       "</ol>\n",
       "</li>\n",
       "\t<li><ol class=list-inline>\n",
       "\t<li>5</li>\n",
       "\t<li>7</li>\n",
       "\t<li>9</li>\n",
       "\t<li>4</li>\n",
       "\t<li>2</li>\n",
       "</ol>\n",
       "</li>\n",
       "\t<li><ol class=list-inline>\n",
       "\t<li>-3</li>\n",
       "\t<li>5</li>\n",
       "\t<li>8</li>\n",
       "\t<li>9</li>\n",
       "\t<li>4</li>\n",
       "</ol>\n",
       "</li>\n",
       "\t<li><ol class=list-inline>\n",
       "\t<li>3</li>\n",
       "\t<li>6</li>\n",
       "\t<li>9</li>\n",
       "\t<li>4</li>\n",
       "\t<li>1</li>\n",
       "</ol>\n",
       "</li>\n",
       "</ol>\n"
      ],
      "text/latex": [
       "\\begin{enumerate}\n",
       "\\item \\begin{enumerate*}\n",
       "\\item 3\n",
       "\\item 7\n",
       "\\item 9\n",
       "\\item 6\n",
       "\\item -1\n",
       "\\end{enumerate*}\n",
       "\n",
       "\\item \\begin{enumerate*}\n",
       "\\item 6\n",
       "\\item 9\n",
       "\\item 12\n",
       "\\item 13\n",
       "\\item 5\n",
       "\\end{enumerate*}\n",
       "\n",
       "\\item \\begin{enumerate*}\n",
       "\\item 4\n",
       "\\item 8\n",
       "\\item 3\n",
       "\\item -1\n",
       "\\item -3\n",
       "\\end{enumerate*}\n",
       "\n",
       "\\item \\begin{enumerate*}\n",
       "\\item 1\n",
       "\\item 4\n",
       "\\item 7\n",
       "\\item 2\n",
       "\\item -2\n",
       "\\end{enumerate*}\n",
       "\n",
       "\\item \\begin{enumerate*}\n",
       "\\item 5\n",
       "\\item 7\n",
       "\\item 9\n",
       "\\item 4\n",
       "\\item 2\n",
       "\\end{enumerate*}\n",
       "\n",
       "\\item \\begin{enumerate*}\n",
       "\\item -3\n",
       "\\item 5\n",
       "\\item 8\n",
       "\\item 9\n",
       "\\item 4\n",
       "\\end{enumerate*}\n",
       "\n",
       "\\item \\begin{enumerate*}\n",
       "\\item 3\n",
       "\\item 6\n",
       "\\item 9\n",
       "\\item 4\n",
       "\\item 1\n",
       "\\end{enumerate*}\n",
       "\n",
       "\\end{enumerate}\n"
      ],
      "text/markdown": [
       "1. 1. 3\n",
       "2. 7\n",
       "3. 9\n",
       "4. 6\n",
       "5. -1\n",
       "\n",
       "\n",
       "\n",
       "2. 1. 6\n",
       "2. 9\n",
       "3. 12\n",
       "4. 13\n",
       "5. 5\n",
       "\n",
       "\n",
       "\n",
       "3. 1. 4\n",
       "2. 8\n",
       "3. 3\n",
       "4. -1\n",
       "5. -3\n",
       "\n",
       "\n",
       "\n",
       "4. 1. 1\n",
       "2. 4\n",
       "3. 7\n",
       "4. 2\n",
       "5. -2\n",
       "\n",
       "\n",
       "\n",
       "5. 1. 5\n",
       "2. 7\n",
       "3. 9\n",
       "4. 4\n",
       "5. 2\n",
       "\n",
       "\n",
       "\n",
       "6. 1. -3\n",
       "2. 5\n",
       "3. 8\n",
       "4. 9\n",
       "5. 4\n",
       "\n",
       "\n",
       "\n",
       "7. 1. 3\n",
       "2. 6\n",
       "3. 9\n",
       "4. 4\n",
       "5. 1\n",
       "\n",
       "\n",
       "\n",
       "\n",
       "\n"
      ],
      "text/plain": [
       "[[1]]\n",
       "[1]  3  7  9  6 -1\n",
       "\n",
       "[[2]]\n",
       "[1]  6  9 12 13  5\n",
       "\n",
       "[[3]]\n",
       "[1]  4  8  3 -1 -3\n",
       "\n",
       "[[4]]\n",
       "[1]  1  4  7  2 -2\n",
       "\n",
       "[[5]]\n",
       "[1] 5 7 9 4 2\n",
       "\n",
       "[[6]]\n",
       "[1] -3  5  8  9  4\n",
       "\n",
       "[[7]]\n",
       "[1] 3 6 9 4 1\n"
      ]
     },
     "metadata": {},
     "output_type": "display_data"
    }
   ],
   "source": [
    "\n",
    "\n",
    "temp <- list(c(3,7,9,6,-1), c(6,9,12,13,5), c(4,8,3,-1,-3), c(1,4,7,2,-2),c(5,7,9,4,2),c(-3,5,8,9,4), c(3,6,9,4,1))\n",
    "temp"
   ]
  },
  {
   "cell_type": "code",
   "execution_count": 35,
   "metadata": {},
   "outputs": [
    {
     "data": {
      "text/html": [
       "<ol>\n",
       "\t<li>-1</li>\n",
       "\t<li>5</li>\n",
       "\t<li>-3</li>\n",
       "\t<li>-2</li>\n",
       "\t<li>2</li>\n",
       "\t<li>-3</li>\n",
       "\t<li>1</li>\n",
       "</ol>\n"
      ],
      "text/latex": [
       "\\begin{enumerate}\n",
       "\\item -1\n",
       "\\item 5\n",
       "\\item -3\n",
       "\\item -2\n",
       "\\item 2\n",
       "\\item -3\n",
       "\\item 1\n",
       "\\end{enumerate}\n"
      ],
      "text/markdown": [
       "1. -1\n",
       "2. 5\n",
       "3. -3\n",
       "4. -2\n",
       "5. 2\n",
       "6. -3\n",
       "7. 1\n",
       "\n",
       "\n"
      ],
      "text/plain": [
       "[[1]]\n",
       "[1] -1\n",
       "\n",
       "[[2]]\n",
       "[1] 5\n",
       "\n",
       "[[3]]\n",
       "[1] -3\n",
       "\n",
       "[[4]]\n",
       "[1] -2\n",
       "\n",
       "[[5]]\n",
       "[1] 2\n",
       "\n",
       "[[6]]\n",
       "[1] -3\n",
       "\n",
       "[[7]]\n",
       "[1] 1\n"
      ]
     },
     "metadata": {},
     "output_type": "display_data"
    },
    {
     "data": {
      "text/html": [
       "<ol class=list-inline>\n",
       "\t<li>-1</li>\n",
       "\t<li>5</li>\n",
       "\t<li>-3</li>\n",
       "\t<li>-2</li>\n",
       "\t<li>2</li>\n",
       "\t<li>-3</li>\n",
       "\t<li>1</li>\n",
       "</ol>\n"
      ],
      "text/latex": [
       "\\begin{enumerate*}\n",
       "\\item -1\n",
       "\\item 5\n",
       "\\item -3\n",
       "\\item -2\n",
       "\\item 2\n",
       "\\item -3\n",
       "\\item 1\n",
       "\\end{enumerate*}\n"
      ],
      "text/markdown": [
       "1. -1\n",
       "2. 5\n",
       "3. -3\n",
       "4. -2\n",
       "5. 2\n",
       "6. -3\n",
       "7. 1\n",
       "\n",
       "\n"
      ],
      "text/plain": [
       "[1] -1  5 -3 -2  2 -3  1"
      ]
     },
     "metadata": {},
     "output_type": "display_data"
    },
    {
     "data": {
      "text/html": [
       "<ol>\n",
       "\t<li>9</li>\n",
       "\t<li>13</li>\n",
       "\t<li>8</li>\n",
       "\t<li>7</li>\n",
       "\t<li>9</li>\n",
       "\t<li>9</li>\n",
       "\t<li>9</li>\n",
       "</ol>\n"
      ],
      "text/latex": [
       "\\begin{enumerate}\n",
       "\\item 9\n",
       "\\item 13\n",
       "\\item 8\n",
       "\\item 7\n",
       "\\item 9\n",
       "\\item 9\n",
       "\\item 9\n",
       "\\end{enumerate}\n"
      ],
      "text/markdown": [
       "1. 9\n",
       "2. 13\n",
       "3. 8\n",
       "4. 7\n",
       "5. 9\n",
       "6. 9\n",
       "7. 9\n",
       "\n",
       "\n"
      ],
      "text/plain": [
       "[[1]]\n",
       "[1] 9\n",
       "\n",
       "[[2]]\n",
       "[1] 13\n",
       "\n",
       "[[3]]\n",
       "[1] 8\n",
       "\n",
       "[[4]]\n",
       "[1] 7\n",
       "\n",
       "[[5]]\n",
       "[1] 9\n",
       "\n",
       "[[6]]\n",
       "[1] 9\n",
       "\n",
       "[[7]]\n",
       "[1] 9\n"
      ]
     },
     "metadata": {},
     "output_type": "display_data"
    },
    {
     "data": {
      "text/html": [
       "<ol class=list-inline>\n",
       "\t<li>9</li>\n",
       "\t<li>13</li>\n",
       "\t<li>8</li>\n",
       "\t<li>7</li>\n",
       "\t<li>9</li>\n",
       "\t<li>9</li>\n",
       "\t<li>9</li>\n",
       "</ol>\n"
      ],
      "text/latex": [
       "\\begin{enumerate*}\n",
       "\\item 9\n",
       "\\item 13\n",
       "\\item 8\n",
       "\\item 7\n",
       "\\item 9\n",
       "\\item 9\n",
       "\\item 9\n",
       "\\end{enumerate*}\n"
      ],
      "text/markdown": [
       "1. 9\n",
       "2. 13\n",
       "3. 8\n",
       "4. 7\n",
       "5. 9\n",
       "6. 9\n",
       "7. 9\n",
       "\n",
       "\n"
      ],
      "text/plain": [
       "[1]  9 13  8  7  9  9  9"
      ]
     },
     "metadata": {},
     "output_type": "display_data"
    }
   ],
   "source": [
    "# temp has already been defined in the workspace\n",
    "\n",
    "# Use lapply() to find each day's minimum temperature\n",
    "lapply(temp, min)\n",
    "# Use sapply() to find each day's minimum temperature\n",
    "sapply(temp, min)\n",
    "\n",
    "# Use lapply() to find each day's maximum temperature\n",
    "lapply(temp, max)\n",
    "\n",
    "# Use sapply() to find each day's maximum temperature\n",
    "sapply(temp, max)"
   ]
  },
  {
   "cell_type": "raw",
   "metadata": {},
   "source": [
    "Like lapply(), sapply() allows you to use self-defined functions and apply them over a vector or a list:\n",
    "\n",
    "sapply(X, FUN, ...)\n",
    "Here, FUN can be one of R's built-in functions, but it can also be a function you wrote. This self-written function can be defined before hand, or can be inserted directly as an anonymous function."
   ]
  },
  {
   "cell_type": "code",
   "execution_count": 36,
   "metadata": {},
   "outputs": [
    {
     "data": {
      "text/html": [
       "<ol class=list-inline>\n",
       "\t<li>4</li>\n",
       "\t<li>9</li>\n",
       "\t<li>2.5</li>\n",
       "\t<li>2.5</li>\n",
       "\t<li>5.5</li>\n",
       "\t<li>3</li>\n",
       "\t<li>5</li>\n",
       "</ol>\n"
      ],
      "text/latex": [
       "\\begin{enumerate*}\n",
       "\\item 4\n",
       "\\item 9\n",
       "\\item 2.5\n",
       "\\item 2.5\n",
       "\\item 5.5\n",
       "\\item 3\n",
       "\\item 5\n",
       "\\end{enumerate*}\n"
      ],
      "text/markdown": [
       "1. 4\n",
       "2. 9\n",
       "3. 2.5\n",
       "4. 2.5\n",
       "5. 5.5\n",
       "6. 3\n",
       "7. 5\n",
       "\n",
       "\n"
      ],
      "text/plain": [
       "[1] 4.0 9.0 2.5 2.5 5.5 3.0 5.0"
      ]
     },
     "metadata": {},
     "output_type": "display_data"
    },
    {
     "data": {
      "text/html": [
       "<ol>\n",
       "\t<li>4</li>\n",
       "\t<li>9</li>\n",
       "\t<li>2.5</li>\n",
       "\t<li>2.5</li>\n",
       "\t<li>5.5</li>\n",
       "\t<li>3</li>\n",
       "\t<li>5</li>\n",
       "</ol>\n"
      ],
      "text/latex": [
       "\\begin{enumerate}\n",
       "\\item 4\n",
       "\\item 9\n",
       "\\item 2.5\n",
       "\\item 2.5\n",
       "\\item 5.5\n",
       "\\item 3\n",
       "\\item 5\n",
       "\\end{enumerate}\n"
      ],
      "text/markdown": [
       "1. 4\n",
       "2. 9\n",
       "3. 2.5\n",
       "4. 2.5\n",
       "5. 5.5\n",
       "6. 3\n",
       "7. 5\n",
       "\n",
       "\n"
      ],
      "text/plain": [
       "[[1]]\n",
       "[1] 4\n",
       "\n",
       "[[2]]\n",
       "[1] 9\n",
       "\n",
       "[[3]]\n",
       "[1] 2.5\n",
       "\n",
       "[[4]]\n",
       "[1] 2.5\n",
       "\n",
       "[[5]]\n",
       "[1] 5.5\n",
       "\n",
       "[[6]]\n",
       "[1] 3\n",
       "\n",
       "[[7]]\n",
       "[1] 5\n"
      ]
     },
     "metadata": {},
     "output_type": "display_data"
    }
   ],
   "source": [
    "# temp is already defined in the workspace\n",
    "\n",
    "# Finish function definition of extremes_avg\n",
    "extremes_avg <- function(x) {\n",
    "  ( min(x) + max(x) ) / 2\n",
    "}\n",
    "\n",
    "# Apply extremes_avg() over temp using sapply()\n",
    "sapply(temp, extremes_avg)\n",
    "\n",
    "# Apply extremes_avg() over temp using lapply()\n",
    "lapply(temp, extremes_avg)"
   ]
  },
  {
   "cell_type": "raw",
   "metadata": {},
   "source": [
    "you've seen how sapply() simplifies the list that lapply() would return by turning it into a vector. But what if the function you're applying over a list or a vector returns a vector of length greater than 1? If you don't remember from the video, don't waste more time in the valley of ignorance and head over to the instructions!"
   ]
  },
  {
   "cell_type": "code",
   "execution_count": 37,
   "metadata": {},
   "outputs": [
    {
     "data": {
      "text/html": [
       "<table>\n",
       "<tbody>\n",
       "\t<tr><th scope=row>min</th><td>-1</td><td> 5</td><td>-3</td><td>-2</td><td>2 </td><td>-3</td><td>1 </td></tr>\n",
       "\t<tr><th scope=row>max</th><td> 9</td><td>13</td><td> 8</td><td> 7</td><td>9 </td><td> 9</td><td>9 </td></tr>\n",
       "</tbody>\n",
       "</table>\n"
      ],
      "text/latex": [
       "\\begin{tabular}{r|lllllll}\n",
       "\tmin & -1 &  5 & -3 & -2 & 2  & -3 & 1 \\\\\n",
       "\tmax &  9 & 13 &  8 &  7 & 9  &  9 & 9 \\\\\n",
       "\\end{tabular}\n"
      ],
      "text/markdown": [
       "\n",
       "| min | -1 |  5 | -3 | -2 | 2  | -3 | 1  | \n",
       "| max |  9 | 13 |  8 |  7 | 9  |  9 | 9  | \n",
       "\n",
       "\n"
      ],
      "text/plain": [
       "    [,1] [,2] [,3] [,4] [,5] [,6] [,7]\n",
       "min -1    5   -3   -2   2    -3   1   \n",
       "max  9   13    8    7   9     9   9   "
      ]
     },
     "metadata": {},
     "output_type": "display_data"
    },
    {
     "data": {
      "text/html": [
       "<ol>\n",
       "\t<li><dl class=dl-horizontal>\n",
       "\t<dt>min</dt>\n",
       "\t\t<dd>-1</dd>\n",
       "\t<dt>max</dt>\n",
       "\t\t<dd>9</dd>\n",
       "</dl>\n",
       "</li>\n",
       "\t<li><dl class=dl-horizontal>\n",
       "\t<dt>min</dt>\n",
       "\t\t<dd>5</dd>\n",
       "\t<dt>max</dt>\n",
       "\t\t<dd>13</dd>\n",
       "</dl>\n",
       "</li>\n",
       "\t<li><dl class=dl-horizontal>\n",
       "\t<dt>min</dt>\n",
       "\t\t<dd>-3</dd>\n",
       "\t<dt>max</dt>\n",
       "\t\t<dd>8</dd>\n",
       "</dl>\n",
       "</li>\n",
       "\t<li><dl class=dl-horizontal>\n",
       "\t<dt>min</dt>\n",
       "\t\t<dd>-2</dd>\n",
       "\t<dt>max</dt>\n",
       "\t\t<dd>7</dd>\n",
       "</dl>\n",
       "</li>\n",
       "\t<li><dl class=dl-horizontal>\n",
       "\t<dt>min</dt>\n",
       "\t\t<dd>2</dd>\n",
       "\t<dt>max</dt>\n",
       "\t\t<dd>9</dd>\n",
       "</dl>\n",
       "</li>\n",
       "\t<li><dl class=dl-horizontal>\n",
       "\t<dt>min</dt>\n",
       "\t\t<dd>-3</dd>\n",
       "\t<dt>max</dt>\n",
       "\t\t<dd>9</dd>\n",
       "</dl>\n",
       "</li>\n",
       "\t<li><dl class=dl-horizontal>\n",
       "\t<dt>min</dt>\n",
       "\t\t<dd>1</dd>\n",
       "\t<dt>max</dt>\n",
       "\t\t<dd>9</dd>\n",
       "</dl>\n",
       "</li>\n",
       "</ol>\n"
      ],
      "text/latex": [
       "\\begin{enumerate}\n",
       "\\item \\begin{description*}\n",
       "\\item[min] -1\n",
       "\\item[max] 9\n",
       "\\end{description*}\n",
       "\n",
       "\\item \\begin{description*}\n",
       "\\item[min] 5\n",
       "\\item[max] 13\n",
       "\\end{description*}\n",
       "\n",
       "\\item \\begin{description*}\n",
       "\\item[min] -3\n",
       "\\item[max] 8\n",
       "\\end{description*}\n",
       "\n",
       "\\item \\begin{description*}\n",
       "\\item[min] -2\n",
       "\\item[max] 7\n",
       "\\end{description*}\n",
       "\n",
       "\\item \\begin{description*}\n",
       "\\item[min] 2\n",
       "\\item[max] 9\n",
       "\\end{description*}\n",
       "\n",
       "\\item \\begin{description*}\n",
       "\\item[min] -3\n",
       "\\item[max] 9\n",
       "\\end{description*}\n",
       "\n",
       "\\item \\begin{description*}\n",
       "\\item[min] 1\n",
       "\\item[max] 9\n",
       "\\end{description*}\n",
       "\n",
       "\\end{enumerate}\n"
      ],
      "text/markdown": [
       "1. min\n",
       ":   -1max\n",
       ":   9\n",
       "\n",
       "\n",
       "2. min\n",
       ":   5max\n",
       ":   13\n",
       "\n",
       "\n",
       "3. min\n",
       ":   -3max\n",
       ":   8\n",
       "\n",
       "\n",
       "4. min\n",
       ":   -2max\n",
       ":   7\n",
       "\n",
       "\n",
       "5. min\n",
       ":   2max\n",
       ":   9\n",
       "\n",
       "\n",
       "6. min\n",
       ":   -3max\n",
       ":   9\n",
       "\n",
       "\n",
       "7. min\n",
       ":   1max\n",
       ":   9\n",
       "\n",
       "\n",
       "\n",
       "\n"
      ],
      "text/plain": [
       "[[1]]\n",
       "min max \n",
       " -1   9 \n",
       "\n",
       "[[2]]\n",
       "min max \n",
       "  5  13 \n",
       "\n",
       "[[3]]\n",
       "min max \n",
       " -3   8 \n",
       "\n",
       "[[4]]\n",
       "min max \n",
       " -2   7 \n",
       "\n",
       "[[5]]\n",
       "min max \n",
       "  2   9 \n",
       "\n",
       "[[6]]\n",
       "min max \n",
       " -3   9 \n",
       "\n",
       "[[7]]\n",
       "min max \n",
       "  1   9 \n"
      ]
     },
     "metadata": {},
     "output_type": "display_data"
    }
   ],
   "source": [
    "# temp is already available in the workspace\n",
    "\n",
    "# Create a function that returns min and max of a vector: extremes\n",
    "extremes <- function(x) {\n",
    "  c(min = min(x), max = max(x))\n",
    "}\n",
    "\n",
    "# Apply extremes() over temp with sapply()\n",
    "sapply(temp, extremes)\n",
    "\n",
    "# Apply extremes() over temp with lapply()\n",
    "lapply(temp, extremes)"
   ]
  },
  {
   "cell_type": "raw",
   "metadata": {},
   "source": [
    "It seems like we've hit the jackpot with sapply(). On all of the examples so far, sapply() was able to nicely simplify the rather bulky output of lapply(). But, as with life, there are things you can't simplify. How does sapply() react?\n",
    "\n",
    "We already created a function, below_zero(), that takes a vector of numerical values and returns a vector that only contains the values that are strictly below zero."
   ]
  },
  {
   "cell_type": "code",
   "execution_count": 38,
   "metadata": {},
   "outputs": [
    {
     "data": {
      "text/html": [
       "TRUE"
      ],
      "text/latex": [
       "TRUE"
      ],
      "text/markdown": [
       "TRUE"
      ],
      "text/plain": [
       "[1] TRUE"
      ]
     },
     "metadata": {},
     "output_type": "display_data"
    }
   ],
   "source": [
    "# temp is already prepared for you in the workspace\n",
    "\n",
    "# Definition of below_zero()\n",
    "below_zero <- function(x) {\n",
    "  return(x[x < 0])\n",
    "}\n",
    "\n",
    "# Apply below_zero over temp using sapply(): freezing_s\n",
    "freezing_s <- sapply(temp, below_zero)\n",
    "\n",
    "# Apply below_zero over temp using lapply(): freezing_l\n",
    "freezing_l <- lapply(temp, below_zero)\n",
    "\n",
    "# Are freezing_s and freezing_l identical?\n",
    "identical(freezing_l, freezing_s)"
   ]
  },
  {
   "cell_type": "raw",
   "metadata": {},
   "source": [
    "You already have some apply tricks under your sleeve, but you're surely hungry for some more, aren't you? In this exercise, you'll see how sapply() reacts when it is used to apply a function that returns NULL over a vector or a list.\n",
    "\n",
    "A function print_info(), that takes a vector and prints the average of this vector, has already been created for you. It uses the cat() function."
   ]
  },
  {
   "cell_type": "code",
   "execution_count": 39,
   "metadata": {},
   "outputs": [
    {
     "name": "stdout",
     "output_type": "stream",
     "text": [
      "The average temperature is 4.8 \n",
      "The average temperature is 9 \n",
      "The average temperature is 2.2 \n",
      "The average temperature is 2.4 \n",
      "The average temperature is 5.4 \n",
      "The average temperature is 4.6 \n",
      "The average temperature is 4.6 \n"
     ]
    },
    {
     "data": {
      "text/html": [
       "<ol>\n",
       "\t<li>NULL</li>\n",
       "\t<li>NULL</li>\n",
       "\t<li>NULL</li>\n",
       "\t<li>NULL</li>\n",
       "\t<li>NULL</li>\n",
       "\t<li>NULL</li>\n",
       "\t<li>NULL</li>\n",
       "</ol>\n"
      ],
      "text/latex": [
       "\\begin{enumerate}\n",
       "\\item NULL\n",
       "\\item NULL\n",
       "\\item NULL\n",
       "\\item NULL\n",
       "\\item NULL\n",
       "\\item NULL\n",
       "\\item NULL\n",
       "\\end{enumerate}\n"
      ],
      "text/markdown": [
       "1. NULL\n",
       "2. NULL\n",
       "3. NULL\n",
       "4. NULL\n",
       "5. NULL\n",
       "6. NULL\n",
       "7. NULL\n",
       "\n",
       "\n"
      ],
      "text/plain": [
       "[[1]]\n",
       "NULL\n",
       "\n",
       "[[2]]\n",
       "NULL\n",
       "\n",
       "[[3]]\n",
       "NULL\n",
       "\n",
       "[[4]]\n",
       "NULL\n",
       "\n",
       "[[5]]\n",
       "NULL\n",
       "\n",
       "[[6]]\n",
       "NULL\n",
       "\n",
       "[[7]]\n",
       "NULL\n"
      ]
     },
     "metadata": {},
     "output_type": "display_data"
    },
    {
     "name": "stdout",
     "output_type": "stream",
     "text": [
      "The average temperature is 4.8 \n",
      "The average temperature is 9 \n",
      "The average temperature is 2.2 \n",
      "The average temperature is 2.4 \n",
      "The average temperature is 5.4 \n",
      "The average temperature is 4.6 \n",
      "The average temperature is 4.6 \n"
     ]
    },
    {
     "data": {
      "text/html": [
       "<ol>\n",
       "\t<li>NULL</li>\n",
       "\t<li>NULL</li>\n",
       "\t<li>NULL</li>\n",
       "\t<li>NULL</li>\n",
       "\t<li>NULL</li>\n",
       "\t<li>NULL</li>\n",
       "\t<li>NULL</li>\n",
       "</ol>\n"
      ],
      "text/latex": [
       "\\begin{enumerate}\n",
       "\\item NULL\n",
       "\\item NULL\n",
       "\\item NULL\n",
       "\\item NULL\n",
       "\\item NULL\n",
       "\\item NULL\n",
       "\\item NULL\n",
       "\\end{enumerate}\n"
      ],
      "text/markdown": [
       "1. NULL\n",
       "2. NULL\n",
       "3. NULL\n",
       "4. NULL\n",
       "5. NULL\n",
       "6. NULL\n",
       "7. NULL\n",
       "\n",
       "\n"
      ],
      "text/plain": [
       "[[1]]\n",
       "NULL\n",
       "\n",
       "[[2]]\n",
       "NULL\n",
       "\n",
       "[[3]]\n",
       "NULL\n",
       "\n",
       "[[4]]\n",
       "NULL\n",
       "\n",
       "[[5]]\n",
       "NULL\n",
       "\n",
       "[[6]]\n",
       "NULL\n",
       "\n",
       "[[7]]\n",
       "NULL\n"
      ]
     },
     "metadata": {},
     "output_type": "display_data"
    }
   ],
   "source": [
    "# temp is already available in the workspace\n",
    "\n",
    "# Definition of print_info()\n",
    "print_info <- function(x) {\n",
    "  cat(\"The average temperature is\", mean(x), \"\\n\")\n",
    "}\n",
    "\n",
    "# Apply print_info() over temp using sapply()\n",
    "sapply(temp, print_info)\n",
    "\n",
    "# Apply print_info() over temp using lapply()\n",
    "lapply(temp, print_info)"
   ]
  },
  {
   "cell_type": "raw",
   "metadata": {},
   "source": [
    "Before you get your hands dirty with the third and last apply function that you'll learn about in this intermediate R course, let's take a look at its syntax. The function is called vapply(), and it has the following syntax:\n",
    "\n",
    "vapply(X, FUN, FUN.VALUE, ..., USE.NAMES = TRUE)\n",
    "Over the elements inside X, the function FUN is applied. The FUN.VALUE argument expects a template for the return argument of this function FUN. USE.NAMES is TRUE by default; in this case vapply() tries to generate a named array, if possible.\n",
    "\n",
    "For the next set of exercises, you'll be working on the temp list again, that contains 7 numerical vectors of length 5. We also coded a function basics() that takes a vector, and returns a named vector of length 3, containing the minimum, mean and maximum value of the vector respectively."
   ]
  },
  {
   "cell_type": "code",
   "execution_count": 40,
   "metadata": {},
   "outputs": [
    {
     "data": {
      "text/html": [
       "<table>\n",
       "<tbody>\n",
       "\t<tr><th scope=row>min</th><td>-1.0</td><td> 5  </td><td>-3.0</td><td>-2.0</td><td>2.0 </td><td>-3.0</td><td>1.0 </td></tr>\n",
       "\t<tr><th scope=row>mean</th><td> 4.8</td><td> 9  </td><td> 2.2</td><td> 2.4</td><td>5.4 </td><td> 4.6</td><td>4.6 </td></tr>\n",
       "\t<tr><th scope=row>max</th><td> 9.0</td><td>13  </td><td> 8.0</td><td> 7.0</td><td>9.0 </td><td> 9.0</td><td>9.0 </td></tr>\n",
       "</tbody>\n",
       "</table>\n"
      ],
      "text/latex": [
       "\\begin{tabular}{r|lllllll}\n",
       "\tmin & -1.0 &  5   & -3.0 & -2.0 & 2.0  & -3.0 & 1.0 \\\\\n",
       "\tmean &  4.8 &  9   &  2.2 &  2.4 & 5.4  &  4.6 & 4.6 \\\\\n",
       "\tmax &  9.0 & 13   &  8.0 &  7.0 & 9.0  &  9.0 & 9.0 \\\\\n",
       "\\end{tabular}\n"
      ],
      "text/markdown": [
       "\n",
       "| min | -1.0 |  5   | -3.0 | -2.0 | 2.0  | -3.0 | 1.0  | \n",
       "| mean |  4.8 |  9   |  2.2 |  2.4 | 5.4  |  4.6 | 4.6  | \n",
       "| max |  9.0 | 13   |  8.0 |  7.0 | 9.0  |  9.0 | 9.0  | \n",
       "\n",
       "\n"
      ],
      "text/plain": [
       "     [,1] [,2] [,3] [,4] [,5] [,6] [,7]\n",
       "min  -1.0  5   -3.0 -2.0 2.0  -3.0 1.0 \n",
       "mean  4.8  9    2.2  2.4 5.4   4.6 4.6 \n",
       "max   9.0 13    8.0  7.0 9.0   9.0 9.0 "
      ]
     },
     "metadata": {},
     "output_type": "display_data"
    }
   ],
   "source": [
    "# temp is already available in the workspace\n",
    "\n",
    "# Definition of basics()\n",
    "basics <- function(x) {\n",
    "  c(min = min(x), mean = mean(x), max = max(x))\n",
    "}\n",
    "\n",
    "# Apply basics() over temp using vapply()\n",
    "vapply(temp, basics, FUN.VALUE = numeric(3))"
   ]
  },
  {
   "cell_type": "raw",
   "metadata": {},
   "source": [
    "So far you've seen that vapply() mimics the behavior of sapply() if everything goes according to plan. But what if it doesn't?\n",
    "\n",
    "In the video, Filip showed you that there are cases where the structure of the output of the function you want to apply, FUN, does not correspond to the template you specify in FUN.VALUE. In that case, vapply() will throw an error that informs you about the misalignment between expected and actual output."
   ]
  },
  {
   "cell_type": "code",
   "execution_count": 41,
   "metadata": {},
   "outputs": [
    {
     "data": {
      "text/html": [
       "<table>\n",
       "<tbody>\n",
       "\t<tr><th scope=row>min</th><td>-1.0</td><td> 5  </td><td>-3.0</td><td>-2.0</td><td>2.0 </td><td>-3.0</td><td>1.0 </td></tr>\n",
       "\t<tr><th scope=row>mean</th><td> 4.8</td><td> 9  </td><td> 2.2</td><td> 2.4</td><td>5.4 </td><td> 4.6</td><td>4.6 </td></tr>\n",
       "\t<tr><th scope=row>median</th><td> 6.0</td><td> 9  </td><td> 3.0</td><td> 2.0</td><td>5.0 </td><td> 5.0</td><td>4.0 </td></tr>\n",
       "\t<tr><th scope=row>max</th><td> 9.0</td><td>13  </td><td> 8.0</td><td> 7.0</td><td>9.0 </td><td> 9.0</td><td>9.0 </td></tr>\n",
       "</tbody>\n",
       "</table>\n"
      ],
      "text/latex": [
       "\\begin{tabular}{r|lllllll}\n",
       "\tmin & -1.0 &  5   & -3.0 & -2.0 & 2.0  & -3.0 & 1.0 \\\\\n",
       "\tmean &  4.8 &  9   &  2.2 &  2.4 & 5.4  &  4.6 & 4.6 \\\\\n",
       "\tmedian &  6.0 &  9   &  3.0 &  2.0 & 5.0  &  5.0 & 4.0 \\\\\n",
       "\tmax &  9.0 & 13   &  8.0 &  7.0 & 9.0  &  9.0 & 9.0 \\\\\n",
       "\\end{tabular}\n"
      ],
      "text/markdown": [
       "\n",
       "| min | -1.0 |  5   | -3.0 | -2.0 | 2.0  | -3.0 | 1.0  | \n",
       "| mean |  4.8 |  9   |  2.2 |  2.4 | 5.4  |  4.6 | 4.6  | \n",
       "| median |  6.0 |  9   |  3.0 |  2.0 | 5.0  |  5.0 | 4.0  | \n",
       "| max |  9.0 | 13   |  8.0 |  7.0 | 9.0  |  9.0 | 9.0  | \n",
       "\n",
       "\n"
      ],
      "text/plain": [
       "       [,1] [,2] [,3] [,4] [,5] [,6] [,7]\n",
       "min    -1.0  5   -3.0 -2.0 2.0  -3.0 1.0 \n",
       "mean    4.8  9    2.2  2.4 5.4   4.6 4.6 \n",
       "median  6.0  9    3.0  2.0 5.0   5.0 4.0 \n",
       "max     9.0 13    8.0  7.0 9.0   9.0 9.0 "
      ]
     },
     "metadata": {},
     "output_type": "display_data"
    }
   ],
   "source": [
    "# temp is already available in the workspace\n",
    "\n",
    "# Definition of the basics() function\n",
    "basics <- function(x) {\n",
    "  c(min = min(x), mean = mean(x), median = median(x), max = max(x))\n",
    "}\n",
    "\n",
    "# Fix the error:\n",
    "vapply(temp, basics, numeric(4))"
   ]
  },
  {
   "cell_type": "raw",
   "metadata": {},
   "source": [
    "As highlighted before, vapply() can be considered a more robust version of sapply(), because you explicitly restrict the output of the function you want to apply. Converting your sapply() expressions in your own R scripts to vapply() expressions is therefore a good practice (and also a breeze!)."
   ]
  },
  {
   "cell_type": "code",
   "execution_count": 42,
   "metadata": {},
   "outputs": [
    {
     "data": {
      "text/html": [
       "<ol class=list-inline>\n",
       "\t<li>9</li>\n",
       "\t<li>13</li>\n",
       "\t<li>8</li>\n",
       "\t<li>7</li>\n",
       "\t<li>9</li>\n",
       "\t<li>9</li>\n",
       "\t<li>9</li>\n",
       "</ol>\n"
      ],
      "text/latex": [
       "\\begin{enumerate*}\n",
       "\\item 9\n",
       "\\item 13\n",
       "\\item 8\n",
       "\\item 7\n",
       "\\item 9\n",
       "\\item 9\n",
       "\\item 9\n",
       "\\end{enumerate*}\n"
      ],
      "text/markdown": [
       "1. 9\n",
       "2. 13\n",
       "3. 8\n",
       "4. 7\n",
       "5. 9\n",
       "6. 9\n",
       "7. 9\n",
       "\n",
       "\n"
      ],
      "text/plain": [
       "[1]  9 13  8  7  9  9  9"
      ]
     },
     "metadata": {},
     "output_type": "display_data"
    },
    {
     "data": {
      "text/html": [
       "<ol class=list-inline>\n",
       "\t<li>FALSE</li>\n",
       "\t<li>TRUE</li>\n",
       "\t<li>FALSE</li>\n",
       "\t<li>FALSE</li>\n",
       "\t<li>TRUE</li>\n",
       "\t<li>FALSE</li>\n",
       "\t<li>FALSE</li>\n",
       "</ol>\n"
      ],
      "text/latex": [
       "\\begin{enumerate*}\n",
       "\\item FALSE\n",
       "\\item TRUE\n",
       "\\item FALSE\n",
       "\\item FALSE\n",
       "\\item TRUE\n",
       "\\item FALSE\n",
       "\\item FALSE\n",
       "\\end{enumerate*}\n"
      ],
      "text/markdown": [
       "1. FALSE\n",
       "2. TRUE\n",
       "3. FALSE\n",
       "4. FALSE\n",
       "5. TRUE\n",
       "6. FALSE\n",
       "7. FALSE\n",
       "\n",
       "\n"
      ],
      "text/plain": [
       "[1] FALSE  TRUE FALSE FALSE  TRUE FALSE FALSE"
      ]
     },
     "metadata": {},
     "output_type": "display_data"
    }
   ],
   "source": [
    "# temp is already defined in the workspace\n",
    "\n",
    "# Convert to vapply() expression\n",
    "vapply(temp, max, FUN.VALUE = numeric(1))\n",
    "\n",
    "# Convert to vapply() expression\n",
    "vapply(temp, function(x, y) { mean(x) > y }, y = 5, FUN.VALUE=logical(1))"
   ]
  },
  {
   "cell_type": "raw",
   "metadata": {},
   "source": [
    "Have another look at some useful math functions that R features:\n",
    "\n",
    "abs(): Calculate the absolute value.\n",
    "sum(): Calculate the sum of all the values in a data structure.\n",
    "mean(): Calculate the arithmetic mean.\n",
    "round(): Round the values to 0 decimal places by default. Try out ?round in the console for variations of round() and ways to change the number of digits to round to.\n",
    "As a data scientst in training, you've estimated a regression model on the sales data for the past six months. After evaluating your model, you see that the training error of your model is quite regular, showing both positive and negative values. The error values are already defined in the workspace on the right (errors)."
   ]
  },
  {
   "cell_type": "code",
   "execution_count": 44,
   "metadata": {},
   "outputs": [
    {
     "data": {
      "text/html": [
       "29"
      ],
      "text/latex": [
       "29"
      ],
      "text/markdown": [
       "29"
      ],
      "text/plain": [
       "[1] 29"
      ]
     },
     "metadata": {},
     "output_type": "display_data"
    }
   ],
   "source": [
    "# The errors vector has already been defined for you\n",
    "errors <- c(1.9, -2.6, 4.0, -9.5, -3.4, 7.3)\n",
    "\n",
    "# Sum of absolute rounded values of errors\n",
    "sum(abs(round(errors)))"
   ]
  },
  {
   "cell_type": "raw",
   "metadata": {},
   "source": [
    "We went ahead and included some code on the right, but there's still an error. Can you trace it and fix it?\n",
    "\n",
    "In times of despair, help with functions such as sum() and rev() are a single command away; simply use ?sum and ?rev in the console."
   ]
  },
  {
   "cell_type": "code",
   "execution_count": 45,
   "metadata": {},
   "outputs": [
    {
     "data": {
      "text/html": [
       "4.48"
      ],
      "text/latex": [
       "4.48"
      ],
      "text/markdown": [
       "4.48"
      ],
      "text/plain": [
       "[1] 4.48"
      ]
     },
     "metadata": {},
     "output_type": "display_data"
    }
   ],
   "source": [
    "# Don't edit these two lines\n",
    "vec1 <- c(1.5, 2.5, 8.4, 3.7, 6.3)\n",
    "vec2 <- rev(vec1)\n",
    "\n",
    "# Fix the error\n",
    "mean(c(abs(vec1), abs(vec2)))"
   ]
  },
  {
   "cell_type": "raw",
   "metadata": {},
   "source": [
    "R features a bunch of functions to juggle around with data structures::\n",
    "\n",
    "seq(): Generate sequences, by specifying the from, to, and by arguments.\n",
    "rep(): Replicate elements of vectors and lists.\n",
    "sort(): Sort a vector in ascending order. Works on numerics, but also on character strings and logicals.\n",
    "rev(): Reverse the elements in a data structures for which reversal is defined.\n",
    "str(): Display the structure of any R object.\n",
    "append(): Merge vectors or lists.\n",
    "is.*(): Check for the class of an R object.\n",
    "as.*(): Convert an R object from one class to another.\n",
    "unlist(): Flatten (possibly embedded) lists to produce a vector.\n",
    "Remember the social media profile views data? Your LinkedIn and Facebook view counts for the last seven days are already defined as lists on the right."
   ]
  },
  {
   "cell_type": "code",
   "execution_count": 46,
   "metadata": {},
   "outputs": [
    {
     "data": {
      "text/html": [
       "<ol class=list-inline>\n",
       "\t<li>17</li>\n",
       "\t<li>17</li>\n",
       "\t<li>16</li>\n",
       "\t<li>16</li>\n",
       "\t<li>14</li>\n",
       "\t<li>14</li>\n",
       "\t<li>13</li>\n",
       "\t<li>13</li>\n",
       "\t<li>9</li>\n",
       "\t<li>8</li>\n",
       "\t<li>7</li>\n",
       "\t<li>5</li>\n",
       "\t<li>5</li>\n",
       "\t<li>2</li>\n",
       "</ol>\n"
      ],
      "text/latex": [
       "\\begin{enumerate*}\n",
       "\\item 17\n",
       "\\item 17\n",
       "\\item 16\n",
       "\\item 16\n",
       "\\item 14\n",
       "\\item 14\n",
       "\\item 13\n",
       "\\item 13\n",
       "\\item 9\n",
       "\\item 8\n",
       "\\item 7\n",
       "\\item 5\n",
       "\\item 5\n",
       "\\item 2\n",
       "\\end{enumerate*}\n"
      ],
      "text/markdown": [
       "1. 17\n",
       "2. 17\n",
       "3. 16\n",
       "4. 16\n",
       "5. 14\n",
       "6. 14\n",
       "7. 13\n",
       "8. 13\n",
       "9. 9\n",
       "10. 8\n",
       "11. 7\n",
       "12. 5\n",
       "13. 5\n",
       "14. 2\n",
       "\n",
       "\n"
      ],
      "text/plain": [
       " [1] 17 17 16 16 14 14 13 13  9  8  7  5  5  2"
      ]
     },
     "metadata": {},
     "output_type": "display_data"
    }
   ],
   "source": [
    "# The linkedin and facebook lists have already been created for you\n",
    "linkedin <- list(16, 9, 13, 5, 2, 17, 14)\n",
    "facebook <- list(17, 7, 5, 16, 8, 13, 14)\n",
    "\n",
    "# Convert linkedin and facebook to a vector: li_vec and fb_vec\n",
    "li_vec <- c(linkedin)\n",
    "fb_vec <- c(facebook)\n",
    "\n",
    "# Append fb_vec to li_vec: social_vec\n",
    "social_vec <- append(li_vec, fb_vec)\n",
    "\n",
    "# Sort social_vec\n",
    "sort(unlist(social_vec), decreasing=TRUE)"
   ]
  },
  {
   "cell_type": "raw",
   "metadata": {},
   "source": [
    "Just as before, let's switch roles. It's up to you to see what unforgivable mistakes we've made. Go fix them!"
   ]
  },
  {
   "cell_type": "code",
   "execution_count": 47,
   "metadata": {},
   "outputs": [
    {
     "data": {
      "text/html": [
       "<ol class=list-inline>\n",
       "\t<li>1</li>\n",
       "\t<li>3</li>\n",
       "\t<li>5</li>\n",
       "\t<li>7</li>\n",
       "\t<li>1</li>\n",
       "\t<li>3</li>\n",
       "\t<li>5</li>\n",
       "\t<li>7</li>\n",
       "\t<li>1</li>\n",
       "\t<li>3</li>\n",
       "\t<li>5</li>\n",
       "\t<li>7</li>\n",
       "\t<li>1</li>\n",
       "\t<li>3</li>\n",
       "\t<li>5</li>\n",
       "\t<li>7</li>\n",
       "\t<li>1</li>\n",
       "\t<li>3</li>\n",
       "\t<li>5</li>\n",
       "\t<li>7</li>\n",
       "\t<li>1</li>\n",
       "\t<li>3</li>\n",
       "\t<li>5</li>\n",
       "\t<li>7</li>\n",
       "\t<li>1</li>\n",
       "\t<li>3</li>\n",
       "\t<li>5</li>\n",
       "\t<li>7</li>\n",
       "</ol>\n"
      ],
      "text/latex": [
       "\\begin{enumerate*}\n",
       "\\item 1\n",
       "\\item 3\n",
       "\\item 5\n",
       "\\item 7\n",
       "\\item 1\n",
       "\\item 3\n",
       "\\item 5\n",
       "\\item 7\n",
       "\\item 1\n",
       "\\item 3\n",
       "\\item 5\n",
       "\\item 7\n",
       "\\item 1\n",
       "\\item 3\n",
       "\\item 5\n",
       "\\item 7\n",
       "\\item 1\n",
       "\\item 3\n",
       "\\item 5\n",
       "\\item 7\n",
       "\\item 1\n",
       "\\item 3\n",
       "\\item 5\n",
       "\\item 7\n",
       "\\item 1\n",
       "\\item 3\n",
       "\\item 5\n",
       "\\item 7\n",
       "\\end{enumerate*}\n"
      ],
      "text/markdown": [
       "1. 1\n",
       "2. 3\n",
       "3. 5\n",
       "4. 7\n",
       "5. 1\n",
       "6. 3\n",
       "7. 5\n",
       "8. 7\n",
       "9. 1\n",
       "10. 3\n",
       "11. 5\n",
       "12. 7\n",
       "13. 1\n",
       "14. 3\n",
       "15. 5\n",
       "16. 7\n",
       "17. 1\n",
       "18. 3\n",
       "19. 5\n",
       "20. 7\n",
       "21. 1\n",
       "22. 3\n",
       "23. 5\n",
       "24. 7\n",
       "25. 1\n",
       "26. 3\n",
       "27. 5\n",
       "28. 7\n",
       "\n",
       "\n"
      ],
      "text/plain": [
       " [1] 1 3 5 7 1 3 5 7 1 3 5 7 1 3 5 7 1 3 5 7 1 3 5 7 1 3 5 7"
      ]
     },
     "metadata": {},
     "output_type": "display_data"
    }
   ],
   "source": [
    "# Fix me\n",
    "rep(seq(1, 7, by = 2), times = 7)"
   ]
  },
  {
   "cell_type": "raw",
   "metadata": {},
   "source": [
    "There is a popular story about young Gauss. As a pupil, he had a lazy teacher who wanted to keep the classroom busy by having them add up the numbers 1 to 100. Gauss came up with an answer almost instantaneously, 5050. On the spot, he had developed a formula for calculating the sum of an arithmetic series. There are more general formulas for calculating the sum of an arithmetic series with different starting values and increments. Instead of deriving such a formula, why not use R to calculate the sum of a sequence?"
   ]
  },
  {
   "cell_type": "code",
   "execution_count": 48,
   "metadata": {},
   "outputs": [
    {
     "data": {
      "text/html": [
       "87029"
      ],
      "text/latex": [
       "87029"
      ],
      "text/markdown": [
       "87029"
      ],
      "text/plain": [
       "[1] 87029"
      ]
     },
     "metadata": {},
     "output_type": "display_data"
    }
   ],
   "source": [
    "# Create first sequence: seq1\n",
    "seq1 <- seq(from=1, to=500, by=3 )\n",
    "\n",
    "# Create second sequence: seq2\n",
    "seq2 <- seq(from=1200, to=900, by=-7)\n",
    "\n",
    "# Calculate total sum of the sequences\n",
    "sum(sum(seq1), sum(seq2))"
   ]
  },
  {
   "cell_type": "raw",
   "metadata": {},
   "source": [
    "In their most basic form, regular expressions can be used to see whether a pattern exists inside a character string or a vector of character strings. For this purpose, you can use:\n",
    "\n",
    "grepl(), which returns TRUE when a pattern is found in the corresponding character string.\n",
    "grep(), which returns a vector of indices of the character strings that contains the pattern.\n",
    "Both functions need a pattern and an x argument, where pattern is the regular expression you want to match for, and the x argument is the character vector from which matches should be sought.\n",
    "\n",
    "In this and the following exercises, you'll be querying and manipulating a character vector of email addresses! The vector emails has already been defined in the editor on the right so you can begin with the instructions straight away!"
   ]
  },
  {
   "cell_type": "code",
   "execution_count": 49,
   "metadata": {},
   "outputs": [
    {
     "data": {
      "text/html": [
       "<ol class=list-inline>\n",
       "\t<li>TRUE</li>\n",
       "\t<li>TRUE</li>\n",
       "\t<li>FALSE</li>\n",
       "\t<li>TRUE</li>\n",
       "\t<li>TRUE</li>\n",
       "\t<li>FALSE</li>\n",
       "</ol>\n"
      ],
      "text/latex": [
       "\\begin{enumerate*}\n",
       "\\item TRUE\n",
       "\\item TRUE\n",
       "\\item FALSE\n",
       "\\item TRUE\n",
       "\\item TRUE\n",
       "\\item FALSE\n",
       "\\end{enumerate*}\n"
      ],
      "text/markdown": [
       "1. TRUE\n",
       "2. TRUE\n",
       "3. FALSE\n",
       "4. TRUE\n",
       "5. TRUE\n",
       "6. FALSE\n",
       "\n",
       "\n"
      ],
      "text/plain": [
       "[1]  TRUE  TRUE FALSE  TRUE  TRUE FALSE"
      ]
     },
     "metadata": {},
     "output_type": "display_data"
    },
    {
     "data": {
      "text/html": [
       "<ol class=list-inline>\n",
       "\t<li>'john.doe@ivyleague.edu'</li>\n",
       "\t<li>'education@world.gov'</li>\n",
       "\t<li>'invalid.edu'</li>\n",
       "\t<li>'quant@bigdatacollege.edu'</li>\n",
       "</ol>\n"
      ],
      "text/latex": [
       "\\begin{enumerate*}\n",
       "\\item 'john.doe@ivyleague.edu'\n",
       "\\item 'education@world.gov'\n",
       "\\item 'invalid.edu'\n",
       "\\item 'quant@bigdatacollege.edu'\n",
       "\\end{enumerate*}\n"
      ],
      "text/markdown": [
       "1. 'john.doe@ivyleague.edu'\n",
       "2. 'education@world.gov'\n",
       "3. 'invalid.edu'\n",
       "4. 'quant@bigdatacollege.edu'\n",
       "\n",
       "\n"
      ],
      "text/plain": [
       "[1] \"john.doe@ivyleague.edu\"   \"education@world.gov\"     \n",
       "[3] \"invalid.edu\"              \"quant@bigdatacollege.edu\""
      ]
     },
     "metadata": {},
     "output_type": "display_data"
    }
   ],
   "source": [
    "# The emails vector has already been defined for you\n",
    "emails <- c(\"john.doe@ivyleague.edu\", \"education@world.gov\", \"dalai.lama@peace.org\",\n",
    "            \"invalid.edu\", \"quant@bigdatacollege.edu\", \"cookie.monster@sesame.tv\")\n",
    "\n",
    "# Use grepl() to match for \"edu\"\n",
    "grepl(\"edu\", emails)\n",
    "\n",
    "# Use grep() to match for \"edu\", save result to hits\n",
    "hits<-grep(\"edu\", emails)\n",
    "\n",
    "# Subset emails using hits\n",
    "emails[hits]"
   ]
  },
  {
   "cell_type": "raw",
   "metadata": {},
   "source": [
    "You can use the caret, ^, and the dollar sign, $ to match the content located in the start and end of a string, respectively. This could take us one step closer to a correct pattern for matching only the \".edu\" email addresses from our list of emails. But there's more that can be added to make the pattern more robust:\n",
    "\n",
    "@, because a valid email must contain an at-sign.\n",
    ".*, which matches any character (.) zero or more times (*). Both the dot and the asterisk are metacharacters. You can use them to match any character between the at-sign and the \".edu\" portion of an email address.\n",
    "\\\\.edu$, to match the \".edu\" part of the email at the end of the string. The \\\\ part escapes the dot: it tells R that you want to use the . as an actual character.\n"
   ]
  },
  {
   "cell_type": "code",
   "execution_count": 50,
   "metadata": {},
   "outputs": [
    {
     "data": {
      "text/html": [
       "<ol class=list-inline>\n",
       "\t<li>TRUE</li>\n",
       "\t<li>FALSE</li>\n",
       "\t<li>FALSE</li>\n",
       "\t<li>FALSE</li>\n",
       "\t<li>TRUE</li>\n",
       "\t<li>FALSE</li>\n",
       "</ol>\n"
      ],
      "text/latex": [
       "\\begin{enumerate*}\n",
       "\\item TRUE\n",
       "\\item FALSE\n",
       "\\item FALSE\n",
       "\\item FALSE\n",
       "\\item TRUE\n",
       "\\item FALSE\n",
       "\\end{enumerate*}\n"
      ],
      "text/markdown": [
       "1. TRUE\n",
       "2. FALSE\n",
       "3. FALSE\n",
       "4. FALSE\n",
       "5. TRUE\n",
       "6. FALSE\n",
       "\n",
       "\n"
      ],
      "text/plain": [
       "[1]  TRUE FALSE FALSE FALSE  TRUE FALSE"
      ]
     },
     "metadata": {},
     "output_type": "display_data"
    },
    {
     "data": {
      "text/html": [
       "<ol class=list-inline>\n",
       "\t<li>'john.doe@ivyleague.edu'</li>\n",
       "\t<li>'quant@bigdatacollege.edu'</li>\n",
       "</ol>\n"
      ],
      "text/latex": [
       "\\begin{enumerate*}\n",
       "\\item 'john.doe@ivyleague.edu'\n",
       "\\item 'quant@bigdatacollege.edu'\n",
       "\\end{enumerate*}\n"
      ],
      "text/markdown": [
       "1. 'john.doe@ivyleague.edu'\n",
       "2. 'quant@bigdatacollege.edu'\n",
       "\n",
       "\n"
      ],
      "text/plain": [
       "[1] \"john.doe@ivyleague.edu\"   \"quant@bigdatacollege.edu\""
      ]
     },
     "metadata": {},
     "output_type": "display_data"
    }
   ],
   "source": [
    "# The emails vector has already been defined for you\n",
    "emails <- c(\"john.doe@ivyleague.edu\", \"education@world.gov\", \"dalai.lama@peace.org\",\n",
    "            \"invalid.edu\", \"quant@bigdatacollege.edu\", \"cookie.monster@sesame.tv\")\n",
    "\n",
    "# Use grepl() to match for .edu addresses more robustly\n",
    "grepl(\"@.*\\\\.edu$\", emails)\n",
    "\n",
    "# Use grep() to match for .edu addresses more robustly, save result to hits\n",
    "hits<-grep(\"@.*\\\\.edu$\", emails)\n",
    "\n",
    "# Subset emails using hits\n",
    "emails[hits]"
   ]
  },
  {
   "cell_type": "raw",
   "metadata": {},
   "source": [
    "While grep() and grepl() were used to simply check whether a regular expression could be matched with a character vector, sub() and gsub() take it one step further: you can specify a replacement argument. If inside the character vector x, the regular expression pattern is found, the matching element(s) will be replaced with replacement.sub() only replaces the first match, whereas gsub() replaces all matches.\n",
    "\n",
    "Suppose that emails vector you've been working with is an excerpt of DataCamp's email database. Why not offer the owners of the .edu email addresses a new email address on the datacamp.edu domain? This could be quite a powerful marketing stunt: Online education is taking over traditional learning institutions! Convert your email and be a part of the new generation!"
   ]
  },
  {
   "cell_type": "code",
   "execution_count": 51,
   "metadata": {},
   "outputs": [
    {
     "data": {
      "text/html": [
       "<ol class=list-inline>\n",
       "\t<li>'john.doe@datacamp.edu'</li>\n",
       "\t<li>'education@world.gov'</li>\n",
       "\t<li>'global@peace.org'</li>\n",
       "\t<li>'invalid.edu'</li>\n",
       "\t<li>'quant@datacamp.edu'</li>\n",
       "\t<li>'cookie.monster@sesame.tv'</li>\n",
       "</ol>\n"
      ],
      "text/latex": [
       "\\begin{enumerate*}\n",
       "\\item 'john.doe@datacamp.edu'\n",
       "\\item 'education@world.gov'\n",
       "\\item 'global@peace.org'\n",
       "\\item 'invalid.edu'\n",
       "\\item 'quant@datacamp.edu'\n",
       "\\item 'cookie.monster@sesame.tv'\n",
       "\\end{enumerate*}\n"
      ],
      "text/markdown": [
       "1. 'john.doe@datacamp.edu'\n",
       "2. 'education@world.gov'\n",
       "3. 'global@peace.org'\n",
       "4. 'invalid.edu'\n",
       "5. 'quant@datacamp.edu'\n",
       "6. 'cookie.monster@sesame.tv'\n",
       "\n",
       "\n"
      ],
      "text/plain": [
       "[1] \"john.doe@datacamp.edu\"    \"education@world.gov\"     \n",
       "[3] \"global@peace.org\"         \"invalid.edu\"             \n",
       "[5] \"quant@datacamp.edu\"       \"cookie.monster@sesame.tv\""
      ]
     },
     "metadata": {},
     "output_type": "display_data"
    }
   ],
   "source": [
    "# The emails vector has already been defined for you\n",
    "emails <- c(\"john.doe@ivyleague.edu\", \"education@world.gov\", \"global@peace.org\",\n",
    "            \"invalid.edu\", \"quant@bigdatacollege.edu\", \"cookie.monster@sesame.tv\")\n",
    "\n",
    "# Use sub() to convert the email domains to datacamp.edu\n",
    "sub(\"@.*\\\\.edu$\", \"@datacamp.edu\", emails)"
   ]
  },
  {
   "cell_type": "raw",
   "metadata": {},
   "source": [
    "In R, dates are represented by Date objects, while times are represented by POSIXct objects. Under the hood, however, these dates and times are simple numerical values. Date objects store the number of days since the 1st of January in 1970. POSIXct objects on the other hand, store the number of seconds since the 1st of January in 1970.\n",
    "\n",
    "The 1st of January in 1970 is the common origin for representing times and dates in a wide range of programming languages. There is no particular reason for this; it is a simple convention. Of course, it's also possible to create dates and times before 1970; the corresponding numerical values are simply negative in this case."
   ]
  },
  {
   "cell_type": "code",
   "execution_count": 52,
   "metadata": {},
   "outputs": [
    {
     "data": {
      "text/html": [
       "17482"
      ],
      "text/latex": [
       "17482"
      ],
      "text/markdown": [
       "17482"
      ],
      "text/plain": [
       "[1] 17482"
      ]
     },
     "metadata": {},
     "output_type": "display_data"
    },
    {
     "data": {
      "text/html": [
       "1510490171.54467"
      ],
      "text/latex": [
       "1510490171.54467"
      ],
      "text/markdown": [
       "1510490171.54467"
      ],
      "text/plain": [
       "[1] 1510490172"
      ]
     },
     "metadata": {},
     "output_type": "display_data"
    }
   ],
   "source": [
    "# Get the current date: today\n",
    "today <- Sys.Date()\n",
    "\n",
    "# See what today looks like under the hood\n",
    "unclass(today)\n",
    "\n",
    "# Get the current time: now\n",
    "now<-Sys.time()\n",
    "\n",
    "# See what now looks like under the hood\n",
    "unclass(now)"
   ]
  },
  {
   "cell_type": "raw",
   "metadata": {},
   "source": [
    "To create a Date object from a simple character string in R, you can use the as.Date() function. The character string has to obey a format that can be defined using a set of symbols (the examples correspond to 13 January, 1982):\n",
    "\n",
    "%Y: 4-digit year (1982)\n",
    "%y: 2-digit year (82)\n",
    "%m: 2-digit month (01)\n",
    "%d: 2-digit day of the month (13)\n",
    "%A: weekday (Wednesday)\n",
    "%a: abbreviated weekday (Wed)\n",
    "%B: month (January)\n",
    "%b: abbreviated month (Jan)\n",
    "The following R commands will all create the same Date object for the 13th day in January of 1982:\n",
    "\n",
    "as.Date(\"1982-01-13\")\n",
    "as.Date(\"Jan-13-82\", format = \"%b-%d-%y\")\n",
    "as.Date(\"13 January, 1982\", format = \"%d %B, %Y\")\n",
    "Notice that the first line here did not need a format argument, because by default R matches your character string to the formats \"%Y-%m-%d\" or \"%Y/%m/%d\".\n",
    "\n",
    "In addition to creating dates, you can also convert dates to character strings that use a different date notation. For this, you use the format() function. Try the following lines of code:\n",
    "\n",
    "today <- Sys.Date()\n",
    "format(Sys.Date(), format = \"%d %B, %Y\")\n",
    "format(Sys.Date(), format = \"Today is a %A!\")"
   ]
  },
  {
   "cell_type": "code",
   "execution_count": 53,
   "metadata": {},
   "outputs": [
    {
     "data": {
      "text/html": [
       "'Thursday'"
      ],
      "text/latex": [
       "'Thursday'"
      ],
      "text/markdown": [
       "'Thursday'"
      ],
      "text/plain": [
       "[1] \"Thursday\""
      ]
     },
     "metadata": {},
     "output_type": "display_data"
    },
    {
     "data": {
      "text/html": [
       "'15'"
      ],
      "text/latex": [
       "'15'"
      ],
      "text/markdown": [
       "'15'"
      ],
      "text/plain": [
       "[1] \"15\""
      ]
     },
     "metadata": {},
     "output_type": "display_data"
    },
    {
     "data": {
      "text/html": [
       "'Jan 2006'"
      ],
      "text/latex": [
       "'Jan 2006'"
      ],
      "text/markdown": [
       "'Jan 2006'"
      ],
      "text/plain": [
       "[1] \"Jan 2006\""
      ]
     },
     "metadata": {},
     "output_type": "display_data"
    }
   ],
   "source": [
    "# Definition of character strings representing dates\n",
    "str1 <- \"May 23, '96\"\n",
    "str2 <- \"2012-03-15\"\n",
    "str3 <- \"30/January/2006\"\n",
    "\n",
    "# Convert the strings to dates: date1, date2, date3\n",
    "date1 <- as.Date(str1, format = \"%b %d, '%y\")\n",
    "date2 <- as.Date(str2)\n",
    "date3 <- as.Date(str3, format = \"%d/%B/%Y\")\n",
    "\n",
    "# Convert dates to formatted strings\n",
    "format(date1, \"%A\")\n",
    "format(date2, \"%d\")\n",
    "format(date3, \"%b %Y\")\n",
    "\n"
   ]
  },
  {
   "cell_type": "raw",
   "metadata": {},
   "source": [
    "Similar to working with dates, you can use as.POSIXct() to convert from a character string to a POSIXct object, and format() to convert from a POSIXct object to a character string. Again, you have a wide variety of symbols:\n",
    "\n",
    "%H: hours as a decimal number (00-23)\n",
    "%I: hours as a decimal number (01-12)\n",
    "%M: minutes as a decimal number\n",
    "%S: seconds as a decimal number\n",
    "%T: shorthand notation for the typical format %H:%M:%S\n",
    "%p: AM/PM indicator\n",
    "For a full list of conversion symbols, consult the strptime documentation in the console:\n",
    "\n",
    "?strptime\n",
    "Again,as.POSIXct() uses a default format to match character strings. In this case, it's %Y-%m-%d %H:%M:%S. In this exercise, abstraction is made of different time zones."
   ]
  },
  {
   "cell_type": "code",
   "execution_count": 54,
   "metadata": {},
   "outputs": [
    {
     "data": {
      "text/html": [
       "'01'"
      ],
      "text/latex": [
       "'01'"
      ],
      "text/markdown": [
       "'01'"
      ],
      "text/plain": [
       "[1] \"01\""
      ]
     },
     "metadata": {},
     "output_type": "display_data"
    },
    {
     "data": {
      "text/html": [
       "'02:23 PM'"
      ],
      "text/latex": [
       "'02:23 PM'"
      ],
      "text/markdown": [
       "'02:23 PM'"
      ],
      "text/plain": [
       "[1] \"02:23 PM\""
      ]
     },
     "metadata": {},
     "output_type": "display_data"
    }
   ],
   "source": [
    "# Definition of character strings representing times\n",
    "str1 <- \"May 23, '96 hours:23 minutes:01 seconds:45\"\n",
    "str2 <- \"2012-3-12 14:23:08\"\n",
    "\n",
    "# Convert the strings to POSIXct objects: time1, time2\n",
    "time1 <- as.POSIXct(str1, format = \"%B %d, '%y hours:%H minutes:%M seconds:%S\")\n",
    "time2 <- as.POSIXct(str2)\n",
    "\n",
    "# Convert times to formatted strings\n",
    "format(time1, \"%M\")\n",
    "format(time2, \"%I:%M %p\")"
   ]
  },
  {
   "cell_type": "raw",
   "metadata": {},
   "source": [
    "Both Date and POSIXct R objects are represented by simple numerical values under the hood. This makes calculation with time and date objects very straightforward: R performs the calculations using the underlying numerical values, and then converts the result back to human-readable time information again.\n",
    "\n",
    "You can increment and decrement Date objects, or do actual calculations with them (try it out in the console!):\n",
    "\n",
    "today <- Sys.Date()\n",
    "today + 1\n",
    "today - 1\n",
    "\n",
    "as.Date(\"2015-03-12\") - as.Date(\"2015-02-27\")\n",
    "To control your eating habits, you decided to write down the dates of the last five days that you ate pizza. In the workspace, these dates are defined as five Date objects, day1 to day5. The code on the right also contains a vector pizza with these 5 Date objects."
   ]
  },
  {
   "cell_type": "code",
   "execution_count": 58,
   "metadata": {},
   "outputs": [
    {
     "name": "stdout",
     "output_type": "stream",
     "text": [
      "Time difference of 18 days\n",
      "Time difference of 4.5 days\n"
     ]
    }
   ],
   "source": [
    "# day1, day2, day3, day4 and day5 are already available in the workspace\n",
    "day1 <- as.POSIXct(\"2017-10-25\")\n",
    "day2 <- as.POSIXct(\"2017-10-27\")\n",
    "day3 <- as.POSIXct(\"2017-11-01\")\n",
    "day4 <- as.POSIXct(\"2017-11-07\")\n",
    "day5 <- as.POSIXct(\"2017-11-12\")\n",
    "# Difference between last and first pizza day\n",
    "res <- day5 - day1\n",
    "print(res)\n",
    "# Create vector pizza\n",
    "pizza <- c(day1, day2, day3, day4, day5)\n",
    "\n",
    "# Create differences between consecutive pizza days: day_diff\n",
    "day_diff <- diff(pizza)\n",
    "\n",
    "# Average period between two consecutive pizza days\n",
    "print(mean(day_diff))"
   ]
  },
  {
   "cell_type": "raw",
   "metadata": {},
   "source": [
    "Calculations using POSIXct objects are completely analogous to those using Date objects. Try to experiment with this code to increase or decrease POSIXct objects:\n",
    "\n",
    "now <- Sys.time()\n",
    "now + 3600          # add an hour\n",
    "now - 3600 * 24     # subtract a day\n",
    "Adding or substracting time objects is also straightforward:\n",
    "\n",
    "birth <- as.POSIXct(\"1879-03-14 14:37:23\")\n",
    "death <- as.POSIXct(\"1955-04-18 03:47:12\")\n",
    "einstein <- death - birth\n",
    "einstein\n",
    "You're developing a website that requires users to log in and out. You want to know what is the total and average amount of time a particular user spends on your website. This user has logged in 5 times and logged out 5 times as well. These times are gathered in the vectors login and logout, which are already defined in the workspace."
   ]
  },
  {
   "cell_type": "code",
   "execution_count": 60,
   "metadata": {},
   "outputs": [
    {
     "name": "stdout",
     "output_type": "stream",
     "text": [
      "Time differences in secs\n",
      "[1] 2305   34  837 2398 1852\n",
      "Time difference of 7426 secs\n",
      "Time difference of 1485.2 secs\n"
     ]
    }
   ],
   "source": [
    "\n",
    "lo <- c(\"2017-10-29 10:56:29 UTC\", \"2017-11-03 09:14:52 UTC\", \"2017-11-03 12:35:48 UTC\", \"2017-11-03 13:17:22 UTC\", \n",
    "        \"2017-11-05 22:08:47 UTC\")\n",
    "li <- c(\"2017-10-29 10:18:04 UTC\", \"2017-11-03 09:14:18 UTC\", \"2017-11-03 12:21:51 UTC\", \"2017-11-03 12:37:24 UTC\", \n",
    "        \"2017-11-05 21:37:55 UTC\")\n",
    "logout <- as.POSIXct(lo)\n",
    "login <- as.POSIXct(li)\n",
    "# login and logout are already defined in the workspace\n",
    "# Calculate the difference between login and logout: time_online\n",
    "time_online <- logout - login\n",
    "\n",
    "# Inspect the variable time_online\n",
    "print(time_online)\n",
    "\n",
    "# Calculate the total time online\n",
    "print(sum(time_online))\n",
    "\n",
    "# Calculate the average time online\n",
    "print(mean(time_online))"
   ]
  }
 ],
 "metadata": {
  "kernelspec": {
   "display_name": "R",
   "language": "R",
   "name": "ir"
  },
  "language_info": {
   "codemirror_mode": "r",
   "file_extension": ".r",
   "mimetype": "text/x-r-source",
   "name": "R",
   "pygments_lexer": "r",
   "version": "3.4.1"
  }
 },
 "nbformat": 4,
 "nbformat_minor": 2
}
